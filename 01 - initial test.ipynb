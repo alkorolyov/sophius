{
 "cells": [
  {
   "cell_type": "code",
   "execution_count": 6,
   "metadata": {},
   "outputs": [
    {
     "name": "stdout",
     "output_type": "stream",
     "text": [
      "The autoreload extension is already loaded. To reload it, use:\n",
      "  %reload_ext autoreload\n"
     ]
    }
   ],
   "source": [
    "import torch\n",
    "import sophius.utils as utils\n",
    "import sophius.dataload as dload\n",
    "from sophius.modelgen import ConvFCModelGenerator, ConvGAPModelGenerator\n",
    "from sophius.train import train_express_gpu\n",
    "import torchvision.datasets as dset\n",
    "import torchvision.transforms as T\n",
    "\n",
    "%load_ext autoreload\n",
    "%autoreload 2"
   ]
  },
  {
   "cell_type": "code",
   "execution_count": null,
   "metadata": {},
   "outputs": [],
   "source": [
    "cifar10 = dset.CIFAR10('data//CIFAR10', train=True, download=True,\n",
    "                           transform=T.ToTensor())\n",
    "cifar_gpu = dload.cifar_to_gpu(cifar10)"
   ]
  },
  {
   "cell_type": "code",
   "execution_count": 7,
   "metadata": {},
   "outputs": [
    {
     "name": "stdout",
     "output_type": "stream",
     "text": [
      "Conv2d       (64, 16, 16)   (2, 2)   (2, 2)  \n",
      "PReLU        (64, 16, 16)  \n",
      "Conv2d       (128, 9, 9)    (4, 4)   (2, 2)  \n",
      "PReLU        (128, 9, 9)   \n",
      "MaxPool2d    (128, 5, 5)    (4, 4)   (2, 2)  \n",
      "Conv2d       (192, 1, 1)    (5, 5)   (1, 1)  \n",
      "LeakyReLU    (192, 1, 1)    (0.001) \n",
      "AvgPool2d    (192, 2, 2)    (2, 2)   (1, 1)  \n",
      "Conv2d       (128, 1, 1)    (2, 2)   (3, 3)  \n",
      "BatchNorm2d  (128, 1, 1)   \n",
      "LeakyReLU    (128, 1, 1)    (0.1)   \n",
      "MaxPool2d    (128, 2, 2)    (2, 2)   (1, 1)  \n",
      "Conv2d       (64, 1, 1)     (3, 3)   (3, 3)  \n",
      "ReLU         (64, 1, 1)    \n",
      "BatchNorm2d  (64, 1, 1)    \n",
      "LeakyReLU    (64, 1, 1)     (0.1)   \n",
      "Flatten      64            \n",
      "Linear       2048          \n",
      "ReLU         2048          \n",
      "Linear       10            \n",
      "\n"
     ]
    }
   ],
   "source": [
    "NUM_VAL = 1024\n",
    "loader_gpu = dload.get_loader_gpu(cifar_gpu, NUM_VAL)\n",
    "\n",
    "model_gen = ConvFCModelGenerator((3, 32, 32), 10, conv_num = 6, lin_num = 2)\n",
    "model_tmpl = model_gen.generate_model_tmpl()\n",
    "fixed_model_gpu = model_tmpl.instantiate_model().type(torch.cuda.FloatTensor)\n",
    "print(model_tmpl)"
   ]
  },
  {
   "cell_type": "code",
   "execution_count": 30,
   "metadata": {},
   "outputs": [
    {
     "name": "stdout",
     "output_type": "stream",
     "text": [
      "Conv2d       (96, 29, 29)   (4, 4)   (1, 1)  \n",
      "MaxPool2d    (96, 30, 30)   (2, 2)   (1, 1)  \n",
      "BatchNorm2d  (96, 30, 30)  \n",
      "AvgPool2d    (96, 28, 28)   (3, 3)   (1, 1)  \n",
      "ReLU         (96, 28, 28)  \n",
      "Conv2d       (128, 28, 28)  (7, 7)   (1, 1)  \n",
      "LeakyReLU    (128, 28, 28)  (0.1)   \n",
      "AvgPool2d    (128, 28, 28)  (3, 3)   (1, 1)  \n",
      "GlobalAvgPool2d (128, 1, 1)   \n",
      "Flatten      128           \n",
      "Linear       10            \n",
      "\n"
     ]
    }
   ],
   "source": [
    "model_gen = ConvGAPModelGenerator((3, 32, 32), 10, conv_num = 6)\n",
    "model_tmpl = model_gen.generate_model_tmpl()\n",
    "fixed_model_gpu = model_tmpl.instantiate_model().type(torch.cuda.FloatTensor)\n",
    "print(model_tmpl)"
   ]
  },
  {
   "cell_type": "code",
   "execution_count": 32,
   "metadata": {},
   "outputs": [
    {
     "name": "stdout",
     "output_type": "stream",
     "text": [
      "Finished in 26.5s \n",
      "val_acc: 0.345, train_acc: 0.330\n"
     ]
    }
   ],
   "source": [
    "loader_gpu = dload.get_loader_gpu(cifar_gpu, NUM_VAL, 1024)\n",
    "# express train\n",
    "t, val_acc, train_acc = train_express_gpu(model = fixed_model_gpu,\n",
    "                                          train = True,\n",
    "                                          loader = loader_gpu,\n",
    "                                          milestones = [],\n",
    "                                          num_epoch = 1,\n",
    "                                          verbose = True)"
   ]
  },
  {
   "cell_type": "code",
   "execution_count": 15,
   "metadata": {},
   "outputs": [
    {
     "name": "stdout",
     "output_type": "stream",
     "text": [
      "50000\n"
     ]
    }
   ],
   "source": [
    "print(len(cifar10))"
   ]
  },
  {
   "cell_type": "code",
   "execution_count": 23,
   "metadata": {},
   "outputs": [
    {
     "name": "stdout",
     "output_type": "stream",
     "text": [
      "1024\n",
      "<class 'torch.Tensor'>\n"
     ]
    }
   ],
   "source": [
    "loader = dload.get_loader(cifar10, NUM_VAL, 1024)\n",
    "batch = next(iter(loader_gpu['train']))\n",
    "print(len(batch[0]))\n",
    "print(type(batch[0]))\n"
   ]
  },
  {
   "cell_type": "code",
   "execution_count": null,
   "metadata": {},
   "outputs": [],
   "source": [
    "# t, val_acc, train_acc = train_express_gpu(model = fixed_model_gpu,\n",
    "#                                           train = True,\n",
    "#                                           loader = loader,\n",
    "#                                           milestones = [],\n",
    "#                                           num_epoch = 1,\n",
    "#                                           verbose = True)"
   ]
  }
 ],
 "metadata": {
  "kernelspec": {
   "display_name": "Python 3",
   "language": "python",
   "name": "python3"
  },
  "language_info": {
   "codemirror_mode": {
    "name": "ipython",
    "version": 3
   },
   "file_extension": ".py",
   "mimetype": "text/x-python",
   "name": "python",
   "nbconvert_exporter": "python",
   "pygments_lexer": "ipython3",
   "version": "3.7.6"
  }
 },
 "nbformat": 4,
 "nbformat_minor": 4
}
