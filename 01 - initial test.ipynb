{
 "cells": [
  {
   "cell_type": "code",
   "execution_count": 1,
   "metadata": {},
   "outputs": [
    {
     "name": "stdout",
     "output_type": "stream",
     "text": [
      "Files already downloaded and verified\n"
     ]
    }
   ],
   "source": [
    "import torch\n",
    "import sophius.utils as utils\n",
    "import sophius.dataloader as dload\n",
    "import torchvision.datasets as dset\n",
    "import torchvision.transforms as T\n",
    "\n",
    "%load_ext autoreload\n",
    "%autoreload 2\n",
    "\n",
    "NUM_VAL = 1024\n",
    "\n",
    "cifar10 = dset.CIFAR10('data//CIFAR10', train=True, download=True,\n",
    "                           transform=T.ToTensor())\n",
    "cifar_gpu = dload.cifar_to_gpu(cifar10)"
   ]
  },
  {
   "cell_type": "code",
   "execution_count": 43,
   "metadata": {},
   "outputs": [],
   "source": [
    "loader_gpu = dload.get_loader_gpu(cifar_gpu, NUM_VAL)"
   ]
  },
  {
   "cell_type": "code",
   "execution_count": 29,
   "metadata": {},
   "outputs": [
    {
     "name": "stdout",
     "output_type": "stream",
     "text": [
      "Conv2d       (192, 8, 8)    (5, 5)   (4, 4)  \n",
      "AvgPool2d    (192, 5, 5)    (4, 4)   (1, 1)  \n",
      "LeakyReLU    (192, 5, 5)    (0.001) \n",
      "Conv2d       (64, 2, 2)     (5, 5)   (4, 4)  \n",
      "ReLU         (64, 2, 2)    \n",
      "Conv2d       (192, 1, 1)    (4, 4)   (3, 3)  \n",
      "MaxPool2d    (192, 1, 1)    (2, 2)   (2, 2)  \n",
      "AvgPool2d    (192, 1, 1)    (2, 2)   (2, 2)  \n",
      "PReLU        (192, 1, 1)   \n",
      "AvgPool2d    (192, 2, 2)    (4, 4)   (1, 1)  \n",
      "Flatten      768           \n",
      "Linear       10            \n",
      "\n"
     ]
    }
   ],
   "source": [
    "from sophius.modelgen import ConvFCModelGenerator, ConvGAPModelGenerator\n",
    "import torch\n",
    "\n",
    "model_gen = ConvFCModelGenerator((3, 32, 32), 10, conv_num = 6, lin_num = 2)\n",
    "model_tmpl = model_gen.generate_model_tmpl()\n",
    "fixed_model_gpu = model_tmpl.instantiate_model().type(torch.cuda.FloatTensor)\n",
    "print(model_tmpl)"
   ]
  },
  {
   "cell_type": "code",
   "execution_count": 66,
   "metadata": {},
   "outputs": [
    {
     "name": "stdout",
     "output_type": "stream",
     "text": [
      "Conv2d       (96, 32, 32)   (3, 3)   (1, 1)  \n",
      "PReLU        (96, 32, 32)  \n",
      "BatchNorm2d  (96, 32, 32)  \n",
      "Conv2d       (96, 11, 11)   (4, 4)   (3, 3)  \n",
      "LeakyReLU    (96, 11, 11)   (0.01)  \n",
      "AvgPool2d    (96, 11, 11)   (3, 3)   (1, 1)  \n",
      "MaxPool2d    (96, 3, 3)     (4, 4)   (3, 3)  \n",
      "Conv2d       (64, 2, 2)     (2, 2)   (3, 3)  \n",
      "MaxPool2d    (64, 1, 1)     (2, 2)   (1, 1)  \n",
      "AvgPool2d    (64, 2, 2)     (4, 4)   (1, 1)  \n",
      "PReLU        (64, 2, 2)    \n",
      "ReLU         (64, 2, 2)    \n",
      "GlobalAvgPool2d (64, 1, 1)    \n",
      "Flatten      64            \n",
      "Linear       10            \n",
      "\n"
     ]
    }
   ],
   "source": [
    "model_gen = ConvGAPModelGenerator((3, 32, 32), 10, conv_num = 6)\n",
    "model_tmpl = model_gen.generate_model_tmpl()\n",
    "fixed_model_gpu = model_tmpl.instantiate_model().type(torch.cuda.FloatTensor)\n",
    "print(model_tmpl)"
   ]
  },
  {
   "cell_type": "code",
   "execution_count": 77,
   "metadata": {},
   "outputs": [
    {
     "name": "stdout",
     "output_type": "stream",
     "text": [
      "Finished in 3.8s \n",
      "val_acc: 0.343, train_acc: 0.322\n"
     ]
    }
   ],
   "source": [
    "from sophius.train import train_express_gpu\n",
    "loader_gpu = dload.get_loader_gpu(cifar_gpu, NUM_VAL)\n",
    "# express train\n",
    "t, val_acc, train_acc = train_express_gpu(model = fixed_model_gpu,\n",
    "                                          train = True,\n",
    "                                          loader = loader_gpu,\n",
    "                                          milestones = [],\n",
    "                                          num_epoch = 1,\n",
    "                                          verbose = True)"
   ]
  }
 ],
 "metadata": {
  "kernelspec": {
   "display_name": "Python 3",
   "language": "python",
   "name": "python3"
  },
  "language_info": {
   "codemirror_mode": {
    "name": "ipython",
    "version": 3
   },
   "file_extension": ".py",
   "mimetype": "text/x-python",
   "name": "python",
   "nbconvert_exporter": "python",
   "pygments_lexer": "ipython3",
   "version": "3.7.6"
  }
 },
 "nbformat": 4,
 "nbformat_minor": 4
}
