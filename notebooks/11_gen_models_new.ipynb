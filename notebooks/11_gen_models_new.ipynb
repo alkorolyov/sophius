{
 "cells": [
  {
   "cell_type": "code",
   "id": "initial_id",
   "metadata": {
    "collapsed": true,
    "ExecuteTime": {
     "end_time": "2024-09-14T16:32:49.910507Z",
     "start_time": "2024-09-14T16:32:49.816148Z"
    }
   },
   "source": [
    "%load_ext autoreload\n",
    "%autoreload 2\n",
    "\n",
    "import sys\n",
    "sys.path.append(\"..\")"
   ],
   "outputs": [
    {
     "name": "stdout",
     "output_type": "stream",
     "text": [
      "The autoreload extension is already loaded. To reload it, use:\n",
      "  %reload_ext autoreload\n"
     ]
    }
   ],
   "execution_count": 158
  },
  {
   "metadata": {
    "ExecuteTime": {
     "end_time": "2024-09-14T16:14:21.937841Z",
     "start_time": "2024-09-14T16:14:09.285857Z"
    }
   },
   "cell_type": "code",
   "source": [
    "import torch\n",
    "from calflops import calculate_flops\n",
    "import sophius.utils as utils\n",
    "import sophius.dataload as dload\n",
    "from sophius.modelgen import ConvModelGenerator\n",
    "from sophius.train import train_express_gpu\n",
    "import torchvision.datasets as dset\n",
    "import torchvision.transforms as T\n",
    "from sophius.encode import Encoder\n",
    "from sophius.utils import calc_model_flops, hash_dict\n",
    "import sqlite3\n",
    "import pandas as pd\n",
    "import seaborn as sns\n",
    "from tqdm import tqdm\n",
    "import random\n",
    "from sophius.train import train_on_gpu_ex\n",
    "normalize = T.Compose([\n",
    "    T.ToTensor(),\n",
    "    T.Normalize((0.5, 0.5, 0.5), (0.5, 0.5, 0.5)),    \n",
    "])\n",
    "cifar10 = dset.CIFAR10('../data/CIFAR10', train=True, download=True, transform=normalize)\n",
    "cifar_gpu = dload.cifar_to_gpu(cifar10)\n",
    "\n",
    "encoder = Encoder()"
   ],
   "id": "4ae403a2b286ff03",
   "outputs": [
    {
     "name": "stdout",
     "output_type": "stream",
     "text": [
      "Files already downloaded and verified\n"
     ]
    }
   ],
   "execution_count": 113
  },
  {
   "metadata": {
    "ExecuteTime": {
     "end_time": "2024-09-14T16:14:29.348369Z",
     "start_time": "2024-09-14T16:14:29.250801Z"
    }
   },
   "cell_type": "code",
   "source": "from sophius.train import train_on_gpu_ex",
   "id": "30ab0d511adc1317",
   "outputs": [],
   "execution_count": 114
  },
  {
   "metadata": {
    "ExecuteTime": {
     "end_time": "2024-09-14T16:14:39.227081Z",
     "start_time": "2024-09-14T16:14:32.222539Z"
    }
   },
   "cell_type": "code",
   "source": [
    "model_gen = ConvModelGenerator(\n",
    "    in_shape=(3, 32, 32), \n",
    "    out_shape=10, \n",
    "    conv_num=3, \n",
    "    lin_num=1,\n",
    ")\n",
    "model_tmpl = model_gen.generate_model_tmpl()\n",
    "model = model_tmpl.instantiate_model().type(torch.cuda.FloatTensor)\n",
    "print(model_tmpl)\n",
    "\n",
    "train_params = {\n",
    "    'val_size': 10000,\n",
    "    'batch_size': 256,\n",
    "    'num_epoch': 5,\n",
    "    'random_seed':42,\n",
    "    'optimizer': 'AdamW',\n",
    "    'opt_params': {\n",
    "        'lr': 1e-3,\n",
    "    },\n",
    "    'scheduler': 'ExponentialLR',\n",
    "    'sch_params': {\n",
    "        'gamma': 0.95,\n",
    "    },\n",
    "}\n",
    "\n",
    "res = train_on_gpu_ex(\n",
    "    model=model,\n",
    "    dataset=cifar_gpu,\n",
    "    verbose=True,\n",
    "    **train_params,\n",
    ")\n",
    "\n",
    "sns.lineplot(res, x='epoch', y='train_acc', label='train')\n",
    "sns.lineplot(res, x='epoch', y='val_acc', label='val');"
   ],
   "id": "7a0a82ff86728363",
   "outputs": [
    {
     "name": "stdout",
     "output_type": "stream",
     "text": [
      "Conv2d       (8, 30, 30)    (3, 3)   (1, 1)  \n",
      "PReLU        (8, 30, 30)   \n",
      "Conv2d       (32, 13, 13)   (6, 6)   (2, 2)  \n",
      "LeakyReLU    (32, 13, 13)   (0.01)  \n",
      "AvgPool2d    (32, 10, 10)   (4, 4)   (1, 1)  \n",
      "GlobalAvgPool2d (32, 1, 1)    \n",
      "Flatten      32            \n",
      "Linear       10            \n",
      "\n"
     ]
    },
    {
     "name": "stderr",
     "output_type": "stream",
     "text": [
      "Loss 258.274: 100%|██████████| 10/10 [00:06<00:00,  1.50it/s]\n"
     ]
    },
    {
     "name": "stdout",
     "output_type": "stream",
     "text": [
      "val_acc: 0.354 train_acc: 0.400\n"
     ]
    },
    {
     "data": {
      "text/plain": [
       "<Figure size 640x480 with 1 Axes>"
      ],
      "image/png": "[encoded data removed]"
     },
     "metadata": {},
     "output_type": "display_data"
    }
   ],
   "execution_count": 115
  },
  {
   "metadata": {
    "ExecuteTime": {
     "end_time": "2024-09-14T16:34:47.134760Z",
     "start_time": "2024-09-14T16:34:47.038895Z"
    }
   },
   "cell_type": "code",
   "source": "{**train_params, **{'in_shape': (3, 32, 32), 'out_shpape': 10}}",
   "id": "34dacfddf2e2a9f5",
   "outputs": [
    {
     "data": {
      "text/plain": [
       "{'val_size': 1000,\n",
       " 'batch_size': 256,\n",
       " 'num_epoch': 10,\n",
       " 'random_seed': 42,\n",
       " 'optimizer': 'AdamW',\n",
       " 'opt_params': {'lr': 0.001},\n",
       " 'scheduler': 'ExponentialLR',\n",
       " 'sch_params': {'gamma': 0.95},\n",
       " 'in_shape': (3, 32, 32),\n",
       " 'out_shpape': 10}"
      ]
     },
     "execution_count": 161,
     "metadata": {},
     "output_type": "execute_result"
    }
   ],
   "execution_count": 161
  },
  {
   "metadata": {
    "ExecuteTime": {
     "end_time": "2024-09-14T16:36:35.474844Z",
     "start_time": "2024-09-14T16:36:35.373813Z"
    }
   },
   "cell_type": "code",
   "source": [
    "import sqlite3\n",
    "from sophius.utils import hash_dict\n",
    "\n",
    "exp_id = 0\n",
    "with sqlite3.connect('../data/models.db') as conn:\n",
    "    try:\n",
    "        exp_id = conn.execute('SELECT COUNT(*) FROM test_experiments').fetchone()[0]\n",
    "    except:\n",
    "        pass\n",
    "    exp_params = {**train_params, **{'in_shape': (3, 32, 32), 'out_shpape': 10}}\n",
    "    \n",
    "    df = pd.DataFrame([exp_params], index=[exp_id])\n",
    "    exp_hash = hash_dict(exp_params)\n",
    "    df['hash'] = exp_hash\n",
    "    df.index.name = 'id'\n",
    "    if exp_id == 0:\n",
    "        df.astype(str).to_sql('test_experiments', conn, if_exists='append')\n",
    "    else:\n",
    "        # check if experiment exists\n",
    "        res = conn.execute('SELECT id FROM test_experiments WHERE hash == ?', (exp_hash,)).fetchone()\n",
    "        if res:\n",
    "            print('Experiment exists', exp_params)\n",
    "            exp_id = res[0]\n",
    "        else:\n",
    "            print('Creating new experiment', exp_params)\n",
    "            df.astype(str).to_sql('test_experiments', conn, if_exists='append')    \n",
    "exp_id"
   ],
   "id": "58befc06b1e0fda6",
   "outputs": [
    {
     "name": "stdout",
     "output_type": "stream",
     "text": [
      "Experiment exists {'val_size': 1000, 'batch_size': 256, 'num_epoch': 10, 'random_seed': 42, 'optimizer': 'AdamW', 'opt_params': {'lr': 0.001}, 'scheduler': 'ExponentialLR', 'sch_params': {'gamma': 0.95}, 'in_shape': (3, 32, 32), 'out_shpape': 10}\n"
     ]
    },
    {
     "data": {
      "text/plain": [
       "0"
      ]
     },
     "execution_count": 173,
     "metadata": {},
     "output_type": "execute_result"
    }
   ],
   "execution_count": 173
  },
  {
   "metadata": {
    "ExecuteTime": {
     "end_time": "2024-09-14T16:11:34.745844Z",
     "start_time": "2024-09-14T16:11:34.654517Z"
    }
   },
   "cell_type": "code",
   "source": [
    "# run stats - run_id, run params\n",
    "# run_models run_id -> model_id \n",
    "# model stats model_id, hash, flops, batch_size\n",
    "# model_per_epoch stats model_id, "
   ],
   "id": "f7a295437afbf17",
   "outputs": [],
   "execution_count": 110
  },
  {
   "metadata": {
    "ExecuteTime": {
     "end_time": "2024-09-14T16:39:59.704239Z",
     "start_time": "2024-09-14T16:39:20.513478Z"
    }
   },
   "cell_type": "code",
   "source": [
    "model_gen = ConvModelGenerator((3, 32, 32), 10, conv_num=3, lin_num=1)\n",
    "\n",
    "for i in tqdm(range(5)):\n",
    "    model_tmpl = model_gen.generate_model_tmpl()\n",
    "    model = model_tmpl.instantiate_model().type(torch.cuda.FloatTensor)\n",
    "        \n",
    "    epoch_results = train_on_gpu_ex(\n",
    "        model=model,\n",
    "        dataset=cifar_gpu,\n",
    "        verbose=False,\n",
    "        **train_params,\n",
    "    )\n",
    "    \n",
    "    model_id = 0\n",
    "    with sqlite3.connect('../data/models.db') as conn:\n",
    "        try:\n",
    "            model_id = conn.execute('SELECT COUNT(*) FROM test_models').fetchone()[0]\n",
    "        except:\n",
    "            pass\n",
    "        \n",
    "    model_results = calc_model_flops(model, (3, 32, 32))\n",
    "    model_results['id'] = model_id\n",
    "    model_results['exp_id'] = exp_id\n",
    "    model_results['hash'] = encoder.model2hash(model_tmpl)    \n",
    "    model_results['val_acc'] = epoch_results.val_acc.iloc[-10:].mean()\n",
    "    model_results['train_acc'] = epoch_results.train_acc.iloc[-10:].mean()\n",
    "    model_results['time'] = epoch_results.time.iloc[-1]\n",
    "    \n",
    "    epoch_results['model_id'] = model_id\n",
    "    epoch_results['exp_id'] = exp_id\n",
    "\n",
    "    with sqlite3.connect('../data/models.db') as conn:\n",
    "        df = pd.DataFrame([model_results]).set_index('id').astype(str)\n",
    "        df.to_sql('test_models', conn, if_exists='append')\n",
    "        \n",
    "        epoch_results.to_sql('test_model_epochs', conn, if_exists='append', index=False)\n",
    "        \n",
    "#     # print(df.loc[i])"
   ],
   "id": "808c8014271b97a",
   "outputs": [
    {
     "name": "stderr",
     "output_type": "stream",
     "text": [
      "100%|██████████| 5/5 [00:39<00:00,  7.82s/it]\n"
     ]
    }
   ],
   "execution_count": 176
  }
 ],
 "metadata": {
  "kernelspec": {
   "display_name": "sophius",
   "language": "python",
   "name": "sophius"
  },
  "language_info": {
   "codemirror_mode": {
    "name": "ipython",
    "version": 2
   },
   "file_extension": ".py",
   "mimetype": "text/x-python",
   "name": "python",
   "nbconvert_exporter": "python",
   "pygments_lexer": "ipython2",
   "version": "2.7.6"
  }
 },
 "nbformat": 4,
 "nbformat_minor": 5
}
