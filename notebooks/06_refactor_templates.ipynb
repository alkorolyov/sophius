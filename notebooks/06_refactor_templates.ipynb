{
 "cells": [
  {
   "metadata": {
    "ExecuteTime": {
     "end_time": "2024-09-04T14:47:51.910273Z",
     "start_time": "2024-09-04T14:47:51.843244Z"
    }
   },
   "cell_type": "code",
   "source": [
    "%load_ext autoreload\n",
    "%autoreload 2\n",
    "\n",
    "import sys\n",
    "sys.path.append('..')"
   ],
   "id": "18bf38cd43adcd4f",
   "outputs": [
    {
     "name": "stdout",
     "output_type": "stream",
     "text": [
      "The autoreload extension is already loaded. To reload it, use:\n",
      "  %reload_ext autoreload\n"
     ]
    }
   ],
   "execution_count": 259
  },
  {
   "cell_type": "code",
   "id": "initial_id",
   "metadata": {
    "collapsed": true,
    "ExecuteTime": {
     "end_time": "2024-09-04T14:47:51.987545Z",
     "start_time": "2024-09-04T14:47:51.911275Z"
    }
   },
   "source": [
    "from sophius.encode import Encoder\n",
    "from sophius.modelgen import ConvModelGenerator\n",
    "\n",
    "model_gen = ConvModelGenerator((3, 32, 32), 10)\n",
    "encoder = Encoder()"
   ],
   "outputs": [],
   "execution_count": 260
  },
  {
   "metadata": {
    "ExecuteTime": {
     "end_time": "2024-09-04T14:47:52.065558Z",
     "start_time": "2024-09-04T14:47:51.988549Z"
    }
   },
   "cell_type": "code",
   "source": [
    "from sophius.templates import Conv2dTmpl\n",
    "\n",
    "model_tmpl = model_gen.generate_model_tmpl()\n",
    "t = model_tmpl.get_templates()[0]\n",
    "print(t.torch_name, t.get_learnable_params())\n",
    "tmpl = encoder.decode_template(encoder.encode_template(t))\n",
    "print(tmpl.torch_name, tmpl.get_learnable_params())"
   ],
   "id": "6d95275a177281f3",
   "outputs": [
    {
     "name": "stdout",
     "output_type": "stream",
     "text": [
      "Conv2d {'out_channels': 8, 'kernel_size': (4, 4), 'stride': (1, 1), 'padding': False}\n",
      "Conv2d {'out_channels': 8, 'kernel_size': (4, 4), 'stride': (1, 1), 'padding': False}\n"
     ]
    }
   ],
   "execution_count": 261
  },
  {
   "metadata": {
    "ExecuteTime": {
     "end_time": "2024-09-04T14:47:52.145661Z",
     "start_time": "2024-09-04T14:47:52.067560Z"
    }
   },
   "cell_type": "code",
   "source": "t == tmpl",
   "id": "975772e3c3eb4202",
   "outputs": [
    {
     "data": {
      "text/plain": [
       "False"
      ]
     },
     "execution_count": 262,
     "metadata": {},
     "output_type": "execute_result"
    }
   ],
   "execution_count": 262
  },
  {
   "metadata": {
    "ExecuteTime": {
     "end_time": "2024-09-04T14:47:52.223181Z",
     "start_time": "2024-09-04T14:47:52.147662Z"
    }
   },
   "cell_type": "code",
   "source": [
    "vec = encoder.encode_template(t)\n",
    "print(t.get_learnable_params())\n",
    "print(vec)\n",
    "\n",
    "tmpl = encoder.decode_template(vec)\n",
    "print(tmpl)\n",
    "print(tmpl.get_learnable_params())"
   ],
   "id": "954f9eb6a510430e",
   "outputs": [
    {
     "name": "stdout",
     "output_type": "stream",
     "text": [
      "{'out_channels': 8, 'kernel_size': (4, 4), 'stride': (1, 1), 'padding': False}\n",
      "[0 0 0 0 0 0 0 0 1 0 0 0 1 0 0 0 0 0 0 0 0 0 1 0 0 0 1 0 0 0 0 1]\n",
      "Conv2d       None           (4, 4)   (1, 1)  \n",
      "{'out_channels': 8, 'kernel_size': (4, 4), 'stride': (1, 1), 'padding': False}\n"
     ]
    }
   ],
   "execution_count": 263
  },
  {
   "metadata": {
    "ExecuteTime": {
     "end_time": "2024-09-04T14:47:52.239186Z",
     "start_time": "2024-09-04T14:47:52.224184Z"
    }
   },
   "cell_type": "code",
   "source": "",
   "id": "807c47083cbc1619",
   "outputs": [],
   "execution_count": 263
  },
  {
   "metadata": {
    "ExecuteTime": {
     "end_time": "2024-09-04T14:47:52.255179Z",
     "start_time": "2024-09-04T14:47:52.241181Z"
    }
   },
   "cell_type": "code",
   "source": "",
   "id": "5fbc5cd11b8a4d30",
   "outputs": [],
   "execution_count": 263
  },
  {
   "metadata": {
    "ExecuteTime": {
     "end_time": "2024-09-04T14:49:47.848427Z",
     "start_time": "2024-09-04T14:49:47.779397Z"
    }
   },
   "cell_type": "code",
   "source": [
    "from sophius.templates import ModuleTemplate_\n",
    "\n",
    "class MockTemplate(ModuleTemplate_):\n",
    "    config = {\n",
    "        'option_1': {\n",
    "            'default': 1,\n",
    "            'range': [-1, 0, 1]\n",
    "        },\n",
    "        'option_2': {\n",
    "            'default': False,\n",
    "        }\n",
    "    }\n",
    "    \n",
    "\n",
    "t1 = MockTemplate()\n",
    "t2 = MockTemplate()\n",
    "print(t1 == t2)\n",
    "t1 = MockTemplate(option_1=1)\n",
    "t2 = MockTemplate(option_1=2)\n",
    "print(t1 == t2)"
   ],
   "id": "2110ef7be4a9937c",
   "outputs": [
    {
     "name": "stdout",
     "output_type": "stream",
     "text": [
      "True\n",
      "True\n"
     ]
    }
   ],
   "execution_count": 280
  },
  {
   "metadata": {
    "ExecuteTime": {
     "end_time": "2024-09-04T14:49:48.847828Z",
     "start_time": "2024-09-04T14:49:48.775226Z"
    }
   },
   "cell_type": "code",
   "source": [
    "t1 = Conv2dTmpl(in_shape=(3, 32, 32), out_shape=(3, 32, 32), stride=(2, 2), padding=(1, 1))\n",
    "t1.params['kernel_size']"
   ],
   "id": "afebdcfb078a5499",
   "outputs": [
    {
     "data": {
      "text/plain": [
       "(3, 3)"
      ]
     },
     "execution_count": 281,
     "metadata": {},
     "output_type": "execute_result"
    }
   ],
   "execution_count": 281
  },
  {
   "metadata": {
    "ExecuteTime": {
     "end_time": "2024-09-04T14:49:49.925417Z",
     "start_time": "2024-09-04T14:49:49.848548Z"
    }
   },
   "cell_type": "code",
   "source": [
    "t2 = Conv2dTmpl(in_shape=(3, 32, 32), kernel_size=(2,2), stride=(1, 1), padding=(1, 1))\n",
    "t2.params['kernel_size']"
   ],
   "id": "8a7858bdc043794",
   "outputs": [
    {
     "data": {
      "text/plain": [
       "(2, 2)"
      ]
     },
     "execution_count": 282,
     "metadata": {},
     "output_type": "execute_result"
    }
   ],
   "execution_count": 282
  },
  {
   "metadata": {
    "ExecuteTime": {
     "end_time": "2024-09-04T14:49:51.112178Z",
     "start_time": "2024-09-04T14:49:51.039660Z"
    }
   },
   "cell_type": "code",
   "source": "type(t1.params['kernel_size'])",
   "id": "894e573146e7ae80",
   "outputs": [
    {
     "data": {
      "text/plain": [
       "tuple"
      ]
     },
     "execution_count": 283,
     "metadata": {},
     "output_type": "execute_result"
    }
   ],
   "execution_count": 283
  },
  {
   "metadata": {
    "ExecuteTime": {
     "end_time": "2024-09-04T14:49:51.974910Z",
     "start_time": "2024-09-04T14:49:51.910397Z"
    }
   },
   "cell_type": "code",
   "source": "type(t1.params['kernel_size']) == t2.params['kernel_size']",
   "id": "1483bd5454f2832c",
   "outputs": [
    {
     "data": {
      "text/plain": [
       "False"
      ]
     },
     "execution_count": 284,
     "metadata": {},
     "output_type": "execute_result"
    }
   ],
   "execution_count": 284
  },
  {
   "metadata": {
    "ExecuteTime": {
     "end_time": "2024-09-04T14:49:57.951102Z",
     "start_time": "2024-09-04T14:49:57.875480Z"
    }
   },
   "cell_type": "code",
   "source": [
    "t1 = MockTemplate(option_1=4)\n",
    "# t2 = MockTemplate(option_1=2)\n",
    "print(t1.params)\n",
    "print(t2.params)"
   ],
   "id": "f645eb64c295f384",
   "outputs": [
    {
     "name": "stdout",
     "output_type": "stream",
     "text": [
      "{'option_1': 4, 'option_2': False, 'out_channels': 32, 'kernel_size': (2, 2), 'stride': (1, 1), 'padding': (1, 1), 'padding_mode': 'zeros', 'dilation': (1, 1), 'groups': 1, 'bias': True}\n",
      "{'option_1': 4, 'option_2': False, 'out_channels': 32, 'kernel_size': (2, 2), 'stride': (1, 1), 'padding': (1, 1), 'padding_mode': 'zeros', 'dilation': (1, 1), 'groups': 1, 'bias': True}\n"
     ]
    }
   ],
   "execution_count": 285
  },
  {
   "metadata": {
    "ExecuteTime": {
     "end_time": "2024-09-04T14:47:52.732522Z",
     "start_time": "2024-09-04T14:47:52.655003Z"
    }
   },
   "cell_type": "code",
   "source": "type(t1)",
   "id": "ea1ad622abc0d71e",
   "outputs": [
    {
     "data": {
      "text/plain": [
       "__main__.MockTemplate"
      ]
     },
     "execution_count": 269,
     "metadata": {},
     "output_type": "execute_result"
    }
   ],
   "execution_count": 269
  },
  {
   "metadata": {
    "ExecuteTime": {
     "end_time": "2024-09-04T14:47:52.809036Z",
     "start_time": "2024-09-04T14:47:52.734521Z"
    }
   },
   "cell_type": "code",
   "source": "t1.params",
   "id": "b6097e8f0f87ba61",
   "outputs": [
    {
     "data": {
      "text/plain": [
       "{'option_1': 4,\n",
       " 'option_2': False,\n",
       " 'out_channels': 32,\n",
       " 'kernel_size': (2, 2),\n",
       " 'stride': (1, 1),\n",
       " 'padding': (1, 1),\n",
       " 'padding_mode': 'zeros',\n",
       " 'dilation': (1, 1),\n",
       " 'groups': 1,\n",
       " 'bias': True,\n",
       " 'all_channels': True,\n",
       " 'init_value': 0.25,\n",
       " 'return_indices': False,\n",
       " 'ceil_mode': False,\n",
       " 'eps': 1e-05,\n",
       " 'momentum': 0.1,\n",
       " 'affine': True,\n",
       " 'track_running_stats': True,\n",
       " 'count_include_pad': True,\n",
       " 'out_features': 256,\n",
       " 'negative_slope': 0.1,\n",
       " 'inplace': False}"
      ]
     },
     "execution_count": 270,
     "metadata": {},
     "output_type": "execute_result"
    }
   ],
   "execution_count": 270
  }
 ],
 "metadata": {
  "kernelspec": {
   "display_name": "sophius",
   "language": "python",
   "name": "sophius"
  },
  "language_info": {
   "codemirror_mode": {
    "name": "ipython",
    "version": 2
   },
   "file_extension": ".py",
   "mimetype": "text/x-python",
   "name": "python",
   "nbconvert_exporter": "python",
   "pygments_lexer": "ipython2",
   "version": "2.7.6"
  }
 },
 "nbformat": 4,
 "nbformat_minor": 5
}
