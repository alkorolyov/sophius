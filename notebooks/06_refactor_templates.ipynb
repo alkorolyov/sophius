{
 "cells": [
  {
   "metadata": {
    "ExecuteTime": {
     "end_time": "2024-09-05T04:46:27.764271Z",
     "start_time": "2024-09-05T04:46:27.702461Z"
    }
   },
   "cell_type": "code",
   "source": [
    "%load_ext autoreload\n",
    "%autoreload 2\n",
    "\n",
    "import sys\n",
    "sys.path.append('..')"
   ],
   "id": "18bf38cd43adcd4f",
   "outputs": [],
   "execution_count": 1
  },
  {
   "metadata": {
    "ExecuteTime": {
     "end_time": "2024-09-05T04:47:41.727449Z",
     "start_time": "2024-09-05T04:47:41.636227Z"
    }
   },
   "cell_type": "code",
   "source": [
    "from sophius.encode import Encoder\n",
    "from sophius.modelgen import ConvModelGenerator\n",
    "from sophius.templates import *\n",
    "\n",
    "model_gen = ConvModelGenerator((3, 32, 32), 10)\n",
    "encoder = Encoder()"
   ],
   "id": "initial_id",
   "outputs": [],
   "execution_count": 11
  },
  {
   "metadata": {
    "ExecuteTime": {
     "end_time": "2024-09-05T04:57:27.969887Z",
     "start_time": "2024-09-05T04:57:27.847324Z"
    }
   },
   "cell_type": "code",
   "source": [
    "conv1 = Conv2dTmpl(stride=(3,3))\n",
    "avg = AvgPool2dTmpl()\n",
    "m = ModelTmpl((2, 3, 3), 1, conv1, avg)\n",
    "m"
   ],
   "id": "4f7994fbb9380a0b",
   "outputs": [
    {
     "name": "stdout",
     "output_type": "stream",
     "text": [
      "AvgPool2d (32, 1, 1) (32, 0, 0)\n"
     ]
    },
    {
     "ename": "ValueError",
     "evalue": "Zero in output shape template: AvgPool2d    (32, 0, 0)     (2, 2)   (2, 2)   shape: (32, 0, 0)",
     "output_type": "error",
     "traceback": [
      "\u001B[1;31m---------------------------------------------------------------------------\u001B[0m",
      "\u001B[1;31mValueError\u001B[0m                                Traceback (most recent call last)",
      "Cell \u001B[1;32mIn[41], line 3\u001B[0m\n\u001B[0;32m      1\u001B[0m conv1 \u001B[38;5;241m=\u001B[39m Conv2dTmpl(stride\u001B[38;5;241m=\u001B[39m(\u001B[38;5;241m3\u001B[39m,\u001B[38;5;241m3\u001B[39m))\n\u001B[0;32m      2\u001B[0m avg \u001B[38;5;241m=\u001B[39m AvgPool2dTmpl()\n\u001B[1;32m----> 3\u001B[0m m \u001B[38;5;241m=\u001B[39m \u001B[43mModelTmpl\u001B[49m\u001B[43m(\u001B[49m\u001B[43m(\u001B[49m\u001B[38;5;241;43m2\u001B[39;49m\u001B[43m,\u001B[49m\u001B[43m \u001B[49m\u001B[38;5;241;43m3\u001B[39;49m\u001B[43m,\u001B[49m\u001B[43m \u001B[49m\u001B[38;5;241;43m3\u001B[39;49m\u001B[43m)\u001B[49m\u001B[43m,\u001B[49m\u001B[43m \u001B[49m\u001B[38;5;241;43m1\u001B[39;49m\u001B[43m,\u001B[49m\u001B[43m \u001B[49m\u001B[43mconv1\u001B[49m\u001B[43m,\u001B[49m\u001B[43m \u001B[49m\u001B[43mavg\u001B[49m\u001B[43m)\u001B[49m\n\u001B[0;32m      4\u001B[0m m\n",
      "File \u001B[1;32m~\\PycharmProjects\\sophius\\sophius\\templates.py:1231\u001B[0m, in \u001B[0;36mModelTmpl.__init__\u001B[1;34m(self, in_shape, out_shape, *templates)\u001B[0m\n\u001B[0;32m   1229\u001B[0m \u001B[38;5;28mself\u001B[39m\u001B[38;5;241m.\u001B[39mis_zero_shape \u001B[38;5;241m=\u001B[39m \u001B[38;5;28;01mFalse\u001B[39;00m\n\u001B[0;32m   1230\u001B[0m \u001B[38;5;28mself\u001B[39m\u001B[38;5;241m.\u001B[39mtemplates \u001B[38;5;241m=\u001B[39m \u001B[38;5;28mlist\u001B[39m(templates)\n\u001B[1;32m-> 1231\u001B[0m \u001B[38;5;28;43mself\u001B[39;49m\u001B[38;5;241;43m.\u001B[39;49m\u001B[43msync_shapes\u001B[49m\u001B[43m(\u001B[49m\u001B[43m)\u001B[49m\n",
      "File \u001B[1;32m~\\PycharmProjects\\sophius\\sophius\\templates.py:1246\u001B[0m, in \u001B[0;36mModelTmpl.sync_shapes\u001B[1;34m(self)\u001B[0m\n\u001B[0;32m   1244\u001B[0m \u001B[38;5;28;01mif\u001B[39;00m \u001B[38;5;129;01mnot\u001B[39;00m \u001B[38;5;28mself\u001B[39m\u001B[38;5;241m.\u001B[39mtemplates:\n\u001B[0;32m   1245\u001B[0m     \u001B[38;5;28;01mreturn\u001B[39;00m\n\u001B[1;32m-> 1246\u001B[0m \u001B[38;5;28;43mself\u001B[39;49m\u001B[38;5;241;43m.\u001B[39;49m\u001B[43m_sync_shapes\u001B[49m\u001B[43m(\u001B[49m\u001B[43m)\u001B[49m\n",
      "File \u001B[1;32m~\\PycharmProjects\\sophius\\sophius\\templates.py:1256\u001B[0m, in \u001B[0;36mModelTmpl._sync_shapes\u001B[1;34m(self)\u001B[0m\n\u001B[0;32m   1253\u001B[0m \u001B[38;5;28;01mif\u001B[39;00m tmpl\u001B[38;5;241m.\u001B[39mis_zero_shape:\n\u001B[0;32m   1254\u001B[0m     \u001B[38;5;66;03m# debug info\u001B[39;00m\n\u001B[0;32m   1255\u001B[0m     \u001B[38;5;28mprint\u001B[39m(tmpl\u001B[38;5;241m.\u001B[39mtorch_name, tmpl\u001B[38;5;241m.\u001B[39min_shape, tmpl\u001B[38;5;241m.\u001B[39mout_shape)\n\u001B[1;32m-> 1256\u001B[0m     \u001B[38;5;28;01mraise\u001B[39;00m \u001B[38;5;167;01mValueError\u001B[39;00m(\u001B[38;5;124mf\u001B[39m\u001B[38;5;124m'\u001B[39m\u001B[38;5;124mZero in output shape template: \u001B[39m\u001B[38;5;132;01m{\u001B[39;00mtmpl\u001B[38;5;132;01m}\u001B[39;00m\u001B[38;5;124m shape: \u001B[39m\u001B[38;5;132;01m{\u001B[39;00mtmpl\u001B[38;5;241m.\u001B[39mout_shape\u001B[38;5;132;01m}\u001B[39;00m\u001B[38;5;124m'\u001B[39m)\n\u001B[0;32m   1257\u001B[0m     \u001B[38;5;66;03m# self.templates.remove(tmpl)\u001B[39;00m\n\u001B[0;32m   1258\u001B[0m \u001B[38;5;28;01melse\u001B[39;00m:\n\u001B[0;32m   1259\u001B[0m     in_shape \u001B[38;5;241m=\u001B[39m tmpl\u001B[38;5;241m.\u001B[39mout_shape\n",
      "\u001B[1;31mValueError\u001B[0m: Zero in output shape template: AvgPool2d    (32, 0, 0)     (2, 2)   (2, 2)   shape: (32, 0, 0)"
     ]
    }
   ],
   "execution_count": 41
  },
  {
   "metadata": {
    "ExecuteTime": {
     "end_time": "2024-09-05T04:48:21.836281Z",
     "start_time": "2024-09-05T04:48:21.747249Z"
    }
   },
   "cell_type": "code",
   "source": "",
   "id": "c3cd567965e02ffa",
   "outputs": [
    {
     "data": {
      "text/plain": [
       "Linear       Conv2d       None           (3, 3)   (1, 1)  "
      ]
     },
     "execution_count": 19,
     "metadata": {},
     "output_type": "execute_result"
    }
   ],
   "execution_count": 19
  },
  {
   "metadata": {},
   "cell_type": "code",
   "outputs": [],
   "execution_count": null,
   "source": "",
   "id": "4acb46e33feb0702"
  },
  {
   "metadata": {},
   "cell_type": "code",
   "outputs": [],
   "execution_count": null,
   "source": "",
   "id": "79d7b115b65b9c04"
  },
  {
   "metadata": {
    "ExecuteTime": {
     "end_time": "2024-09-04T17:22:05.552302Z",
     "start_time": "2024-09-04T17:22:05.464285Z"
    }
   },
   "cell_type": "code",
   "source": [
    "\n",
    "\n",
    "model_tmpl = model_gen.generate_model_tmpl()\n",
    "t = model_tmpl.get_templates()[0]\n",
    "print(t.torch_name, t.get_learnable_params())\n",
    "tmpl = encoder.decode_template(encoder.encode_template(t))\n",
    "print(tmpl.torch_name, tmpl.get_learnable_params())"
   ],
   "id": "6d95275a177281f3",
   "outputs": [
    {
     "name": "stdout",
     "output_type": "stream",
     "text": [
      "Conv2d {'out_channels': 32, 'kernel_size': (7, 7), 'stride': (3, 3), 'padding': True}\n",
      "Conv2d {'out_channels': 32, 'kernel_size': (7, 7), 'stride': (3, 3), 'padding': True}\n"
     ]
    }
   ],
   "execution_count": 7
  },
  {
   "metadata": {
    "ExecuteTime": {
     "end_time": "2024-09-04T17:22:06.389986Z",
     "start_time": "2024-09-04T17:22:06.305460Z"
    }
   },
   "cell_type": "code",
   "source": "t == tmpl",
   "id": "975772e3c3eb4202",
   "outputs": [
    {
     "data": {
      "text/plain": [
       "True"
      ]
     },
     "execution_count": 8,
     "metadata": {},
     "output_type": "execute_result"
    }
   ],
   "execution_count": 8
  },
  {
   "metadata": {
    "ExecuteTime": {
     "end_time": "2024-09-04T17:22:10.253292Z",
     "start_time": "2024-09-04T17:22:10.159236Z"
    }
   },
   "cell_type": "code",
   "source": [
    "vec = encoder.encode_template(t)\n",
    "print(t.get_learnable_params())\n",
    "print(vec)\n",
    "\n",
    "tmpl = encoder.decode_template(vec)\n",
    "print(tmpl)\n",
    "print(tmpl.get_learnable_params())"
   ],
   "id": "954f9eb6a510430e",
   "outputs": [
    {
     "name": "stdout",
     "output_type": "stream",
     "text": [
      "{'out_channels': 32, 'kernel_size': (7, 7), 'stride': (3, 3), 'padding': True}\n",
      "[0 0 0 0 0 0 0 0 1 0 0 0 0 0 1 0 0 0 0 0 0 0 0 0 0 1 0 0 1 0 1 0]\n",
      "Conv2d       None           (7, 7)   (3, 3)  \n",
      "{'out_channels': 32, 'kernel_size': (7, 7), 'stride': (3, 3), 'padding': True}\n"
     ]
    }
   ],
   "execution_count": 9
  },
  {
   "metadata": {
    "ExecuteTime": {
     "end_time": "2024-09-04T14:47:52.239186Z",
     "start_time": "2024-09-04T14:47:52.224184Z"
    }
   },
   "cell_type": "code",
   "source": "",
   "id": "807c47083cbc1619",
   "outputs": [],
   "execution_count": 263
  },
  {
   "metadata": {
    "ExecuteTime": {
     "end_time": "2024-09-04T14:47:52.255179Z",
     "start_time": "2024-09-04T14:47:52.241181Z"
    }
   },
   "cell_type": "code",
   "source": "",
   "id": "5fbc5cd11b8a4d30",
   "outputs": [],
   "execution_count": 263
  },
  {
   "metadata": {
    "ExecuteTime": {
     "end_time": "2024-09-04T17:22:53.788136Z",
     "start_time": "2024-09-04T17:22:53.704615Z"
    }
   },
   "cell_type": "code",
   "source": [
    "from sophius.templates import ModuleTemplate_\n",
    "\n",
    "class MockTemplate(ModuleTemplate_):\n",
    "    config = {\n",
    "        'option_1': {\n",
    "            'default': 1,\n",
    "            'range': [-1, 0, 1]\n",
    "        },\n",
    "        'option_2': {\n",
    "            'default': False,\n",
    "        }\n",
    "    }\n",
    "    \n",
    "\n",
    "t1 = MockTemplate()\n",
    "t2 = MockTemplate()\n",
    "print(t1 == t2)\n",
    "t1 = MockTemplate(option_1=1)\n",
    "t2 = MockTemplate(option_1=2)\n",
    "print(t1 == t2)"
   ],
   "id": "2110ef7be4a9937c",
   "outputs": [
    {
     "name": "stdout",
     "output_type": "stream",
     "text": [
      "True\n",
      "False\n"
     ]
    }
   ],
   "execution_count": 12
  },
  {
   "metadata": {
    "ExecuteTime": {
     "end_time": "2024-09-04T17:31:32.008158Z",
     "start_time": "2024-09-04T17:31:30.636420Z"
    }
   },
   "cell_type": "code",
   "source": "t1.params",
   "id": "85ef9fddf82a5f5d",
   "outputs": [
    {
     "data": {
      "text/plain": [
       "{'option_1': 1, 'option_2': False}"
      ]
     },
     "execution_count": 13,
     "metadata": {},
     "output_type": "execute_result"
    }
   ],
   "execution_count": 13
  },
  {
   "metadata": {
    "ExecuteTime": {
     "end_time": "2024-09-04T17:31:35.376081Z",
     "start_time": "2024-09-04T17:31:35.289543Z"
    }
   },
   "cell_type": "code",
   "source": "t2.params",
   "id": "1b4ce86315f48d9a",
   "outputs": [
    {
     "data": {
      "text/plain": [
       "{'option_1': 2, 'option_2': False}"
      ]
     },
     "execution_count": 14,
     "metadata": {},
     "output_type": "execute_result"
    }
   ],
   "execution_count": 14
  },
  {
   "metadata": {},
   "cell_type": "code",
   "outputs": [],
   "execution_count": null,
   "source": "",
   "id": "efb7fb3952cecf5b"
  },
  {
   "metadata": {
    "ExecuteTime": {
     "end_time": "2024-09-04T17:32:39.279222Z",
     "start_time": "2024-09-04T17:32:39.191189Z"
    }
   },
   "cell_type": "code",
   "source": [
    "class Mock1(ModuleTemplate_):\n",
    "    config = {\n",
    "        'option_1': {\n",
    "            'default': 1,\n",
    "            'range': [-1, 0, 1]\n",
    "        },\n",
    "    }\n",
    "    \n",
    "    \n",
    "class Mock2(ModuleTemplate_):\n",
    "    config = {\n",
    "        'option_2': {\n",
    "            'default': False,\n",
    "        }\n",
    "    }\n",
    "\n",
    "t1 = Mock1()\n",
    "t2 = Mock2()\n",
    "t1.params"
   ],
   "id": "6b94d44caef80f6a",
   "outputs": [
    {
     "data": {
      "text/plain": [
       "{'option_1': 1}"
      ]
     },
     "execution_count": 20,
     "metadata": {},
     "output_type": "execute_result"
    }
   ],
   "execution_count": 20
  },
  {
   "metadata": {
    "ExecuteTime": {
     "end_time": "2024-09-04T17:32:40.268525Z",
     "start_time": "2024-09-04T17:32:40.184995Z"
    }
   },
   "cell_type": "code",
   "source": "t2.params",
   "id": "9b7ff8f7b05d3969",
   "outputs": [
    {
     "data": {
      "text/plain": [
       "{'option_2': False}"
      ]
     },
     "execution_count": 21,
     "metadata": {},
     "output_type": "execute_result"
    }
   ],
   "execution_count": 21
  },
  {
   "metadata": {
    "ExecuteTime": {
     "end_time": "2024-09-04T17:32:57.973309Z",
     "start_time": "2024-09-04T17:32:57.884786Z"
    }
   },
   "cell_type": "code",
   "source": "t1.config",
   "id": "9c04f23b15b5c627",
   "outputs": [
    {
     "data": {
      "text/plain": [
       "{'option_1': {'default': 1, 'range': [-1, 0, 1]}}"
      ]
     },
     "execution_count": 22,
     "metadata": {},
     "output_type": "execute_result"
    }
   ],
   "execution_count": 22
  },
  {
   "metadata": {
    "ExecuteTime": {
     "end_time": "2024-09-04T17:33:01.320332Z",
     "start_time": "2024-09-04T17:33:01.224300Z"
    }
   },
   "cell_type": "code",
   "source": "t2.config",
   "id": "1327cee6598cc117",
   "outputs": [
    {
     "data": {
      "text/plain": [
       "{'option_2': {'default': False}}"
      ]
     },
     "execution_count": 23,
     "metadata": {},
     "output_type": "execute_result"
    }
   ],
   "execution_count": 23
  },
  {
   "metadata": {},
   "cell_type": "code",
   "outputs": [],
   "execution_count": null,
   "source": "",
   "id": "cdda43eb2de5df0a"
  },
  {
   "metadata": {
    "ExecuteTime": {
     "end_time": "2024-09-04T14:49:48.847828Z",
     "start_time": "2024-09-04T14:49:48.775226Z"
    }
   },
   "cell_type": "code",
   "source": [
    "t1 = Conv2dTmpl(in_shape=(3, 32, 32), out_shape=(3, 32, 32), stride=(2, 2), padding=(1, 1))\n",
    "t1.params['kernel_size']"
   ],
   "id": "afebdcfb078a5499",
   "outputs": [
    {
     "data": {
      "text/plain": [
       "(3, 3)"
      ]
     },
     "execution_count": 281,
     "metadata": {},
     "output_type": "execute_result"
    }
   ],
   "execution_count": 281
  },
  {
   "metadata": {
    "ExecuteTime": {
     "end_time": "2024-09-04T14:49:49.925417Z",
     "start_time": "2024-09-04T14:49:49.848548Z"
    }
   },
   "cell_type": "code",
   "source": [
    "t2 = Conv2dTmpl(in_shape=(3, 32, 32), kernel_size=(2,2), stride=(1, 1), padding=(1, 1))\n",
    "t2.params['kernel_size']"
   ],
   "id": "8a7858bdc043794",
   "outputs": [
    {
     "data": {
      "text/plain": [
       "(2, 2)"
      ]
     },
     "execution_count": 282,
     "metadata": {},
     "output_type": "execute_result"
    }
   ],
   "execution_count": 282
  },
  {
   "metadata": {
    "ExecuteTime": {
     "end_time": "2024-09-04T14:49:51.112178Z",
     "start_time": "2024-09-04T14:49:51.039660Z"
    }
   },
   "cell_type": "code",
   "source": "type(t1.params['kernel_size'])",
   "id": "894e573146e7ae80",
   "outputs": [
    {
     "data": {
      "text/plain": [
       "tuple"
      ]
     },
     "execution_count": 283,
     "metadata": {},
     "output_type": "execute_result"
    }
   ],
   "execution_count": 283
  },
  {
   "metadata": {
    "ExecuteTime": {
     "end_time": "2024-09-04T14:49:51.974910Z",
     "start_time": "2024-09-04T14:49:51.910397Z"
    }
   },
   "cell_type": "code",
   "source": "type(t1.params['kernel_size']) == t2.params['kernel_size']",
   "id": "1483bd5454f2832c",
   "outputs": [
    {
     "data": {
      "text/plain": [
       "False"
      ]
     },
     "execution_count": 284,
     "metadata": {},
     "output_type": "execute_result"
    }
   ],
   "execution_count": 284
  },
  {
   "metadata": {
    "ExecuteTime": {
     "end_time": "2024-09-04T14:49:57.951102Z",
     "start_time": "2024-09-04T14:49:57.875480Z"
    }
   },
   "cell_type": "code",
   "source": [
    "t1 = MockTemplate(option_1=4)\n",
    "# t2 = MockTemplate(option_1=2)\n",
    "print(t1.params)\n",
    "print(t2.params)"
   ],
   "id": "f645eb64c295f384",
   "outputs": [
    {
     "name": "stdout",
     "output_type": "stream",
     "text": [
      "{'option_1': 4, 'option_2': False, 'out_channels': 32, 'kernel_size': (2, 2), 'stride': (1, 1), 'padding': (1, 1), 'padding_mode': 'zeros', 'dilation': (1, 1), 'groups': 1, 'bias': True}\n",
      "{'option_1': 4, 'option_2': False, 'out_channels': 32, 'kernel_size': (2, 2), 'stride': (1, 1), 'padding': (1, 1), 'padding_mode': 'zeros', 'dilation': (1, 1), 'groups': 1, 'bias': True}\n"
     ]
    }
   ],
   "execution_count": 285
  },
  {
   "metadata": {
    "ExecuteTime": {
     "end_time": "2024-09-04T14:47:52.732522Z",
     "start_time": "2024-09-04T14:47:52.655003Z"
    }
   },
   "cell_type": "code",
   "source": "type(t1)",
   "id": "ea1ad622abc0d71e",
   "outputs": [
    {
     "data": {
      "text/plain": [
       "__main__.MockTemplate"
      ]
     },
     "execution_count": 269,
     "metadata": {},
     "output_type": "execute_result"
    }
   ],
   "execution_count": 269
  },
  {
   "metadata": {
    "ExecuteTime": {
     "end_time": "2024-09-04T14:47:52.809036Z",
     "start_time": "2024-09-04T14:47:52.734521Z"
    }
   },
   "cell_type": "code",
   "source": "t1.params",
   "id": "b6097e8f0f87ba61",
   "outputs": [
    {
     "data": {
      "text/plain": [
       "{'option_1': 4,\n",
       " 'option_2': False,\n",
       " 'out_channels': 32,\n",
       " 'kernel_size': (2, 2),\n",
       " 'stride': (1, 1),\n",
       " 'padding': (1, 1),\n",
       " 'padding_mode': 'zeros',\n",
       " 'dilation': (1, 1),\n",
       " 'groups': 1,\n",
       " 'bias': True,\n",
       " 'all_channels': True,\n",
       " 'init_value': 0.25,\n",
       " 'return_indices': False,\n",
       " 'ceil_mode': False,\n",
       " 'eps': 1e-05,\n",
       " 'momentum': 0.1,\n",
       " 'affine': True,\n",
       " 'track_running_stats': True,\n",
       " 'count_include_pad': True,\n",
       " 'out_features': 256,\n",
       " 'negative_slope': 0.1,\n",
       " 'inplace': False}"
      ]
     },
     "execution_count": 270,
     "metadata": {},
     "output_type": "execute_result"
    }
   ],
   "execution_count": 270
  }
 ],
 "metadata": {
  "kernelspec": {
   "display_name": "sophius",
   "language": "python",
   "name": "sophius"
  },
  "language_info": {
   "codemirror_mode": {
    "name": "ipython",
    "version": 2
   },
   "file_extension": ".py",
   "mimetype": "text/x-python",
   "name": "python",
   "nbconvert_exporter": "python",
   "pygments_lexer": "ipython2",
   "version": "2.7.6"
  }
 },
 "nbformat": 4,
 "nbformat_minor": 5
}
