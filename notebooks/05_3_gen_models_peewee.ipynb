{
 "cells": [
  {
   "cell_type": "code",
   "id": "initial_id",
   "metadata": {
    "ExecuteTime": {
     "end_time": "2024-09-25T06:29:31.353199Z",
     "start_time": "2024-09-25T06:29:31.274548Z"
    }
   },
   "source": [
    "%load_ext autoreload\n",
    "%autoreload 2\n",
    "import sys\n",
    "sys.path.append('..')"
   ],
   "outputs": [],
   "execution_count": 1
  },
  {
   "cell_type": "code",
   "id": "ed0729869e1671da",
   "metadata": {
    "ExecuteTime": {
     "end_time": "2024-09-25T06:29:41.604810Z",
     "start_time": "2024-09-25T06:29:31.353199Z"
    }
   },
   "source": [
    "import torch\n",
    "import sophius.dataload as dload\n",
    "from sophius.modelgen import ConvModelGenerator\n",
    "import torchvision.datasets as dset\n",
    "import torchvision.transforms as T\n",
    "from sophius.encode import Encoder\n",
    "from sophius.estimate import Estimator\n",
    "from sophius.utils import calc_model_flops\n",
    "import seaborn as sns\n",
    "from tqdm import tqdm\n",
    "from sophius.train import train_on_gpu_ex\n",
    "normalize = T.Compose([\n",
    "    T.ToTensor(),\n",
    "    T.Normalize((0.5, 0.5, 0.5), (0.5, 0.5, 0.5)),    \n",
    "])\n",
    "cifar10 = dset.CIFAR10('../data/CIFAR10', train=True, download=True, transform=normalize)\n",
    "cifar_gpu = dload.cifar_to_gpu(cifar10)\n",
    "\n",
    "encoder = Encoder()\n",
    "estimator = Estimator()"
   ],
   "outputs": [
    {
     "name": "stderr",
     "output_type": "stream",
     "text": [
      "C:\\Users\\alexander.korolyov\\miniforge3\\envs\\sophius\\lib\\site-packages\\tqdm\\auto.py:21: TqdmWarning: IProgress not found. Please update jupyter and ipywidgets. See https://ipywidgets.readthedocs.io/en/stable/user_install.html\n",
      "  from .autonotebook import tqdm as notebook_tqdm\n"
     ]
    },
    {
     "name": "stdout",
     "output_type": "stream",
     "text": [
      "Files already downloaded and verified\n"
     ]
    }
   ],
   "execution_count": 2
  },
  {
   "cell_type": "code",
   "id": "f3c0cc541598ecd3",
   "metadata": {
    "ExecuteTime": {
     "end_time": "2024-09-25T06:33:55.074905Z",
     "start_time": "2024-09-25T06:29:43.875546Z"
    }
   },
   "source": [
    "model_gen = ConvModelGenerator(\n",
    "    in_shape=(3, 32, 32), \n",
    "    out_shape=10, \n",
    "    conv_num=1, \n",
    "    lin_num=1,\n",
    ")\n",
    "\n",
    "model_tmpl = model_gen.generate_model_tmpl()\n",
    "model = model_tmpl.instantiate_model().cuda()\n",
    "\n",
    "print(model_tmpl)\n",
    "flops = calc_model_flops(model, model_gen.in_shape)['flops']\n",
    "print(round(flops / 1024 / 1024, 2), 'MFlops')\n",
    "\n",
    "train_params = {\n",
    "    'val_size': 10000,\n",
    "    'batch_size': 1024,\n",
    "    'num_epoch': 5,\n",
    "    'random_seed':42,\n",
    "    'optimizer': 'AdamW',\n",
    "    'opt_params': {\n",
    "        'lr': 1e-3,\n",
    "    },\n",
    "    'scheduler': 'ExponentialLR',\n",
    "    'sch_params': {\n",
    "        'gamma': 0.95,\n",
    "    },\n",
    "}\n",
    "\n",
    "res = train_on_gpu_ex(\n",
    "    model=model,\n",
    "    dataset=cifar_gpu,\n",
    "    verbose=True,\n",
    "    **train_params,\n",
    ")\n",
    "print('val_acc* %.3f' % (estimator.predict_val_acc(model_tmpl)))\n",
    "\n",
    "sns.lineplot(res, x='epoch', y='train_acc', label='train')\n",
    "sns.lineplot(res, x='epoch', y='val_acc', label='val');"
   ],
   "outputs": [
    {
     "name": "stdout",
     "output_type": "stream",
     "text": [
      "Conv2d       (192, 32, 32)  (1, 1)   (1, 1)  \n",
      "PReLU        (192, 32, 32) \n",
      "AvgPool2d    (192, 32, 32)  (3, 3)   (1, 1)  \n",
      "GlobalAvgPool2d (192, 1, 1)   \n",
      "Flatten      192           \n",
      "Linear       10            \n",
      "\n",
      "1.88 MFlops\n"
     ]
    },
    {
     "name": "stderr",
     "output_type": "stream",
     "text": [
      "Loss 81.015: 100%|██████████| 5/5 [04:08<00:00, 49.64s/it]\n"
     ]
    },
    {
     "name": "stdout",
     "output_type": "stream",
     "text": [
      "val_acc: 0.228 train_acc: 0.242\n",
      "val_acc* 0.288\n"
     ]
    },
    {
     "data": {
      "text/plain": [
       "<Figure size 640x480 with 1 Axes>"
      ],
      "image/png": "[encoded data removed]"
     },
     "metadata": {},
     "output_type": "display_data"
    }
   ],
   "execution_count": 3
  },
  {
   "metadata": {
    "ExecuteTime": {
     "end_time": "2024-09-25T06:33:55.975776Z",
     "start_time": "2024-09-25T06:33:55.852005Z"
    }
   },
   "cell_type": "code",
   "source": [
    "import torch\n",
    "torch.cuda.get_device_name()"
   ],
   "id": "2634c44a1f41057b",
   "outputs": [
    {
     "data": {
      "text/plain": [
       "'NVIDIA RTX A500 Laptop GPU'"
      ]
     },
     "execution_count": 4,
     "metadata": {},
     "output_type": "execute_result"
    }
   ],
   "execution_count": 4
  },
  {
   "metadata": {
    "ExecuteTime": {
     "end_time": "2024-09-25T06:33:56.176725Z",
     "start_time": "2024-09-25T06:33:56.033645Z"
    }
   },
   "cell_type": "code",
   "source": [
    "from sophius.db import *\n",
    "from peewee import *\n",
    "\n",
    "with database:\n",
    "    database.create_tables([Experiments, Models, Devices, Runs, ModelEpochs])"
   ],
   "id": "ee40154c0df5e073",
   "outputs": [],
   "execution_count": 5
  },
  {
   "metadata": {
    "ExecuteTime": {
     "end_time": "2024-09-25T06:33:56.333079Z",
     "start_time": "2024-09-25T06:33:56.208984Z"
    }
   },
   "cell_type": "code",
   "source": [
    "exp_params = {**train_params, **{'in_shape': (3, 32, 32), 'out_shape': 10}}\n",
    "\n",
    "exp, _ = Experiments.get_or_create(**exp_params)\n",
    "    \n",
    "Devices.create_table()\n",
    "dev, _ = Devices.get_or_create(name=torch.cuda.get_device_name())"
   ],
   "id": "368b47c90c2ced",
   "outputs": [],
   "execution_count": 6
  },
  {
   "cell_type": "code",
   "id": "e002b692030f4675",
   "metadata": {
    "ExecuteTime": {
     "end_time": "2024-09-25T06:34:08.434127Z",
     "start_time": "2024-09-25T06:33:56.366483Z"
    }
   },
   "source": [
    "model_gen = ConvModelGenerator(\n",
    "    in_shape=(3, 32, 32), out_shape=10, \n",
    "    conv_num=1, lin_num=1\n",
    ")\n",
    "\n",
    "val_acc_threshold = 0.05\n",
    "\n",
    "for i in tqdm(range(5)):\n",
    "    model_tmpl = model_gen.generate_model_tmpl()\n",
    "    model_gpu = model_tmpl.instantiate_model().cuda()\n",
    "    \n",
    "    if estimator.predict_val_acc(model_tmpl) < val_acc_threshold:\n",
    "        continue\n",
    "    \n",
    "    model_info = calc_model_flops(model_gpu, model_gen.in_shape)        \n",
    "    model, _ = Models.get_or_create(\n",
    "        hash = encoder.model2hash(model_tmpl),\n",
    "        flops = model_info['flops'],\n",
    "        macs = model_info['macs'],\n",
    "        params = model_info['params'],\n",
    "    )\n",
    "        \n",
    "    epoch_results = train_on_gpu_ex(\n",
    "        model=model_gpu,\n",
    "        dataset=cifar_gpu,\n",
    "        verbose=False,\n",
    "        **train_params,\n",
    "    )\n",
    "    \n",
    "    run = Runs.create(\n",
    "        exp_id = exp.id,\n",
    "        model_id = model.id,\n",
    "        device_id = dev.id,\n",
    "        val_acc = epoch_results.val_acc.iloc[-10:].mean(),\n",
    "        train_acc = epoch_results.train_acc.iloc[-10:].mean(),\n",
    "        time = epoch_results.time.iloc[-1],\n",
    "    )\n",
    "\n",
    "    for _, row in epoch_results.iterrows():\n",
    "        ModelEpochs.create(\n",
    "            run_id = run.id,\n",
    "            loss = row['loss'],\n",
    "            train_acc = row['train_acc'],\n",
    "            val_acc = row['val_acc'],\n",
    "            time = row['time'],\n",
    "        )    "
   ],
   "outputs": [
    {
     "name": "stderr",
     "output_type": "stream",
     "text": [
      "100%|██████████| 5/5 [00:11<00:00,  2.39s/it]\n"
     ]
    }
   ],
   "execution_count": 7
  }
 ],
 "metadata": {
  "kernelspec": {
   "display_name": "sophius",
   "language": "python",
   "name": "sophius"
  },
  "language_info": {
   "codemirror_mode": {
    "name": "ipython",
    "version": 3
   },
   "file_extension": ".py",
   "mimetype": "text/x-python",
   "name": "python",
   "nbconvert_exporter": "python",
   "pygments_lexer": "ipython3",
   "version": "3.8.19"
  }
 },
 "nbformat": 4,
 "nbformat_minor": 5
}
