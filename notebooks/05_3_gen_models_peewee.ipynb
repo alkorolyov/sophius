{
 "cells": [
  {
   "cell_type": "code",
   "id": "initial_id",
   "metadata": {
    "collapsed": true,
    "ExecuteTime": {
     "end_time": "2024-09-23T12:00:30.152816Z",
     "start_time": "2024-09-23T12:00:29.735071Z"
    }
   },
   "source": [
    "%load_ext autoreload\n",
    "%autoreload 2\n",
    "import sys\n",
    "sys.path.append('..')"
   ],
   "outputs": [
    {
     "name": "stdout",
     "output_type": "stream",
     "text": [
      "The autoreload extension is already loaded. To reload it, use:\n",
      "  %reload_ext autoreload\n"
     ]
    }
   ],
   "execution_count": 21
  },
  {
   "metadata": {
    "ExecuteTime": {
     "end_time": "2024-09-23T12:00:38.019840Z",
     "start_time": "2024-09-23T12:00:30.161815Z"
    }
   },
   "cell_type": "code",
   "source": [
    "import torch\n",
    "import sophius.dataload as dload\n",
    "from sophius.modelgen import ConvModelGenerator\n",
    "import torchvision.datasets as dset\n",
    "import torchvision.transforms as T\n",
    "from sophius.encode import Encoder\n",
    "import seaborn as sns\n",
    "from tqdm import tqdm\n",
    "from sophius.train import train_on_gpu_ex\n",
    "normalize = T.Compose([\n",
    "    T.ToTensor(),\n",
    "    T.Normalize((0.5, 0.5, 0.5), (0.5, 0.5, 0.5)),    \n",
    "])\n",
    "cifar10 = dset.CIFAR10('../data/CIFAR10', train=True, download=True, transform=normalize)\n",
    "cifar_gpu = dload.cifar_to_gpu(cifar10)\n",
    "\n",
    "encoder = Encoder()"
   ],
   "id": "ed0729869e1671da",
   "outputs": [
    {
     "name": "stdout",
     "output_type": "stream",
     "text": [
      "Files already downloaded and verified\n"
     ]
    }
   ],
   "execution_count": 22
  },
  {
   "metadata": {
    "ExecuteTime": {
     "end_time": "2024-09-23T12:00:38.162489Z",
     "start_time": "2024-09-23T12:00:38.053480Z"
    }
   },
   "cell_type": "code",
   "source": [
    "from sophius.estimate import LSTMRegressor\n",
    "from sophius.utils import calc_model_flops\n",
    "\n",
    "estimator = torch.load('../data/models/estimator_v2.pth').cpu()\n",
    "\n",
    "def estimate_acc(model_tmpl):\n",
    "    t = torch.tensor(encoder.model2vec(model_tmpl), dtype=torch.float32)\n",
    "    return estimator(t).item()"
   ],
   "id": "af1665dbca43ed75",
   "outputs": [],
   "execution_count": 23
  },
  {
   "metadata": {
    "ExecuteTime": {
     "end_time": "2024-09-23T12:00:38.318343Z",
     "start_time": "2024-09-23T12:00:38.196202Z"
    }
   },
   "cell_type": "code",
   "source": [
    "model_gen = ConvModelGenerator(\n",
    "    in_shape=(3, 32, 32), \n",
    "    out_shape=10, \n",
    "    conv_num=1, \n",
    "    lin_num=1,\n",
    ")\n",
    "\n",
    "model_tmpl = model_gen.generate_model_tmpl()\n",
    "model = model_tmpl.instantiate_model().cuda()\n",
    "\n",
    "print(model_tmpl)\n",
    "flops = calc_model_flops(model, model_gen.in_shape)['flops']\n",
    "print(round(flops / 1024 / 1024, 2), 'MFlops')\n",
    "\n",
    "train_params = {\n",
    "    'val_size': 10000,\n",
    "    'batch_size': 256,\n",
    "    'num_epoch': 5,\n",
    "    'random_seed':42,\n",
    "    'optimizer': 'AdamW',\n",
    "    'opt_params': {\n",
    "        'lr': 1e-3,\n",
    "    },\n",
    "    'scheduler': 'ExponentialLR',\n",
    "    'sch_params': {\n",
    "        'gamma': 0.95,\n",
    "    },\n",
    "}\n",
    "\n",
    "# res = train_on_gpu_ex(\n",
    "#     model=model,\n",
    "#     dataset=cifar_gpu,\n",
    "#     verbose=True,\n",
    "#     **train_params,\n",
    "# )\n",
    "# print('val_acc* %.3f' % (estimate_acc(model_tmpl)))\n",
    "# \n",
    "# sns.lineplot(res, x='epoch', y='train_acc', label='train')\n",
    "# sns.lineplot(res, x='epoch', y='val_acc', label='val');"
   ],
   "id": "f3c0cc541598ecd3",
   "outputs": [
    {
     "name": "stdout",
     "output_type": "stream",
     "text": [
      "Conv2d       (16, 9, 9)     (4, 4)   (4, 4)  \n",
      "LeakyReLU    (16, 9, 9)     (0.1)   \n",
      "AvgPool2d    (16, 5, 5)     (3, 3)   (2, 2)  \n",
      "GlobalAvgPool2d (16, 1, 1)    \n",
      "Flatten      16            \n",
      "Linear       10            \n",
      "\n",
      "0.12 MFlops\n"
     ]
    }
   ],
   "execution_count": 24
  },
  {
   "metadata": {
    "ExecuteTime": {
     "end_time": "2024-09-23T12:00:38.491018Z",
     "start_time": "2024-09-23T12:00:38.376303Z"
    }
   },
   "cell_type": "code",
   "source": [
    "from sophius.db import database, Experiments, Models, ModelEpochs\n",
    "\n",
    "with database:\n",
    "    database.create_tables([Experiments, Models, ModelEpochs])\n",
    "\n",
    "exp_params = {**train_params, **{'in_shape': (3, 32, 32), 'out_shape': 10}}\n",
    "\n",
    "exp, _ = Experiments.get_or_create(**exp_params)"
   ],
   "id": "bbf39c7d00284d07",
   "outputs": [],
   "execution_count": 25
  },
  {
   "metadata": {
    "ExecuteTime": {
     "end_time": "2024-09-23T12:02:16.775967Z",
     "start_time": "2024-09-23T12:00:38.523721Z"
    }
   },
   "cell_type": "code",
   "source": [
    "model_gen = ConvModelGenerator(\n",
    "    in_shape=(3, 32, 32), out_shape=10, \n",
    "    conv_num=3, lin_num=1\n",
    ")\n",
    "\n",
    "val_acc_threshold = 0.2\n",
    "\n",
    "for i in tqdm(range(10)):\n",
    "    model_tmpl = model_gen.generate_model_tmpl()\n",
    "    model = model_tmpl.instantiate_model().cuda()\n",
    "    \n",
    "    if estimate_acc(model_tmpl) < val_acc_threshold:\n",
    "        continue\n",
    "        \n",
    "    epoch_results = train_on_gpu_ex(\n",
    "        model=model,\n",
    "        dataset=cifar_gpu,\n",
    "        verbose=False,\n",
    "        **train_params,\n",
    "    )\n",
    "    \n",
    "    model_info = calc_model_flops(model, model_gen.in_shape)\n",
    "    model = Models.create(\n",
    "        exp_id = exp.id,\n",
    "        hash = encoder.model2hash(model_tmpl),\n",
    "        flops = model_info['flops'],\n",
    "        macs = model_info['macs'],\n",
    "        params = model_info['params'],\n",
    "        val_acc = round(epoch_results.val_acc.iloc[-10:].mean(), 5),\n",
    "        train_acc = round(epoch_results.train_acc.iloc[-10:].mean(), 5),\n",
    "        time = round(epoch_results.time.iloc[-1], 1),\n",
    "    )\n",
    "    \n",
    "    \n",
    "    for _, row in epoch_results.iterrows():\n",
    "        ModelEpochs.create(\n",
    "            exp_id = exp.id,\n",
    "            model_id = model.id,\n",
    "            epoch = row['epoch'],\n",
    "            loss = row['loss'],\n",
    "            train_acc = row['train_acc'],\n",
    "            val_acc = row['val_acc'],\n",
    "            time = row['time'],\n",
    "        )\n",
    "    "
   ],
   "id": "e002b692030f4675",
   "outputs": [
    {
     "name": "stderr",
     "output_type": "stream",
     "text": [
      "100%|██████████| 10/10 [01:38<00:00,  9.81s/it]\n"
     ]
    }
   ],
   "execution_count": 26
  },
  {
   "metadata": {
    "ExecuteTime": {
     "end_time": "2024-09-23T12:02:16.992316Z",
     "start_time": "2024-09-23T12:02:16.808728Z"
    }
   },
   "cell_type": "code",
   "source": [
    "import pandas as pd\n",
    "\n",
    "with database.connection() as conn:\n",
    "    df = pd.read_sql('SELECT * from models', conn)\n",
    "    "
   ],
   "id": "835ceab46fa155fa",
   "outputs": [],
   "execution_count": 27
  },
  {
   "metadata": {
    "ExecuteTime": {
     "end_time": "2024-09-23T12:02:17.226131Z",
     "start_time": "2024-09-23T12:02:17.026552Z"
    }
   },
   "cell_type": "code",
   "source": "df[-10:]",
   "id": "40b311eaeb714960",
   "outputs": [
    {
     "data": {
      "text/plain": [
       "   id  exp_id                                               hash     flops  \\\n",
       "0   1       1           0080204920000000400000000010000001000000   4653888   \n",
       "1   2       1           0084040510020000004260004000000001000000     61536   \n",
       "2   3       1  0082101208080000004850004000000000233000001000...     76896   \n",
       "3   4       1  0088101110020000400000000082008908040000004890...    320192   \n",
       "4   5       1  0080880908080000004250004000000000293000001000...    318528   \n",
       "5   6       1           0088011208040000004460000010000001000000    313792   \n",
       "6   7       1  00802809200000000024b00000802105080400000048a0...   2475456   \n",
       "7   8       1  0084102210020000004520000025500000803012200000...   1916224   \n",
       "8   9       1  0081010908040000004460000088010a10080000004860...   1081872   \n",
       "9  10       1   00802052080800000044a000400000000010000001000000  14638848   \n",
       "\n",
       "      macs  params  val_acc  train_acc  time  \n",
       "0  2288064   30730  0.43397    0.43914  30.0  \n",
       "1    29088    1930  0.45196    0.45797   1.9  \n",
       "2    24896     554  0.27370    0.27668   2.4  \n",
       "3   154944   10811  0.43946    0.46470   4.3  \n",
       "4   140352    2506  0.36474    0.37869   3.5  \n",
       "5   153680     699  0.27660    0.27642   3.0  \n",
       "6  1202304  926603  0.56244    0.58730  12.7  \n",
       "7   837504    5642  0.40695    0.41044  19.7  \n",
       "8   531280   17779  0.51406    0.53291   4.4  \n",
       "9  7227264   30922  0.46663    0.47428  13.6  "
      ],
      "text/html": [
       "<div>\n",
       "<style scoped>\n",
       "    .dataframe tbody tr th:only-of-type {\n",
       "        vertical-align: middle;\n",
       "    }\n",
       "\n",
       "    .dataframe tbody tr th {\n",
       "        vertical-align: top;\n",
       "    }\n",
       "\n",
       "    .dataframe thead th {\n",
       "        text-align: right;\n",
       "    }\n",
       "</style>\n",
       "<table border=\"1\" class=\"dataframe\">\n",
       "  <thead>\n",
       "    <tr style=\"text-align: right;\">\n",
       "      <th></th>\n",
       "      <th>id</th>\n",
       "      <th>exp_id</th>\n",
       "      <th>hash</th>\n",
       "      <th>flops</th>\n",
       "      <th>macs</th>\n",
       "      <th>params</th>\n",
       "      <th>val_acc</th>\n",
       "      <th>train_acc</th>\n",
       "      <th>time</th>\n",
       "    </tr>\n",
       "  </thead>\n",
       "  <tbody>\n",
       "    <tr>\n",
       "      <th>0</th>\n",
       "      <td>1</td>\n",
       "      <td>1</td>\n",
       "      <td>0080204920000000400000000010000001000000</td>\n",
       "      <td>4653888</td>\n",
       "      <td>2288064</td>\n",
       "      <td>30730</td>\n",
       "      <td>0.43397</td>\n",
       "      <td>0.43914</td>\n",
       "      <td>30.0</td>\n",
       "    </tr>\n",
       "    <tr>\n",
       "      <th>1</th>\n",
       "      <td>2</td>\n",
       "      <td>1</td>\n",
       "      <td>0084040510020000004260004000000001000000</td>\n",
       "      <td>61536</td>\n",
       "      <td>29088</td>\n",
       "      <td>1930</td>\n",
       "      <td>0.45196</td>\n",
       "      <td>0.45797</td>\n",
       "      <td>1.9</td>\n",
       "    </tr>\n",
       "    <tr>\n",
       "      <th>2</th>\n",
       "      <td>3</td>\n",
       "      <td>1</td>\n",
       "      <td>0082101208080000004850004000000000233000001000...</td>\n",
       "      <td>76896</td>\n",
       "      <td>24896</td>\n",
       "      <td>554</td>\n",
       "      <td>0.27370</td>\n",
       "      <td>0.27668</td>\n",
       "      <td>2.4</td>\n",
       "    </tr>\n",
       "    <tr>\n",
       "      <th>3</th>\n",
       "      <td>4</td>\n",
       "      <td>1</td>\n",
       "      <td>0088101110020000400000000082008908040000004890...</td>\n",
       "      <td>320192</td>\n",
       "      <td>154944</td>\n",
       "      <td>10811</td>\n",
       "      <td>0.43946</td>\n",
       "      <td>0.46470</td>\n",
       "      <td>4.3</td>\n",
       "    </tr>\n",
       "    <tr>\n",
       "      <th>4</th>\n",
       "      <td>5</td>\n",
       "      <td>1</td>\n",
       "      <td>0080880908080000004250004000000000293000001000...</td>\n",
       "      <td>318528</td>\n",
       "      <td>140352</td>\n",
       "      <td>2506</td>\n",
       "      <td>0.36474</td>\n",
       "      <td>0.37869</td>\n",
       "      <td>3.5</td>\n",
       "    </tr>\n",
       "    <tr>\n",
       "      <th>5</th>\n",
       "      <td>6</td>\n",
       "      <td>1</td>\n",
       "      <td>0088011208040000004460000010000001000000</td>\n",
       "      <td>313792</td>\n",
       "      <td>153680</td>\n",
       "      <td>699</td>\n",
       "      <td>0.27660</td>\n",
       "      <td>0.27642</td>\n",
       "      <td>3.0</td>\n",
       "    </tr>\n",
       "    <tr>\n",
       "      <th>6</th>\n",
       "      <td>7</td>\n",
       "      <td>1</td>\n",
       "      <td>00802809200000000024b00000802105080400000048a0...</td>\n",
       "      <td>2475456</td>\n",
       "      <td>1202304</td>\n",
       "      <td>926603</td>\n",
       "      <td>0.56244</td>\n",
       "      <td>0.58730</td>\n",
       "      <td>12.7</td>\n",
       "    </tr>\n",
       "    <tr>\n",
       "      <th>7</th>\n",
       "      <td>8</td>\n",
       "      <td>1</td>\n",
       "      <td>0084102210020000004520000025500000803012200000...</td>\n",
       "      <td>1916224</td>\n",
       "      <td>837504</td>\n",
       "      <td>5642</td>\n",
       "      <td>0.40695</td>\n",
       "      <td>0.41044</td>\n",
       "      <td>19.7</td>\n",
       "    </tr>\n",
       "    <tr>\n",
       "      <th>8</th>\n",
       "      <td>9</td>\n",
       "      <td>1</td>\n",
       "      <td>0081010908040000004460000088010a10080000004860...</td>\n",
       "      <td>1081872</td>\n",
       "      <td>531280</td>\n",
       "      <td>17779</td>\n",
       "      <td>0.51406</td>\n",
       "      <td>0.53291</td>\n",
       "      <td>4.4</td>\n",
       "    </tr>\n",
       "    <tr>\n",
       "      <th>9</th>\n",
       "      <td>10</td>\n",
       "      <td>1</td>\n",
       "      <td>00802052080800000044a000400000000010000001000000</td>\n",
       "      <td>14638848</td>\n",
       "      <td>7227264</td>\n",
       "      <td>30922</td>\n",
       "      <td>0.46663</td>\n",
       "      <td>0.47428</td>\n",
       "      <td>13.6</td>\n",
       "    </tr>\n",
       "  </tbody>\n",
       "</table>\n",
       "</div>"
      ]
     },
     "execution_count": 28,
     "metadata": {},
     "output_type": "execute_result"
    }
   ],
   "execution_count": 28
  },
  {
   "metadata": {
    "ExecuteTime": {
     "end_time": "2024-09-23T12:02:17.489874Z",
     "start_time": "2024-09-23T12:02:17.304757Z"
    }
   },
   "cell_type": "code",
   "source": "encoder.hash2model('00804821200000000044a000400000000080809210020000400000000024d0000080880a0804000001000000', (3, 32, 32), 10)",
   "id": "3b934fb03cf8b06d",
   "outputs": [
    {
     "data": {
      "text/plain": [
       "Conv2d       (128, 31, 31)  (2, 2)   (1, 1)  \n",
       "ReLU         (128, 31, 31) \n",
       "MaxPool2d    (128, 16, 16)  (3, 3)   (2, 2)  \n",
       "BatchNorm2d  (128, 16, 16) \n",
       "Conv2d       (96, 9, 9)     (6, 6)   (2, 2)  \n",
       "LeakyReLU    (96, 9, 9)     (0.001) \n",
       "BatchNorm2d  (96, 9, 9)    \n",
       "AvgPool2d    (96, 5, 5)     (3, 3)   (2, 2)  \n",
       "Conv2d       (96, 2, 2)     (2, 2)   (3, 3)  \n",
       "PReLU        (96, 2, 2)    \n",
       "Flatten      384           \n",
       "Linear       10            "
      ]
     },
     "execution_count": 29,
     "metadata": {},
     "output_type": "execute_result"
    }
   ],
   "execution_count": 29
  }
 ],
 "metadata": {
  "kernelspec": {
   "display_name": "Python 3",
   "language": "python",
   "name": "python3"
  },
  "language_info": {
   "codemirror_mode": {
    "name": "ipython",
    "version": 2
   },
   "file_extension": ".py",
   "mimetype": "text/x-python",
   "name": "python",
   "nbconvert_exporter": "python",
   "pygments_lexer": "ipython2",
   "version": "2.7.6"
  }
 },
 "nbformat": 4,
 "nbformat_minor": 5
}
