{
 "cells": [
  {
   "cell_type": "code",
   "id": "initial_id",
   "metadata": {
    "ExecuteTime": {
     "end_time": "2024-09-24T08:58:13.915855Z",
     "start_time": "2024-09-24T08:58:13.798850Z"
    }
   },
   "source": [
    "%load_ext autoreload\n",
    "%autoreload 2\n",
    "import sys\n",
    "sys.path.append('..')"
   ],
   "outputs": [
    {
     "name": "stdout",
     "output_type": "stream",
     "text": [
      "The autoreload extension is already loaded. To reload it, use:\n",
      "  %reload_ext autoreload\n"
     ]
    }
   ],
   "execution_count": 151
  },
  {
   "cell_type": "code",
   "id": "ed0729869e1671da",
   "metadata": {
    "ExecuteTime": {
     "end_time": "2024-09-24T08:58:22.331020Z",
     "start_time": "2024-09-24T08:58:13.921834Z"
    }
   },
   "source": [
    "import torch\n",
    "import sophius.dataload as dload\n",
    "from sophius.modelgen import ConvModelGenerator\n",
    "import torchvision.datasets as dset\n",
    "import torchvision.transforms as T\n",
    "from sophius.encode import Encoder\n",
    "import seaborn as sns\n",
    "from tqdm import tqdm\n",
    "from sophius.train import train_on_gpu_ex\n",
    "normalize = T.Compose([\n",
    "    T.ToTensor(),\n",
    "    T.Normalize((0.5, 0.5, 0.5), (0.5, 0.5, 0.5)),    \n",
    "])\n",
    "cifar10 = dset.CIFAR10('../data/CIFAR10', train=True, download=True, transform=normalize)\n",
    "cifar_gpu = dload.cifar_to_gpu(cifar10)\n",
    "\n",
    "encoder = Encoder()"
   ],
   "outputs": [
    {
     "name": "stdout",
     "output_type": "stream",
     "text": [
      "Files already downloaded and verified\n"
     ]
    }
   ],
   "execution_count": 152
  },
  {
   "cell_type": "code",
   "id": "af1665dbca43ed75",
   "metadata": {
    "ExecuteTime": {
     "end_time": "2024-09-24T08:58:22.487837Z",
     "start_time": "2024-09-24T08:58:22.378219Z"
    }
   },
   "source": [
    "from sophius.estimate import LSTMRegressor\n",
    "from sophius.utils import calc_model_flops\n",
    "\n",
    "estimator = torch.load('../data/models/estimator_v2.pth').cpu()\n",
    "\n",
    "def estimate_acc(model_tmpl):\n",
    "    t = torch.tensor(encoder.model2vec(model_tmpl), dtype=torch.float32)\n",
    "    return estimator(t).item()"
   ],
   "outputs": [],
   "execution_count": 153
  },
  {
   "cell_type": "code",
   "id": "f3c0cc541598ecd3",
   "metadata": {
    "ExecuteTime": {
     "end_time": "2024-09-24T08:58:56.470751Z",
     "start_time": "2024-09-24T08:58:22.535800Z"
    }
   },
   "source": [
    "model_gen = ConvModelGenerator(\n",
    "    in_shape=(3, 32, 32), \n",
    "    out_shape=10, \n",
    "    conv_num=1, \n",
    "    lin_num=1,\n",
    ")\n",
    "\n",
    "model_tmpl = model_gen.generate_model_tmpl()\n",
    "model = model_tmpl.instantiate_model().cuda()\n",
    "\n",
    "print(model_tmpl)\n",
    "flops = calc_model_flops(model, model_gen.in_shape)['flops']\n",
    "print(round(flops / 1024 / 1024, 2), 'MFlops')\n",
    "\n",
    "train_params = {\n",
    "    'val_size': 10000,\n",
    "    'batch_size': 1024,\n",
    "    'num_epoch': 5,\n",
    "    'random_seed':42,\n",
    "    'optimizer': 'AdamW',\n",
    "    'opt_params': {\n",
    "        'lr': 1e-3,\n",
    "    },\n",
    "    'scheduler': 'ExponentialLR',\n",
    "    'sch_params': {\n",
    "        'gamma': 0.95,\n",
    "    },\n",
    "}\n",
    "\n",
    "res = train_on_gpu_ex(\n",
    "    model=model,\n",
    "    dataset=cifar_gpu,\n",
    "    verbose=True,\n",
    "    **train_params,\n",
    ")\n",
    "print('val_acc* %.3f' % (estimate_acc(model_tmpl)))\n",
    "\n",
    "sns.lineplot(res, x='epoch', y='train_acc', label='train')\n",
    "sns.lineplot(res, x='epoch', y='val_acc', label='val');"
   ],
   "outputs": [
    {
     "name": "stdout",
     "output_type": "stream",
     "text": [
      "Conv2d       (8, 32, 32)    (3, 3)   (1, 1)  \n",
      "LeakyReLU    (8, 32, 32)    (0.01)  \n",
      "BatchNorm2d  (8, 32, 32)   \n",
      "AvgPool2d    (8, 31, 31)    (2, 2)   (1, 1)  \n",
      "Flatten      7688          \n",
      "Linear       10            \n",
      "\n",
      "0.61 MFlops\n"
     ]
    },
    {
     "name": "stderr",
     "output_type": "stream",
     "text": [
      "Loss 37.144: 100%|██████████| 50/50 [00:33<00:00,  1.49it/s]\n"
     ]
    },
    {
     "name": "stdout",
     "output_type": "stream",
     "text": [
      "val_acc: 0.552 train_acc: 0.667\n",
      "val_acc* 0.562\n"
     ]
    },
    {
     "data": {
      "text/plain": [
       "<Figure size 640x480 with 1 Axes>"
      ],
      "image/png": "[encoded data removed]"
     },
     "metadata": {},
     "output_type": "display_data"
    }
   ],
   "execution_count": 154
  },
  {
   "metadata": {
    "ExecuteTime": {
     "end_time": "2024-09-24T08:58:56.798344Z",
     "start_time": "2024-09-24T08:58:56.628147Z"
    }
   },
   "cell_type": "code",
   "source": [
    "import torch\n",
    "torch.cuda.get_device_name()"
   ],
   "id": "2634c44a1f41057b",
   "outputs": [
    {
     "data": {
      "text/plain": [
       "'NVIDIA RTX A500 Laptop GPU'"
      ]
     },
     "execution_count": 155,
     "metadata": {},
     "output_type": "execute_result"
    }
   ],
   "execution_count": 155
  },
  {
   "metadata": {
    "ExecuteTime": {
     "end_time": "2024-09-24T08:58:57.002867Z",
     "start_time": "2024-09-24T08:58:56.859284Z"
    }
   },
   "cell_type": "code",
   "source": [
    "from sophius.db import *\n",
    "from peewee import *\n",
    "\n",
    "with database:\n",
    "    database.create_tables([Experiments, Models, Devices, Runs, ModelEpochs])    "
   ],
   "id": "ee40154c0df5e073",
   "outputs": [],
   "execution_count": 156
  },
  {
   "metadata": {
    "ExecuteTime": {
     "end_time": "2024-09-24T08:58:57.220672Z",
     "start_time": "2024-09-24T08:58:57.067170Z"
    }
   },
   "cell_type": "code",
   "source": [
    "exp_params = {**train_params, **{'in_shape': (3, 32, 32), 'out_shape': 10}}\n",
    "\n",
    "exp, _ = Experiments.get_or_create(**exp_params)\n",
    "    \n",
    "Devices.create_table()\n",
    "dev, _ = Devices.get_or_create(name=torch.cuda.get_device_name())"
   ],
   "id": "368b47c90c2ced",
   "outputs": [],
   "execution_count": 157
  },
  {
   "cell_type": "code",
   "id": "e002b692030f4675",
   "metadata": {
    "ExecuteTime": {
     "end_time": "2024-09-24T09:02:24.920618Z",
     "start_time": "2024-09-24T08:58:57.284756Z"
    }
   },
   "source": [
    "model_gen = ConvModelGenerator(\n",
    "    in_shape=(3, 32, 32), out_shape=10, \n",
    "    conv_num=1, lin_num=1\n",
    ")\n",
    "\n",
    "val_acc_threshold = 0.05\n",
    "\n",
    "for i in tqdm(range(5)):\n",
    "    model_tmpl = model_gen.generate_model_tmpl()\n",
    "    model_gpu = model_tmpl.instantiate_model().cuda()\n",
    "    \n",
    "    if estimate_acc(model_tmpl) < val_acc_threshold:\n",
    "        continue\n",
    "    \n",
    "    model_info = calc_model_flops(model_gpu, model_gen.in_shape)        \n",
    "    model, _ = Models.get_or_create(\n",
    "        hash = encoder.model2hash(model_tmpl),\n",
    "        flops = model_info['flops'],\n",
    "        macs = model_info['macs'],\n",
    "        params = model_info['params'],\n",
    "    )\n",
    "        \n",
    "    epoch_results = train_on_gpu_ex(\n",
    "        model=model_gpu,\n",
    "        dataset=cifar_gpu,\n",
    "        verbose=False,\n",
    "        **train_params,\n",
    "    )\n",
    "    \n",
    "    run = Runs.create(\n",
    "        exp_id = exp.id,\n",
    "        model_id = model.id,\n",
    "        device_id = dev.id,\n",
    "        val_acc = epoch_results.val_acc.iloc[-10:].mean(),\n",
    "        train_acc = epoch_results.train_acc.iloc[-10:],\n",
    "        time = epoch_results.time.iloc[-1],\n",
    "    )    \n",
    "    \n",
    "    for _, row in epoch_results.iterrows():\n",
    "        ModelEpochs.create(\n",
    "            run_id = run.id,\n",
    "            loss = row['loss'],\n",
    "            train_acc = row['train_acc'],\n",
    "            val_acc = row['val_acc'],\n",
    "            time = row['time'],\n",
    "        )    "
   ],
   "outputs": [
    {
     "name": "stderr",
     "output_type": "stream",
     "text": [
      "  0%|          | 0/5 [03:27<?, ?it/s]\n"
     ]
    },
    {
     "ename": "KeyboardInterrupt",
     "evalue": "",
     "output_type": "error",
     "traceback": [
      "\u001B[1;31m---------------------------------------------------------------------------\u001B[0m",
      "\u001B[1;31mKeyboardInterrupt\u001B[0m                         Traceback (most recent call last)",
      "Cell \u001B[1;32mIn[158], line 23\u001B[0m\n\u001B[0;32m     15\u001B[0m model_info \u001B[38;5;241m=\u001B[39m calc_model_flops(model_gpu, model_gen\u001B[38;5;241m.\u001B[39min_shape)        \n\u001B[0;32m     16\u001B[0m model, _ \u001B[38;5;241m=\u001B[39m Models\u001B[38;5;241m.\u001B[39mget_or_create(\n\u001B[0;32m     17\u001B[0m     \u001B[38;5;28mhash\u001B[39m \u001B[38;5;241m=\u001B[39m encoder\u001B[38;5;241m.\u001B[39mmodel2hash(model_tmpl),\n\u001B[0;32m     18\u001B[0m     flops \u001B[38;5;241m=\u001B[39m model_info[\u001B[38;5;124m'\u001B[39m\u001B[38;5;124mflops\u001B[39m\u001B[38;5;124m'\u001B[39m],\n\u001B[0;32m     19\u001B[0m     macs \u001B[38;5;241m=\u001B[39m model_info[\u001B[38;5;124m'\u001B[39m\u001B[38;5;124mmacs\u001B[39m\u001B[38;5;124m'\u001B[39m],\n\u001B[0;32m     20\u001B[0m     params \u001B[38;5;241m=\u001B[39m model_info[\u001B[38;5;124m'\u001B[39m\u001B[38;5;124mparams\u001B[39m\u001B[38;5;124m'\u001B[39m],        \n\u001B[0;32m     21\u001B[0m )\n\u001B[1;32m---> 23\u001B[0m epoch_results \u001B[38;5;241m=\u001B[39m \u001B[43mtrain_on_gpu_ex\u001B[49m\u001B[43m(\u001B[49m\n\u001B[0;32m     24\u001B[0m \u001B[43m    \u001B[49m\u001B[43mmodel\u001B[49m\u001B[38;5;241;43m=\u001B[39;49m\u001B[43mmodel_gpu\u001B[49m\u001B[43m,\u001B[49m\n\u001B[0;32m     25\u001B[0m \u001B[43m    \u001B[49m\u001B[43mdataset\u001B[49m\u001B[38;5;241;43m=\u001B[39;49m\u001B[43mcifar_gpu\u001B[49m\u001B[43m,\u001B[49m\n\u001B[0;32m     26\u001B[0m \u001B[43m    \u001B[49m\u001B[43mverbose\u001B[49m\u001B[38;5;241;43m=\u001B[39;49m\u001B[38;5;28;43;01mFalse\u001B[39;49;00m\u001B[43m,\u001B[49m\n\u001B[0;32m     27\u001B[0m \u001B[43m    \u001B[49m\u001B[38;5;241;43m*\u001B[39;49m\u001B[38;5;241;43m*\u001B[39;49m\u001B[43mtrain_params\u001B[49m\u001B[43m,\u001B[49m\n\u001B[0;32m     28\u001B[0m \u001B[43m\u001B[49m\u001B[43m)\u001B[49m\n\u001B[0;32m     30\u001B[0m run \u001B[38;5;241m=\u001B[39m Runs\u001B[38;5;241m.\u001B[39mcreate(\n\u001B[0;32m     31\u001B[0m     exp_id \u001B[38;5;241m=\u001B[39m exp\u001B[38;5;241m.\u001B[39mid,\n\u001B[0;32m     32\u001B[0m     model_id \u001B[38;5;241m=\u001B[39m model\u001B[38;5;241m.\u001B[39mid,\n\u001B[1;32m   (...)\u001B[0m\n\u001B[0;32m     36\u001B[0m     time \u001B[38;5;241m=\u001B[39m \u001B[38;5;28mround\u001B[39m(epoch_results\u001B[38;5;241m.\u001B[39mtime\u001B[38;5;241m.\u001B[39miloc[\u001B[38;5;241m-\u001B[39m\u001B[38;5;241m1\u001B[39m], \u001B[38;5;241m2\u001B[39m),\n\u001B[0;32m     37\u001B[0m )\n\u001B[0;32m     40\u001B[0m \u001B[38;5;28;01mfor\u001B[39;00m _, row \u001B[38;5;129;01min\u001B[39;00m epoch_results\u001B[38;5;241m.\u001B[39miterrows():\n",
      "File \u001B[1;32m~\\PycharmProjects\\sophius\\sophius\\train.py:195\u001B[0m, in \u001B[0;36mtrain_on_gpu_ex\u001B[1;34m(model, dataset, val_size, batch_size, num_epoch, optimizer, opt_params, scheduler, sch_params, random_seed, verbose)\u001B[0m\n\u001B[0;32m    193\u001B[0m     loss\u001B[38;5;241m.\u001B[39mbackward()\n\u001B[0;32m    194\u001B[0m     optimizer\u001B[38;5;241m.\u001B[39mstep()\n\u001B[1;32m--> 195\u001B[0m     running_loss \u001B[38;5;241m+\u001B[39m\u001B[38;5;241m=\u001B[39m \u001B[43mloss\u001B[49m\u001B[38;5;241;43m.\u001B[39;49m\u001B[43mitem\u001B[49m\u001B[43m(\u001B[49m\u001B[43m)\u001B[49m\n\u001B[0;32m    196\u001B[0m \u001B[38;5;28;01mif\u001B[39;00m scheduler:\n\u001B[0;32m    197\u001B[0m     scheduler\u001B[38;5;241m.\u001B[39mstep()\n",
      "\u001B[1;31mKeyboardInterrupt\u001B[0m: "
     ]
    }
   ],
   "execution_count": 158
  },
  {
   "cell_type": "code",
   "id": "835ceab46fa155fa",
   "metadata": {
    "ExecuteTime": {
     "end_time": "2024-09-24T09:13:47.457536Z",
     "start_time": "2024-09-24T09:13:47.357185Z"
    }
   },
   "source": [
    "from sophius.db import *\n",
    "from peewee import *\n",
    "import pandas as pd\n",
    "\n",
    "query = (Runs\n",
    "         .select(Runs.id.alias('run_id'), Runs, Models, Devices.name.alias('dev_name'))\n",
    "         .join(Models)\n",
    "         .switch(Runs)\n",
    "         .join(Devices)\n",
    "         .dicts())\n",
    "\n",
    "cols = ['run_id', 'hash', 'flops', 'params', 'val_acc', 'train_acc', 'time', 'dev_name']\n",
    "df = pd.DataFrame(query)[cols]\n",
    "df.time = df.time.round()\n",
    "\n",
    "# df = pd.DataFrame(query)\n",
    "\n",
    "df[-5:]"
   ],
   "outputs": [
    {
     "data": {
      "text/plain": [
       "      run_id                                               hash      flops  \\\n",
       "8526    8527  008020a208080000008401212000000000492000400000...  225058112   \n",
       "8527    8528  0080842108040000004310000080441208040000002530...   90942048   \n",
       "8528    8529  0080208a10080000002328000081022220000000004920...   72814848   \n",
       "8529    8530  00810112200000000044a0004000000000802422080400...   16736000   \n",
       "8530    8531  00808122100200000022c8000080841210020000008082...   60098624   \n",
       "\n",
       "       params   val_acc  train_acc   time                 dev_name  \n",
       "8526  1675738  0.751863   0.999599  181.0  NVIDIA GeForce RTX 4090  \n",
       "8527   399508  0.748187   0.858253   79.0  NVIDIA GeForce RTX 4090  \n",
       "8528   405691  0.681320   0.969111   54.0  NVIDIA GeForce RTX 4090  \n",
       "8529   118091  0.736849   0.841316   26.0  NVIDIA GeForce RTX 4090  \n",
       "8530   346091  0.753656   0.995683   55.0  NVIDIA GeForce RTX 4090  "
      ],
      "text/html": [
       "<div>\n",
       "<style scoped>\n",
       "    .dataframe tbody tr th:only-of-type {\n",
       "        vertical-align: middle;\n",
       "    }\n",
       "\n",
       "    .dataframe tbody tr th {\n",
       "        vertical-align: top;\n",
       "    }\n",
       "\n",
       "    .dataframe thead th {\n",
       "        text-align: right;\n",
       "    }\n",
       "</style>\n",
       "<table border=\"1\" class=\"dataframe\">\n",
       "  <thead>\n",
       "    <tr style=\"text-align: right;\">\n",
       "      <th></th>\n",
       "      <th>run_id</th>\n",
       "      <th>hash</th>\n",
       "      <th>flops</th>\n",
       "      <th>params</th>\n",
       "      <th>val_acc</th>\n",
       "      <th>train_acc</th>\n",
       "      <th>time</th>\n",
       "      <th>dev_name</th>\n",
       "    </tr>\n",
       "  </thead>\n",
       "  <tbody>\n",
       "    <tr>\n",
       "      <th>8526</th>\n",
       "      <td>8527</td>\n",
       "      <td>008020a208080000008401212000000000492000400000...</td>\n",
       "      <td>225058112</td>\n",
       "      <td>1675738</td>\n",
       "      <td>0.751863</td>\n",
       "      <td>0.999599</td>\n",
       "      <td>181.0</td>\n",
       "      <td>NVIDIA GeForce RTX 4090</td>\n",
       "    </tr>\n",
       "    <tr>\n",
       "      <th>8527</th>\n",
       "      <td>8528</td>\n",
       "      <td>0080842108040000004310000080441208040000002530...</td>\n",
       "      <td>90942048</td>\n",
       "      <td>399508</td>\n",
       "      <td>0.748187</td>\n",
       "      <td>0.858253</td>\n",
       "      <td>79.0</td>\n",
       "      <td>NVIDIA GeForce RTX 4090</td>\n",
       "    </tr>\n",
       "    <tr>\n",
       "      <th>8528</th>\n",
       "      <td>8529</td>\n",
       "      <td>0080208a10080000002328000081022220000000004920...</td>\n",
       "      <td>72814848</td>\n",
       "      <td>405691</td>\n",
       "      <td>0.681320</td>\n",
       "      <td>0.969111</td>\n",
       "      <td>54.0</td>\n",
       "      <td>NVIDIA GeForce RTX 4090</td>\n",
       "    </tr>\n",
       "    <tr>\n",
       "      <th>8529</th>\n",
       "      <td>8530</td>\n",
       "      <td>00810112200000000044a0004000000000802422080400...</td>\n",
       "      <td>16736000</td>\n",
       "      <td>118091</td>\n",
       "      <td>0.736849</td>\n",
       "      <td>0.841316</td>\n",
       "      <td>26.0</td>\n",
       "      <td>NVIDIA GeForce RTX 4090</td>\n",
       "    </tr>\n",
       "    <tr>\n",
       "      <th>8530</th>\n",
       "      <td>8531</td>\n",
       "      <td>00808122100200000022c8000080841210020000008082...</td>\n",
       "      <td>60098624</td>\n",
       "      <td>346091</td>\n",
       "      <td>0.753656</td>\n",
       "      <td>0.995683</td>\n",
       "      <td>55.0</td>\n",
       "      <td>NVIDIA GeForce RTX 4090</td>\n",
       "    </tr>\n",
       "  </tbody>\n",
       "</table>\n",
       "</div>"
      ]
     },
     "execution_count": 5,
     "metadata": {},
     "output_type": "execute_result"
    }
   ],
   "execution_count": 5
  },
  {
   "cell_type": "code",
   "id": "8627af3c-7319-47ab-b234-f73acac207d0",
   "metadata": {
    "ExecuteTime": {
     "end_time": "2024-09-24T09:14:08.161888Z",
     "start_time": "2024-09-24T09:14:08.144461Z"
    }
   },
   "source": [
    "with database.connection() as conn:\n",
    "    exp = pd.read_sql('SELECT * from experiments', conn)\n",
    "exp"
   ],
   "outputs": [
    {
     "data": {
      "text/plain": [
       "   id  val_size  batch_size  num_epoch  random_seed optimizer    opt_params  \\\n",
       "0   1     10000         256         50           42     AdamW  {\"lr\":0.001}   \n",
       "\n",
       "       scheduler      sch_params     in_shape out_shape  \n",
       "0  ExponentialLR  {\"gamma\":0.95}  (3, 32, 32)        10  "
      ],
      "text/html": [
       "<div>\n",
       "<style scoped>\n",
       "    .dataframe tbody tr th:only-of-type {\n",
       "        vertical-align: middle;\n",
       "    }\n",
       "\n",
       "    .dataframe tbody tr th {\n",
       "        vertical-align: top;\n",
       "    }\n",
       "\n",
       "    .dataframe thead th {\n",
       "        text-align: right;\n",
       "    }\n",
       "</style>\n",
       "<table border=\"1\" class=\"dataframe\">\n",
       "  <thead>\n",
       "    <tr style=\"text-align: right;\">\n",
       "      <th></th>\n",
       "      <th>id</th>\n",
       "      <th>val_size</th>\n",
       "      <th>batch_size</th>\n",
       "      <th>num_epoch</th>\n",
       "      <th>random_seed</th>\n",
       "      <th>optimizer</th>\n",
       "      <th>opt_params</th>\n",
       "      <th>scheduler</th>\n",
       "      <th>sch_params</th>\n",
       "      <th>in_shape</th>\n",
       "      <th>out_shape</th>\n",
       "    </tr>\n",
       "  </thead>\n",
       "  <tbody>\n",
       "    <tr>\n",
       "      <th>0</th>\n",
       "      <td>1</td>\n",
       "      <td>10000</td>\n",
       "      <td>256</td>\n",
       "      <td>50</td>\n",
       "      <td>42</td>\n",
       "      <td>AdamW</td>\n",
       "      <td>{\"lr\":0.001}</td>\n",
       "      <td>ExponentialLR</td>\n",
       "      <td>{\"gamma\":0.95}</td>\n",
       "      <td>(3, 32, 32)</td>\n",
       "      <td>10</td>\n",
       "    </tr>\n",
       "  </tbody>\n",
       "</table>\n",
       "</div>"
      ]
     },
     "execution_count": 6,
     "metadata": {},
     "output_type": "execute_result"
    }
   ],
   "execution_count": 6
  },
  {
   "cell_type": "code",
   "id": "3b934fb03cf8b06d",
   "metadata": {
    "ExecuteTime": {
     "end_time": "2024-09-24T09:14:41.354864Z",
     "start_time": "2024-09-24T09:14:40.413970Z"
    }
   },
   "source": [
    "from sophius.encode import Encoder\n",
    "\n",
    "encoder = Encoder()\n",
    "encoder.hash2model('00810112200000000044a000400000000080242208040000400000000010000001000000', (3, 32, 32), 10)"
   ],
   "outputs": [
    {
     "name": "stderr",
     "output_type": "stream",
     "text": [
      "C:\\Users\\alexander.korolyov\\miniforge3\\envs\\sophius\\lib\\site-packages\\tqdm\\auto.py:21: TqdmWarning: IProgress not found. Please update jupyter and ipywidgets. See https://ipywidgets.readthedocs.io/en/stable/user_install.html\n",
      "  from .autonotebook import tqdm as notebook_tqdm\n"
     ]
    },
    {
     "data": {
      "text/plain": [
       "Conv2d       (64, 16, 16)   (5, 5)   (2, 2)  \n",
       "ReLU         (64, 16, 16)  \n",
       "MaxPool2d    (64, 8, 8)     (3, 3)   (2, 2)  \n",
       "BatchNorm2d  (64, 8, 8)    \n",
       "Conv2d       (192, 8, 8)    (3, 3)   (1, 1)  \n",
       "PReLU        (192, 8, 8)   \n",
       "BatchNorm2d  (192, 8, 8)   \n",
       "GlobalAvgPool2d (192, 1, 1)   \n",
       "Flatten      192           \n",
       "Linear       10            "
      ]
     },
     "execution_count": 8,
     "metadata": {},
     "output_type": "execute_result"
    }
   ],
   "execution_count": 8
  }
 ],
 "metadata": {
  "kernelspec": {
   "display_name": "sophius",
   "language": "python",
   "name": "sophius"
  },
  "language_info": {
   "codemirror_mode": {
    "name": "ipython",
    "version": 3
   },
   "file_extension": ".py",
   "mimetype": "text/x-python",
   "name": "python",
   "nbconvert_exporter": "python",
   "pygments_lexer": "ipython3",
   "version": "3.8.19"
  }
 },
 "nbformat": 4,
 "nbformat_minor": 5
}
