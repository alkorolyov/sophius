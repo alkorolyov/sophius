{
 "cells": [
  {
   "cell_type": "code",
   "id": "initial_id",
   "metadata": {
    "collapsed": true,
    "ExecuteTime": {
     "end_time": "2024-09-22T17:55:51.238710Z",
     "start_time": "2024-09-22T17:55:51.141684Z"
    }
   },
   "source": [
    "%load_ext autoreload\n",
    "%autoreload 2\n",
    "import sys\n",
    "sys.path.append('..')"
   ],
   "outputs": [
    {
     "name": "stdout",
     "output_type": "stream",
     "text": [
      "The autoreload extension is already loaded. To reload it, use:\n",
      "  %reload_ext autoreload\n"
     ]
    }
   ],
   "execution_count": 70
  },
  {
   "metadata": {
    "ExecuteTime": {
     "end_time": "2024-09-22T17:56:03.789699Z",
     "start_time": "2024-09-22T17:55:51.298164Z"
    }
   },
   "cell_type": "code",
   "source": [
    "import torch\n",
    "import sophius.dataload as dload\n",
    "from sophius.modelgen import ConvModelGenerator\n",
    "import torchvision.datasets as dset\n",
    "import torchvision.transforms as T\n",
    "from sophius.encode import Encoder\n",
    "import seaborn as sns\n",
    "from tqdm import tqdm\n",
    "from sophius.train import train_on_gpu_ex\n",
    "normalize = T.Compose([\n",
    "    T.ToTensor(),\n",
    "    T.Normalize((0.5, 0.5, 0.5), (0.5, 0.5, 0.5)),    \n",
    "])\n",
    "cifar10 = dset.CIFAR10('../data/CIFAR10', train=True, download=True, transform=normalize)\n",
    "cifar_gpu = dload.cifar_to_gpu(cifar10)\n",
    "\n",
    "encoder = Encoder()"
   ],
   "id": "ed0729869e1671da",
   "outputs": [
    {
     "name": "stdout",
     "output_type": "stream",
     "text": [
      "Files already downloaded and verified\n"
     ]
    }
   ],
   "execution_count": 71
  },
  {
   "metadata": {
    "ExecuteTime": {
     "end_time": "2024-09-22T17:56:03.980660Z",
     "start_time": "2024-09-22T17:56:03.887210Z"
    }
   },
   "cell_type": "code",
   "source": [
    "from sophius.estimate import LSTMRegressor\n",
    "from sophius.utils import calc_model_flops\n",
    "\n",
    "estimator = torch.load('../data/models/estimator_v2.pth').cpu()\n",
    "\n",
    "def estimate_acc(model_tmpl):\n",
    "    t = torch.tensor(encoder.model2vec(model_tmpl), dtype=torch.float32)\n",
    "    return estimator(t).item()"
   ],
   "id": "af1665dbca43ed75",
   "outputs": [],
   "execution_count": 72
  },
  {
   "metadata": {
    "ExecuteTime": {
     "end_time": "2024-09-22T17:56:04.139702Z",
     "start_time": "2024-09-22T17:56:04.030179Z"
    }
   },
   "cell_type": "code",
   "source": [
    "model_gen = ConvModelGenerator(\n",
    "    in_shape=(3, 32, 32), \n",
    "    out_shape=10, \n",
    "    conv_num=1, \n",
    "    lin_num=1,\n",
    ")\n",
    "\n",
    "model_tmpl = model_gen.generate_model_tmpl()\n",
    "model = model_tmpl.instantiate_model().cuda()\n",
    "\n",
    "print(model_tmpl)\n",
    "flops = calc_model_flops(model, model_gen.in_shape)['flops']\n",
    "print('MFlops', round(flops / 1024 / 1024, 2))\n",
    "\n",
    "train_params = {\n",
    "    'val_size': 10000,\n",
    "    'batch_size': 256,\n",
    "    'num_epoch': 50,\n",
    "    'random_seed':42,\n",
    "    'optimizer': 'AdamW',\n",
    "    'opt_params': {\n",
    "        'lr': 1e-3,\n",
    "    },\n",
    "    'scheduler': 'ExponentialLR',\n",
    "    'sch_params': {\n",
    "        'gamma': 0.95,\n",
    "    },\n",
    "}\n",
    "\n",
    "# res = train_on_gpu_ex(\n",
    "#     model=model,\n",
    "#     dataset=cifar_gpu,\n",
    "#     verbose=True,\n",
    "#     **train_params,\n",
    "# )\n",
    "# print('val_acc* %.3f' % (estimate_acc(model_tmpl)))\n",
    "# \n",
    "# sns.lineplot(res, x='epoch', y='train_acc', label='train')\n",
    "# sns.lineplot(res, x='epoch', y='val_acc', label='val');"
   ],
   "id": "f3c0cc541598ecd3",
   "outputs": [
    {
     "name": "stdout",
     "output_type": "stream",
     "text": [
      "Conv2d       (64, 16, 16)   (5, 5)   (2, 2)  \n",
      "LeakyReLU    (64, 16, 16)   (0.01)  \n",
      "AvgPool2d    (64, 15, 15)   (2, 2)   (1, 1)  \n",
      "GlobalAvgPool2d (64, 1, 1)    \n",
      "Flatten      64            \n",
      "Linear       10            \n",
      "\n",
      "MFlops 2.41\n"
     ]
    }
   ],
   "execution_count": 73
  },
  {
   "metadata": {
    "ExecuteTime": {
     "end_time": "2024-09-22T17:56:04.313892Z",
     "start_time": "2024-09-22T17:56:04.205700Z"
    }
   },
   "cell_type": "code",
   "source": [
    "from sophius.db import database, Experiments, Models, ModelEpochs\n",
    "\n",
    "with database:\n",
    "    database.create_tables([Experiments, Models, ModelEpochs])\n",
    "\n",
    "exp_params = {**train_params, **{'in_shape': (3, 32, 32), 'out_shape': 10}}\n",
    "\n",
    "exp, _ = Experiments.get_or_create(**exp_params)"
   ],
   "id": "bbf39c7d00284d07",
   "outputs": [],
   "execution_count": 74
  },
  {
   "metadata": {
    "ExecuteTime": {
     "end_time": "2024-09-22T18:00:35.502608Z",
     "start_time": "2024-09-22T17:56:04.376331Z"
    }
   },
   "cell_type": "code",
   "source": [
    "model_gen = ConvModelGenerator(\n",
    "    in_shape=(3, 32, 32), out_shape=10, \n",
    "    conv_num=3, lin_num=1\n",
    ")\n",
    "\n",
    "val_acc_threshold = 0.7\n",
    "\n",
    "for i in tqdm(range(10)):\n",
    "    model_tmpl = model_gen.generate_model_tmpl()\n",
    "    model = model_tmpl.instantiate_model().cuda()\n",
    "     \n",
    "    if estimate_acc(model_tmpl) < val_acc_threshold:\n",
    "        continue\n",
    "        \n",
    "    epoch_results = train_on_gpu_ex(\n",
    "        model=model,\n",
    "        dataset=cifar_gpu,\n",
    "        verbose=False,\n",
    "        **train_params,\n",
    "    )\n",
    "    \n",
    "    model_info = calc_model_flops(model, model_gen.in_shape)\n",
    "    model = Models.create(\n",
    "        exp_id = exp.id,\n",
    "        hash = encoder.model2hash(model_tmpl),\n",
    "        flops = model_info['flops'],\n",
    "        macs = model_info['macs'],\n",
    "        params = model_info['params'],\n",
    "        val_acc = round(epoch_results.val_acc.iloc[-10:].mean(), 5),\n",
    "        train_acc = round(epoch_results.train_acc.iloc[-10:].mean(), 5),\n",
    "        time = round(epoch_results.time.iloc[-1], 1),\n",
    "    )\n",
    "    \n",
    "    \n",
    "    for _, row in epoch_results.iterrows():\n",
    "        ModelEpochs.create(\n",
    "            exp_id = exp.id,\n",
    "            model_id = model.id,\n",
    "            epoch = row['epoch'],\n",
    "            loss = row['loss'],\n",
    "            train_acc = row['train_acc'],\n",
    "            val_acc = row['val_acc'],\n",
    "            time = row['time'],\n",
    "        )\n",
    "    "
   ],
   "id": "e002b692030f4675",
   "outputs": [
    {
     "name": "stderr",
     "output_type": "stream",
     "text": [
      "100%|██████████| 10/10 [04:31<00:00, 27.10s/it]\n"
     ]
    }
   ],
   "execution_count": 75
  },
  {
   "metadata": {
    "ExecuteTime": {
     "end_time": "2024-09-22T18:00:35.673182Z",
     "start_time": "2024-09-22T18:00:35.566124Z"
    }
   },
   "cell_type": "code",
   "source": [
    "import pandas as pd\n",
    "\n",
    "with database.connection() as conn:\n",
    "    df = pd.read_sql('SELECT * from models', conn)\n",
    "    "
   ],
   "id": "835ceab46fa155fa",
   "outputs": [],
   "execution_count": 76
  },
  {
   "metadata": {
    "ExecuteTime": {
     "end_time": "2024-09-22T18:00:35.846300Z",
     "start_time": "2024-09-22T18:00:35.738709Z"
    }
   },
   "cell_type": "code",
   "source": "df[-10:]",
   "id": "40b311eaeb714960",
   "outputs": [
    {
     "data": {
      "text/plain": [
       "      id  exp_id                                               hash     flops  \\\n",
       "101  102       1  0082040a08040000002330000082006108080000004260...    632144   \n",
       "102  103       1   008082090804000000452000002928000010000001000000    969696   \n",
       "103  104       1  00810809080800000022a8000084020908080000001000...    242224   \n",
       "104  105       1           0080280610040000400000000022d00001000000    547008   \n",
       "105  106       1  0088080a08080000008090060804000000449000400000...     43696   \n",
       "106  107       1   008090110808000040000000002950000010000001000000    300000   \n",
       "107  108       1   008084090804000000808121200000000028d00001000000  17167488   \n",
       "108  109       1  00810222200000000022c8000080901108080000002550...   7928256   \n",
       "109  110       1                   00810111080800000025280001000000   2103552   \n",
       "110  111       2  00804821200000000044a0004000000000808092100200...  75392608   \n",
       "\n",
       "         macs  params  val_acc  train_acc   time  \n",
       "101    310016   55995  0.47172    0.46711    3.3  \n",
       "102    461760    5675  0.34428    0.34559    1.7  \n",
       "103    109472   17482  0.37984    0.39256    1.9  \n",
       "104    234624   50890  0.50154    0.51152    1.6  \n",
       "105     19488    2139  0.30485    0.30672    2.6  \n",
       "106     74688    1642  0.25618    0.24816    2.6  \n",
       "107   8568960  248555  0.51439    0.53275    2.6  \n",
       "108   3844032   10442  0.28669    0.28108    4.5  \n",
       "109   1032960   97098  0.53743    0.55265    1.3  \n",
       "110  37459200  485387  0.75269    0.99333  270.1  "
      ],
      "text/html": [
       "<div>\n",
       "<style scoped>\n",
       "    .dataframe tbody tr th:only-of-type {\n",
       "        vertical-align: middle;\n",
       "    }\n",
       "\n",
       "    .dataframe tbody tr th {\n",
       "        vertical-align: top;\n",
       "    }\n",
       "\n",
       "    .dataframe thead th {\n",
       "        text-align: right;\n",
       "    }\n",
       "</style>\n",
       "<table border=\"1\" class=\"dataframe\">\n",
       "  <thead>\n",
       "    <tr style=\"text-align: right;\">\n",
       "      <th></th>\n",
       "      <th>id</th>\n",
       "      <th>exp_id</th>\n",
       "      <th>hash</th>\n",
       "      <th>flops</th>\n",
       "      <th>macs</th>\n",
       "      <th>params</th>\n",
       "      <th>val_acc</th>\n",
       "      <th>train_acc</th>\n",
       "      <th>time</th>\n",
       "    </tr>\n",
       "  </thead>\n",
       "  <tbody>\n",
       "    <tr>\n",
       "      <th>101</th>\n",
       "      <td>102</td>\n",
       "      <td>1</td>\n",
       "      <td>0082040a08040000002330000082006108080000004260...</td>\n",
       "      <td>632144</td>\n",
       "      <td>310016</td>\n",
       "      <td>55995</td>\n",
       "      <td>0.47172</td>\n",
       "      <td>0.46711</td>\n",
       "      <td>3.3</td>\n",
       "    </tr>\n",
       "    <tr>\n",
       "      <th>102</th>\n",
       "      <td>103</td>\n",
       "      <td>1</td>\n",
       "      <td>008082090804000000452000002928000010000001000000</td>\n",
       "      <td>969696</td>\n",
       "      <td>461760</td>\n",
       "      <td>5675</td>\n",
       "      <td>0.34428</td>\n",
       "      <td>0.34559</td>\n",
       "      <td>1.7</td>\n",
       "    </tr>\n",
       "    <tr>\n",
       "      <th>103</th>\n",
       "      <td>104</td>\n",
       "      <td>1</td>\n",
       "      <td>00810809080800000022a8000084020908080000001000...</td>\n",
       "      <td>242224</td>\n",
       "      <td>109472</td>\n",
       "      <td>17482</td>\n",
       "      <td>0.37984</td>\n",
       "      <td>0.39256</td>\n",
       "      <td>1.9</td>\n",
       "    </tr>\n",
       "    <tr>\n",
       "      <th>104</th>\n",
       "      <td>105</td>\n",
       "      <td>1</td>\n",
       "      <td>0080280610040000400000000022d00001000000</td>\n",
       "      <td>547008</td>\n",
       "      <td>234624</td>\n",
       "      <td>50890</td>\n",
       "      <td>0.50154</td>\n",
       "      <td>0.51152</td>\n",
       "      <td>1.6</td>\n",
       "    </tr>\n",
       "    <tr>\n",
       "      <th>105</th>\n",
       "      <td>106</td>\n",
       "      <td>1</td>\n",
       "      <td>0088080a08080000008090060804000000449000400000...</td>\n",
       "      <td>43696</td>\n",
       "      <td>19488</td>\n",
       "      <td>2139</td>\n",
       "      <td>0.30485</td>\n",
       "      <td>0.30672</td>\n",
       "      <td>2.6</td>\n",
       "    </tr>\n",
       "    <tr>\n",
       "      <th>106</th>\n",
       "      <td>107</td>\n",
       "      <td>1</td>\n",
       "      <td>008090110808000040000000002950000010000001000000</td>\n",
       "      <td>300000</td>\n",
       "      <td>74688</td>\n",
       "      <td>1642</td>\n",
       "      <td>0.25618</td>\n",
       "      <td>0.24816</td>\n",
       "      <td>2.6</td>\n",
       "    </tr>\n",
       "    <tr>\n",
       "      <th>107</th>\n",
       "      <td>108</td>\n",
       "      <td>1</td>\n",
       "      <td>008084090804000000808121200000000028d00001000000</td>\n",
       "      <td>17167488</td>\n",
       "      <td>8568960</td>\n",
       "      <td>248555</td>\n",
       "      <td>0.51439</td>\n",
       "      <td>0.53275</td>\n",
       "      <td>2.6</td>\n",
       "    </tr>\n",
       "    <tr>\n",
       "      <th>108</th>\n",
       "      <td>109</td>\n",
       "      <td>1</td>\n",
       "      <td>00810222200000000022c8000080901108080000002550...</td>\n",
       "      <td>7928256</td>\n",
       "      <td>3844032</td>\n",
       "      <td>10442</td>\n",
       "      <td>0.28669</td>\n",
       "      <td>0.28108</td>\n",
       "      <td>4.5</td>\n",
       "    </tr>\n",
       "    <tr>\n",
       "      <th>109</th>\n",
       "      <td>110</td>\n",
       "      <td>1</td>\n",
       "      <td>00810111080800000025280001000000</td>\n",
       "      <td>2103552</td>\n",
       "      <td>1032960</td>\n",
       "      <td>97098</td>\n",
       "      <td>0.53743</td>\n",
       "      <td>0.55265</td>\n",
       "      <td>1.3</td>\n",
       "    </tr>\n",
       "    <tr>\n",
       "      <th>110</th>\n",
       "      <td>111</td>\n",
       "      <td>2</td>\n",
       "      <td>00804821200000000044a0004000000000808092100200...</td>\n",
       "      <td>75392608</td>\n",
       "      <td>37459200</td>\n",
       "      <td>485387</td>\n",
       "      <td>0.75269</td>\n",
       "      <td>0.99333</td>\n",
       "      <td>270.1</td>\n",
       "    </tr>\n",
       "  </tbody>\n",
       "</table>\n",
       "</div>"
      ]
     },
     "execution_count": 77,
     "metadata": {},
     "output_type": "execute_result"
    }
   ],
   "execution_count": 77
  },
  {
   "metadata": {
    "ExecuteTime": {
     "end_time": "2024-09-22T18:01:37.014877Z",
     "start_time": "2024-09-22T18:01:36.920083Z"
    }
   },
   "cell_type": "code",
   "source": "encoder.hash2model('00804821200000000044a000400000000080809210020000400000000024d0000080880a0804000001000000', (3, 32, 32), 10)",
   "id": "3b934fb03cf8b06d",
   "outputs": [
    {
     "data": {
      "text/plain": [
       "Conv2d       (128, 31, 31)  (2, 2)   (1, 1)  \n",
       "ReLU         (128, 31, 31) \n",
       "MaxPool2d    (128, 16, 16)  (3, 3)   (2, 2)  \n",
       "BatchNorm2d  (128, 16, 16) \n",
       "Conv2d       (96, 9, 9)     (6, 6)   (2, 2)  \n",
       "LeakyReLU    (96, 9, 9)     (0.001) \n",
       "BatchNorm2d  (96, 9, 9)    \n",
       "AvgPool2d    (96, 5, 5)     (3, 3)   (2, 2)  \n",
       "Conv2d       (96, 2, 2)     (2, 2)   (3, 3)  \n",
       "PReLU        (96, 2, 2)    \n",
       "Flatten      384           \n",
       "Linear       10            "
      ]
     },
     "execution_count": 78,
     "metadata": {},
     "output_type": "execute_result"
    }
   ],
   "execution_count": 78
  }
 ],
 "metadata": {
  "kernelspec": {
   "display_name": "Python 3",
   "language": "python",
   "name": "python3"
  },
  "language_info": {
   "codemirror_mode": {
    "name": "ipython",
    "version": 2
   },
   "file_extension": ".py",
   "mimetype": "text/x-python",
   "name": "python",
   "nbconvert_exporter": "python",
   "pygments_lexer": "ipython2",
   "version": "2.7.6"
  }
 },
 "nbformat": 4,
 "nbformat_minor": 5
}
