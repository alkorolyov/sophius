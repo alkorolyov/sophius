{
 "cells": [
  {
   "cell_type": "code",
   "execution_count": 1,
   "id": "initial_id",
   "metadata": {
    "ExecuteTime": {
     "end_time": "2024-09-23T12:00:30.152816Z",
     "start_time": "2024-09-23T12:00:29.735071Z"
    }
   },
   "outputs": [],
   "source": [
    "%load_ext autoreload\n",
    "%autoreload 2\n",
    "import sys\n",
    "sys.path.append('..')"
   ]
  },
  {
   "cell_type": "code",
   "execution_count": 2,
   "id": "ed0729869e1671da",
   "metadata": {
    "ExecuteTime": {
     "end_time": "2024-09-23T12:00:38.019840Z",
     "start_time": "2024-09-23T12:00:30.161815Z"
    }
   },
   "outputs": [
    {
     "name": "stderr",
     "output_type": "stream",
     "text": [
      "/home/alexander.korolyov/miniforge3/envs/sophius/lib/python3.8/site-packages/tqdm/auto.py:21: TqdmWarning: IProgress not found. Please update jupyter and ipywidgets. See https://ipywidgets.readthedocs.io/en/stable/user_install.html\n",
      "  from .autonotebook import tqdm as notebook_tqdm\n"
     ]
    },
    {
     "name": "stdout",
     "output_type": "stream",
     "text": [
      "Files already downloaded and verified\n"
     ]
    }
   ],
   "source": [
    "import torch\n",
    "import sophius.dataload as dload\n",
    "from sophius.modelgen import ConvModelGenerator\n",
    "import torchvision.datasets as dset\n",
    "import torchvision.transforms as T\n",
    "from sophius.encode import Encoder\n",
    "import seaborn as sns\n",
    "from tqdm import tqdm\n",
    "from sophius.train import train_on_gpu_ex\n",
    "normalize = T.Compose([\n",
    "    T.ToTensor(),\n",
    "    T.Normalize((0.5, 0.5, 0.5), (0.5, 0.5, 0.5)),    \n",
    "])\n",
    "cifar10 = dset.CIFAR10('../data/CIFAR10', train=True, download=True, transform=normalize)\n",
    "cifar_gpu = dload.cifar_to_gpu(cifar10)\n",
    "\n",
    "encoder = Encoder()"
   ]
  },
  {
   "cell_type": "code",
   "execution_count": 3,
   "id": "af1665dbca43ed75",
   "metadata": {
    "ExecuteTime": {
     "end_time": "2024-09-23T12:00:38.162489Z",
     "start_time": "2024-09-23T12:00:38.053480Z"
    }
   },
   "outputs": [],
   "source": [
    "from sophius.estimate import LSTMRegressor\n",
    "from sophius.utils import calc_model_flops\n",
    "\n",
    "estimator = torch.load('../data/models/estimator_v2.pth').cpu()\n",
    "\n",
    "def estimate_acc(model_tmpl):\n",
    "    t = torch.tensor(encoder.model2vec(model_tmpl), dtype=torch.float32)\n",
    "    return estimator(t).item()"
   ]
  },
  {
   "cell_type": "code",
   "execution_count": 4,
   "id": "f3c0cc541598ecd3",
   "metadata": {
    "ExecuteTime": {
     "end_time": "2024-09-23T12:00:38.318343Z",
     "start_time": "2024-09-23T12:00:38.196202Z"
    }
   },
   "outputs": [
    {
     "name": "stdout",
     "output_type": "stream",
     "text": [
      "Conv2d       (192, 10, 10)  (5, 5)   (3, 3)  \n",
      "LeakyReLU    (192, 10, 10)  (0.001) \n",
      "GlobalAvgPool2d (192, 1, 1)   \n",
      "Flatten      192           \n",
      "Linear       10            \n",
      "\n",
      "2.81 MFlops\n"
     ]
    },
    {
     "name": "stderr",
     "output_type": "stream",
     "text": [
      "Loss 245.827: 100% 50/50 [00:18<00:00,  2.77it/s]\n"
     ]
    },
    {
     "name": "stdout",
     "output_type": "stream",
     "text": [
      "val_acc: 0.434 train_acc: 0.433\n",
      "val_acc* 0.439\n"
     ]
    },
    {
     "data": {
      "image/png": "[encoded data removed]",
      "text/plain": [
       "<Figure size 640x480 with 1 Axes>"
      ]
     },
     "metadata": {},
     "output_type": "display_data"
    }
   ],
   "source": [
    "model_gen = ConvModelGenerator(\n",
    "    in_shape=(3, 32, 32), \n",
    "    out_shape=10, \n",
    "    conv_num=1, \n",
    "    lin_num=1,\n",
    ")\n",
    "\n",
    "model_tmpl = model_gen.generate_model_tmpl()\n",
    "model = model_tmpl.instantiate_model().cuda()\n",
    "\n",
    "print(model_tmpl)\n",
    "flops = calc_model_flops(model, model_gen.in_shape)['flops']\n",
    "print(round(flops / 1024 / 1024, 2), 'MFlops')\n",
    "\n",
    "train_params = {\n",
    "    'val_size': 10000,\n",
    "    'batch_size': 256,\n",
    "    'num_epoch': 50,\n",
    "    'random_seed':42,\n",
    "    'optimizer': 'AdamW',\n",
    "    'opt_params': {\n",
    "        'lr': 1e-3,\n",
    "    },\n",
    "    'scheduler': 'ExponentialLR',\n",
    "    'sch_params': {\n",
    "        'gamma': 0.95,\n",
    "    },\n",
    "}\n",
    "\n",
    "res = train_on_gpu_ex(\n",
    "    model=model,\n",
    "    dataset=cifar_gpu,\n",
    "    verbose=True,\n",
    "    **train_params,\n",
    ")\n",
    "print('val_acc* %.3f' % (estimate_acc(model_tmpl)))\n",
    "\n",
    "sns.lineplot(res, x='epoch', y='train_acc', label='train')\n",
    "sns.lineplot(res, x='epoch', y='val_acc', label='val');"
   ]
  },
  {
   "cell_type": "code",
   "execution_count": 6,
   "id": "bbf39c7d00284d07",
   "metadata": {
    "ExecuteTime": {
     "end_time": "2024-09-23T12:00:38.491018Z",
     "start_time": "2024-09-23T12:00:38.376303Z"
    }
   },
   "outputs": [],
   "source": [
    "from sophius.db import database, Experiments, Models, ModelEpochs\n",
    "\n",
    "with database:\n",
    "    database.create_tables([Experiments, Models, ModelEpochs])\n",
    "\n",
    "exp_params = {**train_params, **{'in_shape': (3, 32, 32), 'out_shape': 10}}\n",
    "\n",
    "exp, _ = Experiments.get_or_create(**exp_params)"
   ]
  },
  {
   "cell_type": "code",
   "execution_count": 13,
   "id": "e002b692030f4675",
   "metadata": {
    "ExecuteTime": {
     "end_time": "2024-09-23T12:02:16.775967Z",
     "start_time": "2024-09-23T12:00:38.523721Z"
    }
   },
   "outputs": [
    {
     "name": "stderr",
     "output_type": "stream",
     "text": [
      "100% 10/10 [01:12<00:00,  7.22s/it]\n"
     ]
    }
   ],
   "source": [
    "model_gen = ConvModelGenerator(\n",
    "    in_shape=(3, 32, 32), out_shape=10, \n",
    "    conv_num=10, lin_num=3\n",
    ")\n",
    "\n",
    "val_acc_threshold = 0.7\n",
    "\n",
    "for i in tqdm(range(10)):\n",
    "    model_tmpl = model_gen.generate_model_tmpl()\n",
    "    model = model_tmpl.instantiate_model().cuda()\n",
    "    \n",
    "    if estimate_acc(model_tmpl) < val_acc_threshold:\n",
    "        continue\n",
    "        \n",
    "    epoch_results = train_on_gpu_ex(\n",
    "        model=model,\n",
    "        dataset=cifar_gpu,\n",
    "        verbose=False,\n",
    "        **train_params,\n",
    "    )\n",
    "    \n",
    "    model_info = calc_model_flops(model, model_gen.in_shape)\n",
    "    model = Models.create(\n",
    "        exp_id = exp.id,\n",
    "        hash = encoder.model2hash(model_tmpl),\n",
    "        flops = model_info['flops'],\n",
    "        macs = model_info['macs'],\n",
    "        params = model_info['params'],\n",
    "        val_acc = round(epoch_results.val_acc.iloc[-10:].mean(), 5),\n",
    "        train_acc = round(epoch_results.train_acc.iloc[-10:].mean(), 5),\n",
    "        time = round(epoch_results.time.iloc[-1], 1),\n",
    "    )\n",
    "    \n",
    "    \n",
    "    for _, row in epoch_results.iterrows():\n",
    "        ModelEpochs.create(\n",
    "            exp_id = exp.id,\n",
    "            model_id = model.id,\n",
    "            epoch = row['epoch'],\n",
    "            loss = row['loss'],\n",
    "            train_acc = row['train_acc'],\n",
    "            val_acc = row['val_acc'],\n",
    "            time = row['time'],\n",
    "        )\n",
    "    "
   ]
  },
  {
   "cell_type": "code",
   "execution_count": 14,
   "id": "835ceab46fa155fa",
   "metadata": {
    "ExecuteTime": {
     "end_time": "2024-09-23T12:02:16.992316Z",
     "start_time": "2024-09-23T12:02:16.808728Z"
    }
   },
   "outputs": [],
   "source": [
    "import pandas as pd\n",
    "\n",
    "with database.connection() as conn:\n",
    "    df = pd.read_sql('SELECT * from models', conn)\n",
    "    "
   ]
  },
  {
   "cell_type": "code",
   "execution_count": 15,
   "id": "40b311eaeb714960",
   "metadata": {
    "ExecuteTime": {
     "end_time": "2024-09-23T12:02:17.226131Z",
     "start_time": "2024-09-23T12:02:17.026552Z"
    }
   },
   "outputs": [
    {
     "data": {
      "text/html": [
       "<div>\n",
       "<style scoped>\n",
       "    .dataframe tbody tr th:only-of-type {\n",
       "        vertical-align: middle;\n",
       "    }\n",
       "\n",
       "    .dataframe tbody tr th {\n",
       "        vertical-align: top;\n",
       "    }\n",
       "\n",
       "    .dataframe thead th {\n",
       "        text-align: right;\n",
       "    }\n",
       "</style>\n",
       "<table border=\"1\" class=\"dataframe\">\n",
       "  <thead>\n",
       "    <tr style=\"text-align: right;\">\n",
       "      <th></th>\n",
       "      <th>id</th>\n",
       "      <th>exp_id</th>\n",
       "      <th>hash</th>\n",
       "      <th>flops</th>\n",
       "      <th>macs</th>\n",
       "      <th>params</th>\n",
       "      <th>val_acc</th>\n",
       "      <th>train_acc</th>\n",
       "      <th>time</th>\n",
       "    </tr>\n",
       "  </thead>\n",
       "  <tbody>\n",
       "    <tr>\n",
       "      <th>8522</th>\n",
       "      <td>8523</td>\n",
       "      <td>1</td>\n",
       "      <td>0080882208040000400000000023500000840091100800...</td>\n",
       "      <td>29476400</td>\n",
       "      <td>14460288</td>\n",
       "      <td>158011</td>\n",
       "      <td>0.72550</td>\n",
       "      <td>0.8517</td>\n",
       "      <td>118.0</td>\n",
       "    </tr>\n",
       "    <tr>\n",
       "      <th>8523</th>\n",
       "      <td>8524</td>\n",
       "      <td>1</td>\n",
       "      <td>00808412200000000044a000400000000028c800008024...</td>\n",
       "      <td>10525248</td>\n",
       "      <td>5209088</td>\n",
       "      <td>567818</td>\n",
       "      <td>0.72490</td>\n",
       "      <td>0.9997</td>\n",
       "      <td>26.4</td>\n",
       "    </tr>\n",
       "    <tr>\n",
       "      <th>8524</th>\n",
       "      <td>8525</td>\n",
       "      <td>1</td>\n",
       "      <td>00802222200000000049200000820806100800000028a8...</td>\n",
       "      <td>31826784</td>\n",
       "      <td>15592320</td>\n",
       "      <td>970347</td>\n",
       "      <td>0.71030</td>\n",
       "      <td>0.9995</td>\n",
       "      <td>103.9</td>\n",
       "    </tr>\n",
       "    <tr>\n",
       "      <th>8525</th>\n",
       "      <td>8526</td>\n",
       "      <td>1</td>\n",
       "      <td>0080812220000000002948000080280a10080000002350...</td>\n",
       "      <td>65659808</td>\n",
       "      <td>32638208</td>\n",
       "      <td>1182954</td>\n",
       "      <td>0.73710</td>\n",
       "      <td>0.9985</td>\n",
       "      <td>75.0</td>\n",
       "    </tr>\n",
       "    <tr>\n",
       "      <th>8526</th>\n",
       "      <td>8527</td>\n",
       "      <td>1</td>\n",
       "      <td>008020a208080000008401212000000000492000400000...</td>\n",
       "      <td>225058112</td>\n",
       "      <td>112086272</td>\n",
       "      <td>1675738</td>\n",
       "      <td>0.75190</td>\n",
       "      <td>0.9996</td>\n",
       "      <td>180.8</td>\n",
       "    </tr>\n",
       "    <tr>\n",
       "      <th>8527</th>\n",
       "      <td>8528</td>\n",
       "      <td>1</td>\n",
       "      <td>0080842108040000004310000080441208040000002530...</td>\n",
       "      <td>90942048</td>\n",
       "      <td>45277312</td>\n",
       "      <td>399508</td>\n",
       "      <td>0.74820</td>\n",
       "      <td>0.8583</td>\n",
       "      <td>79.0</td>\n",
       "    </tr>\n",
       "    <tr>\n",
       "      <th>8528</th>\n",
       "      <td>8529</td>\n",
       "      <td>1</td>\n",
       "      <td>0080208a10080000002328000081022220000000004920...</td>\n",
       "      <td>72814848</td>\n",
       "      <td>36344224</td>\n",
       "      <td>405691</td>\n",
       "      <td>0.68130</td>\n",
       "      <td>0.9691</td>\n",
       "      <td>54.3</td>\n",
       "    </tr>\n",
       "    <tr>\n",
       "      <th>8529</th>\n",
       "      <td>8530</td>\n",
       "      <td>1</td>\n",
       "      <td>00810112200000000044a0004000000000802422080400...</td>\n",
       "      <td>16736000</td>\n",
       "      <td>8308608</td>\n",
       "      <td>118091</td>\n",
       "      <td>0.73680</td>\n",
       "      <td>0.8413</td>\n",
       "      <td>25.9</td>\n",
       "    </tr>\n",
       "    <tr>\n",
       "      <th>8530</th>\n",
       "      <td>8531</td>\n",
       "      <td>1</td>\n",
       "      <td>00808122100200000022c8000080841210020000008082...</td>\n",
       "      <td>60098624</td>\n",
       "      <td>29853952</td>\n",
       "      <td>346091</td>\n",
       "      <td>0.75370</td>\n",
       "      <td>0.9957</td>\n",
       "      <td>54.8</td>\n",
       "    </tr>\n",
       "    <tr>\n",
       "      <th>8531</th>\n",
       "      <td>8532</td>\n",
       "      <td>2</td>\n",
       "      <td>008080622000000000426000400000000024c800010000...</td>\n",
       "      <td>36330528</td>\n",
       "      <td>17999872</td>\n",
       "      <td>3564618</td>\n",
       "      <td>0.75714</td>\n",
       "      <td>0.9994</td>\n",
       "      <td>71.2</td>\n",
       "    </tr>\n",
       "  </tbody>\n",
       "</table>\n",
       "</div>"
      ],
      "text/plain": [
       "        id  exp_id                                               hash  \\\n",
       "8522  8523       1  0080882208040000400000000023500000840091100800...   \n",
       "8523  8524       1  00808412200000000044a000400000000028c800008024...   \n",
       "8524  8525       1  00802222200000000049200000820806100800000028a8...   \n",
       "8525  8526       1  0080812220000000002948000080280a10080000002350...   \n",
       "8526  8527       1  008020a208080000008401212000000000492000400000...   \n",
       "8527  8528       1  0080842108040000004310000080441208040000002530...   \n",
       "8528  8529       1  0080208a10080000002328000081022220000000004920...   \n",
       "8529  8530       1  00810112200000000044a0004000000000802422080400...   \n",
       "8530  8531       1  00808122100200000022c8000080841210020000008082...   \n",
       "8531  8532       2  008080622000000000426000400000000024c800010000...   \n",
       "\n",
       "          flops       macs   params  val_acc  train_acc   time  \n",
       "8522   29476400   14460288   158011  0.72550     0.8517  118.0  \n",
       "8523   10525248    5209088   567818  0.72490     0.9997   26.4  \n",
       "8524   31826784   15592320   970347  0.71030     0.9995  103.9  \n",
       "8525   65659808   32638208  1182954  0.73710     0.9985   75.0  \n",
       "8526  225058112  112086272  1675738  0.75190     0.9996  180.8  \n",
       "8527   90942048   45277312   399508  0.74820     0.8583   79.0  \n",
       "8528   72814848   36344224   405691  0.68130     0.9691   54.3  \n",
       "8529   16736000    8308608   118091  0.73680     0.8413   25.9  \n",
       "8530   60098624   29853952   346091  0.75370     0.9957   54.8  \n",
       "8531   36330528   17999872  3564618  0.75714     0.9994   71.2  "
      ]
     },
     "execution_count": 15,
     "metadata": {},
     "output_type": "execute_result"
    }
   ],
   "source": [
    "df[-10:]"
   ]
  },
  {
   "cell_type": "code",
   "execution_count": 16,
   "id": "8627af3c-7319-47ab-b234-f73acac207d0",
   "metadata": {},
   "outputs": [
    {
     "data": {
      "text/html": [
       "<div>\n",
       "<style scoped>\n",
       "    .dataframe tbody tr th:only-of-type {\n",
       "        vertical-align: middle;\n",
       "    }\n",
       "\n",
       "    .dataframe tbody tr th {\n",
       "        vertical-align: top;\n",
       "    }\n",
       "\n",
       "    .dataframe thead th {\n",
       "        text-align: right;\n",
       "    }\n",
       "</style>\n",
       "<table border=\"1\" class=\"dataframe\">\n",
       "  <thead>\n",
       "    <tr style=\"text-align: right;\">\n",
       "      <th></th>\n",
       "      <th>id</th>\n",
       "      <th>val_size</th>\n",
       "      <th>batch_size</th>\n",
       "      <th>num_epoch</th>\n",
       "      <th>random_seed</th>\n",
       "      <th>optimizer</th>\n",
       "      <th>opt_params</th>\n",
       "      <th>scheduler</th>\n",
       "      <th>sch_params</th>\n",
       "      <th>in_shape</th>\n",
       "      <th>out_shape</th>\n",
       "    </tr>\n",
       "  </thead>\n",
       "  <tbody>\n",
       "    <tr>\n",
       "      <th>0</th>\n",
       "      <td>1</td>\n",
       "      <td>10000</td>\n",
       "      <td>256</td>\n",
       "      <td>50</td>\n",
       "      <td>42</td>\n",
       "      <td>AdamW</td>\n",
       "      <td>\"{'lr': 0.001}\"</td>\n",
       "      <td>ExponentialLR</td>\n",
       "      <td>\"{'gamma': 0.95}\"</td>\n",
       "      <td>(3, 32, 32)</td>\n",
       "      <td>10</td>\n",
       "    </tr>\n",
       "    <tr>\n",
       "      <th>1</th>\n",
       "      <td>2</td>\n",
       "      <td>10000</td>\n",
       "      <td>256</td>\n",
       "      <td>50</td>\n",
       "      <td>42</td>\n",
       "      <td>AdamW</td>\n",
       "      <td>{\"lr\":0.001}</td>\n",
       "      <td>ExponentialLR</td>\n",
       "      <td>{\"gamma\":0.95}</td>\n",
       "      <td>(3, 32, 32)</td>\n",
       "      <td>10</td>\n",
       "    </tr>\n",
       "  </tbody>\n",
       "</table>\n",
       "</div>"
      ],
      "text/plain": [
       "   id  val_size  batch_size  num_epoch  random_seed optimizer  \\\n",
       "0   1     10000         256         50           42     AdamW   \n",
       "1   2     10000         256         50           42     AdamW   \n",
       "\n",
       "        opt_params      scheduler         sch_params     in_shape out_shape  \n",
       "0  \"{'lr': 0.001}\"  ExponentialLR  \"{'gamma': 0.95}\"  (3, 32, 32)        10  \n",
       "1     {\"lr\":0.001}  ExponentialLR     {\"gamma\":0.95}  (3, 32, 32)        10  "
      ]
     },
     "execution_count": 16,
     "metadata": {},
     "output_type": "execute_result"
    }
   ],
   "source": [
    "with database.connection() as conn:\n",
    "    exp = pd.read_sql('SELECT * from experiments', conn)\n",
    "exp"
   ]
  },
  {
   "cell_type": "code",
   "execution_count": 29,
   "id": "3b934fb03cf8b06d",
   "metadata": {
    "ExecuteTime": {
     "end_time": "2024-09-23T12:02:17.489874Z",
     "start_time": "2024-09-23T12:02:17.304757Z"
    }
   },
   "outputs": [
    {
     "data": {
      "text/plain": [
       "Conv2d       (128, 31, 31)  (2, 2)   (1, 1)  \n",
       "ReLU         (128, 31, 31) \n",
       "MaxPool2d    (128, 16, 16)  (3, 3)   (2, 2)  \n",
       "BatchNorm2d  (128, 16, 16) \n",
       "Conv2d       (96, 9, 9)     (6, 6)   (2, 2)  \n",
       "LeakyReLU    (96, 9, 9)     (0.001) \n",
       "BatchNorm2d  (96, 9, 9)    \n",
       "AvgPool2d    (96, 5, 5)     (3, 3)   (2, 2)  \n",
       "Conv2d       (96, 2, 2)     (2, 2)   (3, 3)  \n",
       "PReLU        (96, 2, 2)    \n",
       "Flatten      384           \n",
       "Linear       10            "
      ]
     },
     "execution_count": 29,
     "metadata": {},
     "output_type": "execute_result"
    }
   ],
   "source": [
    "encoder.hash2model('00804821200000000044a000400000000080809210020000400000000024d0000080880a0804000001000000', (3, 32, 32), 10)"
   ]
  }
 ],
 "metadata": {
  "kernelspec": {
   "display_name": "sophius",
   "language": "python",
   "name": "sophius"
  },
  "language_info": {
   "codemirror_mode": {
    "name": "ipython",
    "version": 3
   },
   "file_extension": ".py",
   "mimetype": "text/x-python",
   "name": "python",
   "nbconvert_exporter": "python",
   "pygments_lexer": "ipython3",
   "version": "3.8.19"
  }
 },
 "nbformat": 4,
 "nbformat_minor": 5
}
