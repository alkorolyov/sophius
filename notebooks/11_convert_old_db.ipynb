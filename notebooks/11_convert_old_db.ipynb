{
 "cells": [
  {
   "cell_type": "code",
   "id": "initial_id",
   "metadata": {
    "collapsed": true,
    "ExecuteTime": {
     "end_time": "2024-09-24T08:52:29.743617Z",
     "start_time": "2024-09-24T08:52:29.654600Z"
    }
   },
   "source": [
    "%load_ext autoreload\n",
    "%autoreload 2\n",
    "import sys\n",
    "sys.path.append('..')"
   ],
   "outputs": [
    {
     "name": "stdout",
     "output_type": "stream",
     "text": [
      "The autoreload extension is already loaded. To reload it, use:\n",
      "  %reload_ext autoreload\n"
     ]
    }
   ],
   "execution_count": 137
  },
  {
   "metadata": {
    "ExecuteTime": {
     "end_time": "2024-09-24T08:52:30.556126Z",
     "start_time": "2024-09-24T08:52:29.747620Z"
    }
   },
   "cell_type": "code",
   "source": [
    "from sophius.db import *\n",
    "import sqlite3\n",
    "import pandas as pd\n",
    "\n",
    "DEVICE_NAME = 'NVIDIA GeForce RTX 4090'\n",
    "\n",
    "with database:\n",
    "    database.create_tables([Experiments, Devices, Runs, Models, ModelEpochs])\n",
    "    \n",
    "# dev, _ = Devices.get_or_create(name=torch.cuda.get_device_name())\n",
    "dev, _ = Devices.get_or_create(name=DEVICE_NAME)  \n",
    "\n",
    "with sqlite3.connect('../data/models.db') as conn:\n",
    "    # experiments\n",
    "    exp_df = pd.read_sql('SELECT * FROM experiments', conn)\n",
    "    exp_df.id += 1\n",
    "    exp_df.drop(columns='hash', inplace=True)\n",
    "    for col in ['opt_params', 'sch_params']:\n",
    "        exp_df[col] = exp_df[col].apply(eval)\n",
    "    \n",
    "    # runs and models\n",
    "    runs_df = pd.read_sql('SELECT * FROM models', conn)\n",
    "    runs_df.id += 1\n",
    "    runs_df.exp_id = runs_df.exp_id.astype(int) + 1    \n",
    "    \n",
    "    # convert to numeric and round\n",
    "    numeric_cols = runs_df.columns.tolist()\n",
    "    numeric_cols.remove('hash')\n",
    "    for col in numeric_cols:\n",
    "        runs_df[col] = pd.to_numeric(runs_df[col], errors='coerce')\n",
    "    for col in ['val_acc', 'train_acc']:\n",
    "        runs_df[col] = runs_df[col].round(4)\n",
    "    runs_df.time = runs_df.time.round(3)\n",
    "    \n",
    "    models_df = runs_df[['hash', 'flops', 'macs', 'params']].drop_duplicates(subset='hash')\n",
    "    models_df['id'] = pd.RangeIndex(1, len(models_df) + 1)\n",
    "    \n",
    "    runs_df['model_id'] = pd.merge(runs_df, models_df, on='hash', how='left')['id_y']\n",
    "    runs_df = runs_df[['exp_id', 'model_id', 'val_acc', 'train_acc', 'time']]\n",
    "    runs_df['device_id'] = dev.id    \n",
    "    \n",
    "    # epochs\n",
    "    epochs_df = pd.read_sql('SELECT * FROM model_epochs', conn)\n",
    "    for col in epochs_df.columns:\n",
    "        epochs_df[col] = pd.to_numeric(epochs_df[col], errors='coerce')\n",
    "    epochs_df.exp_id += 1\n",
    "    epochs_df.rename(columns={'model_id': 'run_id'}, inplace=True)\n",
    "    epochs_df.run_id += 1\n",
    "    \n",
    "    # round values\n",
    "    epochs_df.epoch = epochs_df.epoch.astype(int)\n",
    "    for col in ['val_acc', 'train_acc']:\n",
    "        epochs_df[col] = epochs_df[col].round(4)\n",
    "    epochs_df.loss = epochs_df.loss.round(2)\n",
    "    epochs_df.time = epochs_df.time.round(3)"
   ],
   "id": "bf5a1704d233d92b",
   "outputs": [],
   "execution_count": 138
  },
  {
   "metadata": {
    "ExecuteTime": {
     "end_time": "2024-09-24T08:52:30.650062Z",
     "start_time": "2024-09-24T08:52:30.573464Z"
    }
   },
   "cell_type": "code",
   "source": [
    "# runs_df['model_id'] = runs_df.hash.apply(lambda x: models_df.loc[x, 'id'])\n",
    "# runs_df.model_id"
   ],
   "id": "517865c08d7a7e1d",
   "outputs": [],
   "execution_count": 139
  },
  {
   "metadata": {
    "ExecuteTime": {
     "end_time": "2024-09-24T08:52:30.759527Z",
     "start_time": "2024-09-24T08:52:30.681576Z"
    }
   },
   "cell_type": "code",
   "source": "# runs_df[runs_df.hash.duplicated(keep=False)].sort_values(by='hash')",
   "id": "4ce43c049c843f44",
   "outputs": [],
   "execution_count": 140
  },
  {
   "metadata": {
    "ExecuteTime": {
     "end_time": "2024-09-24T08:52:30.853611Z",
     "start_time": "2024-09-24T08:52:30.776578Z"
    }
   },
   "cell_type": "code",
   "source": [
    "# model_id = pd.merge(runs_df['hash'], models_df[['hash', 'id']], on='hash')['id']\n",
    "# runs_df['model_id'] = model_id"
   ],
   "id": "5266111c03d65b2c",
   "outputs": [],
   "execution_count": 141
  },
  {
   "metadata": {
    "ExecuteTime": {
     "end_time": "2024-09-24T08:52:30.976753Z",
     "start_time": "2024-09-24T08:52:30.886600Z"
    }
   },
   "cell_type": "code",
   "source": "runs_df",
   "id": "1c0fd1e53a767819",
   "outputs": [
    {
     "data": {
      "text/plain": [
       "      exp_id  model_id  val_acc  train_acc     time  device_id\n",
       "0          1         1   0.6631     0.8660   14.334          1\n",
       "1          1         2   0.3999     0.4053   14.215          1\n",
       "2          1         3   0.6422     0.7010   14.050          1\n",
       "3          1         4   0.4792     0.4886   16.747          1\n",
       "4          1         5   0.4366     0.4397   18.272          1\n",
       "...      ...       ...      ...        ...      ...        ...\n",
       "8526       1      8511   0.7519     0.9996  180.765          1\n",
       "8527       1      8512   0.7482     0.8583   78.988          1\n",
       "8528       1      8513   0.6813     0.9691   54.347          1\n",
       "8529       1      8514   0.7368     0.8413   25.946          1\n",
       "8530       1      8515   0.7537     0.9957   54.824          1\n",
       "\n",
       "[8531 rows x 6 columns]"
      ],
      "text/html": [
       "<div>\n",
       "<style scoped>\n",
       "    .dataframe tbody tr th:only-of-type {\n",
       "        vertical-align: middle;\n",
       "    }\n",
       "\n",
       "    .dataframe tbody tr th {\n",
       "        vertical-align: top;\n",
       "    }\n",
       "\n",
       "    .dataframe thead th {\n",
       "        text-align: right;\n",
       "    }\n",
       "</style>\n",
       "<table border=\"1\" class=\"dataframe\">\n",
       "  <thead>\n",
       "    <tr style=\"text-align: right;\">\n",
       "      <th></th>\n",
       "      <th>exp_id</th>\n",
       "      <th>model_id</th>\n",
       "      <th>val_acc</th>\n",
       "      <th>train_acc</th>\n",
       "      <th>time</th>\n",
       "      <th>device_id</th>\n",
       "    </tr>\n",
       "  </thead>\n",
       "  <tbody>\n",
       "    <tr>\n",
       "      <th>0</th>\n",
       "      <td>1</td>\n",
       "      <td>1</td>\n",
       "      <td>0.6631</td>\n",
       "      <td>0.8660</td>\n",
       "      <td>14.334</td>\n",
       "      <td>1</td>\n",
       "    </tr>\n",
       "    <tr>\n",
       "      <th>1</th>\n",
       "      <td>1</td>\n",
       "      <td>2</td>\n",
       "      <td>0.3999</td>\n",
       "      <td>0.4053</td>\n",
       "      <td>14.215</td>\n",
       "      <td>1</td>\n",
       "    </tr>\n",
       "    <tr>\n",
       "      <th>2</th>\n",
       "      <td>1</td>\n",
       "      <td>3</td>\n",
       "      <td>0.6422</td>\n",
       "      <td>0.7010</td>\n",
       "      <td>14.050</td>\n",
       "      <td>1</td>\n",
       "    </tr>\n",
       "    <tr>\n",
       "      <th>3</th>\n",
       "      <td>1</td>\n",
       "      <td>4</td>\n",
       "      <td>0.4792</td>\n",
       "      <td>0.4886</td>\n",
       "      <td>16.747</td>\n",
       "      <td>1</td>\n",
       "    </tr>\n",
       "    <tr>\n",
       "      <th>4</th>\n",
       "      <td>1</td>\n",
       "      <td>5</td>\n",
       "      <td>0.4366</td>\n",
       "      <td>0.4397</td>\n",
       "      <td>18.272</td>\n",
       "      <td>1</td>\n",
       "    </tr>\n",
       "    <tr>\n",
       "      <th>...</th>\n",
       "      <td>...</td>\n",
       "      <td>...</td>\n",
       "      <td>...</td>\n",
       "      <td>...</td>\n",
       "      <td>...</td>\n",
       "      <td>...</td>\n",
       "    </tr>\n",
       "    <tr>\n",
       "      <th>8526</th>\n",
       "      <td>1</td>\n",
       "      <td>8511</td>\n",
       "      <td>0.7519</td>\n",
       "      <td>0.9996</td>\n",
       "      <td>180.765</td>\n",
       "      <td>1</td>\n",
       "    </tr>\n",
       "    <tr>\n",
       "      <th>8527</th>\n",
       "      <td>1</td>\n",
       "      <td>8512</td>\n",
       "      <td>0.7482</td>\n",
       "      <td>0.8583</td>\n",
       "      <td>78.988</td>\n",
       "      <td>1</td>\n",
       "    </tr>\n",
       "    <tr>\n",
       "      <th>8528</th>\n",
       "      <td>1</td>\n",
       "      <td>8513</td>\n",
       "      <td>0.6813</td>\n",
       "      <td>0.9691</td>\n",
       "      <td>54.347</td>\n",
       "      <td>1</td>\n",
       "    </tr>\n",
       "    <tr>\n",
       "      <th>8529</th>\n",
       "      <td>1</td>\n",
       "      <td>8514</td>\n",
       "      <td>0.7368</td>\n",
       "      <td>0.8413</td>\n",
       "      <td>25.946</td>\n",
       "      <td>1</td>\n",
       "    </tr>\n",
       "    <tr>\n",
       "      <th>8530</th>\n",
       "      <td>1</td>\n",
       "      <td>8515</td>\n",
       "      <td>0.7537</td>\n",
       "      <td>0.9957</td>\n",
       "      <td>54.824</td>\n",
       "      <td>1</td>\n",
       "    </tr>\n",
       "  </tbody>\n",
       "</table>\n",
       "<p>8531 rows × 6 columns</p>\n",
       "</div>"
      ]
     },
     "execution_count": 142,
     "metadata": {},
     "output_type": "execute_result"
    }
   ],
   "execution_count": 142
  },
  {
   "metadata": {
    "ExecuteTime": {
     "end_time": "2024-09-24T08:52:31.132516Z",
     "start_time": "2024-09-24T08:52:31.040050Z"
    }
   },
   "cell_type": "code",
   "source": [
    "exp_params = exp_df.to_dict(orient='records')\n",
    "exp_params"
   ],
   "id": "bccd73e3c6b026af",
   "outputs": [
    {
     "data": {
      "text/plain": [
       "[{'id': 1,\n",
       "  'val_size': 10000,\n",
       "  'batch_size': 256,\n",
       "  'num_epoch': 50,\n",
       "  'random_seed': 42,\n",
       "  'optimizer': 'AdamW',\n",
       "  'opt_params': {'lr': 0.001},\n",
       "  'scheduler': 'ExponentialLR',\n",
       "  'sch_params': {'gamma': 0.95},\n",
       "  'in_shape': '(3, 32, 32)',\n",
       "  'out_shape': '10'}]"
      ]
     },
     "execution_count": 143,
     "metadata": {},
     "output_type": "execute_result"
    }
   ],
   "execution_count": 143
  },
  {
   "metadata": {
    "ExecuteTime": {
     "end_time": "2024-09-24T08:52:31.258064Z",
     "start_time": "2024-09-24T08:52:31.165311Z"
    }
   },
   "cell_type": "code",
   "source": [
    "print('Insert experiments')    \n",
    "for exp_params in exp_df.to_dict(orient='records'):    \n",
    "    Experiments.insert(**exp_params).on_conflict_ignore().execute()"
   ],
   "id": "3ec907ded1447400",
   "outputs": [
    {
     "name": "stdout",
     "output_type": "stream",
     "text": [
      "Insert experiments\n"
     ]
    }
   ],
   "execution_count": 144
  },
  {
   "metadata": {
    "ExecuteTime": {
     "end_time": "2024-09-24T08:52:31.352689Z",
     "start_time": "2024-09-24T08:52:31.266577Z"
    }
   },
   "cell_type": "code",
   "source": "epochs_df",
   "id": "e3d8ebfabbc4bece",
   "outputs": [
    {
     "data": {
      "text/plain": [
       "        epoch    loss  train_acc  val_acc    time  run_id  exp_id\n",
       "0           0  240.27     0.5451   0.5290   0.406       1       1\n",
       "1           1  190.27     0.6085   0.5800   0.708       1       1\n",
       "2           2  171.38     0.6453   0.6024   1.006       1       1\n",
       "3           3  159.32     0.6731   0.6152   1.303       1       1\n",
       "4           4  150.31     0.6932   0.6242   1.602       1       1\n",
       "...       ...     ...        ...      ...     ...     ...     ...\n",
       "426545     45    1.18     0.9974   0.7528  50.568    8531       1\n",
       "426546     46    1.00     0.9981   0.7551  51.626    8531       1\n",
       "426547     47    0.87     0.9983   0.7556  52.685    8531       1\n",
       "426548     48    0.77     0.9982   0.7558  53.740    8531       1\n",
       "426549     49    0.69     0.9983   0.7566  54.824    8531       1\n",
       "\n",
       "[426550 rows x 7 columns]"
      ],
      "text/html": [
       "<div>\n",
       "<style scoped>\n",
       "    .dataframe tbody tr th:only-of-type {\n",
       "        vertical-align: middle;\n",
       "    }\n",
       "\n",
       "    .dataframe tbody tr th {\n",
       "        vertical-align: top;\n",
       "    }\n",
       "\n",
       "    .dataframe thead th {\n",
       "        text-align: right;\n",
       "    }\n",
       "</style>\n",
       "<table border=\"1\" class=\"dataframe\">\n",
       "  <thead>\n",
       "    <tr style=\"text-align: right;\">\n",
       "      <th></th>\n",
       "      <th>epoch</th>\n",
       "      <th>loss</th>\n",
       "      <th>train_acc</th>\n",
       "      <th>val_acc</th>\n",
       "      <th>time</th>\n",
       "      <th>run_id</th>\n",
       "      <th>exp_id</th>\n",
       "    </tr>\n",
       "  </thead>\n",
       "  <tbody>\n",
       "    <tr>\n",
       "      <th>0</th>\n",
       "      <td>0</td>\n",
       "      <td>240.27</td>\n",
       "      <td>0.5451</td>\n",
       "      <td>0.5290</td>\n",
       "      <td>0.406</td>\n",
       "      <td>1</td>\n",
       "      <td>1</td>\n",
       "    </tr>\n",
       "    <tr>\n",
       "      <th>1</th>\n",
       "      <td>1</td>\n",
       "      <td>190.27</td>\n",
       "      <td>0.6085</td>\n",
       "      <td>0.5800</td>\n",
       "      <td>0.708</td>\n",
       "      <td>1</td>\n",
       "      <td>1</td>\n",
       "    </tr>\n",
       "    <tr>\n",
       "      <th>2</th>\n",
       "      <td>2</td>\n",
       "      <td>171.38</td>\n",
       "      <td>0.6453</td>\n",
       "      <td>0.6024</td>\n",
       "      <td>1.006</td>\n",
       "      <td>1</td>\n",
       "      <td>1</td>\n",
       "    </tr>\n",
       "    <tr>\n",
       "      <th>3</th>\n",
       "      <td>3</td>\n",
       "      <td>159.32</td>\n",
       "      <td>0.6731</td>\n",
       "      <td>0.6152</td>\n",
       "      <td>1.303</td>\n",
       "      <td>1</td>\n",
       "      <td>1</td>\n",
       "    </tr>\n",
       "    <tr>\n",
       "      <th>4</th>\n",
       "      <td>4</td>\n",
       "      <td>150.31</td>\n",
       "      <td>0.6932</td>\n",
       "      <td>0.6242</td>\n",
       "      <td>1.602</td>\n",
       "      <td>1</td>\n",
       "      <td>1</td>\n",
       "    </tr>\n",
       "    <tr>\n",
       "      <th>...</th>\n",
       "      <td>...</td>\n",
       "      <td>...</td>\n",
       "      <td>...</td>\n",
       "      <td>...</td>\n",
       "      <td>...</td>\n",
       "      <td>...</td>\n",
       "      <td>...</td>\n",
       "    </tr>\n",
       "    <tr>\n",
       "      <th>426545</th>\n",
       "      <td>45</td>\n",
       "      <td>1.18</td>\n",
       "      <td>0.9974</td>\n",
       "      <td>0.7528</td>\n",
       "      <td>50.568</td>\n",
       "      <td>8531</td>\n",
       "      <td>1</td>\n",
       "    </tr>\n",
       "    <tr>\n",
       "      <th>426546</th>\n",
       "      <td>46</td>\n",
       "      <td>1.00</td>\n",
       "      <td>0.9981</td>\n",
       "      <td>0.7551</td>\n",
       "      <td>51.626</td>\n",
       "      <td>8531</td>\n",
       "      <td>1</td>\n",
       "    </tr>\n",
       "    <tr>\n",
       "      <th>426547</th>\n",
       "      <td>47</td>\n",
       "      <td>0.87</td>\n",
       "      <td>0.9983</td>\n",
       "      <td>0.7556</td>\n",
       "      <td>52.685</td>\n",
       "      <td>8531</td>\n",
       "      <td>1</td>\n",
       "    </tr>\n",
       "    <tr>\n",
       "      <th>426548</th>\n",
       "      <td>48</td>\n",
       "      <td>0.77</td>\n",
       "      <td>0.9982</td>\n",
       "      <td>0.7558</td>\n",
       "      <td>53.740</td>\n",
       "      <td>8531</td>\n",
       "      <td>1</td>\n",
       "    </tr>\n",
       "    <tr>\n",
       "      <th>426549</th>\n",
       "      <td>49</td>\n",
       "      <td>0.69</td>\n",
       "      <td>0.9983</td>\n",
       "      <td>0.7566</td>\n",
       "      <td>54.824</td>\n",
       "      <td>8531</td>\n",
       "      <td>1</td>\n",
       "    </tr>\n",
       "  </tbody>\n",
       "</table>\n",
       "<p>426550 rows × 7 columns</p>\n",
       "</div>"
      ]
     },
     "execution_count": 145,
     "metadata": {},
     "output_type": "execute_result"
    }
   ],
   "execution_count": 145
  },
  {
   "metadata": {
    "ExecuteTime": {
     "end_time": "2024-09-24T08:52:31.525267Z",
     "start_time": "2024-09-24T08:52:31.416453Z"
    }
   },
   "cell_type": "code",
   "source": [
    "for exp_params in exp_df.to_dict(orient='records'):\n",
    "    print(exp_params)\n"
   ],
   "id": "98e3714bd908a9f9",
   "outputs": [
    {
     "name": "stdout",
     "output_type": "stream",
     "text": [
      "{'id': 1, 'val_size': 10000, 'batch_size': 256, 'num_epoch': 50, 'random_seed': 42, 'optimizer': 'AdamW', 'opt_params': {'lr': 0.001}, 'scheduler': 'ExponentialLR', 'sch_params': {'gamma': 0.95}, 'in_shape': '(3, 32, 32)', 'out_shape': '10'}\n"
     ]
    }
   ],
   "execution_count": 146
  },
  {
   "metadata": {
    "ExecuteTime": {
     "end_time": "2024-09-24T08:52:31.649932Z",
     "start_time": "2024-09-24T08:52:31.558275Z"
    }
   },
   "cell_type": "code",
   "source": "Experiments.insert(**exp_params).on_conflict_ignore().execute()",
   "id": "59b3d6f12ab8ee4d",
   "outputs": [
    {
     "data": {
      "text/plain": [
       "1"
      ]
     },
     "execution_count": 147,
     "metadata": {},
     "output_type": "execute_result"
    }
   ],
   "execution_count": 147
  },
  {
   "metadata": {
    "ExecuteTime": {
     "end_time": "2024-09-24T08:53:23.054664Z",
     "start_time": "2024-09-24T08:52:31.656485Z"
    }
   },
   "cell_type": "code",
   "source": [
    "from tqdm import tqdm\n",
    "\n",
    "print('Insert experiments')    \n",
    "for exp_params in exp_df.to_dict(orient='records'):    \n",
    "    Experiments.insert(**exp_params).on_conflict_ignore().execute()\n",
    "    \n",
    "print('Insert models')\n",
    "Models.insert_many(models_df.to_dict(orient='records')).on_conflict_ignore().execute()\n",
    "\n",
    "print('Insert runs')\n",
    "Runs.insert_many(runs_df.to_dict(orient='records')).on_conflict_ignore().execute()\n",
    "\n",
    "print('Insert epochs')\n",
    "for i in tqdm(epochs_df.run_id.unique()):\n",
    "    mask = epochs_df.run_id == i\n",
    "    ModelEpochs.insert_many(epochs_df[mask].to_dict(orient='records')).on_conflict_ignore().execute()"
   ],
   "id": "ef2f9001ea9d51d9",
   "outputs": [
    {
     "name": "stdout",
     "output_type": "stream",
     "text": [
      "Insert experiments\n",
      "Insert models\n",
      "Insert runs\n",
      "Insert epochs\n"
     ]
    },
    {
     "name": "stderr",
     "output_type": "stream",
     "text": [
      "100%|██████████| 8531/8531 [00:50<00:00, 167.99it/s]\n"
     ]
    }
   ],
   "execution_count": 148
  }
 ],
 "metadata": {
  "kernelspec": {
   "display_name": "sophius",
   "language": "python",
   "name": "sophius"
  },
  "language_info": {
   "codemirror_mode": {
    "name": "ipython",
    "version": 2
   },
   "file_extension": ".py",
   "mimetype": "text/x-python",
   "name": "python",
   "nbconvert_exporter": "python",
   "pygments_lexer": "ipython2",
   "version": "2.7.6"
  }
 },
 "nbformat": 4,
 "nbformat_minor": 5
}
