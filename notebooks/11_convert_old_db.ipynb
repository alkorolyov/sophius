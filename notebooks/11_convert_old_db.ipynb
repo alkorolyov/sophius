{
 "cells": [
  {
   "cell_type": "code",
   "id": "initial_id",
   "metadata": {
    "collapsed": true,
    "ExecuteTime": {
     "end_time": "2024-09-23T12:58:38.149391Z",
     "start_time": "2024-09-23T12:58:38.063567Z"
    }
   },
   "source": [
    "%load_ext autoreload\n",
    "%autoreload 2\n",
    "import sys\n",
    "sys.path.append('..')"
   ],
   "outputs": [
    {
     "name": "stdout",
     "output_type": "stream",
     "text": [
      "The autoreload extension is already loaded. To reload it, use:\n",
      "  %reload_ext autoreload\n"
     ]
    }
   ],
   "execution_count": 70
  },
  {
   "metadata": {
    "ExecuteTime": {
     "end_time": "2024-09-23T12:58:54.107053Z",
     "start_time": "2024-09-23T12:58:53.250928Z"
    }
   },
   "cell_type": "code",
   "source": [
    "from sophius.db import database, Experiments, Models, ModelEpochs\n",
    "import sqlite3\n",
    "import pandas as pd\n",
    "\n",
    "with database:\n",
    "    database.create_tables([Experiments, Models, ModelEpochs])\n",
    "\n",
    "with sqlite3.connect('../data/models.db') as conn:\n",
    "    exp_df = pd.read_sql('SELECT * FROM experiments', conn)\n",
    "    exp_df.id += 1\n",
    "    exp_df.drop(columns='hash', inplace=True)\n",
    "    for col in ['opt_params', 'sch_params']:\n",
    "        exp_df[col] = exp_df[col].apply(eval)\n",
    "    \n",
    "    models_df = pd.read_sql('SELECT * FROM models', conn)\n",
    "    models_df.id += 1\n",
    "    models_df.exp_id = models_df.exp_id.astype(int) + 1\n",
    "    \n",
    "    numeric_cols = models_df.columns.tolist()\n",
    "    numeric_cols.remove('hash')\n",
    "    for col in numeric_cols:\n",
    "        models_df[col] = pd.to_numeric(models_df[col], errors='coerce')        \n",
    "    for col in ['val_acc', 'train_acc']:\n",
    "        models_df[col] = models_df[col].round(4)\n",
    "    models_df.time = models_df.time.round(1)\n",
    "    \n",
    "    epochs_df = pd.read_sql('SELECT * FROM model_epochs', conn)\n",
    "    for col in epochs_df.columns:\n",
    "        epochs_df[col] = pd.to_numeric(epochs_df[col], errors='coerce')\n",
    "    epochs_df.exp_id += 1\n",
    "    epochs_df.model_id += 1    \n",
    "    epochs_df.epoch = epochs_df.epoch.astype(int)\n",
    "    for col in ['val_acc', 'train_acc']:\n",
    "        epochs_df[col] = epochs_df[col].round(4)\n",
    "    epochs_df.loss = epochs_df.loss.round(2)\n",
    "    epochs_df.time = epochs_df.time.round(1)\n",
    "    \n",
    "exp_df"
   ],
   "id": "bf5a1704d233d92b",
   "outputs": [
    {
     "data": {
      "text/plain": [
       "   id  val_size  batch_size  num_epoch  random_seed optimizer     opt_params  \\\n",
       "0   1     10000         256         50           42     AdamW  {'lr': 0.001}   \n",
       "\n",
       "       scheduler       sch_params     in_shape out_shape  \n",
       "0  ExponentialLR  {'gamma': 0.95}  (3, 32, 32)        10  "
      ],
      "text/html": [
       "<div>\n",
       "<style scoped>\n",
       "    .dataframe tbody tr th:only-of-type {\n",
       "        vertical-align: middle;\n",
       "    }\n",
       "\n",
       "    .dataframe tbody tr th {\n",
       "        vertical-align: top;\n",
       "    }\n",
       "\n",
       "    .dataframe thead th {\n",
       "        text-align: right;\n",
       "    }\n",
       "</style>\n",
       "<table border=\"1\" class=\"dataframe\">\n",
       "  <thead>\n",
       "    <tr style=\"text-align: right;\">\n",
       "      <th></th>\n",
       "      <th>id</th>\n",
       "      <th>val_size</th>\n",
       "      <th>batch_size</th>\n",
       "      <th>num_epoch</th>\n",
       "      <th>random_seed</th>\n",
       "      <th>optimizer</th>\n",
       "      <th>opt_params</th>\n",
       "      <th>scheduler</th>\n",
       "      <th>sch_params</th>\n",
       "      <th>in_shape</th>\n",
       "      <th>out_shape</th>\n",
       "    </tr>\n",
       "  </thead>\n",
       "  <tbody>\n",
       "    <tr>\n",
       "      <th>0</th>\n",
       "      <td>1</td>\n",
       "      <td>10000</td>\n",
       "      <td>256</td>\n",
       "      <td>50</td>\n",
       "      <td>42</td>\n",
       "      <td>AdamW</td>\n",
       "      <td>{'lr': 0.001}</td>\n",
       "      <td>ExponentialLR</td>\n",
       "      <td>{'gamma': 0.95}</td>\n",
       "      <td>(3, 32, 32)</td>\n",
       "      <td>10</td>\n",
       "    </tr>\n",
       "  </tbody>\n",
       "</table>\n",
       "</div>"
      ]
     },
     "execution_count": 71,
     "metadata": {},
     "output_type": "execute_result"
    }
   ],
   "execution_count": 71
  },
  {
   "metadata": {},
   "cell_type": "code",
   "outputs": [],
   "execution_count": null,
   "source": "",
   "id": "fe97165f57b23f54"
  },
  {
   "metadata": {
    "ExecuteTime": {
     "end_time": "2024-09-23T12:59:52.507222Z",
     "start_time": "2024-09-23T12:59:52.434373Z"
    }
   },
   "cell_type": "code",
   "source": [
    "exp_params = exp_df.to_dict(orient='records')\n",
    "exp_params"
   ],
   "id": "bccd73e3c6b026af",
   "outputs": [
    {
     "data": {
      "text/plain": [
       "[{'id': 1,\n",
       "  'val_size': 10000,\n",
       "  'batch_size': 256,\n",
       "  'num_epoch': 50,\n",
       "  'random_seed': 42,\n",
       "  'optimizer': 'AdamW',\n",
       "  'opt_params': {'lr': 0.001},\n",
       "  'scheduler': 'ExponentialLR',\n",
       "  'sch_params': {'gamma': 0.95},\n",
       "  'in_shape': '(3, 32, 32)',\n",
       "  'out_shape': '10'}]"
      ]
     },
     "execution_count": 76,
     "metadata": {},
     "output_type": "execute_result"
    }
   ],
   "execution_count": 76
  },
  {
   "metadata": {
    "ExecuteTime": {
     "end_time": "2024-09-23T13:00:17.230518Z",
     "start_time": "2024-09-23T13:00:17.156029Z"
    }
   },
   "cell_type": "code",
   "source": [
    "print('Insert experiments')    \n",
    "for exp_params in exp_df.to_dict(orient='records'):    \n",
    "    Experiments.insert(**exp_params).on_conflict_ignore().execute()"
   ],
   "id": "3ec907ded1447400",
   "outputs": [
    {
     "name": "stdout",
     "output_type": "stream",
     "text": [
      "Insert experiments\n"
     ]
    }
   ],
   "execution_count": 78
  },
  {
   "metadata": {
    "ExecuteTime": {
     "end_time": "2024-09-23T12:39:59.062440Z",
     "start_time": "2024-09-23T12:39:09.348744Z"
    }
   },
   "cell_type": "code",
   "source": [
    "from tqdm import tqdm\n",
    "\n",
    "print('Insert experiments')    \n",
    "for exp_params in exp_df.to_dict(orient='records'):    \n",
    "    Experiments.insert(**exp_params).on_conflict_ignore().execute()\n",
    "    \n",
    "print('Insert models')    \n",
    "Models.insert_many(models_df.to_dict(orient='records')).on_conflict_ignore().execute()    \n",
    "print('Insert epochs')\n",
    "for i in tqdm(models_df.id.unique()):\n",
    "    mask = epochs_df.model_id == i\n",
    "    ModelEpochs.insert_many(epochs_df[mask].to_dict(orient='records')).on_conflict_ignore().execute()"
   ],
   "id": "ef2f9001ea9d51d9",
   "outputs": [
    {
     "name": "stdout",
     "output_type": "stream",
     "text": [
      "Insert experiments\n",
      "Insert models\n",
      "Insert epochs\n"
     ]
    },
    {
     "name": "stderr",
     "output_type": "stream",
     "text": [
      "100%|██████████| 8531/8531 [00:49<00:00, 172.86it/s]\n"
     ]
    }
   ],
   "execution_count": 69
  }
 ],
 "metadata": {
  "kernelspec": {
   "display_name": "sophius",
   "language": "python",
   "name": "sophius"
  },
  "language_info": {
   "codemirror_mode": {
    "name": "ipython",
    "version": 2
   },
   "file_extension": ".py",
   "mimetype": "text/x-python",
   "name": "python",
   "nbconvert_exporter": "python",
   "pygments_lexer": "ipython2",
   "version": "2.7.6"
  }
 },
 "nbformat": 4,
 "nbformat_minor": 5
}
