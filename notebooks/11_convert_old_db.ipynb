{
 "cells": [
  {
   "cell_type": "code",
   "id": "initial_id",
   "metadata": {
    "collapsed": true,
    "ExecuteTime": {
     "end_time": "2024-09-23T12:39:08.287723Z",
     "start_time": "2024-09-23T12:39:08.223729Z"
    }
   },
   "source": [
    "%load_ext autoreload\n",
    "%autoreload 2\n",
    "import sys\n",
    "sys.path.append('..')"
   ],
   "outputs": [
    {
     "name": "stdout",
     "output_type": "stream",
     "text": [
      "The autoreload extension is already loaded. To reload it, use:\n",
      "  %reload_ext autoreload\n"
     ]
    }
   ],
   "execution_count": 66
  },
  {
   "metadata": {
    "ExecuteTime": {
     "end_time": "2024-09-23T12:39:09.177240Z",
     "start_time": "2024-09-23T12:39:08.296872Z"
    }
   },
   "cell_type": "code",
   "source": [
    "from sophius.db import database, Experiments, Models, ModelEpochs\n",
    "import sqlite3\n",
    "import pandas as pd\n",
    "\n",
    "with database:\n",
    "    database.create_tables([Experiments, Models, ModelEpochs])\n",
    "\n",
    "with sqlite3.connect('../data/models.db') as conn:\n",
    "    exp_df = pd.read_sql('SELECT * FROM experiments', conn)\n",
    "    exp_df.id += 1\n",
    "    exp_df.drop(columns='hash', inplace=True)\n",
    "    \n",
    "    models_df = pd.read_sql('SELECT * FROM models', conn)\n",
    "    models_df.id += 1\n",
    "    models_df.exp_id = models_df.exp_id.astype(int) + 1\n",
    "    \n",
    "    numeric_cols = models_df.columns.tolist()\n",
    "    numeric_cols.remove('hash')\n",
    "    for col in numeric_cols:\n",
    "        models_df[col] = pd.to_numeric(models_df[col], errors='coerce')        \n",
    "    for col in ['val_acc', 'train_acc']:\n",
    "        models_df[col] = models_df[col].round(4)\n",
    "    models_df.time = models_df.time.round(1)\n",
    "    \n",
    "    epochs_df = pd.read_sql('SELECT * FROM model_epochs', conn)\n",
    "    for col in epochs_df.columns:\n",
    "        epochs_df[col] = pd.to_numeric(epochs_df[col], errors='coerce')\n",
    "    epochs_df.exp_id += 1\n",
    "    epochs_df.model_id += 1    \n",
    "    epochs_df.epoch = epochs_df.epoch.astype(int)\n",
    "    for col in ['val_acc', 'train_acc']:\n",
    "        epochs_df[col] = epochs_df[col].round(4)\n",
    "    epochs_df.loss = epochs_df.loss.round(2)\n",
    "    epochs_df.time = epochs_df.time.round(1)\n",
    "    \n",
    "epochs_df"
   ],
   "id": "bf5a1704d233d92b",
   "outputs": [
    {
     "data": {
      "text/plain": [
       "        epoch    loss  train_acc  val_acc  time  model_id  exp_id\n",
       "0           0  240.27     0.5451   0.5290   0.4         1       1\n",
       "1           1  190.27     0.6085   0.5800   0.7         1       1\n",
       "2           2  171.38     0.6453   0.6024   1.0         1       1\n",
       "3           3  159.32     0.6731   0.6152   1.3         1       1\n",
       "4           4  150.31     0.6932   0.6242   1.6         1       1\n",
       "...       ...     ...        ...      ...   ...       ...     ...\n",
       "426545     45    1.18     0.9974   0.7528  50.6      8531       1\n",
       "426546     46    1.00     0.9981   0.7551  51.6      8531       1\n",
       "426547     47    0.87     0.9983   0.7556  52.7      8531       1\n",
       "426548     48    0.77     0.9982   0.7558  53.7      8531       1\n",
       "426549     49    0.69     0.9983   0.7566  54.8      8531       1\n",
       "\n",
       "[426550 rows x 7 columns]"
      ],
      "text/html": [
       "<div>\n",
       "<style scoped>\n",
       "    .dataframe tbody tr th:only-of-type {\n",
       "        vertical-align: middle;\n",
       "    }\n",
       "\n",
       "    .dataframe tbody tr th {\n",
       "        vertical-align: top;\n",
       "    }\n",
       "\n",
       "    .dataframe thead th {\n",
       "        text-align: right;\n",
       "    }\n",
       "</style>\n",
       "<table border=\"1\" class=\"dataframe\">\n",
       "  <thead>\n",
       "    <tr style=\"text-align: right;\">\n",
       "      <th></th>\n",
       "      <th>epoch</th>\n",
       "      <th>loss</th>\n",
       "      <th>train_acc</th>\n",
       "      <th>val_acc</th>\n",
       "      <th>time</th>\n",
       "      <th>model_id</th>\n",
       "      <th>exp_id</th>\n",
       "    </tr>\n",
       "  </thead>\n",
       "  <tbody>\n",
       "    <tr>\n",
       "      <th>0</th>\n",
       "      <td>0</td>\n",
       "      <td>240.27</td>\n",
       "      <td>0.5451</td>\n",
       "      <td>0.5290</td>\n",
       "      <td>0.4</td>\n",
       "      <td>1</td>\n",
       "      <td>1</td>\n",
       "    </tr>\n",
       "    <tr>\n",
       "      <th>1</th>\n",
       "      <td>1</td>\n",
       "      <td>190.27</td>\n",
       "      <td>0.6085</td>\n",
       "      <td>0.5800</td>\n",
       "      <td>0.7</td>\n",
       "      <td>1</td>\n",
       "      <td>1</td>\n",
       "    </tr>\n",
       "    <tr>\n",
       "      <th>2</th>\n",
       "      <td>2</td>\n",
       "      <td>171.38</td>\n",
       "      <td>0.6453</td>\n",
       "      <td>0.6024</td>\n",
       "      <td>1.0</td>\n",
       "      <td>1</td>\n",
       "      <td>1</td>\n",
       "    </tr>\n",
       "    <tr>\n",
       "      <th>3</th>\n",
       "      <td>3</td>\n",
       "      <td>159.32</td>\n",
       "      <td>0.6731</td>\n",
       "      <td>0.6152</td>\n",
       "      <td>1.3</td>\n",
       "      <td>1</td>\n",
       "      <td>1</td>\n",
       "    </tr>\n",
       "    <tr>\n",
       "      <th>4</th>\n",
       "      <td>4</td>\n",
       "      <td>150.31</td>\n",
       "      <td>0.6932</td>\n",
       "      <td>0.6242</td>\n",
       "      <td>1.6</td>\n",
       "      <td>1</td>\n",
       "      <td>1</td>\n",
       "    </tr>\n",
       "    <tr>\n",
       "      <th>...</th>\n",
       "      <td>...</td>\n",
       "      <td>...</td>\n",
       "      <td>...</td>\n",
       "      <td>...</td>\n",
       "      <td>...</td>\n",
       "      <td>...</td>\n",
       "      <td>...</td>\n",
       "    </tr>\n",
       "    <tr>\n",
       "      <th>426545</th>\n",
       "      <td>45</td>\n",
       "      <td>1.18</td>\n",
       "      <td>0.9974</td>\n",
       "      <td>0.7528</td>\n",
       "      <td>50.6</td>\n",
       "      <td>8531</td>\n",
       "      <td>1</td>\n",
       "    </tr>\n",
       "    <tr>\n",
       "      <th>426546</th>\n",
       "      <td>46</td>\n",
       "      <td>1.00</td>\n",
       "      <td>0.9981</td>\n",
       "      <td>0.7551</td>\n",
       "      <td>51.6</td>\n",
       "      <td>8531</td>\n",
       "      <td>1</td>\n",
       "    </tr>\n",
       "    <tr>\n",
       "      <th>426547</th>\n",
       "      <td>47</td>\n",
       "      <td>0.87</td>\n",
       "      <td>0.9983</td>\n",
       "      <td>0.7556</td>\n",
       "      <td>52.7</td>\n",
       "      <td>8531</td>\n",
       "      <td>1</td>\n",
       "    </tr>\n",
       "    <tr>\n",
       "      <th>426548</th>\n",
       "      <td>48</td>\n",
       "      <td>0.77</td>\n",
       "      <td>0.9982</td>\n",
       "      <td>0.7558</td>\n",
       "      <td>53.7</td>\n",
       "      <td>8531</td>\n",
       "      <td>1</td>\n",
       "    </tr>\n",
       "    <tr>\n",
       "      <th>426549</th>\n",
       "      <td>49</td>\n",
       "      <td>0.69</td>\n",
       "      <td>0.9983</td>\n",
       "      <td>0.7566</td>\n",
       "      <td>54.8</td>\n",
       "      <td>8531</td>\n",
       "      <td>1</td>\n",
       "    </tr>\n",
       "  </tbody>\n",
       "</table>\n",
       "<p>426550 rows × 7 columns</p>\n",
       "</div>"
      ]
     },
     "execution_count": 67,
     "metadata": {},
     "output_type": "execute_result"
    }
   ],
   "execution_count": 67
  },
  {
   "metadata": {
    "ExecuteTime": {
     "end_time": "2024-09-23T12:39:09.317075Z",
     "start_time": "2024-09-23T12:39:09.240425Z"
    }
   },
   "cell_type": "code",
   "source": [
    "exp_params = exp_df.to_dict(orient='records')\n",
    "exp_params"
   ],
   "id": "bccd73e3c6b026af",
   "outputs": [
    {
     "data": {
      "text/plain": [
       "[{'id': 1,\n",
       "  'val_size': 10000,\n",
       "  'batch_size': 256,\n",
       "  'num_epoch': 50,\n",
       "  'random_seed': 42,\n",
       "  'optimizer': 'AdamW',\n",
       "  'opt_params': \"{'lr': 0.001}\",\n",
       "  'scheduler': 'ExponentialLR',\n",
       "  'sch_params': \"{'gamma': 0.95}\",\n",
       "  'in_shape': '(3, 32, 32)',\n",
       "  'out_shape': '10'}]"
      ]
     },
     "execution_count": 68,
     "metadata": {},
     "output_type": "execute_result"
    }
   ],
   "execution_count": 68
  },
  {
   "metadata": {
    "ExecuteTime": {
     "end_time": "2024-09-23T12:39:59.062440Z",
     "start_time": "2024-09-23T12:39:09.348744Z"
    }
   },
   "cell_type": "code",
   "source": [
    "from tqdm import tqdm\n",
    "\n",
    "print('Insert experiments')    \n",
    "for exp_params in exp_df.to_dict(orient='records'):    \n",
    "    Experiments.insert(**exp_params).on_conflict_ignore().execute()\n",
    "    \n",
    "print('Insert models')    \n",
    "Models.insert_many(models_df.to_dict(orient='records')).on_conflict_ignore().execute()    \n",
    "print('Insert epochs')\n",
    "for i in tqdm(models_df.id.unique()):\n",
    "    mask = epochs_df.model_id == i\n",
    "    ModelEpochs.insert_many(epochs_df[mask].to_dict(orient='records')).on_conflict_ignore().execute()"
   ],
   "id": "ef2f9001ea9d51d9",
   "outputs": [
    {
     "name": "stdout",
     "output_type": "stream",
     "text": [
      "Insert experiments\n",
      "Insert models\n",
      "Insert epochs\n"
     ]
    },
    {
     "name": "stderr",
     "output_type": "stream",
     "text": [
      "100%|██████████| 8531/8531 [00:49<00:00, 172.86it/s]\n"
     ]
    }
   ],
   "execution_count": 69
  }
 ],
 "metadata": {
  "kernelspec": {
   "display_name": "sophius",
   "language": "python",
   "name": "sophius"
  },
  "language_info": {
   "codemirror_mode": {
    "name": "ipython",
    "version": 2
   },
   "file_extension": ".py",
   "mimetype": "text/x-python",
   "name": "python",
   "nbconvert_exporter": "python",
   "pygments_lexer": "ipython2",
   "version": "2.7.6"
  }
 },
 "nbformat": 4,
 "nbformat_minor": 5
}
