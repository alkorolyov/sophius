{
 "cells": [
  {
   "cell_type": "code",
   "id": "initial_id",
   "metadata": {
    "collapsed": true,
    "ExecuteTime": {
     "end_time": "2024-09-24T09:05:53.144353Z",
     "start_time": "2024-09-24T09:05:53.039527Z"
    }
   },
   "source": [
    "%load_ext autoreload\n",
    "%autoreload 2\n",
    "import sys\n",
    "sys.path.append('..')"
   ],
   "outputs": [
    {
     "name": "stdout",
     "output_type": "stream",
     "text": [
      "The autoreload extension is already loaded. To reload it, use:\n",
      "  %reload_ext autoreload\n"
     ]
    }
   ],
   "execution_count": 161
  },
  {
   "metadata": {
    "ExecuteTime": {
     "end_time": "2024-09-24T09:05:53.971343Z",
     "start_time": "2024-09-24T09:05:53.148377Z"
    }
   },
   "cell_type": "code",
   "source": [
    "from sophius.db import *\n",
    "import sqlite3\n",
    "import pandas as pd\n",
    "\n",
    "DEVICE_NAME = 'NVIDIA GeForce RTX 4090'\n",
    "\n",
    "with database:\n",
    "    database.create_tables([Experiments, Devices, Runs, Models, ModelEpochs])\n",
    "    \n",
    "# dev, _ = Devices.get_or_create(name=torch.cuda.get_device_name())\n",
    "dev, _ = Devices.get_or_create(name=DEVICE_NAME)  \n",
    "\n",
    "with sqlite3.connect('../data/models.db') as conn:\n",
    "    # experiments\n",
    "    exp_df = pd.read_sql('SELECT * FROM experiments', conn)\n",
    "    exp_df.id += 1\n",
    "    exp_df.drop(columns='hash', inplace=True)\n",
    "    for col in ['opt_params', 'sch_params']:\n",
    "        exp_df[col] = exp_df[col].apply(eval)\n",
    "    \n",
    "    # runs and models\n",
    "    runs_df = pd.read_sql('SELECT * FROM models', conn)\n",
    "    runs_df.id += 1\n",
    "    runs_df.exp_id = runs_df.exp_id.astype(int) + 1    \n",
    "    \n",
    "    # convert to numeric and round\n",
    "    numeric_cols = runs_df.columns.tolist()\n",
    "    numeric_cols.remove('hash')\n",
    "    for col in numeric_cols:\n",
    "        runs_df[col] = pd.to_numeric(runs_df[col], errors='coerce')\n",
    "    for col in ['val_acc', 'train_acc']:\n",
    "        runs_df[col] = runs_df[col]\n",
    "    runs_df.time = runs_df.time\n",
    "    \n",
    "    models_df = runs_df[['hash', 'flops', 'macs', 'params']].drop_duplicates(subset='hash')\n",
    "    models_df['id'] = pd.RangeIndex(1, len(models_df) + 1)\n",
    "    \n",
    "    runs_df['model_id'] = pd.merge(runs_df, models_df, on='hash', how='left')['id_y']\n",
    "    runs_df = runs_df[['exp_id', 'model_id', 'val_acc', 'train_acc', 'time']]\n",
    "    runs_df['device_id'] = dev.id    \n",
    "    \n",
    "    # epochs\n",
    "    epochs_df = pd.read_sql('SELECT * FROM model_epochs', conn)\n",
    "    for col in epochs_df.columns:\n",
    "        epochs_df[col] = pd.to_numeric(epochs_df[col], errors='coerce')\n",
    "    epochs_df.exp_id += 1\n",
    "    epochs_df.rename(columns={'model_id': 'run_id'}, inplace=True)\n",
    "    epochs_df.run_id += 1\n",
    "    \n",
    "    # round values\n",
    "    epochs_df.epoch = epochs_df.epoch.astype(int)\n",
    "    for col in ['val_acc', 'train_acc']:\n",
    "        epochs_df[col] = epochs_df[col]\n",
    "    epochs_df.loss = epochs_df.loss\n",
    "    epochs_df.time = epochs_df.time"
   ],
   "id": "bf5a1704d233d92b",
   "outputs": [],
   "execution_count": 162
  },
  {
   "metadata": {
    "ExecuteTime": {
     "end_time": "2024-09-24T09:05:54.081465Z",
     "start_time": "2024-09-24T09:05:53.989442Z"
    }
   },
   "cell_type": "code",
   "source": [
    "# runs_df['model_id'] = runs_df.hash.apply(lambda x: models_df.loc[x, 'id'])\n",
    "# runs_df.model_id"
   ],
   "id": "517865c08d7a7e1d",
   "outputs": [],
   "execution_count": 163
  },
  {
   "metadata": {
    "ExecuteTime": {
     "end_time": "2024-09-24T09:05:54.191150Z",
     "start_time": "2024-09-24T09:05:54.098422Z"
    }
   },
   "cell_type": "code",
   "source": "# runs_df[runs_df.hash.duplicated(keep=False)].sort_values(by='hash')",
   "id": "4ce43c049c843f44",
   "outputs": [],
   "execution_count": 164
  },
  {
   "metadata": {
    "ExecuteTime": {
     "end_time": "2024-09-24T09:05:54.285727Z",
     "start_time": "2024-09-24T09:05:54.207738Z"
    }
   },
   "cell_type": "code",
   "source": [
    "# model_id = pd.merge(runs_df['hash'], models_df[['hash', 'id']], on='hash')['id']\n",
    "# runs_df['model_id'] = model_id"
   ],
   "id": "5266111c03d65b2c",
   "outputs": [],
   "execution_count": 165
  },
  {
   "metadata": {
    "ExecuteTime": {
     "end_time": "2024-09-24T09:05:54.411322Z",
     "start_time": "2024-09-24T09:05:54.319284Z"
    }
   },
   "cell_type": "code",
   "source": "runs_df",
   "id": "1c0fd1e53a767819",
   "outputs": [
    {
     "data": {
      "text/plain": [
       "      exp_id  model_id   val_acc  train_acc        time  device_id\n",
       "0          1         1  0.663141   0.865986   14.334426          1\n",
       "1          1         2  0.399900   0.405278   14.214669          1\n",
       "2          1         3  0.642238   0.700962   14.049893          1\n",
       "3          1         4  0.479167   0.488632   16.746642          1\n",
       "4          1         5  0.436639   0.439653   18.272280          1\n",
       "...      ...       ...       ...        ...         ...        ...\n",
       "8526       1      8511  0.751863   0.999599  180.764648          1\n",
       "8527       1      8512  0.748187   0.858253   78.987744          1\n",
       "8528       1      8513  0.681320   0.969111   54.347447          1\n",
       "8529       1      8514  0.736849   0.841316   25.946075          1\n",
       "8530       1      8515  0.753656   0.995683   54.823551          1\n",
       "\n",
       "[8531 rows x 6 columns]"
      ],
      "text/html": [
       "<div>\n",
       "<style scoped>\n",
       "    .dataframe tbody tr th:only-of-type {\n",
       "        vertical-align: middle;\n",
       "    }\n",
       "\n",
       "    .dataframe tbody tr th {\n",
       "        vertical-align: top;\n",
       "    }\n",
       "\n",
       "    .dataframe thead th {\n",
       "        text-align: right;\n",
       "    }\n",
       "</style>\n",
       "<table border=\"1\" class=\"dataframe\">\n",
       "  <thead>\n",
       "    <tr style=\"text-align: right;\">\n",
       "      <th></th>\n",
       "      <th>exp_id</th>\n",
       "      <th>model_id</th>\n",
       "      <th>val_acc</th>\n",
       "      <th>train_acc</th>\n",
       "      <th>time</th>\n",
       "      <th>device_id</th>\n",
       "    </tr>\n",
       "  </thead>\n",
       "  <tbody>\n",
       "    <tr>\n",
       "      <th>0</th>\n",
       "      <td>1</td>\n",
       "      <td>1</td>\n",
       "      <td>0.663141</td>\n",
       "      <td>0.865986</td>\n",
       "      <td>14.334426</td>\n",
       "      <td>1</td>\n",
       "    </tr>\n",
       "    <tr>\n",
       "      <th>1</th>\n",
       "      <td>1</td>\n",
       "      <td>2</td>\n",
       "      <td>0.399900</td>\n",
       "      <td>0.405278</td>\n",
       "      <td>14.214669</td>\n",
       "      <td>1</td>\n",
       "    </tr>\n",
       "    <tr>\n",
       "      <th>2</th>\n",
       "      <td>1</td>\n",
       "      <td>3</td>\n",
       "      <td>0.642238</td>\n",
       "      <td>0.700962</td>\n",
       "      <td>14.049893</td>\n",
       "      <td>1</td>\n",
       "    </tr>\n",
       "    <tr>\n",
       "      <th>3</th>\n",
       "      <td>1</td>\n",
       "      <td>4</td>\n",
       "      <td>0.479167</td>\n",
       "      <td>0.488632</td>\n",
       "      <td>16.746642</td>\n",
       "      <td>1</td>\n",
       "    </tr>\n",
       "    <tr>\n",
       "      <th>4</th>\n",
       "      <td>1</td>\n",
       "      <td>5</td>\n",
       "      <td>0.436639</td>\n",
       "      <td>0.439653</td>\n",
       "      <td>18.272280</td>\n",
       "      <td>1</td>\n",
       "    </tr>\n",
       "    <tr>\n",
       "      <th>...</th>\n",
       "      <td>...</td>\n",
       "      <td>...</td>\n",
       "      <td>...</td>\n",
       "      <td>...</td>\n",
       "      <td>...</td>\n",
       "      <td>...</td>\n",
       "    </tr>\n",
       "    <tr>\n",
       "      <th>8526</th>\n",
       "      <td>1</td>\n",
       "      <td>8511</td>\n",
       "      <td>0.751863</td>\n",
       "      <td>0.999599</td>\n",
       "      <td>180.764648</td>\n",
       "      <td>1</td>\n",
       "    </tr>\n",
       "    <tr>\n",
       "      <th>8527</th>\n",
       "      <td>1</td>\n",
       "      <td>8512</td>\n",
       "      <td>0.748187</td>\n",
       "      <td>0.858253</td>\n",
       "      <td>78.987744</td>\n",
       "      <td>1</td>\n",
       "    </tr>\n",
       "    <tr>\n",
       "      <th>8528</th>\n",
       "      <td>1</td>\n",
       "      <td>8513</td>\n",
       "      <td>0.681320</td>\n",
       "      <td>0.969111</td>\n",
       "      <td>54.347447</td>\n",
       "      <td>1</td>\n",
       "    </tr>\n",
       "    <tr>\n",
       "      <th>8529</th>\n",
       "      <td>1</td>\n",
       "      <td>8514</td>\n",
       "      <td>0.736849</td>\n",
       "      <td>0.841316</td>\n",
       "      <td>25.946075</td>\n",
       "      <td>1</td>\n",
       "    </tr>\n",
       "    <tr>\n",
       "      <th>8530</th>\n",
       "      <td>1</td>\n",
       "      <td>8515</td>\n",
       "      <td>0.753656</td>\n",
       "      <td>0.995683</td>\n",
       "      <td>54.823551</td>\n",
       "      <td>1</td>\n",
       "    </tr>\n",
       "  </tbody>\n",
       "</table>\n",
       "<p>8531 rows × 6 columns</p>\n",
       "</div>"
      ]
     },
     "execution_count": 166,
     "metadata": {},
     "output_type": "execute_result"
    }
   ],
   "execution_count": 166
  },
  {
   "metadata": {
    "ExecuteTime": {
     "end_time": "2024-09-24T09:05:54.566031Z",
     "start_time": "2024-09-24T09:05:54.473859Z"
    }
   },
   "cell_type": "code",
   "source": [
    "exp_params = exp_df.to_dict(orient='records')\n",
    "exp_params"
   ],
   "id": "bccd73e3c6b026af",
   "outputs": [
    {
     "data": {
      "text/plain": [
       "[{'id': 1,\n",
       "  'val_size': 10000,\n",
       "  'batch_size': 256,\n",
       "  'num_epoch': 50,\n",
       "  'random_seed': 42,\n",
       "  'optimizer': 'AdamW',\n",
       "  'opt_params': {'lr': 0.001},\n",
       "  'scheduler': 'ExponentialLR',\n",
       "  'sch_params': {'gamma': 0.95},\n",
       "  'in_shape': '(3, 32, 32)',\n",
       "  'out_shape': '10'}]"
      ]
     },
     "execution_count": 167,
     "metadata": {},
     "output_type": "execute_result"
    }
   ],
   "execution_count": 167
  },
  {
   "metadata": {
    "ExecuteTime": {
     "end_time": "2024-09-24T09:05:54.768180Z",
     "start_time": "2024-09-24T09:05:54.674988Z"
    }
   },
   "cell_type": "code",
   "source": [
    "print('Insert experiments')    \n",
    "for exp_params in exp_df.to_dict(orient='records'):    \n",
    "    Experiments.insert(**exp_params).on_conflict_ignore().execute()"
   ],
   "id": "3ec907ded1447400",
   "outputs": [
    {
     "name": "stdout",
     "output_type": "stream",
     "text": [
      "Insert experiments\n"
     ]
    }
   ],
   "execution_count": 168
  },
  {
   "metadata": {
    "ExecuteTime": {
     "end_time": "2024-09-24T09:05:54.877394Z",
     "start_time": "2024-09-24T09:05:54.776057Z"
    }
   },
   "cell_type": "code",
   "source": "epochs_df",
   "id": "e3d8ebfabbc4bece",
   "outputs": [
    {
     "data": {
      "text/plain": [
       "        epoch        loss  train_acc   val_acc       time  run_id  exp_id\n",
       "0           0  240.266655   0.545072  0.529046   0.406046       1       1\n",
       "1           1  190.269297   0.608474  0.580028   0.708046       1       1\n",
       "2           2  171.378546   0.645333  0.602364   1.005815       1       1\n",
       "3           3  159.321967   0.673077  0.615184   1.303349       1       1\n",
       "4           4  150.305269   0.693209  0.624199   1.601765       1       1\n",
       "...       ...         ...        ...       ...        ...     ...     ...\n",
       "426545     45    1.176830   0.997396  0.752804  50.567924    8531       1\n",
       "426546     46    1.000921   0.998097  0.755108  51.625924    8531       1\n",
       "426547     47    0.872785   0.998297  0.755609  52.685054    8531       1\n",
       "426548     48    0.770252   0.998197  0.755809  53.740096    8531       1\n",
       "426549     49    0.687328   0.998297  0.756611  54.823551    8531       1\n",
       "\n",
       "[426550 rows x 7 columns]"
      ],
      "text/html": [
       "<div>\n",
       "<style scoped>\n",
       "    .dataframe tbody tr th:only-of-type {\n",
       "        vertical-align: middle;\n",
       "    }\n",
       "\n",
       "    .dataframe tbody tr th {\n",
       "        vertical-align: top;\n",
       "    }\n",
       "\n",
       "    .dataframe thead th {\n",
       "        text-align: right;\n",
       "    }\n",
       "</style>\n",
       "<table border=\"1\" class=\"dataframe\">\n",
       "  <thead>\n",
       "    <tr style=\"text-align: right;\">\n",
       "      <th></th>\n",
       "      <th>epoch</th>\n",
       "      <th>loss</th>\n",
       "      <th>train_acc</th>\n",
       "      <th>val_acc</th>\n",
       "      <th>time</th>\n",
       "      <th>run_id</th>\n",
       "      <th>exp_id</th>\n",
       "    </tr>\n",
       "  </thead>\n",
       "  <tbody>\n",
       "    <tr>\n",
       "      <th>0</th>\n",
       "      <td>0</td>\n",
       "      <td>240.266655</td>\n",
       "      <td>0.545072</td>\n",
       "      <td>0.529046</td>\n",
       "      <td>0.406046</td>\n",
       "      <td>1</td>\n",
       "      <td>1</td>\n",
       "    </tr>\n",
       "    <tr>\n",
       "      <th>1</th>\n",
       "      <td>1</td>\n",
       "      <td>190.269297</td>\n",
       "      <td>0.608474</td>\n",
       "      <td>0.580028</td>\n",
       "      <td>0.708046</td>\n",
       "      <td>1</td>\n",
       "      <td>1</td>\n",
       "    </tr>\n",
       "    <tr>\n",
       "      <th>2</th>\n",
       "      <td>2</td>\n",
       "      <td>171.378546</td>\n",
       "      <td>0.645333</td>\n",
       "      <td>0.602364</td>\n",
       "      <td>1.005815</td>\n",
       "      <td>1</td>\n",
       "      <td>1</td>\n",
       "    </tr>\n",
       "    <tr>\n",
       "      <th>3</th>\n",
       "      <td>3</td>\n",
       "      <td>159.321967</td>\n",
       "      <td>0.673077</td>\n",
       "      <td>0.615184</td>\n",
       "      <td>1.303349</td>\n",
       "      <td>1</td>\n",
       "      <td>1</td>\n",
       "    </tr>\n",
       "    <tr>\n",
       "      <th>4</th>\n",
       "      <td>4</td>\n",
       "      <td>150.305269</td>\n",
       "      <td>0.693209</td>\n",
       "      <td>0.624199</td>\n",
       "      <td>1.601765</td>\n",
       "      <td>1</td>\n",
       "      <td>1</td>\n",
       "    </tr>\n",
       "    <tr>\n",
       "      <th>...</th>\n",
       "      <td>...</td>\n",
       "      <td>...</td>\n",
       "      <td>...</td>\n",
       "      <td>...</td>\n",
       "      <td>...</td>\n",
       "      <td>...</td>\n",
       "      <td>...</td>\n",
       "    </tr>\n",
       "    <tr>\n",
       "      <th>426545</th>\n",
       "      <td>45</td>\n",
       "      <td>1.176830</td>\n",
       "      <td>0.997396</td>\n",
       "      <td>0.752804</td>\n",
       "      <td>50.567924</td>\n",
       "      <td>8531</td>\n",
       "      <td>1</td>\n",
       "    </tr>\n",
       "    <tr>\n",
       "      <th>426546</th>\n",
       "      <td>46</td>\n",
       "      <td>1.000921</td>\n",
       "      <td>0.998097</td>\n",
       "      <td>0.755108</td>\n",
       "      <td>51.625924</td>\n",
       "      <td>8531</td>\n",
       "      <td>1</td>\n",
       "    </tr>\n",
       "    <tr>\n",
       "      <th>426547</th>\n",
       "      <td>47</td>\n",
       "      <td>0.872785</td>\n",
       "      <td>0.998297</td>\n",
       "      <td>0.755609</td>\n",
       "      <td>52.685054</td>\n",
       "      <td>8531</td>\n",
       "      <td>1</td>\n",
       "    </tr>\n",
       "    <tr>\n",
       "      <th>426548</th>\n",
       "      <td>48</td>\n",
       "      <td>0.770252</td>\n",
       "      <td>0.998197</td>\n",
       "      <td>0.755809</td>\n",
       "      <td>53.740096</td>\n",
       "      <td>8531</td>\n",
       "      <td>1</td>\n",
       "    </tr>\n",
       "    <tr>\n",
       "      <th>426549</th>\n",
       "      <td>49</td>\n",
       "      <td>0.687328</td>\n",
       "      <td>0.998297</td>\n",
       "      <td>0.756611</td>\n",
       "      <td>54.823551</td>\n",
       "      <td>8531</td>\n",
       "      <td>1</td>\n",
       "    </tr>\n",
       "  </tbody>\n",
       "</table>\n",
       "<p>426550 rows × 7 columns</p>\n",
       "</div>"
      ]
     },
     "execution_count": 169,
     "metadata": {},
     "output_type": "execute_result"
    }
   ],
   "execution_count": 169
  },
  {
   "metadata": {
    "ExecuteTime": {
     "end_time": "2024-09-24T09:05:55.047256Z",
     "start_time": "2024-09-24T09:05:54.955239Z"
    }
   },
   "cell_type": "code",
   "source": [
    "for exp_params in exp_df.to_dict(orient='records'):\n",
    "    print(exp_params)\n"
   ],
   "id": "98e3714bd908a9f9",
   "outputs": [
    {
     "name": "stdout",
     "output_type": "stream",
     "text": [
      "{'id': 1, 'val_size': 10000, 'batch_size': 256, 'num_epoch': 50, 'random_seed': 42, 'optimizer': 'AdamW', 'opt_params': {'lr': 0.001}, 'scheduler': 'ExponentialLR', 'sch_params': {'gamma': 0.95}, 'in_shape': '(3, 32, 32)', 'out_shape': '10'}\n"
     ]
    }
   ],
   "execution_count": 170
  },
  {
   "metadata": {
    "ExecuteTime": {
     "end_time": "2024-09-24T09:05:55.172455Z",
     "start_time": "2024-09-24T09:05:55.079797Z"
    }
   },
   "cell_type": "code",
   "source": "Experiments.insert(**exp_params).on_conflict_ignore().execute()",
   "id": "59b3d6f12ab8ee4d",
   "outputs": [
    {
     "data": {
      "text/plain": [
       "1"
      ]
     },
     "execution_count": 171,
     "metadata": {},
     "output_type": "execute_result"
    }
   ],
   "execution_count": 171
  },
  {
   "metadata": {
    "ExecuteTime": {
     "end_time": "2024-09-24T09:06:48.175458Z",
     "start_time": "2024-09-24T09:05:55.177454Z"
    }
   },
   "cell_type": "code",
   "source": [
    "from tqdm import tqdm\n",
    "\n",
    "print('Insert experiments')    \n",
    "for exp_params in exp_df.to_dict(orient='records'):    \n",
    "    Experiments.insert(**exp_params).on_conflict_ignore().execute()\n",
    "    \n",
    "print('Insert models')\n",
    "Models.insert_many(models_df.to_dict(orient='records')).on_conflict_ignore().execute()\n",
    "\n",
    "print('Insert runs')\n",
    "Runs.insert_many(runs_df.to_dict(orient='records')).on_conflict_ignore().execute()\n",
    "\n",
    "print('Insert epochs')\n",
    "for i in tqdm(epochs_df.run_id.unique()):\n",
    "    mask = epochs_df.run_id == i\n",
    "    ModelEpochs.insert_many(epochs_df[mask].to_dict(orient='records')).on_conflict_ignore().execute()"
   ],
   "id": "ef2f9001ea9d51d9",
   "outputs": [
    {
     "name": "stdout",
     "output_type": "stream",
     "text": [
      "Insert experiments\n",
      "Insert models\n",
      "Insert runs\n",
      "Insert epochs\n"
     ]
    },
    {
     "name": "stderr",
     "output_type": "stream",
     "text": [
      "100%|██████████| 8531/8531 [00:52<00:00, 162.81it/s]\n"
     ]
    }
   ],
   "execution_count": 172
  }
 ],
 "metadata": {
  "kernelspec": {
   "display_name": "sophius",
   "language": "python",
   "name": "sophius"
  },
  "language_info": {
   "codemirror_mode": {
    "name": "ipython",
    "version": 2
   },
   "file_extension": ".py",
   "mimetype": "text/x-python",
   "name": "python",
   "nbconvert_exporter": "python",
   "pygments_lexer": "ipython2",
   "version": "2.7.6"
  }
 },
 "nbformat": 4,
 "nbformat_minor": 5
}
