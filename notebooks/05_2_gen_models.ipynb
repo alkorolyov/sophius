{
 "cells": [
  {
   "cell_type": "code",
   "id": "initial_id",
   "metadata": {
    "collapsed": true,
    "ExecuteTime": {
     "end_time": "2024-09-16T12:59:08.786054Z",
     "start_time": "2024-09-16T12:59:08.590510Z"
    }
   },
   "source": [
    "%load_ext autoreload\n",
    "%autoreload 2\n",
    "\n",
    "import sys\n",
    "sys.path.append(\"..\")"
   ],
   "outputs": [
    {
     "name": "stdout",
     "output_type": "stream",
     "text": [
      "The autoreload extension is already loaded. To reload it, use:\n",
      "  %reload_ext autoreload\n"
     ]
    }
   ],
   "execution_count": 10
  },
  {
   "metadata": {
    "ExecuteTime": {
     "end_time": "2024-09-16T12:59:27.099728Z",
     "start_time": "2024-09-16T12:59:10.277755Z"
    }
   },
   "cell_type": "code",
   "source": [
    "import torch\n",
    "from calflops import calculate_flops\n",
    "import sophius.utils as utils\n",
    "import sophius.dataload as dload\n",
    "from sophius.modelgen import ConvModelGenerator\n",
    "from sophius.train import train_express_gpu\n",
    "import torchvision.datasets as dset\n",
    "import torchvision.transforms as T\n",
    "from sophius.encode import Encoder\n",
    "from sophius.utils import calc_model_flops, hash_dict\n",
    "import sqlite3\n",
    "import pandas as pd\n",
    "import seaborn as sns\n",
    "from tqdm import tqdm\n",
    "import random\n",
    "from sophius.train import train_on_gpu_ex\n",
    "normalize = T.Compose([\n",
    "    T.ToTensor(),\n",
    "    T.Normalize((0.5, 0.5, 0.5), (0.5, 0.5, 0.5)),    \n",
    "])\n",
    "cifar10 = dset.CIFAR10('../data/CIFAR10', train=True, download=True, transform=normalize)\n",
    "cifar_gpu = dload.cifar_to_gpu(cifar10)\n",
    "\n",
    "encoder = Encoder()"
   ],
   "id": "4ae403a2b286ff03",
   "outputs": [
    {
     "name": "stdout",
     "output_type": "stream",
     "text": [
      "Files already downloaded and verified\n"
     ]
    }
   ],
   "execution_count": 11
  },
  {
   "metadata": {
    "ExecuteTime": {
     "end_time": "2024-09-16T13:16:09.781006Z",
     "start_time": "2024-09-16T13:16:09.667021Z"
    }
   },
   "cell_type": "code",
   "source": [
    "from sophius.estimate import LSTMRegressor\n",
    "\n",
    "estimator = torch.load('../data/models/estimator_v1.pth').cpu()\n",
    "\n",
    "def estimate_val_acc(model_tmpl):\n",
    "    t = torch.tensor(encoder.model2vec(model_tmpl), dtype=torch.float32)\n",
    "    return estimator.cpu()(t).item()"
   ],
   "id": "3bc68abf882101c9",
   "outputs": [],
   "execution_count": 27
  },
  {
   "metadata": {
    "ExecuteTime": {
     "end_time": "2024-09-16T13:34:23.324030Z",
     "start_time": "2024-09-16T13:28:51.716850Z"
    }
   },
   "cell_type": "code",
   "source": [
    "model_gen = ConvModelGenerator(\n",
    "    in_shape=(3, 32, 32), \n",
    "    out_shape=10, \n",
    "    conv_num=3, \n",
    "    lin_num=1,\n",
    ")\n",
    "model_tmpl = model_gen.generate_model_tmpl()\n",
    "model = model_tmpl.instantiate_model().type(torch.cuda.FloatTensor)\n",
    "print(model_tmpl)\n",
    "\n",
    "val_acc_threshold = 0.6\n",
    "\n",
    "train_params = {\n",
    "    'val_size': 10000,\n",
    "    'batch_size': 256,\n",
    "    'num_epoch': 50,\n",
    "    'random_seed':42,\n",
    "    'optimizer': 'AdamW',\n",
    "    'opt_params': {\n",
    "        'lr': 1e-3,\n",
    "    },\n",
    "    'scheduler': 'ExponentialLR',\n",
    "    'sch_params': {\n",
    "        'gamma': 0.95,\n",
    "    },\n",
    "}\n",
    "\n",
    "res = train_on_gpu_ex(\n",
    "    model=model,\n",
    "    dataset=cifar_gpu,\n",
    "    verbose=True,\n",
    "    **train_params,\n",
    ")\n",
    "print('val_acc* %.3f' % (estimate_val_acc(model_tmpl)))\n",
    "\n",
    "sns.lineplot(res, x='epoch', y='train_acc', label='train')\n",
    "sns.lineplot(res, x='epoch', y='val_acc', label='val');"
   ],
   "id": "7a0a82ff86728363",
   "outputs": [
    {
     "name": "stdout",
     "output_type": "stream",
     "text": [
      "Conv2d       (192, 33, 33)  (6, 6)   (1, 1)  \n",
      "ReLU         (192, 33, 33) \n",
      "MaxPool2d    (192, 34, 34)  (2, 2)   (1, 1)  \n",
      "AvgPool2d    (192, 18, 18)  (4, 4)   (2, 2)  \n",
      "Conv2d       (32, 7, 7)     (2, 2)   (3, 3)  \n",
      "LeakyReLU    (32, 7, 7)     (0.001) \n",
      "BatchNorm2d  (32, 7, 7)    \n",
      "AvgPool2d    (32, 4, 4)     (4, 4)   (2, 2)  \n",
      "Flatten      512           \n",
      "Linear       10            \n",
      "\n"
     ]
    },
    {
     "name": "stderr",
     "output_type": "stream",
     "text": [
      "Loss 109.339: 100%|██████████| 50/50 [05:31<00:00,  6.62s/it]\n"
     ]
    },
    {
     "name": "stdout",
     "output_type": "stream",
     "text": [
      "val_acc: 0.712 train_acc: 0.758\n",
      "val_acc* 0.666\n"
     ]
    },
    {
     "data": {
      "text/plain": [
       "<Figure size 640x480 with 1 Axes>"
      ],
      "image/png": "[encoded data removed]"
     },
     "metadata": {},
     "output_type": "display_data"
    }
   ],
   "execution_count": 33
  },
  {
   "metadata": {
    "ExecuteTime": {
     "end_time": "2024-09-16T13:15:02.264069Z",
     "start_time": "2024-09-16T13:15:02.148742Z"
    }
   },
   "cell_type": "code",
   "source": "",
   "id": "c32947ba91b3fdf8",
   "outputs": [
    {
     "data": {
      "text/plain": [
       "0.5292797684669495"
      ]
     },
     "execution_count": 26,
     "metadata": {},
     "output_type": "execute_result"
    }
   ],
   "execution_count": 26
  },
  {
   "metadata": {
    "ExecuteTime": {
     "end_time": "2024-09-16T13:37:26.447181Z",
     "start_time": "2024-09-16T13:37:26.312421Z"
    }
   },
   "cell_type": "code",
   "source": [
    "import sqlite3\n",
    "from sophius.utils import hash_dict\n",
    "\n",
    "exp_id = 0\n",
    "with sqlite3.connect('../data/models.db') as conn:\n",
    "    try:\n",
    "        exp_id = conn.execute('SELECT COUNT(*) FROM test_experiments').fetchone()[0]\n",
    "    except:\n",
    "        pass\n",
    "    exp_params = {**train_params, **{'in_shape': (3, 32, 32), 'out_shpape': 10}}\n",
    "    \n",
    "    df = pd.DataFrame([exp_params], index=[exp_id])\n",
    "    exp_hash = hash_dict(exp_params)\n",
    "    df['hash'] = exp_hash\n",
    "    df.index.name = 'id'\n",
    "    if exp_id == 0:\n",
    "        df.astype(str).to_sql('test_experiments', conn, if_exists='append')\n",
    "    else:\n",
    "        # check if experiment exists\n",
    "        res = conn.execute('SELECT id FROM test_experiments WHERE hash == ?', (exp_hash,)).fetchone()\n",
    "        if res:\n",
    "            print('Experiment exists')\n",
    "            print(exp_params)\n",
    "            exp_id = res[0]\n",
    "        else:\n",
    "            print('Creating new experiment')\n",
    "            print(exp_params)\n",
    "            df.astype(str).to_sql('test_experiments', conn, if_exists='append')    \n",
    "exp_id"
   ],
   "id": "58befc06b1e0fda6",
   "outputs": [
    {
     "data": {
      "text/plain": [
       "0"
      ]
     },
     "execution_count": 34,
     "metadata": {},
     "output_type": "execute_result"
    }
   ],
   "execution_count": 34
  },
  {
   "metadata": {
    "ExecuteTime": {
     "end_time": "2024-09-14T16:50:35.556959Z",
     "start_time": "2024-09-14T16:50:35.464425Z"
    }
   },
   "cell_type": "code",
   "source": [
    "# run stats - run_id, run params\n",
    "# run_models run_id -> model_id \n",
    "# model stats model_id, hash, flops, batch_size\n",
    "# model_per_epoch stats model_id, "
   ],
   "id": "f7a295437afbf17",
   "outputs": [],
   "execution_count": 13
  },
  {
   "metadata": {
    "jupyter": {
     "is_executing": true
    },
    "ExecuteTime": {
     "start_time": "2024-09-16T13:37:30.716071Z"
    }
   },
   "cell_type": "code",
   "source": [
    "model_gen = ConvModelGenerator((3, 32, 32), 10, conv_num=3, lin_num=1)\n",
    "estimator = torch.load('../data/models/estimator_v1.pth')\n",
    "val_acc_threshold = 0.6\n",
    "\n",
    "for i in tqdm(range(10)):\n",
    "    model_tmpl = model_gen.generate_model_tmpl()    \n",
    "    model = model_tmpl.instantiate_model().type(torch.cuda.FloatTensor)\n",
    "    \n",
    "    est_val_acc = estimate_val_acc(model_tmpl) \n",
    "    if est_val_acc < val_acc_threshold:\n",
    "        print('Skip estimated', est_val_acc)\n",
    "        continue\n",
    "    \n",
    "    epoch_results = train_on_gpu_ex(\n",
    "        model=model,\n",
    "        dataset=cifar_gpu,\n",
    "        verbose=False,\n",
    "        **train_params,\n",
    "    )\n",
    "    \n",
    "    model_id = 0\n",
    "    with sqlite3.connect('../data/models.db') as conn:\n",
    "        try:\n",
    "            model_id = conn.execute('SELECT COUNT(*) FROM test_models').fetchone()[0]\n",
    "        except:\n",
    "            pass\n",
    "        \n",
    "    model_results = calc_model_flops(model, (3, 32, 32))\n",
    "    model_results['id'] = model_id\n",
    "    model_results['exp_id'] = exp_id\n",
    "    model_results['hash'] = encoder.model2hash(model_tmpl)    \n",
    "    model_results['val_acc'] = epoch_results.val_acc.iloc[-10:].mean()\n",
    "    model_results['train_acc'] = epoch_results.train_acc.iloc[-10:].mean()\n",
    "    model_results['time'] = epoch_results.time.iloc[-1]\n",
    "    \n",
    "    epoch_results['model_id'] = model_id\n",
    "    epoch_results['exp_id'] = exp_id\n",
    "\n",
    "    with sqlite3.connect('../data/models.db') as conn:\n",
    "        df = pd.DataFrame([model_results]).set_index('id').astype(str)\n",
    "        df.to_sql('test_models', conn, if_exists='append')\n",
    "        \n",
    "        epoch_results.to_sql('test_model_epochs', conn, if_exists='append', index=False)\n",
    "        \n",
    "#     # print(df.loc[i])"
   ],
   "id": "808c8014271b97a",
   "outputs": [
    {
     "name": "stderr",
     "output_type": "stream",
     "text": [
      "  0%|          | 0/10 [00:00<?, ?it/s]"
     ]
    },
    {
     "name": "stdout",
     "output_type": "stream",
     "text": [
      "Skip estimated 0.5236546397209167\n"
     ]
    }
   ],
   "execution_count": null
  }
 ],
 "metadata": {
  "kernelspec": {
   "display_name": "sophius",
   "language": "python",
   "name": "sophius"
  },
  "language_info": {
   "codemirror_mode": {
    "name": "ipython",
    "version": 2
   },
   "file_extension": ".py",
   "mimetype": "text/x-python",
   "name": "python",
   "nbconvert_exporter": "python",
   "pygments_lexer": "ipython2",
   "version": "2.7.6"
  }
 },
 "nbformat": 4,
 "nbformat_minor": 5
}
