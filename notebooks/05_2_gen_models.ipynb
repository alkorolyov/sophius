{
 "cells": [
  {
   "cell_type": "code",
   "id": "initial_id",
   "metadata": {
    "collapsed": true,
    "ExecuteTime": {
     "end_time": "2024-09-17T04:44:43.048574Z",
     "start_time": "2024-09-17T04:44:42.987059Z"
    }
   },
   "source": [
    "%load_ext autoreload\n",
    "%autoreload 2\n",
    "\n",
    "import sys\n",
    "sys.path.append(\"..\")"
   ],
   "outputs": [],
   "execution_count": 1
  },
  {
   "metadata": {
    "ExecuteTime": {
     "end_time": "2024-09-17T04:44:58.012528Z",
     "start_time": "2024-09-17T04:44:43.269058Z"
    }
   },
   "cell_type": "code",
   "source": [
    "import torch\n",
    "from calflops import calculate_flops\n",
    "import sophius.utils as utils\n",
    "import sophius.dataload as dload\n",
    "from sophius.modelgen import ConvModelGenerator\n",
    "from sophius.train import train_express_gpu\n",
    "import torchvision.datasets as dset\n",
    "import torchvision.transforms as T\n",
    "from sophius.encode import Encoder\n",
    "from sophius.utils import calc_model_flops, hash_dict\n",
    "import sqlite3\n",
    "import pandas as pd\n",
    "import seaborn as sns\n",
    "from tqdm import tqdm\n",
    "import random\n",
    "from sophius.train import train_on_gpu_ex\n",
    "normalize = T.Compose([\n",
    "    T.ToTensor(),\n",
    "    T.Normalize((0.5, 0.5, 0.5), (0.5, 0.5, 0.5)),    \n",
    "])\n",
    "cifar10 = dset.CIFAR10('../data/CIFAR10', train=True, download=True, transform=normalize)\n",
    "cifar_gpu = dload.cifar_to_gpu(cifar10)\n",
    "\n",
    "encoder = Encoder()"
   ],
   "id": "4ae403a2b286ff03",
   "outputs": [
    {
     "name": "stderr",
     "output_type": "stream",
     "text": [
      "C:\\Users\\korol\\miniforge3\\envs\\sophius\\lib\\site-packages\\tqdm\\auto.py:21: TqdmWarning: IProgress not found. Please update jupyter and ipywidgets. See https://ipywidgets.readthedocs.io/en/stable/user_install.html\n",
      "  from .autonotebook import tqdm as notebook_tqdm\n"
     ]
    },
    {
     "name": "stdout",
     "output_type": "stream",
     "text": [
      "Files already downloaded and verified\n"
     ]
    }
   ],
   "execution_count": 2
  },
  {
   "metadata": {
    "ExecuteTime": {
     "end_time": "2024-09-17T04:44:58.107540Z",
     "start_time": "2024-09-17T04:44:58.017532Z"
    }
   },
   "cell_type": "code",
   "source": [
    "from sophius.estimate import LSTMRegressor\n",
    "\n",
    "estimator = torch.load('../data/models/estimator_v1.pth').cpu()\n",
    "\n",
    "def estimate_acc(model_tmpl):\n",
    "    t = torch.tensor(encoder.model2vec(model_tmpl), dtype=torch.float32)\n",
    "    return estimator(t).item()"
   ],
   "id": "3bc68abf882101c9",
   "outputs": [],
   "execution_count": 3
  },
  {
   "metadata": {
    "ExecuteTime": {
     "end_time": "2024-09-17T05:09:34.279262Z",
     "start_time": "2024-09-17T05:09:34.187230Z"
    }
   },
   "cell_type": "code",
   "source": [
    "def read_model_db(model_id):    \n",
    "    with sqlite3.connect('../data/models.db') as conn:\n",
    "        hash_str = conn.execute(f'SELECT hash FROM models WHERE id==?', (model_id, )).fetchone()[0]\n",
    "    return encoder.hash2model(hash_str, (3, 32, 32), 10)\n",
    "\n",
    "read_model_db(2604)"
   ],
   "id": "644039e291a2cfd7",
   "outputs": [
    {
     "data": {
      "text/plain": [
       "Conv2d       (192, 16, 16)  (5, 5)   (2, 2)  \n",
       "ReLU         (192, 16, 16) \n",
       "MaxPool2d    (192, 16, 16)  (3, 3)   (1, 1)  \n",
       "BatchNorm2d  (192, 16, 16) \n",
       "AvgPool2d    (192, 9, 9)    (2, 2)   (2, 2)  \n",
       "Conv2d       (64, 9, 9)     (3, 3)   (1, 1)  \n",
       "PReLU        (64, 9, 9)    \n",
       "BatchNorm2d  (64, 9, 9)    \n",
       "AvgPool2d    (64, 8, 8)     (2, 2)   (1, 1)  \n",
       "Conv2d       (192, 2, 2)    (7, 7)   (4, 4)  \n",
       "ReLU         (192, 2, 2)   \n",
       "BatchNorm2d  (192, 2, 2)   \n",
       "PReLU        (192, 2, 2)   \n",
       "BatchNorm2d  (192, 2, 2)   \n",
       "GlobalAvgPool2d (192, 1, 1)   \n",
       "Flatten      192           \n",
       "Linear       10            "
      ]
     },
     "execution_count": 19,
     "metadata": {},
     "output_type": "execute_result"
    }
   ],
   "execution_count": 19
  },
  {
   "metadata": {
    "ExecuteTime": {
     "end_time": "2024-09-17T05:19:36.176865Z",
     "start_time": "2024-09-17T05:19:34.423126Z"
    }
   },
   "cell_type": "code",
   "source": [
    "model_gen = ConvModelGenerator(\n",
    "    in_shape=(3, 32, 32), \n",
    "    out_shape=10, \n",
    "    conv_num=3, \n",
    "    lin_num=1,\n",
    ")\n",
    "\n",
    "model_tmpl = model_gen.generate_model_tmpl()\n",
    "# model_tmpl = read_model_db(2604)\n",
    "\n",
    "model = model_tmpl.instantiate_model().type(torch.cuda.FloatTensor)\n",
    "\n",
    "print(model_tmpl)\n",
    "\n",
    "val_acc_threshold = 0.6\n",
    "\n",
    "train_params = {\n",
    "    'val_size': 10000,\n",
    "    'batch_size': 256,\n",
    "    'num_epoch': 3,\n",
    "    'random_seed':42,\n",
    "    'optimizer': 'AdamW',\n",
    "    'opt_params': {\n",
    "        'lr': 1e-3,\n",
    "    },\n",
    "    'scheduler': 'ExponentialLR',\n",
    "    'sch_params': {\n",
    "        'gamma': 0.95,\n",
    "    },\n",
    "}\n",
    "\n",
    "res = train_on_gpu_ex(\n",
    "    model=model,\n",
    "    dataset=cifar_gpu,\n",
    "    verbose=True,\n",
    "    **train_params,\n",
    ")\n",
    "print('val_acc* %.3f' % (estimate_acc(model_tmpl)))\n",
    "\n",
    "sns.lineplot(res, x='epoch', y='train_acc', label='train')\n",
    "sns.lineplot(res, x='epoch', y='val_acc', label='val');"
   ],
   "id": "7a0a82ff86728363",
   "outputs": [
    {
     "name": "stdout",
     "output_type": "stream",
     "text": [
      "Conv2d       (16, 7, 7)     (5, 5)   (4, 4)  \n",
      "ReLU         (16, 7, 7)    \n",
      "MaxPool2d    (16, 2, 2)     (2, 2)   (3, 3)  \n",
      "GlobalAvgPool2d (16, 1, 1)    \n",
      "Flatten      16            \n",
      "Linear       10            \n",
      "\n"
     ]
    },
    {
     "name": "stderr",
     "output_type": "stream",
     "text": [
      "Loss 307.853: 100%|██████████| 3/3 [00:01<00:00,  2.15it/s]\n"
     ]
    },
    {
     "name": "stdout",
     "output_type": "stream",
     "text": [
      "val_acc: 0.257 train_acc: 0.276\n",
      "val_acc* 0.334\n"
     ]
    },
    {
     "data": {
      "text/plain": [
       "<Figure size 640x480 with 1 Axes>"
      ],
      "image/png": "[encoded data removed]"
     },
     "metadata": {},
     "output_type": "display_data"
    }
   ],
   "execution_count": 22
  },
  {
   "metadata": {
    "ExecuteTime": {
     "end_time": "2024-09-17T05:19:45.455344Z",
     "start_time": "2024-09-17T05:19:45.350265Z"
    }
   },
   "cell_type": "code",
   "source": [
    "import sqlite3\n",
    "from sophius.utils import hash_dict\n",
    "\n",
    "exp_id = 0\n",
    "with sqlite3.connect('../data/models.db') as conn:\n",
    "    try:\n",
    "        exp_id = conn.execute('SELECT COUNT(*) FROM test_experiments').fetchone()[0]\n",
    "    except:\n",
    "        pass\n",
    "    exp_params = {**train_params, **{'in_shape': (3, 32, 32), 'out_shape': 10}}\n",
    "    \n",
    "    df = pd.DataFrame([exp_params], index=[exp_id])\n",
    "    df.index.name = 'id'\n",
    "    exp_hash = hash_dict(exp_params)\n",
    "    df['hash'] = exp_hash\n",
    "    # cast complex objects to string\n",
    "    for col in ['opt_params', 'sch_params', 'in_shape', 'out_shape']:\n",
    "        df[col] = df[col].astype(str)\n",
    "    \n",
    "    if exp_id == 0:\n",
    "        print('Creating new experiment')\n",
    "        df.to_sql('test_experiments', conn, if_exists='append')\n",
    "    else:\n",
    "        # check if experiment exists\n",
    "        res = conn.execute('SELECT id FROM test_experiments WHERE hash == ?', (exp_hash,)).fetchone()\n",
    "        if res:\n",
    "            print('Experiment exists')\n",
    "            print(exp_params)\n",
    "            exp_id = res[0]\n",
    "        else:\n",
    "            print('Creating new experiment')\n",
    "            print(exp_params)\n",
    "            df.to_sql('test_experiments', conn, if_exists='append')    \n",
    "exp_id"
   ],
   "id": "58befc06b1e0fda6",
   "outputs": [
    {
     "name": "stdout",
     "output_type": "stream",
     "text": [
      "Creating new experiment\n",
      "{'val_size': 10000, 'batch_size': 256, 'num_epoch': 3, 'random_seed': 42, 'optimizer': 'AdamW', 'opt_params': {'lr': 0.001}, 'scheduler': 'ExponentialLR', 'sch_params': {'gamma': 0.95}, 'in_shape': (3, 32, 32), 'out_shape': 10}\n"
     ]
    },
    {
     "data": {
      "text/plain": [
       "1"
      ]
     },
     "execution_count": 23,
     "metadata": {},
     "output_type": "execute_result"
    }
   ],
   "execution_count": 23
  },
  {
   "metadata": {
    "ExecuteTime": {
     "end_time": "2024-09-14T16:50:35.556959Z",
     "start_time": "2024-09-14T16:50:35.464425Z"
    }
   },
   "cell_type": "code",
   "source": [
    "# run stats - run_id, run params\n",
    "# run_models run_id -> model_id \n",
    "# model stats model_id, hash, flops, batch_size\n",
    "# model_per_epoch stats model_id, "
   ],
   "id": "f7a295437afbf17",
   "outputs": [],
   "execution_count": 13
  },
  {
   "metadata": {
    "ExecuteTime": {
     "end_time": "2024-09-17T05:20:26.062953Z",
     "start_time": "2024-09-17T05:20:14.830057Z"
    }
   },
   "cell_type": "code",
   "source": [
    "model_gen = ConvModelGenerator((3, 32, 32), 10, conv_num=3, lin_num=1)\n",
    "estimator = torch.load('../data/models/estimator_v1.pth').cpu()\n",
    "val_acc_threshold = 0.6\n",
    "\n",
    "for i in tqdm(range(10)):\n",
    "    model_tmpl = model_gen.generate_model_tmpl()    \n",
    "    model = model_tmpl.instantiate_model().type(torch.cuda.FloatTensor)\n",
    "    \n",
    "    est_val_acc = estimate_acc(model_tmpl) \n",
    "    if est_val_acc < val_acc_threshold:\n",
    "        print('Skip estimated', est_val_acc)\n",
    "        continue\n",
    "    \n",
    "    epoch_results = train_on_gpu_ex(\n",
    "        model=model,\n",
    "        dataset=cifar_gpu,\n",
    "        verbose=False,\n",
    "        **train_params,\n",
    "    )\n",
    "    \n",
    "    model_id = 0\n",
    "    with sqlite3.connect('../data/models.db') as conn:\n",
    "        try:\n",
    "            model_id = conn.execute('SELECT COUNT(*) FROM test_models').fetchone()[0]\n",
    "        except:\n",
    "            pass\n",
    "        \n",
    "    model_results = calc_model_flops(model, (3, 32, 32))\n",
    "    model_results['id'] = model_id\n",
    "    model_results['exp_id'] = exp_id\n",
    "    model_results['hash'] = encoder.model2hash(model_tmpl)    \n",
    "    model_results['val_acc'] = epoch_results.val_acc.iloc[-10:].mean()\n",
    "    model_results['train_acc'] = epoch_results.train_acc.iloc[-10:].mean()\n",
    "    model_results['time'] = epoch_results.time.iloc[-1]\n",
    "    \n",
    "    epoch_results['model_id'] = model_id\n",
    "    epoch_results['exp_id'] = exp_id\n",
    "\n",
    "    with sqlite3.connect('../data/models.db') as conn:\n",
    "        df = pd.DataFrame([model_results]).set_index('id') \n",
    "        df.to_sql('test_models', conn, if_exists='append')\n",
    "        \n",
    "        epoch_results.to_sql('test_model_epochs', conn, if_exists='append', index=False)\n",
    "        \n",
    "#     # print(df.loc[i])"
   ],
   "id": "808c8014271b97a",
   "outputs": [
    {
     "name": "stderr",
     "output_type": "stream",
     "text": [
      "  0%|          | 0/10 [00:00<?, ?it/s]"
     ]
    },
    {
     "name": "stdout",
     "output_type": "stream",
     "text": [
      "Skip estimated 0.3099738359451294\n",
      "Skip estimated 0.5542863607406616\n"
     ]
    },
    {
     "name": "stderr",
     "output_type": "stream",
     "text": [
      " 30%|███       | 3/10 [00:03<00:08,  1.17s/it]"
     ]
    },
    {
     "name": "stdout",
     "output_type": "stream",
     "text": [
      "Skip estimated 0.507366955280304\n",
      "Skip estimated 0.46121448278427124\n",
      "Skip estimated 0.3024592101573944\n"
     ]
    },
    {
     "name": "stderr",
     "output_type": "stream",
     "text": [
      "100%|██████████| 10/10 [00:11<00:00,  1.11s/it]"
     ]
    },
    {
     "name": "stdout",
     "output_type": "stream",
     "text": [
      "Skip estimated 0.2615108788013458\n",
      "Skip estimated 0.5626733303070068\n"
     ]
    },
    {
     "name": "stderr",
     "output_type": "stream",
     "text": [
      "\n"
     ]
    }
   ],
   "execution_count": 25
  }
 ],
 "metadata": {
  "kernelspec": {
   "display_name": "sophius",
   "language": "python",
   "name": "sophius"
  },
  "language_info": {
   "codemirror_mode": {
    "name": "ipython",
    "version": 2
   },
   "file_extension": ".py",
   "mimetype": "text/x-python",
   "name": "python",
   "nbconvert_exporter": "python",
   "pygments_lexer": "ipython2",
   "version": "2.7.6"
  }
 },
 "nbformat": 4,
 "nbformat_minor": 5
}
