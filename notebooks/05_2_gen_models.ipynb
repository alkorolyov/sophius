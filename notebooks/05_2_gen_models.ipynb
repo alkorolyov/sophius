{
 "cells": [
  {
   "cell_type": "code",
   "id": "initial_id",
   "metadata": {
    "collapsed": true,
    "ExecuteTime": {
     "end_time": "2024-09-16T12:59:08.786054Z",
     "start_time": "2024-09-16T12:59:08.590510Z"
    }
   },
   "source": [
    "%load_ext autoreload\n",
    "%autoreload 2\n",
    "\n",
    "import sys\n",
    "sys.path.append(\"..\")"
   ],
   "outputs": [
    {
     "name": "stdout",
     "output_type": "stream",
     "text": [
      "The autoreload extension is already loaded. To reload it, use:\n",
      "  %reload_ext autoreload\n"
     ]
    }
   ],
   "execution_count": 10
  },
  {
   "metadata": {
    "ExecuteTime": {
     "end_time": "2024-09-16T12:59:27.099728Z",
     "start_time": "2024-09-16T12:59:10.277755Z"
    }
   },
   "cell_type": "code",
   "source": [
    "import torch\n",
    "from calflops import calculate_flops\n",
    "import sophius.utils as utils\n",
    "import sophius.dataload as dload\n",
    "from sophius.modelgen import ConvModelGenerator\n",
    "from sophius.train import train_express_gpu\n",
    "import torchvision.datasets as dset\n",
    "import torchvision.transforms as T\n",
    "from sophius.encode import Encoder\n",
    "from sophius.utils import calc_model_flops, hash_dict\n",
    "import sqlite3\n",
    "import pandas as pd\n",
    "import seaborn as sns\n",
    "from tqdm import tqdm\n",
    "import random\n",
    "from sophius.train import train_on_gpu_ex\n",
    "normalize = T.Compose([\n",
    "    T.ToTensor(),\n",
    "    T.Normalize((0.5, 0.5, 0.5), (0.5, 0.5, 0.5)),    \n",
    "])\n",
    "cifar10 = dset.CIFAR10('../data/CIFAR10', train=True, download=True, transform=normalize)\n",
    "cifar_gpu = dload.cifar_to_gpu(cifar10)\n",
    "\n",
    "encoder = Encoder()"
   ],
   "id": "4ae403a2b286ff03",
   "outputs": [
    {
     "name": "stdout",
     "output_type": "stream",
     "text": [
      "Files already downloaded and verified\n"
     ]
    }
   ],
   "execution_count": 11
  },
  {
   "metadata": {
    "ExecuteTime": {
     "end_time": "2024-09-16T18:36:11.797108Z",
     "start_time": "2024-09-16T18:36:11.678596Z"
    }
   },
   "cell_type": "code",
   "source": [
    "from sophius.estimate import LSTMRegressor\n",
    "\n",
    "estimator = torch.load('../data/models/estimator_v1.pth').cpu()\n",
    "\n",
    "def estimate_val_acc(model_tmpl):\n",
    "    t = torch.tensor(encoder.model2vec(model_tmpl), dtype=torch.float32)\n",
    "    return estimator(t).item()"
   ],
   "id": "3bc68abf882101c9",
   "outputs": [],
   "execution_count": 36
  },
  {
   "metadata": {
    "ExecuteTime": {
     "end_time": "2024-09-16T18:36:43.907083Z",
     "start_time": "2024-09-16T18:36:15.879068Z"
    }
   },
   "cell_type": "code",
   "source": [
    "model_gen = ConvModelGenerator(\n",
    "    in_shape=(3, 32, 32), \n",
    "    out_shape=10, \n",
    "    conv_num=3, \n",
    "    lin_num=1,\n",
    ")\n",
    "model_tmpl = model_gen.generate_model_tmpl()\n",
    "model = model_tmpl.instantiate_model().type(torch.cuda.FloatTensor)\n",
    "print(model_tmpl)\n",
    "\n",
    "val_acc_threshold = 0.6\n",
    "\n",
    "train_params = {\n",
    "    'val_size': 10000,\n",
    "    'batch_size': 256,\n",
    "    'num_epoch': 50,\n",
    "    'random_seed':42,\n",
    "    'optimizer': 'AdamW',\n",
    "    'opt_params': {\n",
    "        'lr': 1e-3,\n",
    "    },\n",
    "    'scheduler': 'ExponentialLR',\n",
    "    'sch_params': {\n",
    "        'gamma': 0.95,\n",
    "    },\n",
    "}\n",
    "\n",
    "res = train_on_gpu_ex(\n",
    "    model=model,\n",
    "    dataset=cifar_gpu,\n",
    "    verbose=True,\n",
    "    **train_params,\n",
    ")\n",
    "print('val_acc* %.3f' % (estimate_val_acc(model_tmpl)))\n",
    "\n",
    "sns.lineplot(res, x='epoch', y='train_acc', label='train')\n",
    "sns.lineplot(res, x='epoch', y='val_acc', label='val');"
   ],
   "id": "7a0a82ff86728363",
   "outputs": [
    {
     "name": "stdout",
     "output_type": "stream",
     "text": [
      "Conv2d       (64, 11, 11)   (2, 2)   (3, 3)  \n",
      "ReLU         (64, 11, 11)  \n",
      "BatchNorm2d  (64, 11, 11)  \n",
      "Flatten      7744          \n",
      "Linear       10            \n",
      "\n"
     ]
    },
    {
     "name": "stderr",
     "output_type": "stream",
     "text": [
      "Loss 70.275: 100%|██████████| 50/50 [00:27<00:00,  1.81it/s] \n"
     ]
    },
    {
     "name": "stdout",
     "output_type": "stream",
     "text": [
      "val_acc: 0.539 train_acc: 0.874\n",
      "val_acc* 0.560\n"
     ]
    },
    {
     "data": {
      "text/plain": [
       "<Figure size 640x480 with 1 Axes>"
      ],
      "image/png": "[encoded data removed]"
     },
     "metadata": {},
     "output_type": "display_data"
    }
   ],
   "execution_count": 37
  },
  {
   "metadata": {
    "ExecuteTime": {
     "end_time": "2024-09-16T13:15:02.264069Z",
     "start_time": "2024-09-16T13:15:02.148742Z"
    }
   },
   "cell_type": "code",
   "source": "",
   "id": "c32947ba91b3fdf8",
   "outputs": [
    {
     "data": {
      "text/plain": [
       "0.5292797684669495"
      ]
     },
     "execution_count": 26,
     "metadata": {},
     "output_type": "execute_result"
    }
   ],
   "execution_count": 26
  },
  {
   "metadata": {
    "ExecuteTime": {
     "end_time": "2024-09-16T13:37:26.447181Z",
     "start_time": "2024-09-16T13:37:26.312421Z"
    }
   },
   "cell_type": "code",
   "source": [
    "import sqlite3\n",
    "from sophius.utils import hash_dict\n",
    "\n",
    "exp_id = 0\n",
    "with sqlite3.connect('../data/models.db') as conn:\n",
    "    try:\n",
    "        exp_id = conn.execute('SELECT COUNT(*) FROM test_experiments').fetchone()[0]\n",
    "    except:\n",
    "        pass\n",
    "    exp_params = {**train_params, **{'in_shape': (3, 32, 32), 'out_shpape': 10}}\n",
    "    \n",
    "    df = pd.DataFrame([exp_params], index=[exp_id])\n",
    "    exp_hash = hash_dict(exp_params)\n",
    "    df['hash'] = exp_hash\n",
    "    df.index.name = 'id'\n",
    "    if exp_id == 0:\n",
    "        df.astype(str).to_sql('test_experiments', conn, if_exists='append')\n",
    "    else:\n",
    "        # check if experiment exists\n",
    "        res = conn.execute('SELECT id FROM test_experiments WHERE hash == ?', (exp_hash,)).fetchone()\n",
    "        if res:\n",
    "            print('Experiment exists')\n",
    "            print(exp_params)\n",
    "            exp_id = res[0]\n",
    "        else:\n",
    "            print('Creating new experiment')\n",
    "            print(exp_params)\n",
    "            df.astype(str).to_sql('test_experiments', conn, if_exists='append')    \n",
    "exp_id"
   ],
   "id": "58befc06b1e0fda6",
   "outputs": [
    {
     "data": {
      "text/plain": [
       "0"
      ]
     },
     "execution_count": 34,
     "metadata": {},
     "output_type": "execute_result"
    }
   ],
   "execution_count": 34
  },
  {
   "metadata": {
    "ExecuteTime": {
     "end_time": "2024-09-14T16:50:35.556959Z",
     "start_time": "2024-09-14T16:50:35.464425Z"
    }
   },
   "cell_type": "code",
   "source": [
    "# run stats - run_id, run params\n",
    "# run_models run_id -> model_id \n",
    "# model stats model_id, hash, flops, batch_size\n",
    "# model_per_epoch stats model_id, "
   ],
   "id": "f7a295437afbf17",
   "outputs": [],
   "execution_count": 13
  },
  {
   "metadata": {
    "ExecuteTime": {
     "end_time": "2024-09-16T13:45:56.319730500Z",
     "start_time": "2024-09-16T13:37:30.716071Z"
    }
   },
   "cell_type": "code",
   "source": [
    "model_gen = ConvModelGenerator((3, 32, 32), 10, conv_num=3, lin_num=1)\n",
    "estimator = torch.load('../data/models/estimator_v1.pth')\n",
    "val_acc_threshold = 0.6\n",
    "\n",
    "for i in tqdm(range(10)):\n",
    "    model_tmpl = model_gen.generate_model_tmpl()    \n",
    "    model = model_tmpl.instantiate_model().type(torch.cuda.FloatTensor)\n",
    "    \n",
    "    est_val_acc = estimate_val_acc(model_tmpl) \n",
    "    if est_val_acc < val_acc_threshold:\n",
    "        print('Skip estimated', est_val_acc)\n",
    "        continue\n",
    "    \n",
    "    epoch_results = train_on_gpu_ex(\n",
    "        model=model,\n",
    "        dataset=cifar_gpu,\n",
    "        verbose=False,\n",
    "        **train_params,\n",
    "    )\n",
    "    \n",
    "    model_id = 0\n",
    "    with sqlite3.connect('../data/models.db') as conn:\n",
    "        try:\n",
    "            model_id = conn.execute('SELECT COUNT(*) FROM test_models').fetchone()[0]\n",
    "        except:\n",
    "            pass\n",
    "        \n",
    "    model_results = calc_model_flops(model, (3, 32, 32))\n",
    "    model_results['id'] = model_id\n",
    "    model_results['exp_id'] = exp_id\n",
    "    model_results['hash'] = encoder.model2hash(model_tmpl)    \n",
    "    model_results['val_acc'] = epoch_results.val_acc.iloc[-10:].mean()\n",
    "    model_results['train_acc'] = epoch_results.train_acc.iloc[-10:].mean()\n",
    "    model_results['time'] = epoch_results.time.iloc[-1]\n",
    "    \n",
    "    epoch_results['model_id'] = model_id\n",
    "    epoch_results['exp_id'] = exp_id\n",
    "\n",
    "    with sqlite3.connect('../data/models.db') as conn:\n",
    "        df = pd.DataFrame([model_results]).set_index('id').astype(str)\n",
    "        df.to_sql('test_models', conn, if_exists='append')\n",
    "        \n",
    "        epoch_results.to_sql('test_model_epochs', conn, if_exists='append', index=False)\n",
    "        \n",
    "#     # print(df.loc[i])"
   ],
   "id": "808c8014271b97a",
   "outputs": [
    {
     "name": "stderr",
     "output_type": "stream",
     "text": [
      "  0%|          | 0/10 [00:00<?, ?it/s]"
     ]
    },
    {
     "name": "stdout",
     "output_type": "stream",
     "text": [
      "Skip estimated 0.5236546397209167\n"
     ]
    },
    {
     "name": "stderr",
     "output_type": "stream",
     "text": [
      " 20%|██        | 2/10 [08:25<33:42, 252.75s/it]\n"
     ]
    },
    {
     "ename": "KeyboardInterrupt",
     "evalue": "",
     "output_type": "error",
     "traceback": [
      "\u001B[1;31m---------------------------------------------------------------------------\u001B[0m",
      "\u001B[1;31mKeyboardInterrupt\u001B[0m                         Traceback (most recent call last)",
      "Cell \u001B[1;32mIn[35], line 14\u001B[0m\n\u001B[0;32m     11\u001B[0m     \u001B[38;5;28mprint\u001B[39m(\u001B[38;5;124m'\u001B[39m\u001B[38;5;124mSkip estimated\u001B[39m\u001B[38;5;124m'\u001B[39m, est_val_acc)\n\u001B[0;32m     12\u001B[0m     \u001B[38;5;28;01mcontinue\u001B[39;00m\n\u001B[1;32m---> 14\u001B[0m epoch_results \u001B[38;5;241m=\u001B[39m \u001B[43mtrain_on_gpu_ex\u001B[49m\u001B[43m(\u001B[49m\n\u001B[0;32m     15\u001B[0m \u001B[43m    \u001B[49m\u001B[43mmodel\u001B[49m\u001B[38;5;241;43m=\u001B[39;49m\u001B[43mmodel\u001B[49m\u001B[43m,\u001B[49m\n\u001B[0;32m     16\u001B[0m \u001B[43m    \u001B[49m\u001B[43mdataset\u001B[49m\u001B[38;5;241;43m=\u001B[39;49m\u001B[43mcifar_gpu\u001B[49m\u001B[43m,\u001B[49m\n\u001B[0;32m     17\u001B[0m \u001B[43m    \u001B[49m\u001B[43mverbose\u001B[49m\u001B[38;5;241;43m=\u001B[39;49m\u001B[38;5;28;43;01mFalse\u001B[39;49;00m\u001B[43m,\u001B[49m\n\u001B[0;32m     18\u001B[0m \u001B[43m    \u001B[49m\u001B[38;5;241;43m*\u001B[39;49m\u001B[38;5;241;43m*\u001B[39;49m\u001B[43mtrain_params\u001B[49m\u001B[43m,\u001B[49m\n\u001B[0;32m     19\u001B[0m \u001B[43m\u001B[49m\u001B[43m)\u001B[49m\n\u001B[0;32m     21\u001B[0m model_id \u001B[38;5;241m=\u001B[39m \u001B[38;5;241m0\u001B[39m\n\u001B[0;32m     22\u001B[0m \u001B[38;5;28;01mwith\u001B[39;00m sqlite3\u001B[38;5;241m.\u001B[39mconnect(\u001B[38;5;124m'\u001B[39m\u001B[38;5;124m../data/models.db\u001B[39m\u001B[38;5;124m'\u001B[39m) \u001B[38;5;28;01mas\u001B[39;00m conn:\n",
      "File \u001B[1;32m~\\PycharmProjects\\sophius\\sophius\\train.py:201\u001B[0m, in \u001B[0;36mtrain_on_gpu_ex\u001B[1;34m(model, dataset, val_size, batch_size, num_epoch, optimizer, opt_params, scheduler, sch_params, random_seed, verbose)\u001B[0m\n\u001B[0;32m    199\u001B[0m toc \u001B[38;5;241m=\u001B[39m time\u001B[38;5;241m.\u001B[39mtime()\n\u001B[0;32m    200\u001B[0m val_acc \u001B[38;5;241m=\u001B[39m check_accuracy(model, loader[\u001B[38;5;124m'\u001B[39m\u001B[38;5;124mval\u001B[39m\u001B[38;5;124m'\u001B[39m])\n\u001B[1;32m--> 201\u001B[0m train_acc \u001B[38;5;241m=\u001B[39m \u001B[43mcheck_accuracy\u001B[49m\u001B[43m(\u001B[49m\u001B[43mmodel\u001B[49m\u001B[43m,\u001B[49m\u001B[43m \u001B[49m\u001B[43mloader\u001B[49m\u001B[43m[\u001B[49m\u001B[38;5;124;43m'\u001B[39;49m\u001B[38;5;124;43mtrain_small\u001B[39;49m\u001B[38;5;124;43m'\u001B[39;49m\u001B[43m]\u001B[49m\u001B[43m)\u001B[49m\n\u001B[0;32m    202\u001B[0m res\u001B[38;5;241m.\u001B[39mloc[i] \u001B[38;5;241m=\u001B[39m [i, running_loss, train_acc, val_acc, toc \u001B[38;5;241m-\u001B[39m tic]\n\u001B[0;32m    204\u001B[0m \u001B[38;5;28;01mif\u001B[39;00m verbose:\n",
      "File \u001B[1;32m~\\PycharmProjects\\sophius\\sophius\\train.py:268\u001B[0m, in \u001B[0;36mcheck_accuracy\u001B[1;34m(model, loader)\u001B[0m\n\u001B[0;32m    266\u001B[0m y_var \u001B[38;5;241m=\u001B[39m y\u001B[38;5;241m.\u001B[39mtype(torch\u001B[38;5;241m.\u001B[39mLongTensor)\n\u001B[0;32m    267\u001B[0m scores \u001B[38;5;241m=\u001B[39m model(x_var)\n\u001B[1;32m--> 268\u001B[0m _, preds \u001B[38;5;241m=\u001B[39m \u001B[43mscores\u001B[49m\u001B[38;5;241;43m.\u001B[39;49m\u001B[43mdata\u001B[49m\u001B[38;5;241;43m.\u001B[39;49m\u001B[43mcpu\u001B[49m\u001B[43m(\u001B[49m\u001B[43m)\u001B[49m\u001B[38;5;241m.\u001B[39mmax(\u001B[38;5;241m1\u001B[39m)\n\u001B[0;32m    269\u001B[0m num_correct \u001B[38;5;241m+\u001B[39m\u001B[38;5;241m=\u001B[39m (preds \u001B[38;5;241m==\u001B[39m y_var)\u001B[38;5;241m.\u001B[39msum()\n\u001B[0;32m    270\u001B[0m num_samples \u001B[38;5;241m+\u001B[39m\u001B[38;5;241m=\u001B[39m preds\u001B[38;5;241m.\u001B[39msize(\u001B[38;5;241m0\u001B[39m)\n",
      "\u001B[1;31mKeyboardInterrupt\u001B[0m: "
     ]
    }
   ],
   "execution_count": 35
  }
 ],
 "metadata": {
  "kernelspec": {
   "display_name": "sophius",
   "language": "python",
   "name": "sophius"
  },
  "language_info": {
   "codemirror_mode": {
    "name": "ipython",
    "version": 2
   },
   "file_extension": ".py",
   "mimetype": "text/x-python",
   "name": "python",
   "nbconvert_exporter": "python",
   "pygments_lexer": "ipython2",
   "version": "2.7.6"
  }
 },
 "nbformat": 4,
 "nbformat_minor": 5
}
