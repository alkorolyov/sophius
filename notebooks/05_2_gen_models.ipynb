{
 "cells": [
  {
   "cell_type": "code",
   "id": "initial_id",
   "metadata": {
    "collapsed": true,
    "ExecuteTime": {
     "end_time": "2024-09-19T09:23:25.433481Z",
     "start_time": "2024-09-19T09:23:25.374418Z"
    }
   },
   "source": [
    "%load_ext autoreload\n",
    "%autoreload 2\n",
    "\n",
    "import sys\n",
    "sys.path.append(\"..\")"
   ],
   "outputs": [],
   "execution_count": 1
  },
  {
   "metadata": {
    "ExecuteTime": {
     "end_time": "2024-09-19T09:23:46.880455Z",
     "start_time": "2024-09-19T09:23:30.896550Z"
    }
   },
   "cell_type": "code",
   "source": [
    "import torch\n",
    "from calflops import calculate_flops\n",
    "import sophius.utils as utils\n",
    "import sophius.dataload as dload\n",
    "from sophius.modelgen import ConvModelGenerator\n",
    "from sophius.train import train_express_gpu\n",
    "import torchvision.datasets as dset\n",
    "import torchvision.transforms as T\n",
    "from sophius.encode import Encoder\n",
    "from sophius.utils import calc_model_flops, hash_dict\n",
    "import sqlite3\n",
    "import pandas as pd\n",
    "import seaborn as sns\n",
    "from tqdm import tqdm\n",
    "import random\n",
    "from sophius.train import train_on_gpu_ex\n",
    "normalize = T.Compose([\n",
    "    T.ToTensor(),\n",
    "    T.Normalize((0.5, 0.5, 0.5), (0.5, 0.5, 0.5)),    \n",
    "])\n",
    "cifar10 = dset.CIFAR10('../data/CIFAR10', train=True, download=True, transform=normalize)\n",
    "cifar_gpu = dload.cifar_to_gpu(cifar10)\n",
    "\n",
    "encoder = Encoder()"
   ],
   "id": "4ae403a2b286ff03",
   "outputs": [
    {
     "name": "stderr",
     "output_type": "stream",
     "text": [
      "C:\\Users\\korol\\miniforge3\\envs\\sophius\\lib\\site-packages\\tqdm\\auto.py:21: TqdmWarning: IProgress not found. Please update jupyter and ipywidgets. See https://ipywidgets.readthedocs.io/en/stable/user_install.html\n",
      "  from .autonotebook import tqdm as notebook_tqdm\n"
     ]
    },
    {
     "name": "stdout",
     "output_type": "stream",
     "text": [
      "Files already downloaded and verified\n"
     ]
    }
   ],
   "execution_count": 2
  },
  {
   "metadata": {
    "ExecuteTime": {
     "end_time": "2024-09-19T09:23:46.972121Z",
     "start_time": "2024-09-19T09:23:46.884475Z"
    }
   },
   "cell_type": "code",
   "source": [
    "from sophius.estimate import LSTMRegressor\n",
    "\n",
    "estimator = torch.load('../data/models/estimator_v1.pth').cpu()\n",
    "\n",
    "def estimate_acc(model_tmpl):\n",
    "    t = torch.tensor(encoder.model2vec(model_tmpl), dtype=torch.float32)\n",
    "    return estimator(t).item()"
   ],
   "id": "3bc68abf882101c9",
   "outputs": [],
   "execution_count": 3
  },
  {
   "metadata": {
    "ExecuteTime": {
     "end_time": "2024-09-19T09:23:49.790114Z",
     "start_time": "2024-09-19T09:23:49.688139Z"
    }
   },
   "cell_type": "code",
   "source": [
    "def read_model_db(model_id):    \n",
    "    with sqlite3.connect('../data/models.db') as conn:\n",
    "        hash_str = conn.execute(f'SELECT hash FROM models WHERE id==?', (model_id, )).fetchone()[0]\n",
    "    return encoder.hash2model(hash_str, (3, 32, 32), 10)\n",
    "\n",
    "read_model_db(2604)"
   ],
   "id": "644039e291a2cfd7",
   "outputs": [
    {
     "data": {
      "text/plain": [
       "Conv2d       (192, 16, 16)  (5, 5)   (2, 2)  \n",
       "ReLU         (192, 16, 16) \n",
       "MaxPool2d    (192, 16, 16)  (3, 3)   (1, 1)  \n",
       "BatchNorm2d  (192, 16, 16) \n",
       "AvgPool2d    (192, 9, 9)    (2, 2)   (2, 2)  \n",
       "Conv2d       (64, 9, 9)     (3, 3)   (1, 1)  \n",
       "PReLU        (64, 9, 9)    \n",
       "BatchNorm2d  (64, 9, 9)    \n",
       "AvgPool2d    (64, 8, 8)     (2, 2)   (1, 1)  \n",
       "Conv2d       (192, 2, 2)    (7, 7)   (4, 4)  \n",
       "ReLU         (192, 2, 2)   \n",
       "BatchNorm2d  (192, 2, 2)   \n",
       "PReLU        (192, 2, 2)   \n",
       "BatchNorm2d  (192, 2, 2)   \n",
       "GlobalAvgPool2d (192, 1, 1)   \n",
       "Flatten      192           \n",
       "Linear       10            "
      ]
     },
     "execution_count": 4,
     "metadata": {},
     "output_type": "execute_result"
    }
   ],
   "execution_count": 4
  },
  {
   "metadata": {
    "ExecuteTime": {
     "end_time": "2024-09-19T10:17:46.174161Z",
     "start_time": "2024-09-19T10:15:07.115398Z"
    }
   },
   "cell_type": "code",
   "source": [
    "model_gen = ConvModelGenerator(\n",
    "    in_shape=(3, 32, 32), \n",
    "    out_shape=10, \n",
    "    conv_num=3, \n",
    "    lin_num=1,\n",
    ")\n",
    "\n",
    "model_tmpl = model_gen.generate_model_tmpl()\n",
    "# model_tmpl = read_model_db(2604)\n",
    "\n",
    "model = model_tmpl.instantiate_model().type(torch.cuda.FloatTensor)\n",
    "\n",
    "print(model_tmpl)\n",
    "\n",
    "val_acc_threshold = 0.6\n",
    "\n",
    "train_params = {\n",
    "    'val_size': 10000,\n",
    "    'batch_size': 256,\n",
    "    'num_epoch': 50,\n",
    "    'random_seed':42,\n",
    "    'optimizer': 'AdamW',\n",
    "    'opt_params': {\n",
    "        'lr': 1e-3,\n",
    "    },\n",
    "    'scheduler': 'ExponentialLR',\n",
    "    'sch_params': {\n",
    "        'gamma': 0.95,\n",
    "    },\n",
    "}\n",
    "\n",
    "res = train_on_gpu_ex(\n",
    "    model=model,\n",
    "    dataset=cifar_gpu,\n",
    "    verbose=True,\n",
    "    **train_params,\n",
    ")\n",
    "print('val_acc* %.3f' % (estimate_acc(model_tmpl)))\n",
    "\n",
    "sns.lineplot(res, x='epoch', y='train_acc', label='train')\n",
    "sns.lineplot(res, x='epoch', y='val_acc', label='val');"
   ],
   "id": "7a0a82ff86728363",
   "outputs": [
    {
     "name": "stdout",
     "output_type": "stream",
     "text": [
      "Conv2d       (64, 32, 32)   (7, 7)   (1, 1)  \n",
      "PReLU        (64, 32, 32)  \n",
      "MaxPool2d    (64, 33, 33)   (4, 4)   (1, 1)  \n",
      "BatchNorm2d  (64, 33, 33)  \n",
      "Conv2d       (64, 11, 11)   (1, 1)   (3, 3)  \n",
      "LeakyReLU    (64, 11, 11)   (0.01)  \n",
      "MaxPool2d    (64, 6, 6)     (4, 4)   (2, 2)  \n",
      "BatchNorm2d  (64, 6, 6)    \n",
      "Conv2d       (32, 1, 1)     (6, 6)   (2, 2)  \n",
      "ReLU         (32, 1, 1)    \n",
      "GlobalAvgPool2d (32, 1, 1)    \n",
      "Flatten      32            \n",
      "Linear       10            \n",
      "\n"
     ]
    },
    {
     "name": "stderr",
     "output_type": "stream",
     "text": [
      "Loss 18.405: 100%|██████████| 50/50 [02:38<00:00,  3.17s/it]\n"
     ]
    },
    {
     "name": "stdout",
     "output_type": "stream",
     "text": [
      "val_acc: 0.690 train_acc: 0.957\n",
      "val_acc* 0.691\n"
     ]
    },
    {
     "data": {
      "text/plain": [
       "<Figure size 640x480 with 1 Axes>"
      ],
      "image/png": "[encoded data removed]"
     },
     "metadata": {},
     "output_type": "display_data"
    }
   ],
   "execution_count": 50
  },
  {
   "metadata": {
    "ExecuteTime": {
     "end_time": "2024-09-19T10:18:08.496248Z",
     "start_time": "2024-09-19T10:18:08.401218Z"
    }
   },
   "cell_type": "code",
   "source": [
    "import sqlite3\n",
    "from sophius.utils import hash_dict\n",
    "\n",
    "exp_tbl_name = 'experiments'\n",
    "\n",
    "exp_params = {**train_params, **{'in_shape': (3, 32, 32), 'out_shape': 10, }}\n",
    "\n",
    "def exp_to_df(exp_params: dict, exp_id: int) -> pd.DataFrame:\n",
    "    df = pd.DataFrame([exp_params], index=[exp_id])\n",
    "    df.index.name = 'id'\n",
    "    exp_hash = hash_dict(exp_params)\n",
    "    df['hash'] = exp_hash\n",
    "    \n",
    "    # cast complex objects to string\n",
    "    for col in ['opt_params', 'sch_params', 'in_shape', 'out_shape']:\n",
    "        df[col] = df[col].astype(str)\n",
    "    return df    \n",
    "\n",
    "def tbl_exists(tbl_name, conn):\n",
    "    sql = (\"SELECT name FROM sqlite_master \"\n",
    "           f\"WHERE type='table' AND name='{tbl_name}'\")\n",
    "    return conn.execute(sql).fetchone() is not None\n",
    "\n",
    "def get_new_exp_id(conn: sqlite3.Connection):\n",
    "    try:\n",
    "        return conn.execute(f'SELECT COUNT(*) FROM {exp_tbl_name}').fetchone()[0]\n",
    "    except:\n",
    "        return 0\n",
    "    \n",
    "def search_experiment(conn: sqlite3.Connection, exp_params: dict):    \n",
    "    exp_hash = hash_dict(exp_params)\n",
    "    res = conn.execute(f'SELECT id FROM {exp_tbl_name} WHERE hash == ?', (exp_hash,)).fetchone()\n",
    "    if res:\n",
    "        return res[0]\n",
    "    return None\n",
    "\n",
    "def add_experiment(exp_params: dict, db_path='../data/models.db'):\n",
    "    with sqlite3.connect(db_path) as conn:                \n",
    "        # check if experiment table exists\n",
    "        if not tbl_exists(exp_tbl_name, conn):\n",
    "            print(f'Creating {exp_tbl_name} table')\n",
    "            exp_id = 0\n",
    "            exp_df = exp_to_df(exp_params, exp_id)\n",
    "            exp_df.to_sql(exp_tbl_name, conn, if_exists='append')\n",
    "            return exp_id\n",
    "\n",
    "        # check if experiment exists                \n",
    "        exp_id = search_experiment(conn, exp_params)\n",
    "        \n",
    "        if exp_id is not None:\n",
    "            print('Experiment exists')\n",
    "            print(exp_params)\n",
    "        else:\n",
    "            print('Adding new experiment')\n",
    "            exp_id = get_new_exp_id(conn)\n",
    "            exp_df = exp_to_df(exp_params, exp_id)\n",
    "            exp_df.to_sql(exp_tbl_name, conn, if_exists='append')\n",
    "    return exp_id\n",
    "\n",
    "exp_id = add_experiment(exp_params)"
   ],
   "id": "58befc06b1e0fda6",
   "outputs": [
    {
     "name": "stdout",
     "output_type": "stream",
     "text": [
      "Experiment exists\n",
      "{'val_size': 10000, 'batch_size': 256, 'num_epoch': 50, 'random_seed': 42, 'optimizer': 'AdamW', 'opt_params': {'lr': 0.001}, 'scheduler': 'ExponentialLR', 'sch_params': {'gamma': 0.95}, 'in_shape': (3, 32, 32), 'out_shape': 10}\n"
     ]
    }
   ],
   "execution_count": 53
  },
  {
   "metadata": {},
   "cell_type": "code",
   "outputs": [],
   "execution_count": null,
   "source": [
    "def get_new_model_id(db_path='../data/models.db'):\n",
    "    with sqlite3.connect(db_path) as conn:\n",
    "        try:\n",
    "            return conn.execute('SELECT COUNT(*) FROM models').fetchone()[0]\n",
    "        except:\n",
    "            return 0"
   ],
   "id": "be5cb5d45cb13d51"
  },
  {
   "metadata": {
    "ExecuteTime": {
     "end_time": "2024-09-17T16:32:03.529812Z",
     "start_time": "2024-09-17T16:32:02.918169Z"
    }
   },
   "cell_type": "code",
   "source": [
    "model_gen = ConvModelGenerator((3, 32, 32), 10, conv_num=3, lin_num=1)\n",
    "estimator = torch.load('../data/models/estimator_v2.pth').cpu()\n",
    "val_acc_threshold = 0.7\n",
    "\n",
    "for i in tqdm(range(100)):\n",
    "    model_tmpl = model_gen.generate_model_tmpl()    \n",
    "    model = model_tmpl.instantiate_model().type(torch.cuda.FloatTensor)\n",
    "    \n",
    "    est_val_acc = estimate_acc(model_tmpl) \n",
    "    if est_val_acc < val_acc_threshold:\n",
    "        # print('Skip %.3f' % est_val_acc)\n",
    "        continue\n",
    "    print('Pass %.3f' % est_val_acc)\n",
    "    \n",
    "    epoch_results = train_on_gpu_ex(\n",
    "        model=model,\n",
    "        dataset=cifar_gpu,\n",
    "        verbose=False,\n",
    "        **train_params,\n",
    "    )\n",
    "    \n",
    "    model_id = get_new_model_id()\n",
    "        \n",
    "    model_results = calc_model_flops(model, (3, 32, 32))\n",
    "    model_results['id'] = model_id\n",
    "    model_results['exp_id'] = exp_id\n",
    "    model_results['hash'] = encoder.model2hash(model_tmpl)    \n",
    "    model_results['val_acc'] = epoch_results.val_acc.iloc[-10:].mean()\n",
    "    model_results['train_acc'] = epoch_results.train_acc.iloc[-10:].mean()\n",
    "    model_results['time'] = epoch_results.time.iloc[-1]\n",
    "    \n",
    "    epoch_results['model_id'] = model_id\n",
    "    epoch_results['exp_id'] = exp_id\n",
    "\n",
    "    with sqlite3.connect('../data/models.db') as conn:\n",
    "        df = pd.DataFrame([model_results]).set_index('id') \n",
    "        df.to_sql('test_models', conn, if_exists='append')\n",
    "        \n",
    "        epoch_results.to_sql('test_model_epochs', conn, if_exists='append', index=False)\n",
    "        \n",
    "#     # print(df.loc[i])"
   ],
   "id": "808c8014271b97a",
   "outputs": [
    {
     "name": "stderr",
     "output_type": "stream",
     "text": [
      " 48%|████▊     | 48/100 [00:00<00:00, 200.42it/s]"
     ]
    },
    {
     "name": "stdout",
     "output_type": "stream",
     "text": [
      "Pass 0.737\n",
      "Pass 0.703\n",
      "Pass 0.718\n",
      "Pass 0.738\n",
      "Pass 0.726\n",
      "Pass 0.794\n"
     ]
    },
    {
     "name": "stderr",
     "output_type": "stream",
     "text": [
      "100%|██████████| 100/100 [00:00<00:00, 197.79it/s]"
     ]
    },
    {
     "name": "stdout",
     "output_type": "stream",
     "text": [
      "Pass 0.710\n"
     ]
    },
    {
     "name": "stderr",
     "output_type": "stream",
     "text": [
      "\n"
     ]
    }
   ],
   "execution_count": 15
  }
 ],
 "metadata": {
  "kernelspec": {
   "display_name": "sophius",
   "language": "python",
   "name": "sophius"
  },
  "language_info": {
   "codemirror_mode": {
    "name": "ipython",
    "version": 2
   },
   "file_extension": ".py",
   "mimetype": "text/x-python",
   "name": "python",
   "nbconvert_exporter": "python",
   "pygments_lexer": "ipython2",
   "version": "2.7.6"
  }
 },
 "nbformat": 4,
 "nbformat_minor": 5
}
