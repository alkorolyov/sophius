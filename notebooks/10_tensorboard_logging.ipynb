{
 "cells": [
  {
   "cell_type": "code",
   "id": "initial_id",
   "metadata": {
    "collapsed": true,
    "ExecuteTime": {
     "end_time": "2024-09-05T13:54:19.150320Z",
     "start_time": "2024-09-05T13:54:14.420450Z"
    }
   },
   "source": [
    "import pytorch_lightning as pl\n",
    "import torch\n",
    "from torch import nn, optim\n",
    "from torchmetrics.classification import Accuracy\n",
    "from torchvision import transforms\n",
    "from torchvision.datasets import MNIST\n",
    "from torch.utils.data import DataLoader, random_split, Subset\n",
    "from pytorch_lightning.loggers import TensorBoardLogger\n",
    "\n",
    "# Define a simple model\n",
    "class SimpleClassifier(pl.LightningModule):\n",
    "    def __init__(self, input_dim, hidden_dim, output_dim, lr):\n",
    "        super().__init__()\n",
    "        self.save_hyperparameters()  # Save hyperparameters\n",
    "        self.layer_1 = nn.Linear(input_dim, hidden_dim)\n",
    "        self.layer_2 = nn.Linear(hidden_dim, output_dim)\n",
    "        self.loss_fn = nn.CrossEntropyLoss()\n",
    "        self.accuracy = Accuracy(num_classes=output_dim, task='multiclass')\n",
    "\n",
    "    def forward(self, x):\n",
    "        x = torch.flatten(x, start_dim=1)  # Flatten the input\n",
    "        x = torch.relu(self.layer_1(x))\n",
    "        x = self.layer_2(x)\n",
    "        return x\n",
    "\n",
    "    def training_step(self, batch, batch_idx):\n",
    "        x, y = batch\n",
    "        y_hat = self(x)\n",
    "        loss = self.loss_fn(y_hat, y)\n",
    "        \n",
    "        # Compute accuracy\n",
    "        acc = self.accuracy(y_hat, y)\n",
    "        \n",
    "        logs = {\n",
    "            'train_loss': loss,\n",
    "            'train_acc': acc\n",
    "        }\n",
    "        # Log accuracy and loss\n",
    "        self.log_dict(logs, on_step=True, on_epoch=False)\n",
    "        \n",
    "        return loss\n",
    "\n",
    "    def configure_optimizers(self):\n",
    "        return optim.Adam(self.parameters(), lr=self.hparams.lr)\n",
    "\n",
    "# Data preparation\n",
    "dataset = MNIST(root='../data', train=True, transform=transforms.ToTensor(), download=True)\n",
    "\n",
    "# Use a small subset of the dataset for quick training\n",
    "subset_indices = list(range(1000))  # Using 1000 samples for quick training\n",
    "subset = Subset(dataset, subset_indices)\n",
    "\n",
    "train_set, val_set = random_split(subset, [800, 200])\n",
    "\n",
    "train_loader = DataLoader(train_set, batch_size=16, shuffle=True)  # Smaller batch size\n",
    "val_loader = DataLoader(val_set, batch_size=16)\n",
    "\n",
    "# Define hyperparameters\n",
    "hyperparams = {\n",
    "    'input_dim': 28*28,    # 28x28 images\n",
    "    'hidden_dim': 32,      # Reduced hidden dimension\n",
    "    'output_dim': 10,      # 10 classes\n",
    "    'lr': 1e-3,\n",
    "}\n",
    "\n",
    "# Initialize the model\n",
    "model = SimpleClassifier(**hyperparams)\n",
    "\n",
    "# Initialize TensorBoard Logger\n",
    "# logger = TensorBoardLogger('.', default_hp_metric=False)  # Use default folder\n",
    "logger = TensorBoardLogger('.')  # Use default folder\n",
    "\n",
    "# Initialize the trainer\n",
    "trainer = pl.Trainer(\n",
    "    max_epochs=5,           # Train for only 1 epoch\n",
    "    logger=logger,\n",
    "    log_every_n_steps=1,\n",
    "    enable_progress_bar=True,  # Disable progress bar\n",
    "    accelerator='cpu',     # Use CPU to speed up (remove if you have a GPU)\n",
    ")\n",
    "\n",
    "# Train the model\n",
    "trainer.fit(model, train_loader, val_loader)"
   ],
   "outputs": [
    {
     "name": "stderr",
     "output_type": "stream",
     "text": [
      "C:\\Users\\korol\\miniforge3\\envs\\sophius\\lib\\site-packages\\tqdm\\auto.py:21: TqdmWarning: IProgress not found. Please update jupyter and ipywidgets. See https://ipywidgets.readthedocs.io/en/stable/user_install.html\n",
      "  from .autonotebook import tqdm as notebook_tqdm\n",
      "GPU available: True (cuda), used: False\n",
      "TPU available: False, using: 0 TPU cores\n",
      "IPU available: False, using: 0 IPUs\n",
      "HPU available: False, using: 0 HPUs\n",
      "C:\\Users\\korol\\miniforge3\\envs\\sophius\\lib\\site-packages\\pytorch_lightning\\trainer\\setup.py:175: PossibleUserWarning: GPU available but not used. Set `accelerator` and `devices` using `Trainer(accelerator='gpu', devices=1)`.\n",
      "  rank_zero_warn(\n",
      "C:\\Users\\korol\\miniforge3\\envs\\sophius\\lib\\site-packages\\pytorch_lightning\\trainer\\configuration_validator.py:106: UserWarning: You passed in a `val_dataloader` but have no `validation_step`. Skipping val loop.\n",
      "  rank_zero_warn(\"You passed in a `val_dataloader` but have no `validation_step`. Skipping val loop.\")\n",
      "\n",
      "  | Name     | Type               | Params\n",
      "------------------------------------------------\n",
      "0 | layer_1  | Linear             | 25.1 K\n",
      "1 | layer_2  | Linear             | 330   \n",
      "2 | loss_fn  | CrossEntropyLoss   | 0     \n",
      "3 | accuracy | MulticlassAccuracy | 0     \n",
      "------------------------------------------------\n",
      "25.4 K    Trainable params\n",
      "0         Non-trainable params\n",
      "25.4 K    Total params\n",
      "0.102     Total estimated model params size (MB)\n",
      "C:\\Users\\korol\\miniforge3\\envs\\sophius\\lib\\site-packages\\pytorch_lightning\\trainer\\connectors\\data_connector.py:224: PossibleUserWarning: The dataloader, train_dataloader, does not have many workers which may be a bottleneck. Consider increasing the value of the `num_workers` argument` (try 24 which is the number of cpus on this machine) in the `DataLoader` init to improve performance.\n",
      "  rank_zero_warn(\n"
     ]
    },
    {
     "name": "stdout",
     "output_type": "stream",
     "text": [
      "Epoch 4: 100%|██████████| 50/50 [00:00<00:00, 133.84it/s, loss=0.473, v_num=4]"
     ]
    },
    {
     "name": "stderr",
     "output_type": "stream",
     "text": [
      "`Trainer.fit` stopped: `max_epochs=5` reached.\n"
     ]
    },
    {
     "name": "stdout",
     "output_type": "stream",
     "text": [
      "Epoch 4: 100%|██████████| 50/50 [00:00<00:00, 132.42it/s, loss=0.473, v_num=4]\n"
     ]
    }
   ],
   "execution_count": 1
  },
  {
   "metadata": {},
   "cell_type": "markdown",
   "source": [
    "# run tensorboard --logdir lightning_logs\n",
    "# in current folder"
   ],
   "id": "597dc376bf00efc6"
  }
 ],
 "metadata": {
  "kernelspec": {
   "display_name": "sophius",
   "language": "python",
   "name": "sophius"
  },
  "language_info": {
   "codemirror_mode": {
    "name": "ipython",
    "version": 2
   },
   "file_extension": ".py",
   "mimetype": "text/x-python",
   "name": "python",
   "nbconvert_exporter": "python",
   "pygments_lexer": "ipython2",
   "version": "2.7.6"
  }
 },
 "nbformat": 4,
 "nbformat_minor": 5
}
