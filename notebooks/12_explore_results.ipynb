{
 "cells": [
  {
   "metadata": {
    "ExecuteTime": {
     "end_time": "2024-09-25T05:35:26.947102Z",
     "start_time": "2024-09-25T05:35:26.883329Z"
    }
   },
   "cell_type": "code",
   "source": [
    "from sophius.modelgen import ConvModelGenerator\n",
    "from sophius.utils import calc_model_flops\n",
    "%load_ext autoreload\n",
    "%autoreload 2\n",
    "import sys\n",
    "sys.path.append('..')"
   ],
   "id": "fa17b6eb05c0eb9",
   "outputs": [],
   "execution_count": 1
  },
  {
   "cell_type": "code",
   "id": "initial_id",
   "metadata": {
    "collapsed": true,
    "ExecuteTime": {
     "end_time": "2024-09-25T05:37:07.205102Z",
     "start_time": "2024-09-25T05:37:07.046642Z"
    }
   },
   "source": [
    "from sophius.db import *\n",
    "from peewee import *\n",
    "import pandas as pd\n",
    "\n",
    "query = (Runs\n",
    "         .select(Runs.id.alias('run_id'), Runs, Models, Devices.name.alias('dev_name'))\n",
    "         .where(Runs.exp_id==1)\n",
    "         .join(Models)\n",
    "         .switch(Runs)\n",
    "         .join(Devices)\n",
    "         .dicts())\n",
    "\n",
    "cols = ['run_id', 'hash', 'flops', 'params', 'val_acc', 'train_acc', 'time', 'dev_name']\n",
    "df = pd.DataFrame(query)[cols]\n",
    "df.time = df.time.round()\n",
    "\n",
    "# df = pd.DataFrame(query)\n",
    "\n",
    "df"
   ],
   "outputs": [
    {
     "data": {
      "text/plain": [
       "      run_id                                               hash     flops  \\\n",
       "0          1                   0080810a080800000049200001000000   2053728   \n",
       "1          2                   00880406200000000024a80001000000     30624   \n",
       "2          3           0080804520000000400000000023300001000000   1437216   \n",
       "3          4           0080421210080000400000000010000001000000   3738752   \n",
       "4          5   008402112000000000485000400000000010000001000000    357920   \n",
       "...      ...                                                ...       ...   \n",
       "8840    8851  0080421220000000004520000022d00000810222100400...  43234176   \n",
       "8841    8852  00840422100400000042a0000024d00000804822100800...  84006928   \n",
       "8842    8853  008020a2080400000044900000808821100800000024c8...  79741856   \n",
       "8843    8854  0088082120000000004910000081012108040000004510...  33437848   \n",
       "8844    8855  0081011208040000400000000029280000808821080400...  17068160   \n",
       "\n",
       "       params   val_acc  train_acc   time                 dev_name  \n",
       "0      145642  0.663141   0.865986   14.0  NVIDIA GeForce RTX 4090  \n",
       "1         954  0.399900   0.405278   14.0  NVIDIA GeForce RTX 4090  \n",
       "2       29770  0.642238   0.700962   14.0  NVIDIA GeForce RTX 4090  \n",
       "3        7818  0.479167   0.488632   17.0  NVIDIA GeForce RTX 4090  \n",
       "4         986  0.436639   0.439653   18.0  NVIDIA GeForce RTX 4090  \n",
       "...       ...       ...        ...    ...                      ...  \n",
       "8840   757962  0.763121   0.999700  113.0          Quadro RTX 6000  \n",
       "8841   555403  0.733624   0.995483   85.0          Quadro RTX 6000  \n",
       "8842   252011  0.663401   0.696815  160.0          Quadro RTX 6000  \n",
       "8843   408883  0.710857   0.959315  127.0          Quadro RTX 6000  \n",
       "8844  2439724  0.703716   0.999800   66.0          Quadro RTX 6000  \n",
       "\n",
       "[8845 rows x 8 columns]"
      ],
      "text/html": [
       "<div>\n",
       "<style scoped>\n",
       "    .dataframe tbody tr th:only-of-type {\n",
       "        vertical-align: middle;\n",
       "    }\n",
       "\n",
       "    .dataframe tbody tr th {\n",
       "        vertical-align: top;\n",
       "    }\n",
       "\n",
       "    .dataframe thead th {\n",
       "        text-align: right;\n",
       "    }\n",
       "</style>\n",
       "<table border=\"1\" class=\"dataframe\">\n",
       "  <thead>\n",
       "    <tr style=\"text-align: right;\">\n",
       "      <th></th>\n",
       "      <th>run_id</th>\n",
       "      <th>hash</th>\n",
       "      <th>flops</th>\n",
       "      <th>params</th>\n",
       "      <th>val_acc</th>\n",
       "      <th>train_acc</th>\n",
       "      <th>time</th>\n",
       "      <th>dev_name</th>\n",
       "    </tr>\n",
       "  </thead>\n",
       "  <tbody>\n",
       "    <tr>\n",
       "      <th>0</th>\n",
       "      <td>1</td>\n",
       "      <td>0080810a080800000049200001000000</td>\n",
       "      <td>2053728</td>\n",
       "      <td>145642</td>\n",
       "      <td>0.663141</td>\n",
       "      <td>0.865986</td>\n",
       "      <td>14.0</td>\n",
       "      <td>NVIDIA GeForce RTX 4090</td>\n",
       "    </tr>\n",
       "    <tr>\n",
       "      <th>1</th>\n",
       "      <td>2</td>\n",
       "      <td>00880406200000000024a80001000000</td>\n",
       "      <td>30624</td>\n",
       "      <td>954</td>\n",
       "      <td>0.399900</td>\n",
       "      <td>0.405278</td>\n",
       "      <td>14.0</td>\n",
       "      <td>NVIDIA GeForce RTX 4090</td>\n",
       "    </tr>\n",
       "    <tr>\n",
       "      <th>2</th>\n",
       "      <td>3</td>\n",
       "      <td>0080804520000000400000000023300001000000</td>\n",
       "      <td>1437216</td>\n",
       "      <td>29770</td>\n",
       "      <td>0.642238</td>\n",
       "      <td>0.700962</td>\n",
       "      <td>14.0</td>\n",
       "      <td>NVIDIA GeForce RTX 4090</td>\n",
       "    </tr>\n",
       "    <tr>\n",
       "      <th>3</th>\n",
       "      <td>4</td>\n",
       "      <td>0080421210080000400000000010000001000000</td>\n",
       "      <td>3738752</td>\n",
       "      <td>7818</td>\n",
       "      <td>0.479167</td>\n",
       "      <td>0.488632</td>\n",
       "      <td>17.0</td>\n",
       "      <td>NVIDIA GeForce RTX 4090</td>\n",
       "    </tr>\n",
       "    <tr>\n",
       "      <th>4</th>\n",
       "      <td>5</td>\n",
       "      <td>008402112000000000485000400000000010000001000000</td>\n",
       "      <td>357920</td>\n",
       "      <td>986</td>\n",
       "      <td>0.436639</td>\n",
       "      <td>0.439653</td>\n",
       "      <td>18.0</td>\n",
       "      <td>NVIDIA GeForce RTX 4090</td>\n",
       "    </tr>\n",
       "    <tr>\n",
       "      <th>...</th>\n",
       "      <td>...</td>\n",
       "      <td>...</td>\n",
       "      <td>...</td>\n",
       "      <td>...</td>\n",
       "      <td>...</td>\n",
       "      <td>...</td>\n",
       "      <td>...</td>\n",
       "      <td>...</td>\n",
       "    </tr>\n",
       "    <tr>\n",
       "      <th>8840</th>\n",
       "      <td>8851</td>\n",
       "      <td>0080421220000000004520000022d00000810222100400...</td>\n",
       "      <td>43234176</td>\n",
       "      <td>757962</td>\n",
       "      <td>0.763121</td>\n",
       "      <td>0.999700</td>\n",
       "      <td>113.0</td>\n",
       "      <td>Quadro RTX 6000</td>\n",
       "    </tr>\n",
       "    <tr>\n",
       "      <th>8841</th>\n",
       "      <td>8852</td>\n",
       "      <td>00840422100400000042a0000024d00000804822100800...</td>\n",
       "      <td>84006928</td>\n",
       "      <td>555403</td>\n",
       "      <td>0.733624</td>\n",
       "      <td>0.995483</td>\n",
       "      <td>85.0</td>\n",
       "      <td>Quadro RTX 6000</td>\n",
       "    </tr>\n",
       "    <tr>\n",
       "      <th>8842</th>\n",
       "      <td>8853</td>\n",
       "      <td>008020a2080400000044900000808821100800000024c8...</td>\n",
       "      <td>79741856</td>\n",
       "      <td>252011</td>\n",
       "      <td>0.663401</td>\n",
       "      <td>0.696815</td>\n",
       "      <td>160.0</td>\n",
       "      <td>Quadro RTX 6000</td>\n",
       "    </tr>\n",
       "    <tr>\n",
       "      <th>8843</th>\n",
       "      <td>8854</td>\n",
       "      <td>0088082120000000004910000081012108040000004510...</td>\n",
       "      <td>33437848</td>\n",
       "      <td>408883</td>\n",
       "      <td>0.710857</td>\n",
       "      <td>0.959315</td>\n",
       "      <td>127.0</td>\n",
       "      <td>Quadro RTX 6000</td>\n",
       "    </tr>\n",
       "    <tr>\n",
       "      <th>8844</th>\n",
       "      <td>8855</td>\n",
       "      <td>0081011208040000400000000029280000808821080400...</td>\n",
       "      <td>17068160</td>\n",
       "      <td>2439724</td>\n",
       "      <td>0.703716</td>\n",
       "      <td>0.999800</td>\n",
       "      <td>66.0</td>\n",
       "      <td>Quadro RTX 6000</td>\n",
       "    </tr>\n",
       "  </tbody>\n",
       "</table>\n",
       "<p>8845 rows × 8 columns</p>\n",
       "</div>"
      ]
     },
     "execution_count": 6,
     "metadata": {},
     "output_type": "execute_result"
    }
   ],
   "execution_count": 6
  },
  {
   "metadata": {
    "ExecuteTime": {
     "end_time": "2024-09-25T05:53:17.717863Z",
     "start_time": "2024-09-25T05:53:17.592825Z"
    }
   },
   "cell_type": "code",
   "source": [
    "df['len'] = df.hash.apply(len)\n",
    "df.sort_values(by=['len', 'val_acc'], ascending=[True, False])"
   ],
   "id": "3358171fdb35d6fc",
   "outputs": [
    {
     "data": {
      "text/plain": [
       "      run_id                                               hash      flops  \\\n",
       "530      531                           008042110804000001000000    3398400   \n",
       "864      865                           0080810a0804000001000000    1997952   \n",
       "442      443                           0080204a0808000001000000    7341312   \n",
       "1006    1007                           008020850804000001000000    2239104   \n",
       "3841    3842                           008021110808000001000000    6472704   \n",
       "...      ...                                                ...        ...   \n",
       "8278    8279  00820061080400004000000000292800008080a1080800...  385514136   \n",
       "4719    4720  0082010908080000004510004000000000292800008401...    1382664   \n",
       "2186    2187  00841012080400000042a0004000000000810212100400...    1580960   \n",
       "3134    3135  0080281120000000400000000023300000804811080800...   18741728   \n",
       "3476    3477  0080902120000000008040512000000040000000002950...  212627360   \n",
       "\n",
       "       params   val_acc  train_acc   time                 dev_name  len  \n",
       "530    294283  0.644401   0.950270   17.0  NVIDIA GeForce RTX 4090   24  \n",
       "864    123467  0.641236   0.885106   15.0  NVIDIA GeForce RTX 4090   24  \n",
       "442    260938  0.639073   0.965986   14.0  NVIDIA GeForce RTX 4090   24  \n",
       "1006   115019  0.636889   0.882021   14.0  NVIDIA GeForce RTX 4090   24  \n",
       "3841   391114  0.636609   0.974419   15.0  NVIDIA GeForce RTX 4090   24  \n",
       "...       ...       ...        ...    ...                      ...  ...  \n",
       "8278  1023284  0.737710   0.969852  172.0  NVIDIA GeForce RTX 4090  288  \n",
       "4719   402453  0.616687   0.694151   79.0  NVIDIA GeForce RTX 4090  296  \n",
       "2186   375563  0.540835   0.627955   79.0  NVIDIA GeForce RTX 4090  296  \n",
       "3134  1270323  0.666747   0.970292   87.0  NVIDIA GeForce RTX 4090  320  \n",
       "3476   959746  0.564253   0.699379   99.0  NVIDIA GeForce RTX 4090  336  \n",
       "\n",
       "[8845 rows x 9 columns]"
      ],
      "text/html": [
       "<div>\n",
       "<style scoped>\n",
       "    .dataframe tbody tr th:only-of-type {\n",
       "        vertical-align: middle;\n",
       "    }\n",
       "\n",
       "    .dataframe tbody tr th {\n",
       "        vertical-align: top;\n",
       "    }\n",
       "\n",
       "    .dataframe thead th {\n",
       "        text-align: right;\n",
       "    }\n",
       "</style>\n",
       "<table border=\"1\" class=\"dataframe\">\n",
       "  <thead>\n",
       "    <tr style=\"text-align: right;\">\n",
       "      <th></th>\n",
       "      <th>run_id</th>\n",
       "      <th>hash</th>\n",
       "      <th>flops</th>\n",
       "      <th>params</th>\n",
       "      <th>val_acc</th>\n",
       "      <th>train_acc</th>\n",
       "      <th>time</th>\n",
       "      <th>dev_name</th>\n",
       "      <th>len</th>\n",
       "    </tr>\n",
       "  </thead>\n",
       "  <tbody>\n",
       "    <tr>\n",
       "      <th>530</th>\n",
       "      <td>531</td>\n",
       "      <td>008042110804000001000000</td>\n",
       "      <td>3398400</td>\n",
       "      <td>294283</td>\n",
       "      <td>0.644401</td>\n",
       "      <td>0.950270</td>\n",
       "      <td>17.0</td>\n",
       "      <td>NVIDIA GeForce RTX 4090</td>\n",
       "      <td>24</td>\n",
       "    </tr>\n",
       "    <tr>\n",
       "      <th>864</th>\n",
       "      <td>865</td>\n",
       "      <td>0080810a0804000001000000</td>\n",
       "      <td>1997952</td>\n",
       "      <td>123467</td>\n",
       "      <td>0.641236</td>\n",
       "      <td>0.885106</td>\n",
       "      <td>15.0</td>\n",
       "      <td>NVIDIA GeForce RTX 4090</td>\n",
       "      <td>24</td>\n",
       "    </tr>\n",
       "    <tr>\n",
       "      <th>442</th>\n",
       "      <td>443</td>\n",
       "      <td>0080204a0808000001000000</td>\n",
       "      <td>7341312</td>\n",
       "      <td>260938</td>\n",
       "      <td>0.639073</td>\n",
       "      <td>0.965986</td>\n",
       "      <td>14.0</td>\n",
       "      <td>NVIDIA GeForce RTX 4090</td>\n",
       "      <td>24</td>\n",
       "    </tr>\n",
       "    <tr>\n",
       "      <th>1006</th>\n",
       "      <td>1007</td>\n",
       "      <td>008020850804000001000000</td>\n",
       "      <td>2239104</td>\n",
       "      <td>115019</td>\n",
       "      <td>0.636889</td>\n",
       "      <td>0.882021</td>\n",
       "      <td>14.0</td>\n",
       "      <td>NVIDIA GeForce RTX 4090</td>\n",
       "      <td>24</td>\n",
       "    </tr>\n",
       "    <tr>\n",
       "      <th>3841</th>\n",
       "      <td>3842</td>\n",
       "      <td>008021110808000001000000</td>\n",
       "      <td>6472704</td>\n",
       "      <td>391114</td>\n",
       "      <td>0.636609</td>\n",
       "      <td>0.974419</td>\n",
       "      <td>15.0</td>\n",
       "      <td>NVIDIA GeForce RTX 4090</td>\n",
       "      <td>24</td>\n",
       "    </tr>\n",
       "    <tr>\n",
       "      <th>...</th>\n",
       "      <td>...</td>\n",
       "      <td>...</td>\n",
       "      <td>...</td>\n",
       "      <td>...</td>\n",
       "      <td>...</td>\n",
       "      <td>...</td>\n",
       "      <td>...</td>\n",
       "      <td>...</td>\n",
       "      <td>...</td>\n",
       "    </tr>\n",
       "    <tr>\n",
       "      <th>8278</th>\n",
       "      <td>8279</td>\n",
       "      <td>00820061080400004000000000292800008080a1080800...</td>\n",
       "      <td>385514136</td>\n",
       "      <td>1023284</td>\n",
       "      <td>0.737710</td>\n",
       "      <td>0.969852</td>\n",
       "      <td>172.0</td>\n",
       "      <td>NVIDIA GeForce RTX 4090</td>\n",
       "      <td>288</td>\n",
       "    </tr>\n",
       "    <tr>\n",
       "      <th>4719</th>\n",
       "      <td>4720</td>\n",
       "      <td>0082010908080000004510004000000000292800008401...</td>\n",
       "      <td>1382664</td>\n",
       "      <td>402453</td>\n",
       "      <td>0.616687</td>\n",
       "      <td>0.694151</td>\n",
       "      <td>79.0</td>\n",
       "      <td>NVIDIA GeForce RTX 4090</td>\n",
       "      <td>296</td>\n",
       "    </tr>\n",
       "    <tr>\n",
       "      <th>2186</th>\n",
       "      <td>2187</td>\n",
       "      <td>00841012080400000042a0004000000000810212100400...</td>\n",
       "      <td>1580960</td>\n",
       "      <td>375563</td>\n",
       "      <td>0.540835</td>\n",
       "      <td>0.627955</td>\n",
       "      <td>79.0</td>\n",
       "      <td>NVIDIA GeForce RTX 4090</td>\n",
       "      <td>296</td>\n",
       "    </tr>\n",
       "    <tr>\n",
       "      <th>3134</th>\n",
       "      <td>3135</td>\n",
       "      <td>0080281120000000400000000023300000804811080800...</td>\n",
       "      <td>18741728</td>\n",
       "      <td>1270323</td>\n",
       "      <td>0.666747</td>\n",
       "      <td>0.970292</td>\n",
       "      <td>87.0</td>\n",
       "      <td>NVIDIA GeForce RTX 4090</td>\n",
       "      <td>320</td>\n",
       "    </tr>\n",
       "    <tr>\n",
       "      <th>3476</th>\n",
       "      <td>3477</td>\n",
       "      <td>0080902120000000008040512000000040000000002950...</td>\n",
       "      <td>212627360</td>\n",
       "      <td>959746</td>\n",
       "      <td>0.564253</td>\n",
       "      <td>0.699379</td>\n",
       "      <td>99.0</td>\n",
       "      <td>NVIDIA GeForce RTX 4090</td>\n",
       "      <td>336</td>\n",
       "    </tr>\n",
       "  </tbody>\n",
       "</table>\n",
       "<p>8845 rows × 9 columns</p>\n",
       "</div>"
      ]
     },
     "execution_count": 43,
     "metadata": {},
     "output_type": "execute_result"
    }
   ],
   "execution_count": 43
  },
  {
   "metadata": {},
   "cell_type": "code",
   "outputs": [],
   "execution_count": null,
   "source": "",
   "id": "331da37dc953d4c6"
  },
  {
   "metadata": {
    "ExecuteTime": {
     "end_time": "2024-09-25T06:07:05.621055Z",
     "start_time": "2024-09-25T06:07:05.526414Z"
    }
   },
   "cell_type": "code",
   "source": [
    "from sophius.encode import Encoder\n",
    "\n",
    "encoder = Encoder()\n",
    "encoder.hash2model('00802221200000000042a00001000000', (3, 32, 32), 10)"
   ],
   "id": "4663b46d2fa63665",
   "outputs": [
    {
     "data": {
      "text/plain": [
       "Conv2d       (192, 29, 29)  (4, 4)   (1, 1)  \n",
       "ReLU         (192, 29, 29) \n",
       "MaxPool2d    (192, 15, 15)  (4, 4)   (2, 2)  \n",
       "Flatten      43200         \n",
       "Linear       10            "
      ]
     },
     "execution_count": 133,
     "metadata": {},
     "output_type": "execute_result"
    }
   ],
   "execution_count": 133
  },
  {
   "metadata": {
    "ExecuteTime": {
     "end_time": "2024-09-25T05:58:24.714582Z",
     "start_time": "2024-09-25T05:58:24.619745Z"
    }
   },
   "cell_type": "code",
   "source": [
    "from sophius.modelgen import ConvModelGenerator\n",
    "model_gen = ConvModelGenerator((3, 32, 32), 10, conv_num=1, lin_num=1)\n",
    "t = model_gen.generate_model_tmpl()\n",
    "print(t)\n",
    "encoder.model2hash(t)"
   ],
   "id": "abf17a21b1c08886",
   "outputs": [
    {
     "name": "stdout",
     "output_type": "stream",
     "text": [
      "Conv2d       (16, 11, 11)   (7, 7)   (3, 3)  \n",
      "PReLU        (16, 11, 11)  \n",
      "MaxPool2d    (16, 3, 3)     (3, 3)   (3, 3)  \n",
      "BatchNorm2d  (16, 3, 3)    \n",
      "Flatten      144           \n",
      "Linear       10            \n",
      "\n"
     ]
    },
    {
     "data": {
      "text/plain": [
       "'0084004a08080000004450004000000001000000'"
      ]
     },
     "execution_count": 80,
     "metadata": {},
     "output_type": "execute_result"
    }
   ],
   "execution_count": 80
  },
  {
   "metadata": {
    "ExecuteTime": {
     "end_time": "2024-09-25T06:04:51.985855Z",
     "start_time": "2024-09-25T06:04:51.891758Z"
    }
   },
   "cell_type": "code",
   "source": [
    "import torch\n",
    "from sophius.estimate import LSTMRegressor\n",
    "from sophius.utils import calc_model_flops\n",
    "\n",
    "estimator = torch.load('../data/models/estimator_v2.pth').cpu()\n",
    "estimator.eval()\n",
    "\n",
    "def estimate_acc(model_tmpl):\n",
    "    t = torch.tensor(encoder.model2vec(model_tmpl), dtype=torch.float32)\n",
    "    return estimator(t).item()"
   ],
   "id": "3d45fd3d21eabab9",
   "outputs": [],
   "execution_count": 121
  },
  {
   "metadata": {},
   "cell_type": "code",
   "outputs": [],
   "execution_count": null,
   "source": "",
   "id": "14a8e5afb81d8cb7"
  },
  {
   "metadata": {
    "ExecuteTime": {
     "end_time": "2024-09-25T06:06:34.264555Z",
     "start_time": "2024-09-25T06:06:34.154365Z"
    }
   },
   "cell_type": "code",
   "source": [
    "from sophius.templates import Conv2dTmpl, ReLUTmpl, GlobalAvgPool2dTmpl, LinearTmpl, ModelTmpl, FlattenTmpl, \\\n",
    "    MaxPool2dTmpl, PReLUTmpl, BatchNorm2dTmpl\n",
    "from sophius.utils import calc_model_flops\n",
    "\n",
    "templates = [\n",
    "    Conv2dTmpl(out_channels=192, kernel_size=(4, 4), stride=(1, 1), padding=False),\n",
    "    PReLUTmpl(),\n",
    "    MaxPool2dTmpl(kernel_size=(3, 3), stride=(3, 3), padding=True),\n",
    "    BatchNorm2dTmpl(),\n",
    "    FlattenTmpl(),\n",
    "    LinearTmpl(),\n",
    "]\n",
    "\n",
    "t = ModelTmpl((3, 32, 32), 10, *templates)\n",
    "print(t)\n",
    "print(calc_model_flops(t.instantiate_model(), t.in_shape))\n",
    "print('val_acc*', round(estimate_acc(t), 3))"
   ],
   "id": "7018c3ace1f6de77",
   "outputs": [
    {
     "name": "stdout",
     "output_type": "stream",
     "text": [
      "Conv2d       (192, 29, 29)  (4, 4)   (1, 1)  \n",
      "PReLU        (192, 29, 29) \n",
      "MaxPool2d    (192, 10, 10)  (3, 3)   (3, 3)  \n",
      "BatchNorm2d  (192, 10, 10) \n",
      "Flatten      19200         \n",
      "Linear       10            \n",
      "\n",
      "{'flops': 16408128, 'macs': 7942656, 'params': 201994}\n",
      "val_acc* 0.657\n"
     ]
    }
   ],
   "execution_count": 132
  },
  {
   "metadata": {
    "ExecuteTime": {
     "end_time": "2024-09-25T06:09:03.709513Z",
     "start_time": "2024-09-25T06:08:51.679636Z"
    }
   },
   "cell_type": "code",
   "source": "df['pred_val_acc'] = df.hash.apply(encoder.hash2model, in_shape=(3, 32, 32), out_shape=10).apply(estimate_acc)",
   "id": "a8bdfcf645d87f28",
   "outputs": [],
   "execution_count": 139
  },
  {
   "metadata": {
    "ExecuteTime": {
     "end_time": "2024-09-25T06:12:14.322096Z",
     "start_time": "2024-09-25T06:12:13.586556Z"
    }
   },
   "cell_type": "code",
   "source": [
    "import seaborn as sns\n",
    "\n",
    "sns.regplot(df, x='val_acc', y='pred_val_acc', scatter_kws={'alpha': 0.1, 's': 5}, line_kws={'color': 'red', 'alpha': 0.5});"
   ],
   "id": "9f6d6a4f01f9240c",
   "outputs": [
    {
     "data": {
      "text/plain": [
       "<Figure size 640x480 with 1 Axes>"
      ],
      "image/png": "[encoded data removed]"
     },
     "metadata": {},
     "output_type": "display_data"
    }
   ],
   "execution_count": 146
  }
 ],
 "metadata": {
  "kernelspec": {
   "display_name": "sophius",
   "language": "python",
   "name": "sophius"
  },
  "language_info": {
   "codemirror_mode": {
    "name": "ipython",
    "version": 2
   },
   "file_extension": ".py",
   "mimetype": "text/x-python",
   "name": "python",
   "nbconvert_exporter": "python",
   "pygments_lexer": "ipython2",
   "version": "2.7.6"
  }
 },
 "nbformat": 4,
 "nbformat_minor": 5
}
