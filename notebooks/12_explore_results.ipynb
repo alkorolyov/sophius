{
 "cells": [
  {
   "metadata": {
    "ExecuteTime": {
     "end_time": "2024-09-24T09:49:50.934390Z",
     "start_time": "2024-09-24T09:49:50.871748Z"
    }
   },
   "cell_type": "code",
   "source": [
    "%load_ext autoreload\n",
    "%autoreload 2\n",
    "import sys\n",
    "sys.path.append('..')"
   ],
   "id": "fa17b6eb05c0eb9",
   "outputs": [],
   "execution_count": 1
  },
  {
   "cell_type": "code",
   "id": "initial_id",
   "metadata": {
    "collapsed": true,
    "ExecuteTime": {
     "end_time": "2024-09-24T09:49:51.108487Z",
     "start_time": "2024-09-24T09:49:50.938376Z"
    }
   },
   "source": [
    "from sophius.db import *\n",
    "from peewee import *\n",
    "import pandas as pd\n",
    "\n",
    "query = (Runs\n",
    "         .select(Runs.id.alias('run_id'), Runs, Models, Devices.name.alias('dev_name'))\n",
    "         .join(Models)\n",
    "         .switch(Runs)\n",
    "         .join(Devices)\n",
    "         .dicts())\n",
    "\n",
    "cols = ['run_id', 'hash', 'flops', 'params', 'val_acc', 'train_acc', 'time', 'dev_name']\n",
    "df = pd.DataFrame(query)[cols]\n",
    "df.time = df.time.round()\n",
    "\n",
    "# df = pd.DataFrame(query)\n",
    "\n",
    "df[-5:]"
   ],
   "outputs": [
    {
     "data": {
      "text/plain": [
       "      run_id                                              hash    flops  \\\n",
       "8537    8538  00808091200000000044a000400000000022b00001000000  4142496   \n",
       "8538    8539                  00880821200000000029480001000000   371416   \n",
       "8539    8540  008020462000000000485000400000000024a80001000000  3658560   \n",
       "8540    8541          00810821080800000022b0000010000001000000  1674432   \n",
       "8541    8542  008200a2100400000044a000400000000023480001000000  7866816   \n",
       "\n",
       "      params   val_acc  train_acc  time                    dev_name  \n",
       "8537   14506  0.455512   0.465082  60.0  NVIDIA RTX A500 Laptop GPU  \n",
       "8538   82034  0.415451   0.419423   2.0  NVIDIA RTX A500 Laptop GPU  \n",
       "8539   30730  0.370660   0.376150   3.0  NVIDIA RTX A500 Laptop GPU  \n",
       "8540    1546  0.223112   0.217990  14.0  NVIDIA RTX A500 Laptop GPU  \n",
       "8541  107242  0.689143   0.778115  32.0             Quadro RTX 6000  "
      ],
      "text/html": [
       "<div>\n",
       "<style scoped>\n",
       "    .dataframe tbody tr th:only-of-type {\n",
       "        vertical-align: middle;\n",
       "    }\n",
       "\n",
       "    .dataframe tbody tr th {\n",
       "        vertical-align: top;\n",
       "    }\n",
       "\n",
       "    .dataframe thead th {\n",
       "        text-align: right;\n",
       "    }\n",
       "</style>\n",
       "<table border=\"1\" class=\"dataframe\">\n",
       "  <thead>\n",
       "    <tr style=\"text-align: right;\">\n",
       "      <th></th>\n",
       "      <th>run_id</th>\n",
       "      <th>hash</th>\n",
       "      <th>flops</th>\n",
       "      <th>params</th>\n",
       "      <th>val_acc</th>\n",
       "      <th>train_acc</th>\n",
       "      <th>time</th>\n",
       "      <th>dev_name</th>\n",
       "    </tr>\n",
       "  </thead>\n",
       "  <tbody>\n",
       "    <tr>\n",
       "      <th>8537</th>\n",
       "      <td>8538</td>\n",
       "      <td>00808091200000000044a000400000000022b00001000000</td>\n",
       "      <td>4142496</td>\n",
       "      <td>14506</td>\n",
       "      <td>0.455512</td>\n",
       "      <td>0.465082</td>\n",
       "      <td>60.0</td>\n",
       "      <td>NVIDIA RTX A500 Laptop GPU</td>\n",
       "    </tr>\n",
       "    <tr>\n",
       "      <th>8538</th>\n",
       "      <td>8539</td>\n",
       "      <td>00880821200000000029480001000000</td>\n",
       "      <td>371416</td>\n",
       "      <td>82034</td>\n",
       "      <td>0.415451</td>\n",
       "      <td>0.419423</td>\n",
       "      <td>2.0</td>\n",
       "      <td>NVIDIA RTX A500 Laptop GPU</td>\n",
       "    </tr>\n",
       "    <tr>\n",
       "      <th>8539</th>\n",
       "      <td>8540</td>\n",
       "      <td>008020462000000000485000400000000024a80001000000</td>\n",
       "      <td>3658560</td>\n",
       "      <td>30730</td>\n",
       "      <td>0.370660</td>\n",
       "      <td>0.376150</td>\n",
       "      <td>3.0</td>\n",
       "      <td>NVIDIA RTX A500 Laptop GPU</td>\n",
       "    </tr>\n",
       "    <tr>\n",
       "      <th>8540</th>\n",
       "      <td>8541</td>\n",
       "      <td>00810821080800000022b0000010000001000000</td>\n",
       "      <td>1674432</td>\n",
       "      <td>1546</td>\n",
       "      <td>0.223112</td>\n",
       "      <td>0.217990</td>\n",
       "      <td>14.0</td>\n",
       "      <td>NVIDIA RTX A500 Laptop GPU</td>\n",
       "    </tr>\n",
       "    <tr>\n",
       "      <th>8541</th>\n",
       "      <td>8542</td>\n",
       "      <td>008200a2100400000044a000400000000023480001000000</td>\n",
       "      <td>7866816</td>\n",
       "      <td>107242</td>\n",
       "      <td>0.689143</td>\n",
       "      <td>0.778115</td>\n",
       "      <td>32.0</td>\n",
       "      <td>Quadro RTX 6000</td>\n",
       "    </tr>\n",
       "  </tbody>\n",
       "</table>\n",
       "</div>"
      ]
     },
     "execution_count": 2,
     "metadata": {},
     "output_type": "execute_result"
    }
   ],
   "execution_count": 2
  },
  {
   "metadata": {
    "ExecuteTime": {
     "end_time": "2024-09-24T09:49:52.898331Z",
     "start_time": "2024-09-24T09:49:51.392651Z"
    }
   },
   "cell_type": "code",
   "source": [
    "from sophius.encode import Encoder\n",
    "\n",
    "encoder = Encoder()\n",
    "encoder.hash2model('00810112200000000044a000400000000080242208040000400000000010000001000000', (3, 32, 32), 10)"
   ],
   "id": "4663b46d2fa63665",
   "outputs": [
    {
     "name": "stderr",
     "output_type": "stream",
     "text": [
      "C:\\Users\\alexander.korolyov\\miniforge3\\envs\\sophius\\lib\\site-packages\\tqdm\\auto.py:21: TqdmWarning: IProgress not found. Please update jupyter and ipywidgets. See https://ipywidgets.readthedocs.io/en/stable/user_install.html\n",
      "  from .autonotebook import tqdm as notebook_tqdm\n"
     ]
    },
    {
     "data": {
      "text/plain": [
       "Conv2d       (64, 16, 16)   (5, 5)   (2, 2)  \n",
       "ReLU         (64, 16, 16)  \n",
       "MaxPool2d    (64, 8, 8)     (3, 3)   (2, 2)  \n",
       "BatchNorm2d  (64, 8, 8)    \n",
       "Conv2d       (192, 8, 8)    (3, 3)   (1, 1)  \n",
       "PReLU        (192, 8, 8)   \n",
       "BatchNorm2d  (192, 8, 8)   \n",
       "GlobalAvgPool2d (192, 1, 1)   \n",
       "Flatten      192           \n",
       "Linear       10            "
      ]
     },
     "execution_count": 3,
     "metadata": {},
     "output_type": "execute_result"
    }
   ],
   "execution_count": 3
  }
 ],
 "metadata": {
  "kernelspec": {
   "display_name": "Python 3",
   "language": "python",
   "name": "python3"
  },
  "language_info": {
   "codemirror_mode": {
    "name": "ipython",
    "version": 2
   },
   "file_extension": ".py",
   "mimetype": "text/x-python",
   "name": "python",
   "nbconvert_exporter": "python",
   "pygments_lexer": "ipython2",
   "version": "2.7.6"
  }
 },
 "nbformat": 4,
 "nbformat_minor": 5
}
