{
 "cells": [
  {
   "metadata": {
    "ExecuteTime": {
     "end_time": "2024-09-25T06:27:14.380483Z",
     "start_time": "2024-09-25T06:27:10.338547Z"
    }
   },
   "cell_type": "code",
   "source": [
    "%load_ext autoreload\n",
    "%autoreload 2\n",
    "import sys\n",
    "sys.path.append('..')"
   ],
   "id": "fa17b6eb05c0eb9",
   "outputs": [
    {
     "name": "stderr",
     "output_type": "stream",
     "text": [
      "C:\\Users\\alexander.korolyov\\miniforge3\\envs\\sophius\\lib\\site-packages\\tqdm\\auto.py:21: TqdmWarning: IProgress not found. Please update jupyter and ipywidgets. See https://ipywidgets.readthedocs.io/en/stable/user_install.html\n",
      "  from .autonotebook import tqdm as notebook_tqdm\n"
     ]
    }
   ],
   "execution_count": 1
  },
  {
   "cell_type": "code",
   "id": "initial_id",
   "metadata": {
    "collapsed": true,
    "ExecuteTime": {
     "end_time": "2024-09-25T06:27:14.689586Z",
     "start_time": "2024-09-25T06:27:14.387135Z"
    }
   },
   "source": [
    "from sophius.db import *\n",
    "from peewee import *\n",
    "import pandas as pd\n",
    "\n",
    "query = (Runs\n",
    "         .select(Runs.id.alias('run_id'), Runs, Models, Devices.name.alias('dev_name'))\n",
    "         .where(Runs.exp_id==1)\n",
    "         .join(Models)\n",
    "         .switch(Runs)\n",
    "         .join(Devices)\n",
    "         .dicts())\n",
    "\n",
    "cols = ['run_id', 'hash', 'flops', 'params', 'val_acc', 'train_acc', 'time', 'dev_name']\n",
    "df = pd.DataFrame(query)[cols]\n",
    "df.time = df.time.round()\n",
    "\n",
    "# df = pd.DataFrame(query)\n",
    "\n",
    "df"
   ],
   "outputs": [
    {
     "data": {
      "text/plain": [
       "      run_id                                               hash      flops  \\\n",
       "0          1                   0080810a080800000049200001000000    2053728   \n",
       "1          2                   00880406200000000024a80001000000      30624   \n",
       "2          3           0080804520000000400000000023300001000000    1437216   \n",
       "3          4           0080421210080000400000000010000001000000    3738752   \n",
       "4          5   008402112000000000485000400000000010000001000000     357920   \n",
       "...      ...                                                ...        ...   \n",
       "8848    8859  0080442120000000400000000022c80000804412080400...   32131840   \n",
       "8849    8860  0080482120000000004310004000000000808809100200...   15712800   \n",
       "8850    8861  0080442120000000400000000080812108040000004890...  424314048   \n",
       "8851    8862  008800a220000000004320004000000000880822200000...   12173312   \n",
       "8852    8863  0080205220000000004520000025500000804409080800...   25733824   \n",
       "\n",
       "      params   val_acc  train_acc   time                 dev_name  \n",
       "0     145642  0.663141   0.865986   14.0  NVIDIA GeForce RTX 4090  \n",
       "1        954  0.399900   0.405278   14.0  NVIDIA GeForce RTX 4090  \n",
       "2      29770  0.642238   0.700962   14.0  NVIDIA GeForce RTX 4090  \n",
       "3       7818  0.479167   0.488632   17.0  NVIDIA GeForce RTX 4090  \n",
       "4        986  0.436639   0.439653   18.0  NVIDIA GeForce RTX 4090  \n",
       "...      ...       ...        ...    ...                      ...  \n",
       "8848  959755  0.758193   0.999900  178.0          Quadro RTX 6000  \n",
       "8849  578090  0.748337   0.999700  121.0          Quadro RTX 6000  \n",
       "8850  559979  0.745443   0.999800  209.0          Quadro RTX 6000  \n",
       "8851  424547  0.643339   0.907432  130.0          Quadro RTX 6000  \n",
       "8852  258826  0.655018   0.686048   68.0          Quadro RTX 6000  \n",
       "\n",
       "[8853 rows x 8 columns]"
      ],
      "text/html": [
       "<div>\n",
       "<style scoped>\n",
       "    .dataframe tbody tr th:only-of-type {\n",
       "        vertical-align: middle;\n",
       "    }\n",
       "\n",
       "    .dataframe tbody tr th {\n",
       "        vertical-align: top;\n",
       "    }\n",
       "\n",
       "    .dataframe thead th {\n",
       "        text-align: right;\n",
       "    }\n",
       "</style>\n",
       "<table border=\"1\" class=\"dataframe\">\n",
       "  <thead>\n",
       "    <tr style=\"text-align: right;\">\n",
       "      <th></th>\n",
       "      <th>run_id</th>\n",
       "      <th>hash</th>\n",
       "      <th>flops</th>\n",
       "      <th>params</th>\n",
       "      <th>val_acc</th>\n",
       "      <th>train_acc</th>\n",
       "      <th>time</th>\n",
       "      <th>dev_name</th>\n",
       "    </tr>\n",
       "  </thead>\n",
       "  <tbody>\n",
       "    <tr>\n",
       "      <th>0</th>\n",
       "      <td>1</td>\n",
       "      <td>0080810a080800000049200001000000</td>\n",
       "      <td>2053728</td>\n",
       "      <td>145642</td>\n",
       "      <td>0.663141</td>\n",
       "      <td>0.865986</td>\n",
       "      <td>14.0</td>\n",
       "      <td>NVIDIA GeForce RTX 4090</td>\n",
       "    </tr>\n",
       "    <tr>\n",
       "      <th>1</th>\n",
       "      <td>2</td>\n",
       "      <td>00880406200000000024a80001000000</td>\n",
       "      <td>30624</td>\n",
       "      <td>954</td>\n",
       "      <td>0.399900</td>\n",
       "      <td>0.405278</td>\n",
       "      <td>14.0</td>\n",
       "      <td>NVIDIA GeForce RTX 4090</td>\n",
       "    </tr>\n",
       "    <tr>\n",
       "      <th>2</th>\n",
       "      <td>3</td>\n",
       "      <td>0080804520000000400000000023300001000000</td>\n",
       "      <td>1437216</td>\n",
       "      <td>29770</td>\n",
       "      <td>0.642238</td>\n",
       "      <td>0.700962</td>\n",
       "      <td>14.0</td>\n",
       "      <td>NVIDIA GeForce RTX 4090</td>\n",
       "    </tr>\n",
       "    <tr>\n",
       "      <th>3</th>\n",
       "      <td>4</td>\n",
       "      <td>0080421210080000400000000010000001000000</td>\n",
       "      <td>3738752</td>\n",
       "      <td>7818</td>\n",
       "      <td>0.479167</td>\n",
       "      <td>0.488632</td>\n",
       "      <td>17.0</td>\n",
       "      <td>NVIDIA GeForce RTX 4090</td>\n",
       "    </tr>\n",
       "    <tr>\n",
       "      <th>4</th>\n",
       "      <td>5</td>\n",
       "      <td>008402112000000000485000400000000010000001000000</td>\n",
       "      <td>357920</td>\n",
       "      <td>986</td>\n",
       "      <td>0.436639</td>\n",
       "      <td>0.439653</td>\n",
       "      <td>18.0</td>\n",
       "      <td>NVIDIA GeForce RTX 4090</td>\n",
       "    </tr>\n",
       "    <tr>\n",
       "      <th>...</th>\n",
       "      <td>...</td>\n",
       "      <td>...</td>\n",
       "      <td>...</td>\n",
       "      <td>...</td>\n",
       "      <td>...</td>\n",
       "      <td>...</td>\n",
       "      <td>...</td>\n",
       "      <td>...</td>\n",
       "    </tr>\n",
       "    <tr>\n",
       "      <th>8848</th>\n",
       "      <td>8859</td>\n",
       "      <td>0080442120000000400000000022c80000804412080400...</td>\n",
       "      <td>32131840</td>\n",
       "      <td>959755</td>\n",
       "      <td>0.758193</td>\n",
       "      <td>0.999900</td>\n",
       "      <td>178.0</td>\n",
       "      <td>Quadro RTX 6000</td>\n",
       "    </tr>\n",
       "    <tr>\n",
       "      <th>8849</th>\n",
       "      <td>8860</td>\n",
       "      <td>0080482120000000004310004000000000808809100200...</td>\n",
       "      <td>15712800</td>\n",
       "      <td>578090</td>\n",
       "      <td>0.748337</td>\n",
       "      <td>0.999700</td>\n",
       "      <td>121.0</td>\n",
       "      <td>Quadro RTX 6000</td>\n",
       "    </tr>\n",
       "    <tr>\n",
       "      <th>8850</th>\n",
       "      <td>8861</td>\n",
       "      <td>0080442120000000400000000080812108040000004890...</td>\n",
       "      <td>424314048</td>\n",
       "      <td>559979</td>\n",
       "      <td>0.745443</td>\n",
       "      <td>0.999800</td>\n",
       "      <td>209.0</td>\n",
       "      <td>Quadro RTX 6000</td>\n",
       "    </tr>\n",
       "    <tr>\n",
       "      <th>8851</th>\n",
       "      <td>8862</td>\n",
       "      <td>008800a220000000004320004000000000880822200000...</td>\n",
       "      <td>12173312</td>\n",
       "      <td>424547</td>\n",
       "      <td>0.643339</td>\n",
       "      <td>0.907432</td>\n",
       "      <td>130.0</td>\n",
       "      <td>Quadro RTX 6000</td>\n",
       "    </tr>\n",
       "    <tr>\n",
       "      <th>8852</th>\n",
       "      <td>8863</td>\n",
       "      <td>0080205220000000004520000025500000804409080800...</td>\n",
       "      <td>25733824</td>\n",
       "      <td>258826</td>\n",
       "      <td>0.655018</td>\n",
       "      <td>0.686048</td>\n",
       "      <td>68.0</td>\n",
       "      <td>Quadro RTX 6000</td>\n",
       "    </tr>\n",
       "  </tbody>\n",
       "</table>\n",
       "<p>8853 rows × 8 columns</p>\n",
       "</div>"
      ]
     },
     "execution_count": 2,
     "metadata": {},
     "output_type": "execute_result"
    }
   ],
   "execution_count": 2
  },
  {
   "metadata": {
    "ExecuteTime": {
     "end_time": "2024-09-25T06:27:16.011887Z",
     "start_time": "2024-09-25T06:27:14.983448Z"
    }
   },
   "cell_type": "code",
   "source": [
    "df['len'] = df.hash.apply(len)\n",
    "df.sort_values(by=['len', 'val_acc'], ascending=[True, False])"
   ],
   "id": "3358171fdb35d6fc",
   "outputs": [
    {
     "data": {
      "text/plain": [
       "      run_id                                               hash      flops  \\\n",
       "530      531                           008042110804000001000000    3398400   \n",
       "864      865                           0080810a0804000001000000    1997952   \n",
       "442      443                           0080204a0808000001000000    7341312   \n",
       "1006    1007                           008020850804000001000000    2239104   \n",
       "3841    3842                           008021110808000001000000    6472704   \n",
       "...      ...                                                ...        ...   \n",
       "8278    8279  00820061080400004000000000292800008080a1080800...  385514136   \n",
       "4719    4720  0082010908080000004510004000000000292800008401...    1382664   \n",
       "2186    2187  00841012080400000042a0004000000000810212100400...    1580960   \n",
       "3134    3135  0080281120000000400000000023300000804811080800...   18741728   \n",
       "3476    3477  0080902120000000008040512000000040000000002950...  212627360   \n",
       "\n",
       "       params   val_acc  train_acc   time                 dev_name  len  \n",
       "530    294283  0.644401   0.950270   17.0  NVIDIA GeForce RTX 4090   24  \n",
       "864    123467  0.641236   0.885106   15.0  NVIDIA GeForce RTX 4090   24  \n",
       "442    260938  0.639073   0.965986   14.0  NVIDIA GeForce RTX 4090   24  \n",
       "1006   115019  0.636889   0.882021   14.0  NVIDIA GeForce RTX 4090   24  \n",
       "3841   391114  0.636609   0.974419   15.0  NVIDIA GeForce RTX 4090   24  \n",
       "...       ...       ...        ...    ...                      ...  ...  \n",
       "8278  1023284  0.737710   0.969852  172.0  NVIDIA GeForce RTX 4090  288  \n",
       "4719   402453  0.616687   0.694151   79.0  NVIDIA GeForce RTX 4090  296  \n",
       "2186   375563  0.540835   0.627955   79.0  NVIDIA GeForce RTX 4090  296  \n",
       "3134  1270323  0.666747   0.970292   87.0  NVIDIA GeForce RTX 4090  320  \n",
       "3476   959746  0.564253   0.699379   99.0  NVIDIA GeForce RTX 4090  336  \n",
       "\n",
       "[8853 rows x 9 columns]"
      ],
      "text/html": [
       "<div>\n",
       "<style scoped>\n",
       "    .dataframe tbody tr th:only-of-type {\n",
       "        vertical-align: middle;\n",
       "    }\n",
       "\n",
       "    .dataframe tbody tr th {\n",
       "        vertical-align: top;\n",
       "    }\n",
       "\n",
       "    .dataframe thead th {\n",
       "        text-align: right;\n",
       "    }\n",
       "</style>\n",
       "<table border=\"1\" class=\"dataframe\">\n",
       "  <thead>\n",
       "    <tr style=\"text-align: right;\">\n",
       "      <th></th>\n",
       "      <th>run_id</th>\n",
       "      <th>hash</th>\n",
       "      <th>flops</th>\n",
       "      <th>params</th>\n",
       "      <th>val_acc</th>\n",
       "      <th>train_acc</th>\n",
       "      <th>time</th>\n",
       "      <th>dev_name</th>\n",
       "      <th>len</th>\n",
       "    </tr>\n",
       "  </thead>\n",
       "  <tbody>\n",
       "    <tr>\n",
       "      <th>530</th>\n",
       "      <td>531</td>\n",
       "      <td>008042110804000001000000</td>\n",
       "      <td>3398400</td>\n",
       "      <td>294283</td>\n",
       "      <td>0.644401</td>\n",
       "      <td>0.950270</td>\n",
       "      <td>17.0</td>\n",
       "      <td>NVIDIA GeForce RTX 4090</td>\n",
       "      <td>24</td>\n",
       "    </tr>\n",
       "    <tr>\n",
       "      <th>864</th>\n",
       "      <td>865</td>\n",
       "      <td>0080810a0804000001000000</td>\n",
       "      <td>1997952</td>\n",
       "      <td>123467</td>\n",
       "      <td>0.641236</td>\n",
       "      <td>0.885106</td>\n",
       "      <td>15.0</td>\n",
       "      <td>NVIDIA GeForce RTX 4090</td>\n",
       "      <td>24</td>\n",
       "    </tr>\n",
       "    <tr>\n",
       "      <th>442</th>\n",
       "      <td>443</td>\n",
       "      <td>0080204a0808000001000000</td>\n",
       "      <td>7341312</td>\n",
       "      <td>260938</td>\n",
       "      <td>0.639073</td>\n",
       "      <td>0.965986</td>\n",
       "      <td>14.0</td>\n",
       "      <td>NVIDIA GeForce RTX 4090</td>\n",
       "      <td>24</td>\n",
       "    </tr>\n",
       "    <tr>\n",
       "      <th>1006</th>\n",
       "      <td>1007</td>\n",
       "      <td>008020850804000001000000</td>\n",
       "      <td>2239104</td>\n",
       "      <td>115019</td>\n",
       "      <td>0.636889</td>\n",
       "      <td>0.882021</td>\n",
       "      <td>14.0</td>\n",
       "      <td>NVIDIA GeForce RTX 4090</td>\n",
       "      <td>24</td>\n",
       "    </tr>\n",
       "    <tr>\n",
       "      <th>3841</th>\n",
       "      <td>3842</td>\n",
       "      <td>008021110808000001000000</td>\n",
       "      <td>6472704</td>\n",
       "      <td>391114</td>\n",
       "      <td>0.636609</td>\n",
       "      <td>0.974419</td>\n",
       "      <td>15.0</td>\n",
       "      <td>NVIDIA GeForce RTX 4090</td>\n",
       "      <td>24</td>\n",
       "    </tr>\n",
       "    <tr>\n",
       "      <th>...</th>\n",
       "      <td>...</td>\n",
       "      <td>...</td>\n",
       "      <td>...</td>\n",
       "      <td>...</td>\n",
       "      <td>...</td>\n",
       "      <td>...</td>\n",
       "      <td>...</td>\n",
       "      <td>...</td>\n",
       "      <td>...</td>\n",
       "    </tr>\n",
       "    <tr>\n",
       "      <th>8278</th>\n",
       "      <td>8279</td>\n",
       "      <td>00820061080400004000000000292800008080a1080800...</td>\n",
       "      <td>385514136</td>\n",
       "      <td>1023284</td>\n",
       "      <td>0.737710</td>\n",
       "      <td>0.969852</td>\n",
       "      <td>172.0</td>\n",
       "      <td>NVIDIA GeForce RTX 4090</td>\n",
       "      <td>288</td>\n",
       "    </tr>\n",
       "    <tr>\n",
       "      <th>4719</th>\n",
       "      <td>4720</td>\n",
       "      <td>0082010908080000004510004000000000292800008401...</td>\n",
       "      <td>1382664</td>\n",
       "      <td>402453</td>\n",
       "      <td>0.616687</td>\n",
       "      <td>0.694151</td>\n",
       "      <td>79.0</td>\n",
       "      <td>NVIDIA GeForce RTX 4090</td>\n",
       "      <td>296</td>\n",
       "    </tr>\n",
       "    <tr>\n",
       "      <th>2186</th>\n",
       "      <td>2187</td>\n",
       "      <td>00841012080400000042a0004000000000810212100400...</td>\n",
       "      <td>1580960</td>\n",
       "      <td>375563</td>\n",
       "      <td>0.540835</td>\n",
       "      <td>0.627955</td>\n",
       "      <td>79.0</td>\n",
       "      <td>NVIDIA GeForce RTX 4090</td>\n",
       "      <td>296</td>\n",
       "    </tr>\n",
       "    <tr>\n",
       "      <th>3134</th>\n",
       "      <td>3135</td>\n",
       "      <td>0080281120000000400000000023300000804811080800...</td>\n",
       "      <td>18741728</td>\n",
       "      <td>1270323</td>\n",
       "      <td>0.666747</td>\n",
       "      <td>0.970292</td>\n",
       "      <td>87.0</td>\n",
       "      <td>NVIDIA GeForce RTX 4090</td>\n",
       "      <td>320</td>\n",
       "    </tr>\n",
       "    <tr>\n",
       "      <th>3476</th>\n",
       "      <td>3477</td>\n",
       "      <td>0080902120000000008040512000000040000000002950...</td>\n",
       "      <td>212627360</td>\n",
       "      <td>959746</td>\n",
       "      <td>0.564253</td>\n",
       "      <td>0.699379</td>\n",
       "      <td>99.0</td>\n",
       "      <td>NVIDIA GeForce RTX 4090</td>\n",
       "      <td>336</td>\n",
       "    </tr>\n",
       "  </tbody>\n",
       "</table>\n",
       "<p>8853 rows × 9 columns</p>\n",
       "</div>"
      ]
     },
     "execution_count": 3,
     "metadata": {},
     "output_type": "execute_result"
    }
   ],
   "execution_count": 3
  },
  {
   "metadata": {
    "ExecuteTime": {
     "end_time": "2024-09-25T06:27:16.058654Z",
     "start_time": "2024-09-25T06:27:16.043130Z"
    }
   },
   "cell_type": "code",
   "source": "",
   "id": "331da37dc953d4c6",
   "outputs": [],
   "execution_count": null
  },
  {
   "metadata": {
    "ExecuteTime": {
     "end_time": "2024-09-25T06:27:16.214693Z",
     "start_time": "2024-09-25T06:27:16.106120Z"
    }
   },
   "cell_type": "code",
   "source": [
    "from sophius.encode import Encoder\n",
    "\n",
    "encoder = Encoder()\n",
    "encoder.hash2model('00802221200000000042a00001000000', (3, 32, 32), 10)"
   ],
   "id": "4663b46d2fa63665",
   "outputs": [
    {
     "data": {
      "text/plain": [
       "Conv2d       (192, 29, 29)  (4, 4)   (1, 1)  \n",
       "ReLU         (192, 29, 29) \n",
       "MaxPool2d    (192, 15, 15)  (4, 4)   (2, 2)  \n",
       "Flatten      43200         \n",
       "Linear       10            "
      ]
     },
     "execution_count": 4,
     "metadata": {},
     "output_type": "execute_result"
    }
   ],
   "execution_count": 4
  },
  {
   "metadata": {
    "ExecuteTime": {
     "end_time": "2024-09-25T06:27:16.360222Z",
     "start_time": "2024-09-25T06:27:16.249180Z"
    }
   },
   "cell_type": "code",
   "source": [
    "from sophius.modelgen import ConvModelGenerator\n",
    "model_gen = ConvModelGenerator((3, 32, 32), 10, conv_num=1, lin_num=1)\n",
    "t = model_gen.generate_model_tmpl()\n",
    "print(t)\n",
    "encoder.model2hash(t)"
   ],
   "id": "abf17a21b1c08886",
   "outputs": [
    {
     "name": "stdout",
     "output_type": "stream",
     "text": [
      "Conv2d       (192, 10, 10)  (5, 5)   (3, 3)  \n",
      "LeakyReLU    (192, 10, 10)  (0.001) \n",
      "MaxPool2d    (192, 4, 4)    (3, 3)   (2, 2)  \n",
      "AvgPool2d    (192, 2, 2)    (3, 3)   (1, 1)  \n",
      "GlobalAvgPool2d (192, 1, 1)   \n",
      "Flatten      192           \n",
      "Linear       10            \n",
      "\n"
     ]
    },
    {
     "data": {
      "text/plain": [
       "'008021091002000000449000002528000010000001000000'"
      ]
     },
     "execution_count": 5,
     "metadata": {},
     "output_type": "execute_result"
    }
   ],
   "execution_count": 5
  },
  {
   "metadata": {
    "ExecuteTime": {
     "end_time": "2024-09-25T06:27:18.228072Z",
     "start_time": "2024-09-25T06:27:16.360222Z"
    }
   },
   "cell_type": "code",
   "source": [
    "import torch\n",
    "from sophius.estimate import LSTMRegressor\n",
    "from sophius.utils import calc_model_flops\n",
    "from sophius.estimate import Estimator\n",
    "\n",
    "\n",
    "estimator = Estimator()"
   ],
   "id": "3d45fd3d21eabab9",
   "outputs": [],
   "execution_count": 6
  },
  {
   "metadata": {
    "ExecuteTime": {
     "end_time": "2024-09-25T06:27:18.850110Z",
     "start_time": "2024-09-25T06:27:18.834591Z"
    }
   },
   "cell_type": "code",
   "source": "",
   "id": "14a8e5afb81d8cb7",
   "outputs": [],
   "execution_count": null
  },
  {
   "metadata": {
    "ExecuteTime": {
     "end_time": "2024-09-25T06:27:19.007179Z",
     "start_time": "2024-09-25T06:27:18.881404Z"
    }
   },
   "cell_type": "code",
   "source": [
    "from sophius.templates import Conv2dTmpl, ReLUTmpl, GlobalAvgPool2dTmpl, LinearTmpl, ModelTmpl, FlattenTmpl, \\\n",
    "    MaxPool2dTmpl, PReLUTmpl, BatchNorm2dTmpl\n",
    "from sophius.utils import calc_model_flops\n",
    "\n",
    "templates = [\n",
    "    Conv2dTmpl(out_channels=192, kernel_size=(4, 4), stride=(1, 1), padding=False),\n",
    "    PReLUTmpl(),\n",
    "    MaxPool2dTmpl(kernel_size=(3, 3), stride=(3, 3), padding=True),\n",
    "    BatchNorm2dTmpl(),\n",
    "    FlattenTmpl(),\n",
    "    LinearTmpl(),\n",
    "]\n",
    "\n",
    "t = ModelTmpl((3, 32, 32), 10, *templates)\n",
    "print(t)\n",
    "print(calc_model_flops(t.instantiate_model(), t.in_shape))\n",
    "print('val_acc*', round(estimator.predict_val_acc(t), 3))"
   ],
   "id": "7018c3ace1f6de77",
   "outputs": [
    {
     "name": "stdout",
     "output_type": "stream",
     "text": [
      "Conv2d       (192, 29, 29)  (4, 4)   (1, 1)  \n",
      "PReLU        (192, 29, 29) \n",
      "MaxPool2d    (192, 10, 10)  (3, 3)   (3, 3)  \n",
      "BatchNorm2d  (192, 10, 10) \n",
      "Flatten      19200         \n",
      "Linear       10            \n",
      "\n",
      "{'flops': 16408128, 'macs': 7942656, 'params': 201994}\n",
      "val_acc* 0.657\n"
     ]
    }
   ],
   "execution_count": 7
  },
  {
   "metadata": {
    "ExecuteTime": {
     "end_time": "2024-09-25T06:27:38.297166Z",
     "start_time": "2024-09-25T06:27:27.018802Z"
    }
   },
   "cell_type": "code",
   "source": [
    "df['pred_val_acc'] = (df.hash\n",
    "                      .apply(encoder.hash2model, in_shape=(3, 32, 32), out_shape=10)\n",
    "                      .apply(estimator.predict_val_acc))"
   ],
   "id": "a8bdfcf645d87f28",
   "outputs": [],
   "execution_count": 9
  },
  {
   "metadata": {
    "ExecuteTime": {
     "end_time": "2024-09-25T06:27:59.055314Z",
     "start_time": "2024-09-25T06:27:58.166981Z"
    }
   },
   "cell_type": "code",
   "source": [
    "import seaborn as sns\n",
    "\n",
    "sns.regplot(df, x='val_acc', y='pred_val_acc', scatter_kws={'alpha': 0.1, 's': 5}, line_kws={'color': 'red', 'alpha': 0.5});"
   ],
   "id": "9f6d6a4f01f9240c",
   "outputs": [
    {
     "data": {
      "text/plain": [
       "<Figure size 640x480 with 1 Axes>"
      ],
      "image/png": "[encoded data removed]"
     },
     "metadata": {},
     "output_type": "display_data"
    }
   ],
   "execution_count": 10
  }
 ],
 "metadata": {
  "kernelspec": {
   "display_name": "sophius",
   "language": "python",
   "name": "sophius"
  },
  "language_info": {
   "codemirror_mode": {
    "name": "ipython",
    "version": 2
   },
   "file_extension": ".py",
   "mimetype": "text/x-python",
   "name": "python",
   "nbconvert_exporter": "python",
   "pygments_lexer": "ipython2",
   "version": "2.7.6"
  }
 },
 "nbformat": 4,
 "nbformat_minor": 5
}
