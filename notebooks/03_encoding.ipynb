{
 "cells": [
  {
   "metadata": {
    "ExecuteTime": {
     "end_time": "2024-09-03T13:03:51.136357Z",
     "start_time": "2024-09-03T13:03:51.067768Z"
    }
   },
   "cell_type": "code",
   "source": [
    "%load_ext autoreload\n",
    "%autoreload 2"
   ],
   "id": "345b72dc7c28c739",
   "outputs": [
    {
     "name": "stdout",
     "output_type": "stream",
     "text": [
      "The autoreload extension is already loaded. To reload it, use:\n",
      "  %reload_ext autoreload\n"
     ]
    }
   ],
   "execution_count": 7
  },
  {
   "cell_type": "code",
   "id": "initial_id",
   "metadata": {
    "collapsed": true,
    "ExecuteTime": {
     "end_time": "2024-09-03T13:03:51.203046Z",
     "start_time": "2024-09-03T13:03:51.136357Z"
    }
   },
   "source": [
    "from sophius.templates import *\n",
    "from sophius.encoder import Encoder\n",
    "from sophius.modelgen import ConvModelGenerator\n",
    "\n",
    "# Example usage\n",
    "templates = [\n",
    "    LinearTmpl(),\n",
    "    BatchNorm2dTmpl(),\n",
    "    ReLUTmpl(),\n",
    "    LeakyReLUTmpl(),\n",
    "    PReLUTmpl(),\n",
    "    DropoutTmpl(),\n",
    "    Dropout2dTmpl(),\n",
    "    FlattenTmpl(),\n",
    "    Conv2dTmpl(),\n",
    "    MaxPool2dTmpl(),\n",
    "    AvgPool2dTmpl(),\n",
    "    GlobalAvgPool2dTmpl(),\n",
    "]\n",
    "\n",
    "encoder = Encoder()\n",
    "\n",
    "for t in templates:\n",
    "    t.gen_rand_config()\n",
    "    encoded_layer = encoder.encode_template(t)\n",
    "    \n",
    "    print(t.type, t.get_learnable_params())\n",
    "    # print(len(encoded_layer))\n",
    "    print(encoded_layer)\n",
    "    print()"
   ],
   "outputs": [
    {
     "name": "stdout",
     "output_type": "stream",
     "text": [
      "LinearTmpl {'out_features': 64}\n",
      "[1 0 0 0 0 0 0 0 0 0 0 0 0 1 0 0 0 0 0 0 0 0 0 0 0 0 0 0 0 0 0 0]\n",
      "\n",
      "BatchNorm2dTmpl {}\n",
      "[0 1 0 0 0 0 0 0 0 0 0 0 0 0 0 0 0 0 0 0 0 0 0 0 0 0 0 0 0 0 0 0]\n",
      "\n",
      "ReLUTmpl {}\n",
      "[0 0 1 0 0 0 0 0 0 0 0 0 0 0 0 0 0 0 0 0 0 0 0 0 0 0 0 0 0 0 0 0]\n",
      "\n",
      "LeakyReLUTmpl {'negative_slope': 0.01}\n",
      "[0 0 0 1 0 0 0 0 0 0 0 0 0 1 0 0 0 0 0 0 0 0 0 0 0 0 0 0 0 0 0 0]\n",
      "\n",
      "PReLUTmpl {'all_channels': False}\n",
      "[0 0 0 0 1 0 0 0 0 0 0 0 0 1 0 0 0 0 0 0 0 0 0 0 0 0 0 0 0 0 0 0]\n",
      "\n",
      "DropoutTmpl {'p': 0.15}\n",
      "[0 0 0 0 0 1 0 0 0 0 0 0 0 0 1 0 0 0 0 0 0 0 0 0 0 0 0 0 0 0 0 0]\n",
      "\n",
      "Dropout2dTmpl {'p': 0.49999999999999994}\n",
      "[0 0 0 0 0 0 1 0 0 0 0 0 0 0 0 0 0 0 0 0 0 1 0 0 0 0 0 0 0 0 0 0]\n",
      "\n",
      "FlattenTmpl {}\n",
      "[0 0 0 0 0 0 0 1 0 0 0 0 0 0 0 0 0 0 0 0 0 0 0 0 0 0 0 0 0 0 0 0]\n",
      "\n",
      "Conv2dTmpl {'out_channels': 96, 'kernel_size': (3, 3), 'stride': (4, 4), 'padding': False}\n",
      "[0 0 0 0 0 0 0 0 1 0 0 0 0 0 0 0 1 0 0 0 0 1 0 0 0 0 0 0 0 1 0 1]\n",
      "\n",
      "MaxPool2dTmpl {'kernel_size': (4, 4), 'stride': (3, 3), 'padding': False}\n",
      "[0 0 0 0 0 0 0 0 0 1 0 0 0 0 1 0 0 1 0 1 0 0 0 0 0 0 0 0 0 0 0 0]\n",
      "\n",
      "AvgPool2dTmpl {'kernel_size': (3, 3), 'stride': (2, 2), 'padding': False, 'count_include_pad': True}\n",
      "[0 0 0 0 0 0 0 0 0 0 1 0 0 1 0 0 1 0 1 1 0 0 0 0 0 0 0 0 0 0 0 0]\n",
      "\n",
      "GlobalAvgPool2dTmpl {}\n",
      "[0 0 0 0 0 0 0 0 0 0 0 1 0 0 0 0 0 0 0 0 0 0 0 0 0 0 0 0 0 0 0 0]\n",
      "\n"
     ]
    }
   ],
   "execution_count": 8
  },
  {
   "metadata": {
    "ExecuteTime": {
     "end_time": "2024-09-03T13:03:51.265723Z",
     "start_time": "2024-09-03T13:03:51.203046Z"
    }
   },
   "cell_type": "code",
   "source": [
    "model_gen = ConvModelGenerator((3, 32, 32), 10, conv_num=6, lin_num=3)\n",
    "model_tmpl = model_gen.generate_model_tmpl()\n",
    "\n",
    "print(model_tmpl)\n",
    "\n",
    "for t in model_tmpl.get_templates():\n",
    "    print(t.type, t.get_learnable_params())\n",
    "\n",
    "print()\n",
    "\n",
    "for t in model_tmpl.get_templates()[:-1]:\n",
    "    print(encoder.encode_template(t))"
   ],
   "id": "b15d32619a21d2bd",
   "outputs": [
    {
     "name": "stdout",
     "output_type": "stream",
     "text": [
      "Conv2d       (64, 17, 17)   (6, 6)   (2, 2)  \n",
      "AvgPool2d    (64, 15, 15)   (3, 3)   (1, 1)  \n",
      "PReLU        (64, 15, 15)  \n",
      "Flatten      14400         \n",
      "Linear       10            \n",
      "\n",
      "Conv2dTmpl {'out_channels': 64, 'kernel_size': (6, 6), 'stride': (2, 2), 'padding': True}\n",
      "AvgPool2dTmpl {'kernel_size': (3, 3), 'stride': (1, 1), 'padding': False, 'count_include_pad': False}\n",
      "PReLUTmpl {'all_channels': True}\n",
      "FlattenTmpl {}\n",
      "LinearTmpl {'out_features': 10}\n",
      "\n",
      "[0 0 0 0 0 0 0 0 1 0 0 0 0 0 0 1 0 0 0 0 0 0 0 0 1 0 0 1 0 0 1 0]\n",
      "[0 0 0 0 0 0 0 0 0 0 1 0 0 1 0 1 0 0 1 0 1 0 0 0 0 0 0 0 0 0 0 0]\n",
      "[0 0 0 0 1 0 0 0 0 0 0 0 1 0 0 0 0 0 0 0 0 0 0 0 0 0 0 0 0 0 0 0]\n",
      "[0 0 0 0 0 0 0 1 0 0 0 0 0 0 0 0 0 0 0 0 0 0 0 0 0 0 0 0 0 0 0 0]\n"
     ]
    }
   ],
   "execution_count": 9
  },
  {
   "metadata": {
    "ExecuteTime": {
     "end_time": "2024-09-03T13:10:17.526268Z",
     "start_time": "2024-09-03T13:10:17.459499Z"
    }
   },
   "cell_type": "code",
   "source": [
    "model_tmpl = model_gen.generate_model_tmpl()\n",
    "vec = encoder.encode_model(model_tmpl)\n",
    "print(vec)"
   ],
   "id": "1a53b9079878554",
   "outputs": [
    {
     "name": "stdout",
     "output_type": "stream",
     "text": [
      "[[0 0 0 0 0 0 0 0 1 0 0 0 0 0 0 0 0 1 0 0 1 0 0 0 0 0 0 0 1 0 1 0]\n",
      " [0 0 1 0 0 0 0 0 0 0 0 0 0 0 0 0 0 0 0 0 0 0 0 0 0 0 0 0 0 0 0 0]\n",
      " [0 1 0 0 0 0 0 0 0 0 0 0 0 0 0 0 0 0 0 0 0 0 0 0 0 0 0 0 0 0 0 0]\n",
      " [0 0 0 0 0 0 0 0 1 0 0 0 0 0 0 0 0 1 0 0 0 0 0 1 0 0 0 1 0 0 1 0]\n",
      " [0 0 0 0 0 0 0 0 0 1 0 0 0 0 1 0 1 0 1 0 0 0 0 0 0 0 0 0 0 0 0 0]\n",
      " [0 0 0 1 0 0 0 0 0 0 0 0 1 0 0 0 0 0 0 0 0 0 0 0 0 0 0 0 0 0 0 0]\n",
      " [0 0 0 0 0 0 0 0 1 0 0 0 0 1 0 0 0 0 0 1 0 0 0 0 0 0 0 0 1 0 0 1]\n",
      " [0 1 0 0 0 0 0 0 0 0 0 0 0 0 0 0 0 0 0 0 0 0 0 0 0 0 0 0 0 0 0 0]\n",
      " [0 0 1 0 0 0 0 0 0 0 0 0 0 0 0 0 0 0 0 0 0 0 0 0 0 0 0 0 0 0 0 0]\n",
      " [0 0 0 0 0 0 0 0 0 0 0 1 0 0 0 0 0 0 0 0 0 0 0 0 0 0 0 0 0 0 0 0]\n",
      " [0 0 0 0 0 0 0 1 0 0 0 0 0 0 0 0 0 0 0 0 0 0 0 0 0 0 0 0 0 0 0 0]\n",
      " [1 0 0 0 0 0 0 0 0 0 0 0 0 0 0 1 0 0 0 0 0 0 0 0 0 0 0 0 0 0 0 0]\n",
      " [0 0 0 1 0 0 0 0 0 0 0 0 1 0 0 0 0 0 0 0 0 0 0 0 0 0 0 0 0 0 0 0]\n",
      " [0 0 0 0 0 1 0 0 0 0 0 0 0 0 0 0 1 0 0 0 0 0 0 0 0 0 0 0 0 0 0 0]]\n"
     ]
    }
   ],
   "execution_count": 34
  }
 ],
 "metadata": {
  "kernelspec": {
   "display_name": "sophius",
   "language": "python",
   "name": "sophius"
  },
  "language_info": {
   "codemirror_mode": {
    "name": "ipython",
    "version": 2
   },
   "file_extension": ".py",
   "mimetype": "text/x-python",
   "name": "python",
   "nbconvert_exporter": "python",
   "pygments_lexer": "ipython2",
   "version": "2.7.6"
  }
 },
 "nbformat": 4,
 "nbformat_minor": 5
}
