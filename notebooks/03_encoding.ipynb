{
 "cells": [
  {
   "metadata": {
    "ExecuteTime": {
     "end_time": "2024-09-03T13:54:17.900188Z",
     "start_time": "2024-09-03T13:54:17.839465Z"
    }
   },
   "cell_type": "code",
   "source": [
    "%load_ext autoreload\n",
    "%autoreload 2\n",
    "\n",
    "import sys\n",
    "sys.path.append('..')"
   ],
   "id": "345b72dc7c28c739",
   "outputs": [],
   "execution_count": 1
  },
  {
   "cell_type": "code",
   "id": "initial_id",
   "metadata": {
    "collapsed": true,
    "ExecuteTime": {
     "end_time": "2024-09-03T13:54:21.372920Z",
     "start_time": "2024-09-03T13:54:17.902234Z"
    }
   },
   "source": [
    "from sophius.templates import *\n",
    "from sophius.encode import Encoder\n",
    "from sophius.modelgen import ConvModelGenerator\n",
    "\n",
    "# Example usage\n",
    "templates = [\n",
    "    LinearTmpl(),\n",
    "    BatchNorm2dTmpl(),\n",
    "    ReLUTmpl(),\n",
    "    LeakyReLUTmpl(),\n",
    "    PReLUTmpl(),\n",
    "    DropoutTmpl(),\n",
    "    Dropout2dTmpl(),\n",
    "    FlattenTmpl(),\n",
    "    Conv2dTmpl(),\n",
    "    MaxPool2dTmpl(),\n",
    "    AvgPool2dTmpl(),\n",
    "    GlobalAvgPool2dTmpl(),\n",
    "]\n",
    "\n",
    "encoder = Encoder()\n",
    "\n",
    "for t in templates:\n",
    "    t.gen_rand_config()\n",
    "    encoded_layer = encoder.encode_template(t)\n",
    "    \n",
    "    print(t.type, t.get_learnable_params())\n",
    "    # print(len(encoded_layer))\n",
    "    print(encoded_layer)\n",
    "    print()"
   ],
   "outputs": [
    {
     "ename": "AttributeError",
     "evalue": "module 'sophius' has no attribute 'templates'",
     "output_type": "error",
     "traceback": [
      "\u001B[1;31m---------------------------------------------------------------------------\u001B[0m",
      "\u001B[1;31mAttributeError\u001B[0m                            Traceback (most recent call last)",
      "Cell \u001B[1;32mIn[2], line 1\u001B[0m\n\u001B[1;32m----> 1\u001B[0m \u001B[38;5;28;01mfrom\u001B[39;00m \u001B[38;5;21;01msophius\u001B[39;00m\u001B[38;5;21;01m.\u001B[39;00m\u001B[38;5;21;01mtemplates\u001B[39;00m \u001B[38;5;28;01mimport\u001B[39;00m \u001B[38;5;241m*\u001B[39m\n\u001B[0;32m      2\u001B[0m \u001B[38;5;28;01mfrom\u001B[39;00m \u001B[38;5;21;01msophius\u001B[39;00m\u001B[38;5;21;01m.\u001B[39;00m\u001B[38;5;21;01mencode\u001B[39;00m \u001B[38;5;28;01mimport\u001B[39;00m Encoder\n\u001B[0;32m      3\u001B[0m \u001B[38;5;28;01mfrom\u001B[39;00m \u001B[38;5;21;01msophius\u001B[39;00m\u001B[38;5;21;01m.\u001B[39;00m\u001B[38;5;21;01mmodelgen\u001B[39;00m \u001B[38;5;28;01mimport\u001B[39;00m ConvModelGenerator\n",
      "File \u001B[1;32m~\\PycharmProjects\\sophius\\sophius\\templates.py:6\u001B[0m\n\u001B[0;32m      4\u001B[0m \u001B[38;5;28;01mfrom\u001B[39;00m \u001B[38;5;21;01mmath\u001B[39;00m \u001B[38;5;28;01mimport\u001B[39;00m ceil, floor\n\u001B[0;32m      5\u001B[0m \u001B[38;5;28;01mimport\u001B[39;00m \u001B[38;5;21;01msophius\u001B[39;00m\u001B[38;5;21;01m.\u001B[39;00m\u001B[38;5;21;01mutils\u001B[39;00m \u001B[38;5;28;01mas\u001B[39;00m \u001B[38;5;21;01mutils\u001B[39;00m\n\u001B[1;32m----> 6\u001B[0m \u001B[38;5;28;01mfrom\u001B[39;00m \u001B[38;5;21;01msophius\u001B[39;00m\u001B[38;5;21;01m.\u001B[39;00m\u001B[38;5;21;01mencode\u001B[39;00m \u001B[38;5;28;01mimport\u001B[39;00m Encoder\n\u001B[0;32m      7\u001B[0m \u001B[38;5;28;01mfrom\u001B[39;00m \u001B[38;5;21;01mcollections\u001B[39;00m \u001B[38;5;28;01mimport\u001B[39;00m defaultdict\n\u001B[0;32m      9\u001B[0m \u001B[38;5;28;01mclass\u001B[39;00m \u001B[38;5;21;01mFlatten\u001B[39;00m(nn\u001B[38;5;241m.\u001B[39mModule):\n",
      "File \u001B[1;32m~\\PycharmProjects\\sophius\\sophius\\encode.py:6\u001B[0m\n\u001B[0;32m      2\u001B[0m \u001B[38;5;28;01mfrom\u001B[39;00m \u001B[38;5;21;01msophius\u001B[39;00m\u001B[38;5;21;01m.\u001B[39;00m\u001B[38;5;21;01mtemplates\u001B[39;00m \u001B[38;5;28;01mimport\u001B[39;00m \u001B[38;5;241m*\u001B[39m\n\u001B[0;32m      3\u001B[0m \u001B[38;5;28;01mimport\u001B[39;00m \u001B[38;5;21;01mnumpy\u001B[39;00m \u001B[38;5;28;01mas\u001B[39;00m \u001B[38;5;21;01mnp\u001B[39;00m\n\u001B[0;32m      5\u001B[0m TEMPLATES \u001B[38;5;241m=\u001B[39m (\n\u001B[1;32m----> 6\u001B[0m     \u001B[43msophius\u001B[49m\u001B[38;5;241;43m.\u001B[39;49m\u001B[43mtemplates\u001B[49m\u001B[38;5;241m.\u001B[39mLinearTmpl,\n\u001B[0;32m      7\u001B[0m     sophius\u001B[38;5;241m.\u001B[39mtemplates\u001B[38;5;241m.\u001B[39mBatchNorm2dTmpl,\n\u001B[0;32m      8\u001B[0m     sophius\u001B[38;5;241m.\u001B[39mtemplates\u001B[38;5;241m.\u001B[39mReLUTmpl,\n\u001B[0;32m      9\u001B[0m     sophius\u001B[38;5;241m.\u001B[39mtemplates\u001B[38;5;241m.\u001B[39mLeakyReLUTmpl,\n\u001B[0;32m     10\u001B[0m     sophius\u001B[38;5;241m.\u001B[39mtemplates\u001B[38;5;241m.\u001B[39mPReLUTmpl,\n\u001B[0;32m     11\u001B[0m     sophius\u001B[38;5;241m.\u001B[39mtemplates\u001B[38;5;241m.\u001B[39mDropoutTmpl,\n\u001B[0;32m     12\u001B[0m     sophius\u001B[38;5;241m.\u001B[39mtemplates\u001B[38;5;241m.\u001B[39mDropout2dTmpl,\n\u001B[0;32m     13\u001B[0m     sophius\u001B[38;5;241m.\u001B[39mtemplates\u001B[38;5;241m.\u001B[39mFlattenTmpl,\n\u001B[0;32m     14\u001B[0m     sophius\u001B[38;5;241m.\u001B[39mtemplates\u001B[38;5;241m.\u001B[39mConv2dTmpl,\n\u001B[0;32m     15\u001B[0m     sophius\u001B[38;5;241m.\u001B[39mtemplates\u001B[38;5;241m.\u001B[39mMaxPool2dTmpl,\n\u001B[0;32m     16\u001B[0m     sophius\u001B[38;5;241m.\u001B[39mtemplates\u001B[38;5;241m.\u001B[39mAvgPool2dTmpl,\n\u001B[0;32m     17\u001B[0m     sophius\u001B[38;5;241m.\u001B[39mtemplates\u001B[38;5;241m.\u001B[39mGlobalAvgPool2dTmpl,\n\u001B[0;32m     18\u001B[0m )\n\u001B[0;32m     20\u001B[0m ENCODING_SIZE \u001B[38;5;241m=\u001B[39m \u001B[38;5;241m32\u001B[39m\n\u001B[0;32m     23\u001B[0m \u001B[38;5;28;01mclass\u001B[39;00m \u001B[38;5;21;01mEncoder\u001B[39;00m:\n",
      "\u001B[1;31mAttributeError\u001B[0m: module 'sophius' has no attribute 'templates'"
     ]
    }
   ],
   "execution_count": 2
  },
  {
   "metadata": {},
   "cell_type": "code",
   "source": [
    "model_gen = ConvModelGenerator((3, 32, 32), 10, conv_num=6, lin_num=3)\n",
    "model_tmpl = model_gen.generate_model_tmpl()\n",
    "\n",
    "print(model_tmpl)\n",
    "\n",
    "for t in model_tmpl.get_templates():\n",
    "    print(t.type, t.get_learnable_params())\n",
    "\n",
    "print()\n",
    "\n",
    "for t in model_tmpl.get_templates()[:-1]:\n",
    "    print(encoder.encode_template(t))"
   ],
   "id": "b15d32619a21d2bd",
   "outputs": [],
   "execution_count": null
  },
  {
   "metadata": {},
   "cell_type": "code",
   "source": [
    "for i in range(1000):\n",
    "    m = model_gen.generate_model_tmpl()\n",
    "    encoder.encode_model(m)"
   ],
   "id": "851804056d7602a8",
   "outputs": [],
   "execution_count": null
  },
  {
   "metadata": {},
   "cell_type": "code",
   "source": [
    "model_tmpl = model_gen.generate_model_tmpl()\n",
    "vec = encoder.encode_model(model_tmpl)\n",
    "print(vec)"
   ],
   "id": "1a53b9079878554",
   "outputs": [],
   "execution_count": null
  }
 ],
 "metadata": {
  "kernelspec": {
   "display_name": "sophius",
   "language": "python",
   "name": "sophius"
  },
  "language_info": {
   "codemirror_mode": {
    "name": "ipython",
    "version": 2
   },
   "file_extension": ".py",
   "mimetype": "text/x-python",
   "name": "python",
   "nbconvert_exporter": "python",
   "pygments_lexer": "ipython2",
   "version": "2.7.6"
  }
 },
 "nbformat": 4,
 "nbformat_minor": 5
}
