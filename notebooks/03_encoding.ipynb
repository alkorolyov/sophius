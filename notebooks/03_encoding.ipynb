{
 "cells": [
  {
   "metadata": {
    "ExecuteTime": {
     "end_time": "2024-09-18T13:36:12.430581Z",
     "start_time": "2024-09-18T13:36:12.369673Z"
    }
   },
   "cell_type": "code",
   "source": [
    "from sophius.templates import Conv2dTmpl\n",
    "%load_ext autoreload\n",
    "%autoreload 2\n",
    "\n",
    "import sys\n",
    "sys.path.append('..')"
   ],
   "id": "345b72dc7c28c739",
   "outputs": [],
   "execution_count": 1
  },
  {
   "cell_type": "code",
   "id": "initial_id",
   "metadata": {
    "collapsed": true,
    "ExecuteTime": {
     "end_time": "2024-09-18T13:36:24.975354Z",
     "start_time": "2024-09-18T13:36:24.893851Z"
    }
   },
   "source": [
    "from sophius.templates import *\n",
    "from sophius.encode import Encoder\n",
    "from sophius.modelgen import ConvModelGenerator\n",
    "\n",
    "# Example usage\n",
    "templates = [\n",
    "    LinearTmpl(),\n",
    "    BatchNorm2dTmpl(),\n",
    "    ReLUTmpl(),\n",
    "    LeakyReLUTmpl(),\n",
    "    PReLUTmpl(),\n",
    "    DropoutTmpl(),\n",
    "    Dropout2dTmpl(),\n",
    "    FlattenTmpl(),\n",
    "    Conv2dTmpl(),\n",
    "    MaxPool2dTmpl(),\n",
    "    AvgPool2dTmpl(),\n",
    "    GlobalAvgPool2dTmpl(),\n",
    "]\n",
    "\n",
    "encoder = Encoder()\n",
    "\n",
    "for t in templates:\n",
    "    encoded_layer = encoder.encode_template(t)    \n",
    "    print(t.type, t.get_learnable_params())\n",
    "    print(encoded_layer)\n",
    "    print()"
   ],
   "outputs": [
    {
     "name": "stdout",
     "output_type": "stream",
     "text": [
      "LinearTmpl {'out_features': 256}\n",
      "[1 0 0 0 0 0 0 0 0 0 0 0 0 0 0 1 0 0 0 0 0 0 0 0 0 0 0 0 0 0 0 0]\n",
      "\n",
      "BatchNorm2dTmpl {}\n",
      "[0 1 0 0 0 0 0 0 0 0 0 0 0 0 0 0 0 0 0 0 0 0 0 0 0 0 0 0 0 0 0 0]\n",
      "\n",
      "ReLUTmpl {}\n",
      "[0 0 1 0 0 0 0 0 0 0 0 0 0 0 0 0 0 0 0 0 0 0 0 0 0 0 0 0 0 0 0 0]\n",
      "\n",
      "LeakyReLUTmpl {'negative_slope': 0.1}\n",
      "[0 0 0 1 0 0 0 0 0 0 0 0 1 0 0 0 0 0 0 0 0 0 0 0 0 0 0 0 0 0 0 0]\n",
      "\n",
      "PReLUTmpl {'all_channels': True}\n",
      "[0 0 0 0 1 0 0 0 0 0 0 0 1 0 0 0 0 0 0 0 0 0 0 0 0 0 0 0 0 0 0 0]\n",
      "\n",
      "DropoutTmpl {'p': 0.75}\n",
      "[0 0 0 0 0 1 0 0 0 0 0 0 0 0 0 0 0 0 0 0 0 0 0 0 0 0 1 0 0 0 0 0]\n",
      "\n",
      "Dropout2dTmpl {'p': 0.75}\n",
      "[0 0 0 0 0 0 1 0 0 0 0 0 0 0 0 0 0 0 0 0 0 0 0 0 0 0 1 0 0 0 0 0]\n",
      "\n",
      "FlattenTmpl {}\n",
      "[0 0 0 0 0 0 0 1 0 0 0 0 0 0 0 0 0 0 0 0 0 0 0 0 0 0 0 0 0 0 0 0]\n",
      "\n",
      "Conv2dTmpl {'out_channels': 32, 'kernel_size': (3, 3), 'stride': (1, 1), 'padding': True}\n",
      "[0 0 0 0 0 0 0 0 1 0 0 0 0 0 1 0 0 0 0 0 0 1 0 0 0 0 1 0 0 0 1 0]\n",
      "\n",
      "MaxPool2dTmpl {'kernel_size': (2, 2), 'stride': (2, 2), 'padding': False}\n",
      "[0 0 0 0 0 0 0 0 0 1 0 0 1 0 0 0 1 0 0 1 0 0 0 0 0 0 0 0 0 0 0 0]\n",
      "\n",
      "AvgPool2dTmpl {'kernel_size': (2, 2), 'stride': (2, 2), 'padding': False, 'count_include_pad': True}\n",
      "[0 0 0 0 0 0 0 0 0 0 1 0 1 0 0 0 1 0 1 1 0 0 0 0 0 0 0 0 0 0 0 0]\n",
      "\n",
      "GlobalAvgPool2dTmpl {}\n",
      "[0 0 0 0 0 0 0 0 0 0 0 1 0 0 0 0 0 0 0 0 0 0 0 0 0 0 0 0 0 0 0 0]\n",
      "\n"
     ]
    }
   ],
   "execution_count": 3
  },
  {
   "metadata": {
    "ExecuteTime": {
     "end_time": "2024-09-18T13:38:38.056513Z",
     "start_time": "2024-09-18T13:38:37.991826Z"
    }
   },
   "cell_type": "code",
   "source": [
    "t = Conv2dTmpl(out_channels=32, kernel_size=(3, 3), stride=(1, 1))\n",
    "print(encoder.encode_template(t))"
   ],
   "id": "b3bea73ca9dc6b76",
   "outputs": [
    {
     "name": "stdout",
     "output_type": "stream",
     "text": [
      "[0 0 0 0 0 0 0 0 1 0 0 0 0 0 1 0 0 0 0 0 0 1 0 0 0 0 1 0 0 0 1 0]\n"
     ]
    }
   ],
   "execution_count": 5
  },
  {
   "metadata": {
    "ExecuteTime": {
     "end_time": "2024-09-18T13:39:35.053473Z",
     "start_time": "2024-09-18T13:39:34.988272Z"
    }
   },
   "cell_type": "code",
   "source": [
    "model_gen = ConvModelGenerator((3, 32, 32), 10, conv_num=1, lin_num=1)\n",
    "model_tmpl = model_gen.generate_model_tmpl()\n",
    "\n",
    "print(model_tmpl)\n",
    "\n",
    "for t in model_tmpl.templates:\n",
    "    print(t.type, t.get_learnable_params())\n",
    "\n",
    "print()\n",
    "\n",
    "for t in model_tmpl.templates[:-1]:\n",
    "    print(encoder.encode_template(t))"
   ],
   "id": "b15d32619a21d2bd",
   "outputs": [
    {
     "name": "stdout",
     "output_type": "stream",
     "text": [
      "Conv2d       (8, 10, 10)    (5, 5)   (3, 3)  \n",
      "PReLU        (8, 10, 10)   \n",
      "Flatten      800           \n",
      "Linear       10            \n",
      "\n",
      "Conv2dTmpl {'out_channels': 8, 'kernel_size': (5, 5), 'stride': (3, 3), 'padding': False}\n",
      "PReLUTmpl {'all_channels': False}\n",
      "FlattenTmpl {}\n",
      "LinearTmpl {'out_features': 10}\n",
      "\n",
      "[0 0 0 0 0 0 0 0 1 0 0 0 1 0 0 0 0 0 0 0 0 0 0 1 0 0 0 0 1 0 0 1]\n",
      "[0 0 0 0 1 0 0 0 0 0 0 0 0 1 0 0 0 0 0 0 0 0 0 0 0 0 0 0 0 0 0 0]\n",
      "[0 0 0 0 0 0 0 1 0 0 0 0 0 0 0 0 0 0 0 0 0 0 0 0 0 0 0 0 0 0 0 0]\n"
     ]
    }
   ],
   "execution_count": 11
  },
  {
   "metadata": {
    "ExecuteTime": {
     "end_time": "2024-09-03T13:57:07.409421Z",
     "start_time": "2024-09-03T13:57:06.935462Z"
    }
   },
   "cell_type": "code",
   "source": [
    "for i in range(1000):\n",
    "    m = model_gen.generate_model_tmpl()\n",
    "    encoder.model2vec(m)"
   ],
   "id": "851804056d7602a8",
   "outputs": [],
   "execution_count": 6
  },
  {
   "metadata": {
    "ExecuteTime": {
     "end_time": "2024-09-03T13:57:07.472594Z",
     "start_time": "2024-09-03T13:57:07.410377Z"
    }
   },
   "cell_type": "code",
   "source": [
    "model_tmpl = model_gen.generate_model_tmpl()\n",
    "vec = encoder.model2vec(model_tmpl)\n",
    "print(vec)"
   ],
   "id": "1a53b9079878554",
   "outputs": [
    {
     "name": "stdout",
     "output_type": "stream",
     "text": [
      "[[0 0 0 0 0 0 0 0 1 0 0 0 0 1 0 0 0 0 0 0 1 0 0 0 0 0 0 1 0 0 0 1]\n",
      " [0 0 0 0 0 0 0 0 0 1 0 0 1 0 0 0 1 0 0 1 0 0 0 0 0 0 0 0 0 0 0 0]\n",
      " [0 0 0 1 0 0 0 0 0 0 0 0 0 0 1 0 0 0 0 0 0 0 0 0 0 0 0 0 0 0 0 0]\n",
      " [0 0 0 0 0 0 0 0 1 0 0 0 0 0 1 0 0 0 0 0 1 0 0 0 0 0 0 0 0 1 0 1]\n",
      " [0 0 0 0 0 0 0 1 0 0 0 0 0 0 0 0 0 0 0 0 0 0 0 0 0 0 0 0 0 0 0 0]\n",
      " [1 0 0 0 0 0 0 0 0 0 0 0 0 1 0 0 0 0 0 0 0 0 0 0 0 0 0 0 0 0 0 0]\n",
      " [0 0 1 0 0 0 0 0 0 0 0 0 0 0 0 0 0 0 0 0 0 0 0 0 0 0 0 0 0 0 0 0]\n",
      " [1 0 0 0 0 0 0 0 0 0 0 0 0 0 0 0 1 0 0 0 0 0 0 0 0 0 0 0 0 0 0 0]\n",
      " [0 0 0 0 0 1 0 0 0 0 0 0 0 0 0 1 0 0 0 0 0 0 0 0 0 0 0 0 0 0 0 0]\n",
      " [0 0 1 0 0 0 0 0 0 0 0 0 0 0 0 0 0 0 0 0 0 0 0 0 0 0 0 0 0 0 0 0]]\n"
     ]
    }
   ],
   "execution_count": 7
  }
 ],
 "metadata": {
  "kernelspec": {
   "display_name": "sophius",
   "language": "python",
   "name": "sophius"
  },
  "language_info": {
   "codemirror_mode": {
    "name": "ipython",
    "version": 2
   },
   "file_extension": ".py",
   "mimetype": "text/x-python",
   "name": "python",
   "nbconvert_exporter": "python",
   "pygments_lexer": "ipython2",
   "version": "2.7.6"
  }
 },
 "nbformat": 4,
 "nbformat_minor": 5
}
