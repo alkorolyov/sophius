{
 "cells": [
  {
   "metadata": {
    "ExecuteTime": {
     "end_time": "2024-09-03T13:57:05.855951Z",
     "start_time": "2024-09-03T13:57:05.811272Z"
    }
   },
   "cell_type": "code",
   "source": [
    "%load_ext autoreload\n",
    "%autoreload 2\n",
    "\n",
    "import sys\n",
    "sys.path.append('..')"
   ],
   "id": "345b72dc7c28c739",
   "outputs": [
    {
     "name": "stdout",
     "output_type": "stream",
     "text": [
      "The autoreload extension is already loaded. To reload it, use:\n",
      "  %reload_ext autoreload\n"
     ]
    }
   ],
   "execution_count": 3
  },
  {
   "cell_type": "code",
   "id": "initial_id",
   "metadata": {
    "collapsed": true,
    "ExecuteTime": {
     "end_time": "2024-09-03T13:57:06.855695Z",
     "start_time": "2024-09-03T13:57:05.856611Z"
    }
   },
   "source": [
    "from sophius.templates import *\n",
    "from sophius.encode import Encoder\n",
    "from sophius.modelgen import ConvModelGenerator\n",
    "\n",
    "# Example usage\n",
    "templates = [\n",
    "    LinearTmpl(),\n",
    "    BatchNorm2dTmpl(),\n",
    "    ReLUTmpl(),\n",
    "    LeakyReLUTmpl(),\n",
    "    PReLUTmpl(),\n",
    "    DropoutTmpl(),\n",
    "    Dropout2dTmpl(),\n",
    "    FlattenTmpl(),\n",
    "    Conv2dTmpl(),\n",
    "    MaxPool2dTmpl(),\n",
    "    AvgPool2dTmpl(),\n",
    "    GlobalAvgPool2dTmpl(),\n",
    "]\n",
    "\n",
    "encoder = Encoder()\n",
    "\n",
    "for t in templates:\n",
    "    t.gen_rand_config()\n",
    "    encoded_layer = encoder.encode_template(t)\n",
    "    \n",
    "    print(t.type, t.get_learnable_params())\n",
    "    # print(len(encoded_layer))\n",
    "    print(encoded_layer)\n",
    "    print()"
   ],
   "outputs": [
    {
     "name": "stdout",
     "output_type": "stream",
     "text": [
      "LinearTmpl {'out_features': 64}\n",
      "[1 0 0 0 0 0 0 0 0 0 0 0 0 1 0 0 0 0 0 0 0 0 0 0 0 0 0 0 0 0 0 0]\n",
      "\n",
      "BatchNorm2dTmpl {}\n",
      "[0 1 0 0 0 0 0 0 0 0 0 0 0 0 0 0 0 0 0 0 0 0 0 0 0 0 0 0 0 0 0 0]\n",
      "\n",
      "ReLUTmpl {}\n",
      "[0 0 1 0 0 0 0 0 0 0 0 0 0 0 0 0 0 0 0 0 0 0 0 0 0 0 0 0 0 0 0 0]\n",
      "\n",
      "LeakyReLUTmpl {'negative_slope': 0.01}\n",
      "[0 0 0 1 0 0 0 0 0 0 0 0 0 1 0 0 0 0 0 0 0 0 0 0 0 0 0 0 0 0 0 0]\n",
      "\n",
      "PReLUTmpl {'all_channels': False}\n",
      "[0 0 0 0 1 0 0 0 0 0 0 0 0 1 0 0 0 0 0 0 0 0 0 0 0 0 0 0 0 0 0 0]\n",
      "\n",
      "DropoutTmpl {'p': 0.65}\n",
      "[0 0 0 0 0 1 0 0 0 0 0 0 0 0 0 0 0 0 0 0 0 0 0 0 1 0 0 0 0 0 0 0]\n",
      "\n",
      "Dropout2dTmpl {'p': 0.65}\n",
      "[0 0 0 0 0 0 1 0 0 0 0 0 0 0 0 0 0 0 0 0 0 0 0 0 1 0 0 0 0 0 0 0]\n",
      "\n",
      "FlattenTmpl {}\n",
      "[0 0 0 0 0 0 0 1 0 0 0 0 0 0 0 0 0 0 0 0 0 0 0 0 0 0 0 0 0 0 0 0]\n",
      "\n",
      "Conv2dTmpl {'out_channels': 64, 'kernel_size': (6, 6), 'stride': (1, 1), 'padding': True}\n",
      "[0 0 0 0 0 0 0 0 1 0 0 0 0 0 0 1 0 0 0 0 0 0 0 0 1 0 1 0 0 0 1 0]\n",
      "\n",
      "MaxPool2dTmpl {'kernel_size': (3, 3), 'stride': (3, 3), 'padding': False}\n",
      "[0 0 0 0 0 0 0 0 0 1 0 0 0 1 0 0 0 1 0 1 0 0 0 0 0 0 0 0 0 0 0 0]\n",
      "\n",
      "AvgPool2dTmpl {'kernel_size': (2, 2), 'stride': (1, 1), 'padding': True, 'count_include_pad': True}\n",
      "[0 0 0 0 0 0 0 0 0 0 1 0 1 0 0 1 0 1 0 1 0 0 0 0 0 0 0 0 0 0 0 0]\n",
      "\n",
      "GlobalAvgPool2dTmpl {}\n",
      "[0 0 0 0 0 0 0 0 0 0 0 1 0 0 0 0 0 0 0 0 0 0 0 0 0 0 0 0 0 0 0 0]\n",
      "\n"
     ]
    }
   ],
   "execution_count": 4
  },
  {
   "metadata": {
    "ExecuteTime": {
     "end_time": "2024-09-03T13:57:06.935462Z",
     "start_time": "2024-09-03T13:57:06.855695Z"
    }
   },
   "cell_type": "code",
   "source": [
    "model_gen = ConvModelGenerator((3, 32, 32), 10, conv_num=6, lin_num=3)\n",
    "model_tmpl = model_gen.generate_model_tmpl()\n",
    "\n",
    "print(model_tmpl)\n",
    "\n",
    "for t in model_tmpl.get_templates():\n",
    "    print(t.type, t.get_learnable_params())\n",
    "\n",
    "print()\n",
    "\n",
    "for t in model_tmpl.get_templates()[:-1]:\n",
    "    print(encoder.encode_template(t))"
   ],
   "id": "b15d32619a21d2bd",
   "outputs": [
    {
     "name": "stdout",
     "output_type": "stream",
     "text": [
      "Conv2d       (96, 15, 15)   (3, 3)   (2, 2)  \n",
      "AvgPool2d    (96, 8, 8)     (4, 4)   (2, 2)  \n",
      "LeakyReLU    (96, 8, 8)     (0.01)  \n",
      "MaxPool2d    (96, 4, 4)     (2, 2)   (2, 2)  \n",
      "Conv2d       (128, 4, 4)    (1, 1)   (1, 1)  \n",
      "ReLU         (128, 4, 4)   \n",
      "BatchNorm2d  (128, 4, 4)   \n",
      "GlobalAvgPool2d (128, 1, 1)   \n",
      "Flatten      128           \n",
      "Linear       64            \n",
      "ReLU         64            \n",
      "Linear       64            \n",
      "PReLU        64            \n",
      "Dropout      64             (0.85)  \n",
      "Linear       10            \n",
      "\n",
      "Conv2dTmpl {'out_channels': 96, 'kernel_size': (3, 3), 'stride': (2, 2), 'padding': False}\n",
      "AvgPool2dTmpl {'kernel_size': (4, 4), 'stride': (2, 2), 'padding': True, 'count_include_pad': True}\n",
      "LeakyReLUTmpl {'negative_slope': 0.01}\n",
      "MaxPool2dTmpl {'kernel_size': (2, 2), 'stride': (2, 2), 'padding': False}\n",
      "Conv2dTmpl {'out_channels': 128, 'kernel_size': (1, 1), 'stride': (1, 1), 'padding': True}\n",
      "ReLUTmpl {}\n",
      "BatchNorm2dTmpl {}\n",
      "GlobalAvgPool2dTmpl {}\n",
      "FlattenTmpl {}\n",
      "LinearTmpl {'out_features': 64}\n",
      "ReLUTmpl {}\n",
      "LinearTmpl {'out_features': 64}\n",
      "PReLUTmpl {'all_channels': True}\n",
      "DropoutTmpl {'p': 0.85}\n",
      "LinearTmpl {'out_features': 10}\n",
      "\n",
      "[0 0 0 0 0 0 0 0 1 0 0 0 0 0 0 0 1 0 0 0 0 1 0 0 0 0 0 1 0 0 0 1]\n",
      "[0 0 0 0 0 0 0 0 0 0 1 0 0 0 1 0 1 1 0 1 0 0 0 0 0 0 0 0 0 0 0 0]\n",
      "[0 0 0 1 0 0 0 0 0 0 0 0 0 1 0 0 0 0 0 0 0 0 0 0 0 0 0 0 0 0 0 0]\n",
      "[0 0 0 0 0 0 0 0 0 1 0 0 1 0 0 0 1 0 0 1 0 0 0 0 0 0 0 0 0 0 0 0]\n",
      "[0 0 0 0 0 0 0 0 1 0 0 0 0 0 0 0 0 1 0 1 0 0 0 0 0 0 1 0 0 0 1 0]\n",
      "[0 0 1 0 0 0 0 0 0 0 0 0 0 0 0 0 0 0 0 0 0 0 0 0 0 0 0 0 0 0 0 0]\n",
      "[0 1 0 0 0 0 0 0 0 0 0 0 0 0 0 0 0 0 0 0 0 0 0 0 0 0 0 0 0 0 0 0]\n",
      "[0 0 0 0 0 0 0 0 0 0 0 1 0 0 0 0 0 0 0 0 0 0 0 0 0 0 0 0 0 0 0 0]\n",
      "[0 0 0 0 0 0 0 1 0 0 0 0 0 0 0 0 0 0 0 0 0 0 0 0 0 0 0 0 0 0 0 0]\n",
      "[1 0 0 0 0 0 0 0 0 0 0 0 0 1 0 0 0 0 0 0 0 0 0 0 0 0 0 0 0 0 0 0]\n",
      "[0 0 1 0 0 0 0 0 0 0 0 0 0 0 0 0 0 0 0 0 0 0 0 0 0 0 0 0 0 0 0 0]\n",
      "[1 0 0 0 0 0 0 0 0 0 0 0 0 1 0 0 0 0 0 0 0 0 0 0 0 0 0 0 0 0 0 0]\n",
      "[0 0 0 0 1 0 0 0 0 0 0 0 1 0 0 0 0 0 0 0 0 0 0 0 0 0 0 0 0 0 0 0]\n",
      "[0 0 0 0 0 1 0 0 0 0 0 0 0 0 0 0 0 0 0 0 0 0 0 0 0 0 0 0 1 0 0 0]\n"
     ]
    }
   ],
   "execution_count": 5
  },
  {
   "metadata": {
    "ExecuteTime": {
     "end_time": "2024-09-03T13:57:07.409421Z",
     "start_time": "2024-09-03T13:57:06.935462Z"
    }
   },
   "cell_type": "code",
   "source": [
    "for i in range(1000):\n",
    "    m = model_gen.generate_model_tmpl()\n",
    "    encoder.encode_model(m)"
   ],
   "id": "851804056d7602a8",
   "outputs": [],
   "execution_count": 6
  },
  {
   "metadata": {
    "ExecuteTime": {
     "end_time": "2024-09-03T13:57:07.472594Z",
     "start_time": "2024-09-03T13:57:07.410377Z"
    }
   },
   "cell_type": "code",
   "source": [
    "model_tmpl = model_gen.generate_model_tmpl()\n",
    "vec = encoder.encode_model(model_tmpl)\n",
    "print(vec)"
   ],
   "id": "1a53b9079878554",
   "outputs": [
    {
     "name": "stdout",
     "output_type": "stream",
     "text": [
      "[[0 0 0 0 0 0 0 0 1 0 0 0 0 1 0 0 0 0 0 0 1 0 0 0 0 0 0 1 0 0 0 1]\n",
      " [0 0 0 0 0 0 0 0 0 1 0 0 1 0 0 0 1 0 0 1 0 0 0 0 0 0 0 0 0 0 0 0]\n",
      " [0 0 0 1 0 0 0 0 0 0 0 0 0 0 1 0 0 0 0 0 0 0 0 0 0 0 0 0 0 0 0 0]\n",
      " [0 0 0 0 0 0 0 0 1 0 0 0 0 0 1 0 0 0 0 0 1 0 0 0 0 0 0 0 0 1 0 1]\n",
      " [0 0 0 0 0 0 0 1 0 0 0 0 0 0 0 0 0 0 0 0 0 0 0 0 0 0 0 0 0 0 0 0]\n",
      " [1 0 0 0 0 0 0 0 0 0 0 0 0 1 0 0 0 0 0 0 0 0 0 0 0 0 0 0 0 0 0 0]\n",
      " [0 0 1 0 0 0 0 0 0 0 0 0 0 0 0 0 0 0 0 0 0 0 0 0 0 0 0 0 0 0 0 0]\n",
      " [1 0 0 0 0 0 0 0 0 0 0 0 0 0 0 0 1 0 0 0 0 0 0 0 0 0 0 0 0 0 0 0]\n",
      " [0 0 0 0 0 1 0 0 0 0 0 0 0 0 0 1 0 0 0 0 0 0 0 0 0 0 0 0 0 0 0 0]\n",
      " [0 0 1 0 0 0 0 0 0 0 0 0 0 0 0 0 0 0 0 0 0 0 0 0 0 0 0 0 0 0 0 0]]\n"
     ]
    }
   ],
   "execution_count": 7
  }
 ],
 "metadata": {
  "kernelspec": {
   "display_name": "sophius",
   "language": "python",
   "name": "sophius"
  },
  "language_info": {
   "codemirror_mode": {
    "name": "ipython",
    "version": 2
   },
   "file_extension": ".py",
   "mimetype": "text/x-python",
   "name": "python",
   "nbconvert_exporter": "python",
   "pygments_lexer": "ipython2",
   "version": "2.7.6"
  }
 },
 "nbformat": 4,
 "nbformat_minor": 5
}
