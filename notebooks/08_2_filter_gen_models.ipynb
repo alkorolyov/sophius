{
 "cells": [
  {
   "cell_type": "code",
   "id": "initial_id",
   "metadata": {
    "collapsed": true,
    "ExecuteTime": {
     "end_time": "2024-09-17T16:47:09.973324Z",
     "start_time": "2024-09-17T16:47:09.911802Z"
    }
   },
   "source": [
    "%load_ext autoreload\n",
    "%autoreload 2\n",
    "\n",
    "import sys\n",
    "sys.path.append(\"..\")"
   ],
   "outputs": [],
   "execution_count": 1
  },
  {
   "metadata": {
    "ExecuteTime": {
     "end_time": "2024-09-17T16:47:53.420842Z",
     "start_time": "2024-09-17T16:47:38.360602Z"
    }
   },
   "cell_type": "code",
   "source": [
    "import torch\n",
    "from calflops import calculate_flops\n",
    "import sophius.utils as utils\n",
    "import sophius.dataload as dload\n",
    "from sophius.modelgen import ConvModelGenerator\n",
    "from sophius.train import train_express_gpu\n",
    "import torchvision.datasets as dset\n",
    "import torchvision.transforms as T\n",
    "from sophius.encode import Encoder\n",
    "from sophius.utils import calc_model_flops, hash_dict\n",
    "import sqlite3\n",
    "import pandas as pd\n",
    "import seaborn as sns\n",
    "from tqdm import tqdm\n",
    "import random\n",
    "from sophius.train import train_on_gpu_ex\n",
    "from sophius.estimate import LSTMRegressor\n",
    "\n",
    "normalize = T.Compose([\n",
    "    T.ToTensor(),\n",
    "    T.Normalize((0.5, 0.5, 0.5), (0.5, 0.5, 0.5)),    \n",
    "])\n",
    "cifar10 = dset.CIFAR10('../data/CIFAR10', train=True, download=True, transform=normalize)\n",
    "cifar_gpu = dload.cifar_to_gpu(cifar10)\n",
    "\n",
    "encoder = Encoder()\n",
    "estimator = torch.load('../data/models/estimator_v1.pth').cpu()\n",
    "\n",
    "def estimate_acc(model_tmpl):\n",
    "    t = torch.tensor(encoder.model2vec(model_tmpl), dtype=torch.float32)\n",
    "    return estimator(t).item()\n",
    "\n",
    "def read_model_db(model_id):    \n",
    "    with sqlite3.connect('../data/models.db') as conn:\n",
    "        hash_str = conn.execute(f'SELECT hash FROM models WHERE id==?', (model_id, )).fetchone()[0]\n",
    "    return encoder.hash2model(hash_str, (3, 32, 32), 10)"
   ],
   "id": "305040f6f04978c5",
   "outputs": [
    {
     "name": "stderr",
     "output_type": "stream",
     "text": [
      "C:\\Users\\korol\\miniforge3\\envs\\sophius\\lib\\site-packages\\tqdm\\auto.py:21: TqdmWarning: IProgress not found. Please update jupyter and ipywidgets. See https://ipywidgets.readthedocs.io/en/stable/user_install.html\n",
      "  from .autonotebook import tqdm as notebook_tqdm\n"
     ]
    },
    {
     "name": "stdout",
     "output_type": "stream",
     "text": [
      "Files already downloaded and verified\n"
     ]
    }
   ],
   "execution_count": 2
  },
  {
   "metadata": {
    "ExecuteTime": {
     "end_time": "2024-09-17T16:48:18.904652Z",
     "start_time": "2024-09-17T16:47:53.425843Z"
    }
   },
   "cell_type": "code",
   "source": [
    "model_gen = ConvModelGenerator((3, 32, 32), 10, conv_num=16, lin_num=3)\n",
    "res = pd.DataFrame(columns=['est_val_acc', 'conv_len'])\n",
    "\n",
    "for i in tqdm(range(10000)):\n",
    "    model_tmpl = model_gen.generate_model_tmpl()    \n",
    "    est_val_acc = estimate_acc(model_tmpl)\n",
    "    if est_val_acc < 0.7:\n",
    "        # print('Skip %.3f' % est_val_acc)\n",
    "        continue\n",
    "    res.loc[i, 'est_val_acc'] = est_val_acc\n",
    "    res.loc[i, 'conv_len'] = model_tmpl.get_conv_len()\n",
    "    # print('Pass %.3f' % est_val_acc)"
   ],
   "id": "eae2f533794554b1",
   "outputs": [
    {
     "name": "stderr",
     "output_type": "stream",
     "text": [
      "100%|██████████| 10000/10000 [00:25<00:00, 393.99it/s]\n"
     ]
    }
   ],
   "execution_count": 3
  },
  {
   "metadata": {},
   "cell_type": "code",
   "outputs": [],
   "execution_count": null,
   "source": [
    "from matplotlib import pyplot as plt\n",
    "\n",
    "plt.figure.s"
   ],
   "id": "cde65e2cf7dffef1"
  },
  {
   "metadata": {
    "ExecuteTime": {
     "end_time": "2024-09-17T16:51:29.323522Z",
     "start_time": "2024-09-17T16:51:27.839233Z"
    }
   },
   "cell_type": "code",
   "source": "sns.catplot(res.query('1 < conv_len < 7'), x='est_val_acc', col='conv_len', col_wrap=3, height=3, kind='box');",
   "id": "3a51f0e0dd0f58ad",
   "outputs": [
    {
     "data": {
      "text/plain": [
       "<Figure size 911.111x600 with 5 Axes>"
      ],
      "image/png": "[encoded data removed]"
     },
     "metadata": {},
     "output_type": "display_data"
    }
   ],
   "execution_count": 8
  }
 ],
 "metadata": {
  "kernelspec": {
   "display_name": "Python 3",
   "language": "python",
   "name": "python3"
  },
  "language_info": {
   "codemirror_mode": {
    "name": "ipython",
    "version": 2
   },
   "file_extension": ".py",
   "mimetype": "text/x-python",
   "name": "python",
   "nbconvert_exporter": "python",
   "pygments_lexer": "ipython2",
   "version": "2.7.6"
  }
 },
 "nbformat": 4,
 "nbformat_minor": 5
}
