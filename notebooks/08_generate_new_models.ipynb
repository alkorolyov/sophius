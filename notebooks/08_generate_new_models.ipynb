{
 "cells": [
  {
   "cell_type": "code",
   "id": "initial_id",
   "metadata": {
    "collapsed": true,
    "ExecuteTime": {
     "end_time": "2024-09-14T13:27:11.166438Z",
     "start_time": "2024-09-14T13:27:11.105121Z"
    }
   },
   "source": [
    "%load_ext autoreload\n",
    "%autoreload 2\n",
    "\n",
    "import sys\n",
    "sys.path.append(\"..\")"
   ],
   "outputs": [],
   "execution_count": 1
  },
  {
   "metadata": {
    "ExecuteTime": {
     "end_time": "2024-09-14T13:27:31.765933Z",
     "start_time": "2024-09-14T13:27:17.135606Z"
    }
   },
   "cell_type": "code",
   "source": [
    "import sophius.dataload as dload\n",
    "import torchvision.datasets as dset\n",
    "import torchvision.transforms as T\n",
    "from sophius.encode import Encoder\n",
    "\n",
    "\n",
    "\n",
    "cifar10 = dset.CIFAR10('../data/CIFAR10', train=True, download=True, transform=T.ToTensor())\n",
    "cifar_gpu = dload.cifar_to_gpu(cifar10)\n",
    "\n",
    "encoder = Encoder()"
   ],
   "id": "97e21ff547916218",
   "outputs": [
    {
     "name": "stderr",
     "output_type": "stream",
     "text": [
      "C:\\Users\\korol\\miniforge3\\envs\\sophius\\lib\\site-packages\\tqdm\\auto.py:21: TqdmWarning: IProgress not found. Please update jupyter and ipywidgets. See https://ipywidgets.readthedocs.io/en/stable/user_install.html\n",
      "  from .autonotebook import tqdm as notebook_tqdm\n"
     ]
    },
    {
     "name": "stdout",
     "output_type": "stream",
     "text": [
      "Files already downloaded and verified\n"
     ]
    }
   ],
   "execution_count": 2
  }
 ],
 "metadata": {
  "kernelspec": {
   "display_name": "sophius",
   "language": "python",
   "name": "sophius"
  },
  "language_info": {
   "codemirror_mode": {
    "name": "ipython",
    "version": 2
   },
   "file_extension": ".py",
   "mimetype": "text/x-python",
   "name": "python",
   "nbconvert_exporter": "python",
   "pygments_lexer": "ipython2",
   "version": "2.7.6"
  }
 },
 "nbformat": 4,
 "nbformat_minor": 5
}
