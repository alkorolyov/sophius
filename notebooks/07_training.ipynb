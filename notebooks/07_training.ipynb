{
 "cells": [
  {
   "cell_type": "code",
   "id": "initial_id",
   "metadata": {
    "collapsed": true,
    "ExecuteTime": {
     "end_time": "2024-09-04T16:44:58.149618Z",
     "start_time": "2024-09-04T16:44:58.087466Z"
    }
   },
   "source": [
    "import pandas as pd\n",
    "%load_ext autoreload\n",
    "%autoreload 2\n",
    "\n",
    "import sys\n",
    "sys.path.append('..')"
   ],
   "outputs": [],
   "execution_count": 1
  },
  {
   "metadata": {
    "ExecuteTime": {
     "end_time": "2024-09-04T16:54:29.884511Z",
     "start_time": "2024-09-04T16:54:17.577647Z"
    }
   },
   "cell_type": "code",
   "source": [
    "import time\n",
    "\n",
    "import numpy as np\n",
    "import pandas as pd\n",
    "import torch\n",
    "import torch.nn as nn\n",
    "import torch.optim as optim\n",
    "import seaborn as sns\n",
    "import sophius.utils as utils\n",
    "import sophius.dataload as dload\n",
    "from sophius.modelgen import ConvModelGenerator\n",
    "from sophius.train import train_express_gpu\n",
    "import torchvision.datasets as dset\n",
    "import torchvision.transforms as T\n",
    "from sophius.encode import Encoder\n",
    "\n",
    "\n",
    "VAL_SIZE = 1024\n",
    "\n",
    "cifar10 = dset.CIFAR10('../data/CIFAR10', train=True, download=True, transform=T.ToTensor())\n",
    "cifar_gpu = dload.cifar_to_gpu(cifar10)\n",
    "loader_gpu = dload.get_loader_gpu(cifar_gpu, val_size=VAL_SIZE, batch_size=1024)\n",
    "\n",
    "encoder = Encoder()"
   ],
   "id": "2ca58c1ac6fbb107",
   "outputs": [
    {
     "name": "stdout",
     "output_type": "stream",
     "text": [
      "Files already downloaded and verified\n"
     ]
    }
   ],
   "execution_count": 29
  },
  {
   "metadata": {
    "ExecuteTime": {
     "end_time": "2024-09-04T16:55:35.436783Z",
     "start_time": "2024-09-04T16:55:35.326436Z"
    }
   },
   "cell_type": "code",
   "source": [
    "def check_accuracy(model, loader):\n",
    "    num_correct = 0\n",
    "    num_samples = 0\n",
    "    model.eval()  # Put the model in test mode (the opposite of model.train(), essentially)\n",
    "    with torch.no_grad():\n",
    "        for x, y in loader:\n",
    "            x_var = x.type(torch.cuda.FloatTensor)\n",
    "            y_var = y.type(torch.LongTensor)\n",
    "            scores = model(x_var)\n",
    "            _, preds = scores.data.cpu().max(1)\n",
    "            num_correct += (preds == y_var).sum()\n",
    "            num_samples += preds.size(0)\n",
    "    acc = float(num_correct) / num_samples\n",
    "#     print('Got %d / %d correct (%.2f)' % (num_correct, num_samples, 100 * acc))\n",
    "    return acc\n",
    "\n",
    "\n",
    "def check_accuracy_gpu(model, loader):\n",
    "    num_correct = 0\n",
    "    num_samples = 0\n",
    "    model.eval()  # Put the model in test mode (the opposite of model.train(), essentially)\n",
    "    with torch.no_grad():\n",
    "        for x, y in loader:\n",
    "            scores = model(x)\n",
    "            _, preds = scores.data.cuda().max(1)\n",
    "            num_correct += (preds == y).sum()\n",
    "            num_samples += preds.size(0)\n",
    "    acc = float(num_correct) / num_samples\n",
    "#     print('Got %d / %d correct (%.2f)' % (num_correct, num_samples, 100 * acc))\n",
    "    return acc\n",
    "\n",
    "def train_express_gpu(model=None,\n",
    "                      loader=None,\n",
    "                      num_epoch=1,\n",
    "                      milestones=None,\n",
    "                      train=False,\n",
    "                      manual_seed=False,\n",
    "                      verbose=False):\n",
    "    if milestones is None:\n",
    "        milestones = []\n",
    "\n",
    "    start_time = time.time()\n",
    "    \n",
    "    if manual_seed:\n",
    "        torch.cuda.random.manual_seed(12345)\n",
    "    # init\n",
    "    loss_fn = nn.CrossEntropyLoss().type(torch.cuda.FloatTensor)\n",
    "    optimizer = optim.Adam(model.parameters(), lr=1e-3)\n",
    "    scheduler = optim.lr_scheduler.MultiStepLR(optimizer, milestones=milestones, gamma=0.1)\n",
    "    model.apply(utils.reset)\n",
    "    model.train()\n",
    "\n",
    "    train_acc, val_acc = 0, 0\n",
    "\n",
    "    res = pd.DataFrame(columns=['epoch', 'train_acc', 'val_acc', 'time'])\n",
    "\n",
    "    for i in range(num_epoch):\n",
    "        model.train()\n",
    "        for t, (x, y) in enumerate(loader['train']):\n",
    "            scores = model(x)\n",
    "            loss = loss_fn(scores, y)\n",
    "            optimizer.zero_grad()\n",
    "            loss.backward()\n",
    "            optimizer.step()\n",
    "        scheduler.step()\n",
    "        \n",
    "        _val_acc = check_accuracy(model, loader['val'])\n",
    "        _train_acc = check_accuracy(model, loader['train_small'])\n",
    "        res.loc[i] = [i, _train_acc, _val_acc, time.time() - start_time]\n",
    "        \n",
    "        \n",
    "    val_acc = check_accuracy(model, loader['val'])\n",
    "    if train: \n",
    "        train_acc = check_accuracy(model, loader['train_small'])\n",
    "\n",
    "    time_elapsed = (time.time() - start_time)\n",
    "\n",
    "    if verbose:\n",
    "        print ('Finished in %s' % utils.format_time(time_elapsed))\n",
    "        print('val_acc: %.3f, train_acc: %.3f' % (val_acc, train_acc))\n",
    "    \n",
    "    torch.cuda.empty_cache()\n",
    "    del model\n",
    "    \n",
    "    return res"
   ],
   "id": "6401280013c4086b",
   "outputs": [],
   "execution_count": 32
  },
  {
   "metadata": {
    "ExecuteTime": {
     "end_time": "2024-09-04T16:48:50.726064Z",
     "start_time": "2024-09-04T16:48:50.624996Z"
    }
   },
   "cell_type": "code",
   "source": [
    "model_gen = ConvModelGenerator((3, 32, 32), 10, conv_num=6, lin_num=3)\n",
    "\n",
    "model_tmpl = model_gen.generate_model_tmpl()\n",
    "model = model_tmpl.instantiate_model().type(torch.cuda.FloatTensor)"
   ],
   "id": "3d6d844f0492bc09",
   "outputs": [],
   "execution_count": 14
  },
  {
   "metadata": {
    "ExecuteTime": {
     "end_time": "2024-09-04T16:48:58.747688Z",
     "start_time": "2024-09-04T16:48:58.648639Z"
    }
   },
   "cell_type": "code",
   "source": "model",
   "id": "7fca3a12fb31d8b9",
   "outputs": [
    {
     "data": {
      "text/plain": [
       "Sequential(\n",
       "  (0): Conv2d(3, 8, kernel_size=(5, 5), stride=(4, 4), padding=(2, 2))\n",
       "  (1): PReLU(num_parameters=1)\n",
       "  (2): Conv2d(8, 64, kernel_size=(2, 2), stride=(2, 2), padding=(1, 1))\n",
       "  (3): PReLU(num_parameters=1)\n",
       "  (4): MaxPool2d(kernel_size=(4, 4), stride=(3, 3), padding=(2, 2), dilation=(1, 1), ceil_mode=False)\n",
       "  (5): BatchNorm2d(64, eps=1e-05, momentum=0.1, affine=True, track_running_stats=True)\n",
       "  (6): AvgPool2d(kernel_size=(3, 3), stride=(2, 2), padding=(1, 1))\n",
       "  (7): AvgPool2d(kernel_size=(1, 1), stride=(1, 1), padding=0)\n",
       "  (8): Flatten(start_dim=1, end_dim=-1)\n",
       "  (9): Linear(in_features=64, out_features=32, bias=True)\n",
       "  (10): PReLU(num_parameters=32)\n",
       "  (11): Dropout(p=0.7, inplace=False)\n",
       "  (12): Linear(in_features=32, out_features=32, bias=True)\n",
       "  (13): PReLU(num_parameters=32)\n",
       "  (14): Dropout(p=0.1, inplace=False)\n",
       "  (15): Linear(in_features=32, out_features=10, bias=True)\n",
       ")"
      ]
     },
     "execution_count": 16,
     "metadata": {},
     "output_type": "execute_result"
    }
   ],
   "execution_count": 16
  },
  {
   "metadata": {
    "ExecuteTime": {
     "end_time": "2024-09-04T18:21:22.944160Z",
     "start_time": "2024-09-04T18:21:20.664882Z"
    }
   },
   "cell_type": "code",
   "source": [
    "from sophius.train import train_on_gpu\n",
    "\n",
    "res = train_on_gpu(model = model,                  \n",
    "                  loader = loader_gpu,\n",
    "                  milestones = [],\n",
    "                  num_epoch = 50,\n",
    "                  verbose = True)"
   ],
   "id": "8d257f20ac239e49",
   "outputs": [
    {
     "name": "stderr",
     "output_type": "stream",
     "text": [
      "C:\\Users\\korol\\miniforge3\\envs\\sophius\\lib\\site-packages\\tqdm\\auto.py:21: TqdmWarning: IProgress not found. Please update jupyter and ipywidgets. See https://ipywidgets.readthedocs.io/en/stable/user_install.html\n",
      "  from .autonotebook import tqdm as notebook_tqdm\n",
      "\n",
      "KeyboardInterrupt\n",
      "\n"
     ]
    }
   ],
   "execution_count": 1
  },
  {
   "metadata": {
    "ExecuteTime": {
     "end_time": "2024-09-04T16:59:14.127972Z",
     "start_time": "2024-09-04T16:59:13.813628Z"
    }
   },
   "cell_type": "code",
   "source": [
    "sns.lineplot(res, x = 'epoch', y = 'train_acc')\n",
    "sns.lineplot(res, x = 'epoch', y = 'val_acc');"
   ],
   "id": "d36ce7a814605ca8",
   "outputs": [
    {
     "data": {
      "text/plain": [
       "<Figure size 640x480 with 1 Axes>"
      ],
      "image/png": "[encoded data removed]"
     },
     "metadata": {},
     "output_type": "display_data"
    }
   ],
   "execution_count": 50
  },
  {
   "metadata": {
    "ExecuteTime": {
     "end_time": "2024-09-04T17:04:38.910335Z",
     "start_time": "2024-09-04T17:04:38.612752Z"
    }
   },
   "cell_type": "code",
   "source": "sns.lineplot(res, x = 'epoch', y = 'loss');",
   "id": "aa4dc55e634dcf1c",
   "outputs": [
    {
     "data": {
      "text/plain": [
       "<Figure size 640x480 with 1 Axes>"
      ],
      "image/png": "[encoded data removed]"
     },
     "metadata": {},
     "output_type": "display_data"
    }
   ],
   "execution_count": 53
  },
  {
   "metadata": {
    "ExecuteTime": {
     "end_time": "2024-09-04T16:51:16.229567Z",
     "start_time": "2024-09-04T16:51:14.673535Z"
    }
   },
   "cell_type": "code",
   "source": "%timeit check_accuracy(model, loader_gpu['val'])",
   "id": "f7c9916e7cb7d476",
   "outputs": [
    {
     "name": "stdout",
     "output_type": "stream",
     "text": [
      "17.5 ms ± 1.22 ms per loop (mean ± std. dev. of 7 runs, 10 loops each)\n"
     ]
    }
   ],
   "execution_count": 25
  },
  {
   "metadata": {
    "ExecuteTime": {
     "end_time": "2024-09-04T16:51:38.751031Z",
     "start_time": "2024-09-04T16:51:24.153234Z"
    }
   },
   "cell_type": "code",
   "source": "",
   "id": "4b781ec8d5a0e6be",
   "outputs": [
    {
     "name": "stdout",
     "output_type": "stream",
     "text": [
      "18.1 ms ± 4.05 ms per loop (mean ± std. dev. of 7 runs, 100 loops each)\n"
     ]
    }
   ],
   "execution_count": 26
  }
 ],
 "metadata": {
  "kernelspec": {
   "display_name": "sophius",
   "language": "python",
   "name": "sophius"
  },
  "language_info": {
   "codemirror_mode": {
    "name": "ipython",
    "version": 2
   },
   "file_extension": ".py",
   "mimetype": "text/x-python",
   "name": "python",
   "nbconvert_exporter": "python",
   "pygments_lexer": "ipython2",
   "version": "2.7.6"
  }
 },
 "nbformat": 4,
 "nbformat_minor": 5
}
