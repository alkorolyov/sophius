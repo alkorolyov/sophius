{
 "cells": [
  {
   "metadata": {
    "ExecuteTime": {
     "end_time": "2024-09-03T12:23:14.115247Z",
     "start_time": "2024-09-03T12:23:14.057747Z"
    }
   },
   "cell_type": "code",
   "source": [
    "%load_ext autoreload\n",
    "%autoreload 2"
   ],
   "outputs": [],
   "execution_count": 1
  },
  {
   "cell_type": "code",
   "metadata": {
    "ExecuteTime": {
     "end_time": "2024-09-03T12:23:17.776140Z",
     "start_time": "2024-09-03T12:23:14.793274Z"
    }
   },
   "source": [
    "import torch\n",
    "import sophius.utils as utils\n",
    "import sophius.dataload as dload\n",
    "from sophius.modelgen import ConvModelGenerator\n",
    "from sophius.train import train_express_gpu\n",
    "import torchvision.datasets as dset\n",
    "import torchvision.transforms as T"
   ],
   "outputs": [],
   "execution_count": 2
  },
  {
   "cell_type": "code",
   "metadata": {
    "ExecuteTime": {
     "end_time": "2024-09-03T12:10:55.237791Z",
     "start_time": "2024-09-03T12:10:38.117147Z"
    }
   },
   "source": [
    "VAL_SIZE = 1024\n",
    "\n",
    "cifar10 = dset.CIFAR10('../data/CIFAR10', train=True, download=True,\n",
    "                           transform=T.ToTensor())\n",
    "cifar_gpu = dload.cifar_to_gpu(cifar10)"
   ],
   "outputs": [
    {
     "name": "stdout",
     "output_type": "stream",
     "text": [
      "Files already downloaded and verified\n"
     ]
    }
   ],
   "execution_count": 348
  },
  {
   "metadata": {
    "ExecuteTime": {
     "end_time": "2024-09-03T12:23:18.029882Z",
     "start_time": "2024-09-03T12:23:17.776140Z"
    }
   },
   "cell_type": "code",
   "source": [
    "model_gen = ConvModelGenerator((3, 32, 32), 10, conv_num=6, lin_num=3)\n",
    "model_tmpl = model_gen.generate_model_tmpl()\n",
    "print(model_tmpl)\n",
    "fixed_model_gpu = model_tmpl.instantiate_model().type(torch.cuda.FloatTensor)"
   ],
   "outputs": [
    {
     "name": "stdout",
     "output_type": "stream",
     "text": [
      "Conv2d       (8, 32, 32)    (3, 3)   (1, 1)  \n",
      "BatchNorm2d  (8, 32, 32)   \n",
      "LeakyReLU    (8, 32, 32)    (0.1)   \n",
      "Conv2d       (192, 8, 8)    (1, 1)   (4, 4)  \n",
      "ReLU         (192, 8, 8)   \n",
      "BatchNorm2d  (192, 8, 8)   \n",
      "Conv2d       (128, 2, 2)    (5, 5)   (2, 2)  \n",
      "LeakyReLU    (128, 2, 2)    (0.1)   \n",
      "MaxPool2d    (128, 1, 1)    (3, 3)   (3, 3)  \n",
      "ReLU         (128, 1, 1)   \n",
      "GlobalAvgPool2d (128, 1, 1)   \n",
      "Flatten      128           \n",
      "Linear       10            \n",
      "\n"
     ]
    }
   ],
   "execution_count": 3
  },
  {
   "metadata": {
    "ExecuteTime": {
     "end_time": "2024-09-03T12:10:55.489342Z",
     "start_time": "2024-09-03T12:10:55.363737Z"
    }
   },
   "cell_type": "code",
   "source": "fixed_model_gpu",
   "outputs": [
    {
     "data": {
      "text/plain": [
       "Sequential(\n",
       "  (0): Conv2d(3, 8, kernel_size=(6, 6), stride=(3, 3))\n",
       "  (1): AvgPool2d(kernel_size=(4, 4), stride=(1, 1), padding=(2, 2))\n",
       "  (2): PReLU(num_parameters=8)\n",
       "  (3): BatchNorm2d(8, eps=1e-05, momentum=0.1, affine=True, track_running_stats=True)\n",
       "  (4): MaxPool2d(kernel_size=(3, 3), stride=(2, 2), padding=(1, 1), dilation=(1, 1), ceil_mode=False)\n",
       "  (5): Conv2d(8, 16, kernel_size=(6, 6), stride=(3, 3), padding=(3, 3))\n",
       "  (6): AvgPool2d(kernel_size=(2, 2), stride=(1, 1), padding=(1, 1))\n",
       "  (7): ReLU()\n",
       "  (8): BatchNorm2d(16, eps=1e-05, momentum=0.1, affine=True, track_running_stats=True)\n",
       "  (9): AvgPool2d(kernel_size=(3, 3), stride=(1, 1), padding=(1, 1))\n",
       "  (10): AvgPool2d(kernel_size=(3, 3), stride=(3, 3), padding=0)\n",
       "  (11): Flatten()\n",
       "  (12): Linear(in_features=16, out_features=32, bias=True)\n",
       "  (13): LeakyReLU(negative_slope=0.1)\n",
       "  (14): Linear(in_features=32, out_features=10, bias=True)\n",
       ")"
      ]
     },
     "execution_count": 350,
     "metadata": {},
     "output_type": "execute_result"
    }
   ],
   "execution_count": 350
  },
  {
   "cell_type": "code",
   "metadata": {
    "ExecuteTime": {
     "end_time": "2024-09-03T12:10:56.030324Z",
     "start_time": "2024-09-03T12:10:55.489342Z"
    }
   },
   "source": [
    "loader_gpu = dload.get_loader_gpu(cifar_gpu, val_size=VAL_SIZE, batch_size=1024)\n",
    "\n",
    "# express train\n",
    "t, val_acc, train_acc = train_express_gpu(model = fixed_model_gpu,\n",
    "                                          train = True,\n",
    "                                          loader = loader_gpu,\n",
    "                                          milestones = [],\n",
    "                                          num_epoch = 1,\n",
    "                                          verbose = True)"
   ],
   "outputs": [
    {
     "name": "stdout",
     "output_type": "stream",
     "text": [
      "Finished in 0.4s \n",
      "val_acc: 0.209, train_acc: 0.198\n"
     ]
    }
   ],
   "execution_count": 351
  },
  {
   "metadata": {
    "ExecuteTime": {
     "end_time": "2024-09-03T12:25:23.163417Z",
     "start_time": "2024-09-03T12:25:23.065452Z"
    }
   },
   "cell_type": "code",
   "source": [
    "model_gen = ConvModelGenerator((3, 32, 32), 10, conv_num=6, lin_num=3)\n",
    "model_tmpl = model_gen.generate_model_tmpl()\n",
    "\n",
    "print(model_tmpl)\n",
    "\n",
    "for t in model_tmpl.get_templates():\n",
    "    print(t.type, t.get_learnable_params())\n",
    "\n",
    "for t in model_tmpl.get_templates()[:-1]:\n",
    "    print(encoder.encode(t))"
   ],
   "outputs": [
    {
     "name": "stdout",
     "output_type": "stream",
     "text": [
      "Conv2d       (32, 10, 10)   (5, 5)   (3, 3)  \n",
      "BatchNorm2d  (32, 10, 10)  \n",
      "ReLU         (32, 10, 10)  \n",
      "MaxPool2d    (32, 8, 8)     (3, 3)   (1, 1)  \n",
      "AvgPool2d    (32, 9, 9)     (4, 4)   (1, 1)  \n",
      "Conv2d       (192, 3, 3)    (5, 5)   (4, 4)  \n",
      "ReLU         (192, 3, 3)   \n",
      "BatchNorm2d  (192, 3, 3)   \n",
      "MaxPool2d    (192, 1, 1)    (3, 3)   (3, 3)  \n",
      "GlobalAvgPool2d (192, 1, 1)   \n",
      "Flatten      192           \n",
      "Linear       512           \n",
      "PReLU        512           \n",
      "Linear       64            \n",
      "ReLU         64            \n",
      "Linear       10            \n",
      "\n",
      "Conv2dTmpl {'out_channels': 32, 'kernel_size': (5, 5), 'stride': (3, 3), 'padding': False}\n",
      "BatchNorm2dTmpl {}\n",
      "ReLUTmpl {}\n",
      "MaxPool2dTmpl {'kernel_size': (3, 3), 'stride': (1, 1), 'padding': False}\n",
      "AvgPool2dTmpl {'kernel_size': (4, 4), 'stride': (1, 1), 'padding': True, 'count_include_pad': False}\n",
      "Conv2dTmpl {'out_channels': 192, 'kernel_size': (5, 5), 'stride': (4, 4), 'padding': True}\n",
      "ReLUTmpl {}\n",
      "BatchNorm2dTmpl {}\n",
      "MaxPool2dTmpl {'kernel_size': (3, 3), 'stride': (3, 3), 'padding': False}\n",
      "GlobalAvgPool2dTmpl {}\n",
      "FlattenTmpl {}\n",
      "LinearTmpl {'out_features': 512}\n",
      "PReLUTmpl {'all_channels': True}\n",
      "LinearTmpl {'out_features': 64}\n",
      "ReLUTmpl {}\n",
      "LinearTmpl {'out_features': 10}\n",
      "[0 0 0 0 0 0 0 0 1 0 0 0 0 0 1 0 0 0 0 0 0 0 0 1 0 0 0 0 1 0 0 1]\n",
      "[0 1 0 0 0 0 0 0 0 0 0 0 0 0 0 0 0 0 0 0 0 0 0 0 0 0 0 0 0 0 0 0]\n",
      "[0 0 1 0 0 0 0 0 0 0 0 0 0 0 0 0 0 0 0 0 0 0 0 0 0 0 0 0 0 0 0 0]\n",
      "[0 0 0 0 0 0 0 0 0 1 0 0 0 1 0 1 0 0 0 1 0 0 0 0 0 0 0 0 0 0 0 0]\n",
      "[0 0 0 0 0 0 0 0 0 0 1 0 0 0 1 1 0 1 0 0 1 0 0 0 0 0 0 0 0 0 0 0]\n",
      "[0 0 0 0 0 0 0 0 1 0 0 0 0 0 0 0 0 0 1 0 0 0 0 1 0 0 0 0 0 1 1 0]\n",
      "[0 0 1 0 0 0 0 0 0 0 0 0 0 0 0 0 0 0 0 0 0 0 0 0 0 0 0 0 0 0 0 0]\n",
      "[0 1 0 0 0 0 0 0 0 0 0 0 0 0 0 0 0 0 0 0 0 0 0 0 0 0 0 0 0 0 0 0]\n",
      "[0 0 0 0 0 0 0 0 0 1 0 0 0 1 0 0 0 1 0 1 0 0 0 0 0 0 0 0 0 0 0 0]\n",
      "[0 0 0 0 0 0 0 0 0 0 0 1 0 0 0 0 0 0 0 0 0 0 0 0 0 0 0 0 0 0 0 0]\n",
      "[0 0 0 0 0 0 0 1 0 0 0 0 0 0 0 0 0 0 0 0 0 0 0 0 0 0 0 0 0 0 0 0]\n",
      "[1 0 0 0 0 0 0 0 0 0 0 0 0 0 0 0 1 0 0 0 0 0 0 0 0 0 0 0 0 0 0 0]\n",
      "[0 0 0 0 1 0 0 0 0 0 0 0 1 0 0 0 0 0 0 0 0 0 0 0 0 0 0 0 0 0 0 0]\n",
      "[1 0 0 0 0 0 0 0 0 0 0 0 0 1 0 0 0 0 0 0 0 0 0 0 0 0 0 0 0 0 0 0]\n",
      "[0 0 1 0 0 0 0 0 0 0 0 0 0 0 0 0 0 0 0 0 0 0 0 0 0 0 0 0 0 0 0 0]\n"
     ]
    }
   ],
   "execution_count": 10
  }
 ],
 "metadata": {
  "kernelspec": {
   "display_name": "sophius",
   "language": "python",
   "name": "sophius"
  },
  "language_info": {
   "codemirror_mode": {
    "name": "ipython",
    "version": 3
   },
   "file_extension": ".py",
   "mimetype": "text/x-python",
   "name": "python",
   "nbconvert_exporter": "python",
   "pygments_lexer": "ipython3",
   "version": "3.7.6"
  }
 },
 "nbformat": 4,
 "nbformat_minor": 4
}
