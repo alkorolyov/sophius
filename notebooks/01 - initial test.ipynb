{
 "cells": [
  {
   "metadata": {
    "ExecuteTime": {
     "end_time": "2024-09-02T08:20:22.110398Z",
     "start_time": "2024-09-02T08:20:22.056541Z"
    }
   },
   "cell_type": "code",
   "source": [
    "%load_ext autoreload\n",
    "%autoreload 2"
   ],
   "outputs": [],
   "execution_count": 1
  },
  {
   "cell_type": "code",
   "metadata": {
    "ExecuteTime": {
     "end_time": "2024-09-02T08:20:25.761731Z",
     "start_time": "2024-09-02T08:20:22.806756Z"
    }
   },
   "source": [
    "import torch\n",
    "import sophius.utils as utils\n",
    "import sophius.dataload as dload\n",
    "from sophius.modelgen import ConvModelGenerator\n",
    "from sophius.train import train_express_gpu\n",
    "import torchvision.datasets as dset\n",
    "import torchvision.transforms as T"
   ],
   "outputs": [],
   "execution_count": 2
  },
  {
   "cell_type": "code",
   "metadata": {
    "ExecuteTime": {
     "end_time": "2024-09-02T08:20:51.153077Z",
     "start_time": "2024-09-02T08:20:41.635155Z"
    }
   },
   "source": [
    "VAL_SIZE = 1024\n",
    "\n",
    "cifar10 = dset.CIFAR10('../data/CIFAR10', train=True, download=True,\n",
    "                           transform=T.ToTensor())\n",
    "cifar_gpu = dload.cifar_to_gpu(cifar10)"
   ],
   "outputs": [
    {
     "name": "stdout",
     "output_type": "stream",
     "text": [
      "Files already downloaded and verified\n"
     ]
    }
   ],
   "execution_count": 4
  },
  {
   "metadata": {
    "ExecuteTime": {
     "end_time": "2024-09-02T08:38:44.236937Z",
     "start_time": "2024-09-02T08:38:44.167101Z"
    }
   },
   "cell_type": "code",
   "source": [
    "model_gen = ConvModelGenerator((3, 32, 32), 10, conv_num=6, lin_num=3)\n",
    "model_tmpl = model_gen.generate_model_tmpl()\n",
    "print(model_tmpl)\n",
    "fixed_model_gpu = model_tmpl.instantiate_model().type(torch.cuda.FloatTensor)"
   ],
   "outputs": [
    {
     "name": "stdout",
     "output_type": "stream",
     "text": [
      "Conv2d       (192, 29, 29)  (4, 4)   (1, 1)  \n",
      "AvgPool2d    (192, 15, 15)  (3, 3)   (2, 2)  \n",
      "MaxPool2d    (192, 5, 5)    (3, 3)   (3, 3)  \n",
      "LeakyReLU    (192, 5, 5)    (0.1)   \n",
      "Conv2d       (16, 2, 2)     (1, 1)   (3, 3)  \n",
      "AvgPool2d    (16, 2, 2)     (4, 4)   (2, 2)  \n",
      "MaxPool2d    (16, 2, 2)     (3, 3)   (1, 1)  \n",
      "LeakyReLU    (16, 2, 2)     (0.001) \n",
      "Conv2d       (256, 1, 1)    (3, 3)   (4, 4)  \n",
      "BatchNorm2d  (256, 1, 1)   \n",
      "ReLU         (256, 1, 1)   \n",
      "LeakyReLU    (256, 1, 1)    (0.001) \n",
      "GlobalAvgPool2d (256, 1, 1)   \n",
      "Flatten      256           \n",
      "Linear       10            \n",
      "\n"
     ]
    }
   ],
   "execution_count": 21
  },
  {
   "metadata": {
    "ExecuteTime": {
     "end_time": "2024-09-02T08:38:47.246330Z",
     "start_time": "2024-09-02T08:38:47.176241Z"
    }
   },
   "cell_type": "code",
   "source": "model_tmpl.layers[0].templates[0]",
   "outputs": [
    {
     "data": {
      "text/plain": [
       "Conv2d       (192, 29, 29)  (4, 4)   (1, 1)  "
      ]
     },
     "execution_count": 22,
     "metadata": {},
     "output_type": "execute_result"
    }
   ],
   "execution_count": 22
  },
  {
   "metadata": {
    "ExecuteTime": {
     "end_time": "2024-09-02T08:38:48.254887Z",
     "start_time": "2024-09-02T08:38:48.182612Z"
    }
   },
   "cell_type": "code",
   "source": "fixed_model_gpu",
   "outputs": [
    {
     "data": {
      "text/plain": [
       "Sequential(\n",
       "  (0): Conv2d(3, 192, kernel_size=(4, 4), stride=(1, 1))\n",
       "  (1): AvgPool2d(kernel_size=(3, 3), stride=(2, 2), padding=(1, 1))\n",
       "  (2): MaxPool2d(kernel_size=(3, 3), stride=(3, 3), padding=(1, 1), dilation=(1, 1), ceil_mode=False)\n",
       "  (3): LeakyReLU(negative_slope=0.1)\n",
       "  (4): Conv2d(192, 16, kernel_size=(1, 1), stride=(3, 3))\n",
       "  (5): AvgPool2d(kernel_size=(4, 4), stride=(2, 2), padding=(2, 2))\n",
       "  (6): MaxPool2d(kernel_size=(3, 3), stride=(1, 1), padding=(1, 1), dilation=(1, 1), ceil_mode=False)\n",
       "  (7): LeakyReLU(negative_slope=0.001)\n",
       "  (8): Conv2d(16, 256, kernel_size=(3, 3), stride=(4, 4), padding=(1, 1))\n",
       "  (9): BatchNorm2d(256, eps=1e-05, momentum=0.1, affine=True, track_running_stats=True)\n",
       "  (10): ReLU()\n",
       "  (11): LeakyReLU(negative_slope=0.001)\n",
       "  (12): AvgPool2d(kernel_size=(1, 1), stride=(1, 1), padding=0)\n",
       "  (13): Flatten()\n",
       "  (14): Linear(in_features=256, out_features=10, bias=True)\n",
       ")"
      ]
     },
     "execution_count": 23,
     "metadata": {},
     "output_type": "execute_result"
    }
   ],
   "execution_count": 23
  },
  {
   "cell_type": "code",
   "metadata": {
    "ExecuteTime": {
     "end_time": "2024-09-02T08:39:22.030148Z",
     "start_time": "2024-09-02T08:38:51.432905Z"
    }
   },
   "source": [
    "loader_gpu = dload.get_loader_gpu(cifar_gpu, val_size=VAL_SIZE, batch_size=1024)\n",
    "\n",
    "# express train\n",
    "t, val_acc, train_acc = train_express_gpu(model = fixed_model_gpu,\n",
    "                                          train = True,\n",
    "                                          loader = loader_gpu,\n",
    "                                          milestones = [],\n",
    "                                          num_epoch = 1,\n",
    "                                          verbose = True)"
   ],
   "outputs": [
    {
     "name": "stdout",
     "output_type": "stream",
     "text": [
      "Finished in 30.5s \n",
      "val_acc: 0.224, train_acc: 0.185\n"
     ]
    }
   ],
   "execution_count": 24
  },
  {
   "cell_type": "code",
   "metadata": {
    "ExecuteTime": {
     "end_time": "2024-09-02T06:40:34.628722Z",
     "start_time": "2024-09-02T06:40:34.546129Z"
    }
   },
   "source": [
    "print(len(cifar10))"
   ],
   "outputs": [
    {
     "name": "stdout",
     "output_type": "stream",
     "text": [
      "50000\n"
     ]
    }
   ],
   "execution_count": 8
  }
 ],
 "metadata": {
  "kernelspec": {
   "display_name": "sophius",
   "language": "python",
   "name": "sophius"
  },
  "language_info": {
   "codemirror_mode": {
    "name": "ipython",
    "version": 3
   },
   "file_extension": ".py",
   "mimetype": "text/x-python",
   "name": "python",
   "nbconvert_exporter": "python",
   "pygments_lexer": "ipython3",
   "version": "3.7.6"
  }
 },
 "nbformat": 4,
 "nbformat_minor": 4
}
