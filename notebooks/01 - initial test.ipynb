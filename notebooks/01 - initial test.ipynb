{
 "cells": [
  {
   "metadata": {
    "ExecuteTime": {
     "end_time": "2024-09-02T12:31:43.684443Z",
     "start_time": "2024-09-02T12:31:43.584456Z"
    }
   },
   "cell_type": "code",
   "source": [
    "%load_ext autoreload\n",
    "%autoreload 2"
   ],
   "outputs": [
    {
     "name": "stdout",
     "output_type": "stream",
     "text": [
      "The autoreload extension is already loaded. To reload it, use:\n",
      "  %reload_ext autoreload\n"
     ]
    }
   ],
   "execution_count": 305
  },
  {
   "cell_type": "code",
   "metadata": {
    "ExecuteTime": {
     "end_time": "2024-09-02T12:31:43.777108Z",
     "start_time": "2024-09-02T12:31:43.685443Z"
    }
   },
   "source": [
    "import torch\n",
    "import sophius.utils as utils\n",
    "import sophius.dataload as dload\n",
    "from sophius.modelgen import ConvModelGenerator\n",
    "from sophius.train import train_express_gpu\n",
    "import torchvision.datasets as dset\n",
    "import torchvision.transforms as T"
   ],
   "outputs": [],
   "execution_count": 306
  },
  {
   "cell_type": "code",
   "metadata": {
    "ExecuteTime": {
     "end_time": "2024-09-02T12:31:57.225665Z",
     "start_time": "2024-09-02T12:31:43.778109Z"
    }
   },
   "source": [
    "VAL_SIZE = 1024\n",
    "\n",
    "cifar10 = dset.CIFAR10('../data/CIFAR10', train=True, download=True,\n",
    "                           transform=T.ToTensor())\n",
    "cifar_gpu = dload.cifar_to_gpu(cifar10)"
   ],
   "outputs": [
    {
     "name": "stdout",
     "output_type": "stream",
     "text": [
      "Files already downloaded and verified\n"
     ]
    }
   ],
   "execution_count": 307
  },
  {
   "metadata": {
    "ExecuteTime": {
     "end_time": "2024-09-02T12:31:57.334079Z",
     "start_time": "2024-09-02T12:31:57.227698Z"
    }
   },
   "cell_type": "code",
   "source": [
    "model_gen = ConvModelGenerator((3, 32, 32), 10, conv_num=6, lin_num=3)\n",
    "model_tmpl = model_gen.generate_model_tmpl()\n",
    "print(model_tmpl)\n",
    "fixed_model_gpu = model_tmpl.instantiate_model().type(torch.cuda.FloatTensor)"
   ],
   "outputs": [
    {
     "name": "stdout",
     "output_type": "stream",
     "text": [
      "Conv2d       (96, 32, 32)   (5, 5)   (1, 1)  \n",
      "PReLU        (96, 32, 32)  \n",
      "AvgPool2d    (96, 17, 17)   (2, 2)   (2, 2)  \n",
      "Conv2d       (192, 6, 6)    (6, 6)   (2, 2)  \n",
      "PReLU        (192, 6, 6)   \n",
      "AvgPool2d    (192, 6, 6)    (3, 3)   (1, 1)  \n",
      "MaxPool2d    (192, 6, 6)    (3, 3)   (1, 1)  \n",
      "Conv2d       (64, 1, 1)     (6, 6)   (3, 3)  \n",
      "ReLU         (64, 1, 1)    \n",
      "Conv2d       (32, 1, 1)     (2, 2)   (3, 3)  \n",
      "Flatten      32            \n",
      "Linear       512           \n",
      "ReLU         512           \n",
      "Linear       10            \n",
      "\n"
     ]
    }
   ],
   "execution_count": 308
  },
  {
   "metadata": {
    "ExecuteTime": {
     "end_time": "2024-09-02T12:31:57.427524Z",
     "start_time": "2024-09-02T12:31:57.335393Z"
    }
   },
   "cell_type": "code",
   "source": "fixed_model_gpu",
   "outputs": [
    {
     "data": {
      "text/plain": [
       "Sequential(\n",
       "  (0): Conv2d(3, 96, kernel_size=(5, 5), stride=(1, 1), padding=(2, 2))\n",
       "  (1): PReLU(num_parameters=96)\n",
       "  (2): AvgPool2d(kernel_size=(2, 2), stride=(2, 2), padding=(1, 1))\n",
       "  (3): Conv2d(96, 192, kernel_size=(6, 6), stride=(2, 2))\n",
       "  (4): PReLU(num_parameters=1)\n",
       "  (5): AvgPool2d(kernel_size=(3, 3), stride=(1, 1), padding=(1, 1))\n",
       "  (6): MaxPool2d(kernel_size=(3, 3), stride=(1, 1), padding=(1, 1), dilation=(1, 1), ceil_mode=False)\n",
       "  (7): Conv2d(192, 64, kernel_size=(6, 6), stride=(3, 3))\n",
       "  (8): ReLU()\n",
       "  (9): Conv2d(64, 32, kernel_size=(2, 2), stride=(3, 3), padding=(1, 1))\n",
       "  (10): Flatten()\n",
       "  (11): Linear(in_features=32, out_features=512, bias=True)\n",
       "  (12): ReLU()\n",
       "  (13): Linear(in_features=512, out_features=10, bias=True)\n",
       ")"
      ]
     },
     "execution_count": 309,
     "metadata": {},
     "output_type": "execute_result"
    }
   ],
   "execution_count": 309
  },
  {
   "cell_type": "code",
   "metadata": {
    "ExecuteTime": {
     "end_time": "2024-09-02T12:32:48.251132Z",
     "start_time": "2024-09-02T12:31:57.428477Z"
    }
   },
   "source": [
    "loader_gpu = dload.get_loader_gpu(cifar_gpu, val_size=VAL_SIZE, batch_size=1024)\n",
    "\n",
    "# express train\n",
    "t, val_acc, train_acc = train_express_gpu(model = fixed_model_gpu,\n",
    "                                          train = True,\n",
    "                                          loader = loader_gpu,\n",
    "                                          milestones = [],\n",
    "                                          num_epoch = 1,\n",
    "                                          verbose = True)"
   ],
   "outputs": [
    {
     "name": "stdout",
     "output_type": "stream",
     "text": [
      "Finished in 50.6s \n",
      "val_acc: 0.301, train_acc: 0.325\n"
     ]
    }
   ],
   "execution_count": 310
  },
  {
   "metadata": {
    "ExecuteTime": {
     "end_time": "2024-09-02T12:33:20.477556Z",
     "start_time": "2024-09-02T12:33:20.466558Z"
    }
   },
   "cell_type": "code",
   "source": "",
   "outputs": [],
   "execution_count": 313
  },
  {
   "metadata": {
    "ExecuteTime": {
     "end_time": "2024-09-02T12:33:20.492570Z",
     "start_time": "2024-09-02T12:33:20.480556Z"
    }
   },
   "cell_type": "code",
   "source": "",
   "outputs": [],
   "execution_count": 313
  },
  {
   "metadata": {
    "ExecuteTime": {
     "end_time": "2024-09-02T12:33:20.648798Z",
     "start_time": "2024-09-02T12:33:20.495559Z"
    }
   },
   "cell_type": "code",
   "source": [
    "from sophius.templates import *\n",
    "\n",
    "tmpl_list = [\n",
    "    LinearTmpl(),\n",
    "    BatchNorm2dTmpl(),\n",
    "    ReLUTmpl(),\n",
    "    LeakyReLUTmpl(),\n",
    "    PReLUTmpl(),\n",
    "    DropoutTmpl(),\n",
    "    Dropout2dTmpl(),\n",
    "    FlattenTmpl(),\n",
    "    Conv2dTmpl(),\n",
    "    MaxPool2dTmpl(),\n",
    "    AvgPool2dTmpl(),\n",
    "    GlobalAvgPool2dTmpl(),\n",
    "]\n",
    "\n",
    "for tmpl in tmpl_list:\n",
    "    print(type(tmpl).__name__)\n",
    "    # print(tmpl.get_learnable_params())"
   ],
   "outputs": [
    {
     "name": "stdout",
     "output_type": "stream",
     "text": [
      "LinearTmpl\n",
      "BatchNorm2dTmpl\n",
      "ReLUTmpl\n",
      "LeakyReLUTmpl\n",
      "PReLUTmpl\n",
      "DropoutTmpl\n",
      "Dropout2dTmpl\n",
      "FlattenTmpl\n",
      "Conv2dTmpl\n",
      "MaxPool2dTmpl\n",
      "AvgPool2dTmpl\n",
      "GlobalAvgPool2dTmpl\n"
     ]
    }
   ],
   "execution_count": 314
  },
  {
   "metadata": {
    "ExecuteTime": {
     "end_time": "2024-09-02T12:33:20.801712Z",
     "start_time": "2024-09-02T12:33:20.650797Z"
    }
   },
   "cell_type": "code",
   "source": "Conv2dTmpl().config",
   "outputs": [
    {
     "data": {
      "text/plain": [
       "{'out_channels': 32,\n",
       " 'kernel_size': (3, 3),\n",
       " 'stride': (1, 1),\n",
       " 'padding': True,\n",
       " 'padding_mode': zeros,\n",
       " 'dilation': (1, 1),\n",
       " 'groups': 1,\n",
       " 'bias': True}"
      ]
     },
     "execution_count": 315,
     "metadata": {},
     "output_type": "execute_result"
    }
   ],
   "execution_count": 315
  },
  {
   "metadata": {
    "ExecuteTime": {
     "end_time": "2024-09-02T12:33:20.972811Z",
     "start_time": "2024-09-02T12:33:20.803712Z"
    }
   },
   "cell_type": "code",
   "source": [
    "from sklearn.preprocessing import OneHotEncoder\n",
    "\n",
    "class LayerEncoder:\n",
    "    def __init__(self, layers, size=32):\n",
    "        self.layers = layers\n",
    "        self.layer_names = [x.name for x in layers]\n",
    "        self.size = size\n",
    "        \n",
    "    def encode_layer(self, layer):\n",
    "        # One-hot encoding for the layer type\n",
    "        type_encoding = np.zeros(len(self.layer_types), dtype=np.uint32)\n",
    "        idx = self.layer_types.index(layer.name)\n",
    "        type_encoding[idx] = 1\n",
    "        \n",
    "        param_encoding = []\n",
    "        \n",
    "        for param_name, param_data in layer.config_data.items():            \n",
    "            # skip non-learnable params\n",
    "            if not layer.config[param_name].learnable:\n",
    "                continue\n",
    "                \n",
    "            value = layer.config[param_name].value\n",
    "            param_range = param_data.get('range')\n",
    "            \n",
    "            # Handle discrete ranges (categorical values)\n",
    "            if isinstance(param_range, list):\n",
    "                encoding = np.zeros(len(param_range), dtype=np.uint32)\n",
    "                if value in param_range:\n",
    "                    idx = param_range.index(value)\n",
    "                    encoding[idx] = 1\n",
    "                else:\n",
    "                    raise ValueError(f\"Value {value} not in the provided range for {param_name}\")\n",
    "                        \n",
    "            else:\n",
    "                raise ValueError(f\"Unsupported parameter type for {param_name}: {value}\")\n",
    "            \n",
    "            param_encoding.append(encoding)        \n",
    "        \n",
    "        # Concatenate all encodings into a single vector for the layer        \n",
    "        final_encoding = np.concatenate([type_encoding] + param_encoding)\n",
    "        final_encoding = np.pad(final_encoding, (0, max(0, self.size - len(final_encoding))))\n",
    "\n",
    "        \n",
    "        return final_encoding\n",
    "\n",
    "# Example usage\n",
    "layers = [\n",
    "    LinearTmpl(),\n",
    "    BatchNorm2dTmpl(),\n",
    "    ReLUTmpl(),\n",
    "    LeakyReLUTmpl(),\n",
    "    PReLUTmpl(),\n",
    "    DropoutTmpl(),\n",
    "    Dropout2dTmpl(),\n",
    "    FlattenTmpl(),\n",
    "    Conv2dTmpl(),\n",
    "    MaxPool2dTmpl(),\n",
    "    AvgPool2dTmpl(),\n",
    "    GlobalAvgPool2dTmpl()\n",
    "]\n",
    "\n",
    "encoder = LayerEncoder(layers)\n",
    "\n",
    "for layer in layers:\n",
    "# layer = random.choice(layers)\n",
    "    layer.gen_rand_config()    \n",
    "    encoded_layer = encoder.encode_layer(layer)\n",
    "    \n",
    "    # print(layer.name, layer.get_learnable_params())\n",
    "    # print(len(encoded_layer))\n",
    "    print(encoded_layer)"
   ],
   "outputs": [
    {
     "name": "stdout",
     "output_type": "stream",
     "text": [
      "[1 0 0 0 0 0 0 0 0 0 0 0 0 0 0 0 0 0 1 0 0 0 0 0 0 0 0 0 0 0 0 0]\n",
      "[0 1 0 0 0 0 0 0 0 0 0 0 0 0 0 0 0 0 0 0 0 0 0 0 0 0 0 0 0 0 0 0]\n",
      "[0 0 1 0 0 0 0 0 0 0 0 0 0 0 0 0 0 0 0 0 0 0 0 0 0 0 0 0 0 0 0 0]\n",
      "[0 0 0 1 0 0 0 0 0 0 0 0 0 0 1 0 0 0 0 0 0 0 0 0 0 0 0 0 0 0 0 0]\n",
      "[0 0 0 0 1 0 0 0 0 0 0 0 1 0 0 0 0 0 0 0 0 0 0 0 0 0 0 0 0 0 0 0]\n",
      "[0 0 0 0 0 1 0 0 0 0 0 0 0 0 0 0 0 0 0 0 1 0 0 0 0 0 0 0 0 0 0 0]\n",
      "[0 0 0 0 0 0 1 0 0 0 0 0 0 0 0 0 0 0 0 1 0 0 0 0 0 0 0 0 0 0 0 0]\n",
      "[0 0 0 0 0 0 0 1 0 0 0 0 0 0 0 0 0 0 0 0 0 0 0 0 0 0 0 0 0 0 0 0]\n",
      "[0 0 0 0 0 0 0 0 1 0 0 0 0 0 0 1 0 0 0 0 0 0 0 1 0 0 0 1 0 0 1 0]\n",
      "[0 0 0 0 0 0 0 0 0 1 0 0 0 0 1 1 0 0 0 1 0 0 0 0 0 0 0 0 0 0 0 0]\n",
      "[0 0 0 0 0 0 0 0 0 0 1 0 0 1 0 0 1 0 1 0 1 0 0 0 0 0 0 0 0 0 0 0]\n",
      "[0 0 0 0 0 0 0 0 0 0 0 1 0 0 0 0 0 0 0 0 0 0 0 0 0 0 0 0 0 0 0 0]\n"
     ]
    }
   ],
   "execution_count": 316
  }
 ],
 "metadata": {
  "kernelspec": {
   "display_name": "sophius",
   "language": "python",
   "name": "sophius"
  },
  "language_info": {
   "codemirror_mode": {
    "name": "ipython",
    "version": 3
   },
   "file_extension": ".py",
   "mimetype": "text/x-python",
   "name": "python",
   "nbconvert_exporter": "python",
   "pygments_lexer": "ipython3",
   "version": "3.7.6"
  }
 },
 "nbformat": 4,
 "nbformat_minor": 4
}
