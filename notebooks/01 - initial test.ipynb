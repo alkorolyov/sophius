{
 "cells": [
  {
   "metadata": {
    "ExecuteTime": {
     "end_time": "2024-09-02T06:38:24.261691Z",
     "start_time": "2024-09-02T06:38:24.217704Z"
    }
   },
   "cell_type": "code",
   "source": [
    "%load_ext autoreload\n",
    "%autoreload 2"
   ],
   "outputs": [],
   "execution_count": 1
  },
  {
   "cell_type": "code",
   "metadata": {
    "ExecuteTime": {
     "end_time": "2024-09-02T08:02:08.571007Z",
     "start_time": "2024-09-02T08:02:08.497519Z"
    }
   },
   "source": [
    "import torch\n",
    "import sophius.utils as utils\n",
    "import sophius.dataload as dload\n",
    "from sophius.modelgen import ConvModelGenerator\n",
    "from sophius.train import train_express_gpu\n",
    "import torchvision.datasets as dset\n",
    "import torchvision.transforms as T"
   ],
   "outputs": [],
   "execution_count": 62
  },
  {
   "cell_type": "code",
   "metadata": {
    "ExecuteTime": {
     "end_time": "2024-09-02T07:32:43.851699Z",
     "start_time": "2024-09-02T07:32:34.145033Z"
    }
   },
   "source": [
    "VAL_SIZE = 1024\n",
    "\n",
    "cifar10 = dset.CIFAR10('data//CIFAR10', train=True, download=True,\n",
    "                           transform=T.ToTensor())\n",
    "cifar_gpu = dload.cifar_to_gpu(cifar10)"
   ],
   "outputs": [
    {
     "name": "stdout",
     "output_type": "stream",
     "text": [
      "Files already downloaded and verified\n"
     ]
    }
   ],
   "execution_count": 20
  },
  {
   "metadata": {
    "ExecuteTime": {
     "end_time": "2024-09-02T08:10:02.606916Z",
     "start_time": "2024-09-02T08:10:00.802490Z"
    }
   },
   "cell_type": "code",
   "source": [
    "model_gen = ConvModelGenerator((3, 32, 32), 10, conv_num=6, lin_num=3)\n",
    "model_tmpl = model_gen.generate_model_tmpl()\n",
    "print(model_tmpl)\n",
    "fixed_model_gpu = model_tmpl.instantiate_model().type(torch.cuda.FloatTensor)"
   ],
   "outputs": [
    {
     "name": "stdout",
     "output_type": "stream",
     "text": [
      "Conv2d       (192, 11, 11)  (4, 4)   (3, 3)  \n",
      "MaxPool2d    (192, 5, 5)    (3, 3)   (2, 2)  \n",
      "AvgPool2d    (192, 6, 6)    (2, 2)   (1, 1)  \n",
      "ReLU         (192, 6, 6)   \n",
      "Conv2d       (96, 2, 2)     (6, 6)   (4, 4)  \n",
      "LeakyReLU    (96, 2, 2)     (0.001) \n",
      "MaxPool2d    (96, 3, 3)     (4, 4)   (1, 1)  \n",
      "Conv2d       (256, 1, 1)    (3, 3)   (3, 3)  \n",
      "PReLU        (256, 1, 1)   \n",
      "GlobalAvgPool2d (256, 1, 1)   \n",
      "Flatten      256           \n",
      "Linear       32            \n",
      "Dropout2d    32             (0.85)  \n",
      "LeakyReLU    32             (0.001) \n",
      "Linear       10            \n",
      "\n"
     ]
    }
   ],
   "execution_count": 75
  },
  {
   "metadata": {
    "ExecuteTime": {
     "end_time": "2024-09-02T08:10:15.641332Z",
     "start_time": "2024-09-02T08:10:15.569602Z"
    }
   },
   "cell_type": "code",
   "source": "fixed_model_gpu",
   "outputs": [
    {
     "data": {
      "text/plain": [
       "Sequential(\n",
       "  (0): Conv2d(3, 192, kernel_size=(4, 4), stride=(3, 3), padding=(2, 2))\n",
       "  (1): MaxPool2d(kernel_size=(3, 3), stride=(2, 2), padding=(0, 0), dilation=(1, 1), ceil_mode=False)\n",
       "  (2): AvgPool2d(kernel_size=(2, 2), stride=(1, 1), padding=(1, 1))\n",
       "  (3): ReLU()\n",
       "  (4): Conv2d(192, 96, kernel_size=(6, 6), stride=(4, 4), padding=(3, 3))\n",
       "  (5): LeakyReLU(negative_slope=0.001)\n",
       "  (6): MaxPool2d(kernel_size=(4, 4), stride=(1, 1), padding=(2, 2), dilation=(1, 1), ceil_mode=False)\n",
       "  (7): Conv2d(96, 256, kernel_size=(3, 3), stride=(3, 3), padding=(1, 1))\n",
       "  (8): PReLU(num_parameters=256)\n",
       "  (9): AvgPool2d(kernel_size=(1, 1), stride=(1, 1), padding=0)\n",
       "  (10): Flatten()\n",
       "  (11): Linear(in_features=256, out_features=32, bias=True)\n",
       "  (12): Dropout2d(p=0.85, inplace=False)\n",
       "  (13): LeakyReLU(negative_slope=0.001)\n",
       "  (14): Linear(in_features=32, out_features=10, bias=True)\n",
       ")"
      ]
     },
     "execution_count": 76,
     "metadata": {},
     "output_type": "execute_result"
    }
   ],
   "execution_count": 76
  },
  {
   "cell_type": "code",
   "metadata": {
    "ExecuteTime": {
     "end_time": "2024-09-02T08:10:35.806493Z",
     "start_time": "2024-09-02T08:10:21.030776Z"
    }
   },
   "source": [
    "loader_gpu = dload.get_loader_gpu(cifar_gpu, val_size=VAL_SIZE, batch_size=1024)\n",
    "\n",
    "# express train\n",
    "t, val_acc, train_acc = train_express_gpu(model = fixed_model_gpu,\n",
    "                                          train = True,\n",
    "                                          loader = loader_gpu,\n",
    "                                          milestones = [],\n",
    "                                          num_epoch = 10,\n",
    "                                          verbose = True)"
   ],
   "outputs": [
    {
     "name": "stdout",
     "output_type": "stream",
     "text": [
      "Finished in 14.7s \n",
      "val_acc: 0.457, train_acc: 0.478\n"
     ]
    }
   ],
   "execution_count": 77
  },
  {
   "cell_type": "code",
   "metadata": {
    "ExecuteTime": {
     "end_time": "2024-09-02T06:40:34.628722Z",
     "start_time": "2024-09-02T06:40:34.546129Z"
    }
   },
   "source": [
    "print(len(cifar10))"
   ],
   "outputs": [
    {
     "name": "stdout",
     "output_type": "stream",
     "text": [
      "50000\n"
     ]
    }
   ],
   "execution_count": 8
  },
  {
   "cell_type": "code",
   "metadata": {
    "ExecuteTime": {
     "end_time": "2024-09-02T06:40:50.161591Z",
     "start_time": "2024-09-02T06:40:50.070982Z"
    }
   },
   "source": [
    "loader = dload.get_loader(cifar10, VAL_SIZE, 1024)\n",
    "batch = next(iter(loader_gpu['train']))\n",
    "print(len(batch[0]))\n",
    "print(type(batch[0]))"
   ],
   "outputs": [
    {
     "name": "stdout",
     "output_type": "stream",
     "text": [
      "1024\n",
      "<class 'torch.Tensor'>\n"
     ]
    }
   ],
   "execution_count": 9
  }
 ],
 "metadata": {
  "kernelspec": {
   "display_name": "sophius",
   "language": "python",
   "name": "sophius"
  },
  "language_info": {
   "codemirror_mode": {
    "name": "ipython",
    "version": 3
   },
   "file_extension": ".py",
   "mimetype": "text/x-python",
   "name": "python",
   "nbconvert_exporter": "python",
   "pygments_lexer": "ipython3",
   "version": "3.7.6"
  }
 },
 "nbformat": 4,
 "nbformat_minor": 4
}
