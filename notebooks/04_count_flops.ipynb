{
 "cells": [
  {
   "cell_type": "code",
   "id": "initial_id",
   "metadata": {
    "collapsed": true,
    "ExecuteTime": {
     "end_time": "2024-09-03T14:09:23.407464Z",
     "start_time": "2024-09-03T14:09:23.352975Z"
    }
   },
   "source": [
    "%load_ext autoreload\n",
    "%autoreload 2"
   ],
   "outputs": [],
   "execution_count": 1
  },
  {
   "metadata": {
    "ExecuteTime": {
     "end_time": "2024-09-03T14:09:35.661479Z",
     "start_time": "2024-09-03T14:09:23.410414Z"
    }
   },
   "cell_type": "code",
   "source": [
    "import torch\n",
    "import sophius.utils as utils\n",
    "import sophius.dataload as dload\n",
    "from sophius.modelgen import ConvModelGenerator\n",
    "from sophius.train import train_express_gpu\n",
    "import torchvision.datasets as dset\n",
    "import torchvision.transforms as T\n",
    "\n",
    "VAL_SIZE = 1024\n",
    "\n",
    "cifar10 = dset.CIFAR10('../data/CIFAR10', train=True, download=True,\n",
    "                           transform=T.ToTensor())\n",
    "cifar_gpu = dload.cifar_to_gpu(cifar10)"
   ],
   "id": "8cceb4a92bbc0d18",
   "outputs": [
    {
     "name": "stdout",
     "output_type": "stream",
     "text": [
      "Files already downloaded and verified\n"
     ]
    }
   ],
   "execution_count": 2
  },
  {
   "metadata": {
    "ExecuteTime": {
     "end_time": "2024-09-03T14:12:46.815363Z",
     "start_time": "2024-09-03T14:12:46.738428Z"
    }
   },
   "cell_type": "code",
   "source": "",
   "id": "a8df70f9a8eadb7f",
   "outputs": [
    {
     "data": {
      "text/plain": [
       "torch.Size([3, 32, 32])"
      ]
     },
     "execution_count": 10,
     "metadata": {},
     "output_type": "execute_result"
    }
   ],
   "execution_count": 10
  },
  {
   "metadata": {
    "ExecuteTime": {
     "end_time": "2024-09-03T14:09:35.771602Z",
     "start_time": "2024-09-03T14:09:35.677119Z"
    }
   },
   "cell_type": "code",
   "source": [
    "model_gen = ConvModelGenerator((3, 32, 32), 10, conv_num=6, lin_num=3)\n",
    "model_tmpl = model_gen.generate_model_tmpl()\n",
    "print(model_tmpl)\n",
    "fixed_model_gpu = model_tmpl.instantiate_model().type(torch.cuda.FloatTensor)"
   ],
   "id": "f445484604a75099",
   "outputs": [
    {
     "name": "stdout",
     "output_type": "stream",
     "text": [
      "Conv2d       (128, 10, 10)  (5, 5)   (3, 3)  \n",
      "ReLU         (128, 10, 10) \n",
      "MaxPool2d    (128, 6, 6)    (2, 2)   (2, 2)  \n",
      "AvgPool2d    (128, 7, 7)    (4, 4)   (1, 1)  \n",
      "Conv2d       (192, 2, 2)    (4, 4)   (2, 2)  \n",
      "GlobalAvgPool2d (192, 1, 1)   \n",
      "Flatten      192           \n",
      "Linear       128           \n",
      "Dropout      128            (0.35)  \n",
      "PReLU        128           \n",
      "Linear       10            \n",
      "\n"
     ]
    }
   ],
   "execution_count": 3
  },
  {
   "metadata": {
    "ExecuteTime": {
     "end_time": "2024-09-03T14:13:33.986771Z",
     "start_time": "2024-09-03T14:13:33.876676Z"
    }
   },
   "cell_type": "code",
   "source": [
    "from fvcore.nn import FlopCountAnalysis\n",
    "\n",
    "flops = FlopCountAnalysis(fixed_model_gpu, cifar_gpu[0][:1])\n",
    "flops.total()"
   ],
   "id": "ee9695e1a8758965",
   "outputs": [
    {
     "name": "stderr",
     "output_type": "stream",
     "text": [
      "Unsupported operator aten::max_pool2d encountered 1 time(s)\n",
      "Unsupported operator aten::avg_pool2d encountered 2 time(s)\n",
      "Unsupported operator aten::prelu encountered 1 time(s)\n"
     ]
    },
    {
     "data": {
      "text/plain": [
       "2558720"
      ]
     },
     "execution_count": 15,
     "metadata": {},
     "output_type": "execute_result"
    }
   ],
   "execution_count": 15
  },
  {
   "metadata": {
    "ExecuteTime": {
     "end_time": "2024-09-03T14:20:45.724847Z",
     "start_time": "2024-09-03T14:19:16.316987Z"
    }
   },
   "cell_type": "code",
   "source": [
    "import pandas as pd\n",
    "import seaborn as sns\n",
    "\n",
    "loader_gpu = dload.get_loader_gpu(cifar_gpu, val_size=VAL_SIZE, batch_size=1024)\n",
    "\n",
    "df = pd.DataFrame(columns=['flops', 'time', 'val_acc', 'train_acc'])\n",
    "\n",
    "for i in range(10):\n",
    "    model = model_gen.generate_model().type(torch.cuda.FloatTensor)    \n",
    "    flops = FlopCountAnalysis(model, cifar_gpu[0][:1]).total()\n",
    "    # express train\n",
    "    t, val_acc, train_acc = train_express_gpu(model = model,\n",
    "                                              train = True,\n",
    "                                              loader = loader_gpu,\n",
    "                                              milestones = [],\n",
    "                                              num_epoch = 1,\n",
    "                                              verbose = True)\n",
    "    \n",
    "    df.loc[i] = [flops, t, val_acc, train_acc]\n",
    "    print(df.loc[i])"
   ],
   "id": "2875c97eba039b00",
   "outputs": [
    {
     "name": "stderr",
     "output_type": "stream",
     "text": [
      "Unsupported operator aten::leaky_relu encountered 1 time(s)\n",
      "Unsupported operator aten::max_pool2d encountered 1 time(s)\n"
     ]
    },
    {
     "ename": "KeyboardInterrupt",
     "evalue": "",
     "output_type": "error",
     "traceback": [
      "\u001B[1;31m---------------------------------------------------------------------------\u001B[0m",
      "\u001B[1;31mKeyboardInterrupt\u001B[0m                         Traceback (most recent call last)",
      "Cell \u001B[1;32mIn[16], line 12\u001B[0m\n\u001B[0;32m     10\u001B[0m flops \u001B[38;5;241m=\u001B[39m FlopCountAnalysis(model, cifar_gpu[\u001B[38;5;241m0\u001B[39m][:\u001B[38;5;241m1\u001B[39m])\u001B[38;5;241m.\u001B[39mtotal()\n\u001B[0;32m     11\u001B[0m \u001B[38;5;66;03m# express train\u001B[39;00m\n\u001B[1;32m---> 12\u001B[0m t, val_acc, train_acc \u001B[38;5;241m=\u001B[39m \u001B[43mtrain_express_gpu\u001B[49m\u001B[43m(\u001B[49m\u001B[43mmodel\u001B[49m\u001B[43m \u001B[49m\u001B[38;5;241;43m=\u001B[39;49m\u001B[43m \u001B[49m\u001B[43mmodel\u001B[49m\u001B[43m,\u001B[49m\n\u001B[0;32m     13\u001B[0m \u001B[43m                                          \u001B[49m\u001B[43mtrain\u001B[49m\u001B[43m \u001B[49m\u001B[38;5;241;43m=\u001B[39;49m\u001B[43m \u001B[49m\u001B[38;5;28;43;01mTrue\u001B[39;49;00m\u001B[43m,\u001B[49m\n\u001B[0;32m     14\u001B[0m \u001B[43m                                          \u001B[49m\u001B[43mloader\u001B[49m\u001B[43m \u001B[49m\u001B[38;5;241;43m=\u001B[39;49m\u001B[43m \u001B[49m\u001B[43mloader_gpu\u001B[49m\u001B[43m,\u001B[49m\n\u001B[0;32m     15\u001B[0m \u001B[43m                                          \u001B[49m\u001B[43mmilestones\u001B[49m\u001B[43m \u001B[49m\u001B[38;5;241;43m=\u001B[39;49m\u001B[43m \u001B[49m\u001B[43m[\u001B[49m\u001B[43m]\u001B[49m\u001B[43m,\u001B[49m\n\u001B[0;32m     16\u001B[0m \u001B[43m                                          \u001B[49m\u001B[43mnum_epoch\u001B[49m\u001B[43m \u001B[49m\u001B[38;5;241;43m=\u001B[39;49m\u001B[43m \u001B[49m\u001B[38;5;241;43m1\u001B[39;49m\u001B[43m,\u001B[49m\n\u001B[0;32m     17\u001B[0m \u001B[43m                                          \u001B[49m\u001B[43mverbose\u001B[49m\u001B[43m \u001B[49m\u001B[38;5;241;43m=\u001B[39;49m\u001B[43m \u001B[49m\u001B[38;5;28;43;01mTrue\u001B[39;49;00m\u001B[43m)\u001B[49m\n\u001B[0;32m     19\u001B[0m df\u001B[38;5;241m.\u001B[39mloc[i] \u001B[38;5;241m=\u001B[39m [flops, t, val_acc, train_acc]\n\u001B[0;32m     20\u001B[0m \u001B[38;5;28mprint\u001B[39m(df\u001B[38;5;241m.\u001B[39mloc[i])\n",
      "File \u001B[1;32m~\\PycharmProjects\\sophius\\sophius\\train.py:35\u001B[0m, in \u001B[0;36mtrain_express_gpu\u001B[1;34m(model, loader, num_epoch, milestones, train, manual_seed, verbose)\u001B[0m\n\u001B[0;32m     32\u001B[0m train_acc, val_acc \u001B[38;5;241m=\u001B[39m \u001B[38;5;241m0\u001B[39m, \u001B[38;5;241m0\u001B[39m\n\u001B[0;32m     34\u001B[0m \u001B[38;5;28;01mfor\u001B[39;00m i \u001B[38;5;129;01min\u001B[39;00m \u001B[38;5;28mrange\u001B[39m(num_epoch):\n\u001B[1;32m---> 35\u001B[0m     \u001B[38;5;28;01mfor\u001B[39;00m t, (x, y) \u001B[38;5;129;01min\u001B[39;00m \u001B[38;5;28menumerate\u001B[39m(loader[\u001B[38;5;124m'\u001B[39m\u001B[38;5;124mtrain\u001B[39m\u001B[38;5;124m'\u001B[39m]):\n\u001B[0;32m     36\u001B[0m         scores \u001B[38;5;241m=\u001B[39m model(x)\n\u001B[0;32m     37\u001B[0m         loss \u001B[38;5;241m=\u001B[39m loss_fn(scores, y)\n",
      "File \u001B[1;32m~\\PycharmProjects\\sophius\\sophius\\dataload.py:104\u001B[0m, in \u001B[0;36mDataLoaderGPU.__next__\u001B[1;34m(self)\u001B[0m\n\u001B[0;32m    103\u001B[0m \u001B[38;5;28;01mdef\u001B[39;00m \u001B[38;5;21m__next__\u001B[39m(\u001B[38;5;28mself\u001B[39m):\n\u001B[1;32m--> 104\u001B[0m     index \u001B[38;5;241m=\u001B[39m \u001B[38;5;28;43mself\u001B[39;49m\u001B[38;5;241;43m.\u001B[39;49m\u001B[43m_next_index\u001B[49m\u001B[43m(\u001B[49m\u001B[43m)\u001B[49m  \u001B[38;5;66;03m# will raise StopIteration\u001B[39;00m\n\u001B[0;32m    105\u001B[0m     data \u001B[38;5;241m=\u001B[39m \u001B[38;5;28mself\u001B[39m\u001B[38;5;241m.\u001B[39m_next_data(index)\n\u001B[0;32m    106\u001B[0m     \u001B[38;5;28;01mreturn\u001B[39;00m data\n",
      "File \u001B[1;32m~\\PycharmProjects\\sophius\\sophius\\dataload.py:112\u001B[0m, in \u001B[0;36mDataLoaderGPU._next_index\u001B[1;34m(self)\u001B[0m\n\u001B[0;32m    110\u001B[0m \u001B[38;5;28;01mfor\u001B[39;00m _ \u001B[38;5;129;01min\u001B[39;00m \u001B[38;5;28mrange\u001B[39m(\u001B[38;5;28mself\u001B[39m\u001B[38;5;241m.\u001B[39mbatch_size):\n\u001B[0;32m    111\u001B[0m     index\u001B[38;5;241m.\u001B[39mappend(\u001B[38;5;28mnext\u001B[39m(\u001B[38;5;28mself\u001B[39m\u001B[38;5;241m.\u001B[39m_sampler_iter))\n\u001B[1;32m--> 112\u001B[0m \u001B[38;5;28;01mreturn\u001B[39;00m \u001B[43mtorch\u001B[49m\u001B[38;5;241;43m.\u001B[39;49m\u001B[43mtensor\u001B[49m\u001B[43m(\u001B[49m\u001B[43mindex\u001B[49m\u001B[43m)\u001B[49m\u001B[38;5;241;43m.\u001B[39;49m\u001B[43mtype\u001B[49m\u001B[43m(\u001B[49m\u001B[43mtorch\u001B[49m\u001B[38;5;241;43m.\u001B[39;49m\u001B[43mcuda\u001B[49m\u001B[38;5;241;43m.\u001B[39;49m\u001B[43mLongTensor\u001B[49m\u001B[43m)\u001B[49m\n",
      "\u001B[1;31mKeyboardInterrupt\u001B[0m: "
     ]
    }
   ],
   "execution_count": 16
  },
  {
   "metadata": {},
   "cell_type": "code",
   "outputs": [],
   "execution_count": null,
   "source": "sns.lineplot(df, x='time', y='flops')",
   "id": "5148ecc2413e911c"
  }
 ],
 "metadata": {
  "kernelspec": {
   "display_name": "Python 3",
   "language": "python",
   "name": "python3"
  },
  "language_info": {
   "codemirror_mode": {
    "name": "ipython",
    "version": 2
   },
   "file_extension": ".py",
   "mimetype": "text/x-python",
   "name": "python",
   "nbconvert_exporter": "python",
   "pygments_lexer": "ipython2",
   "version": "2.7.6"
  }
 },
 "nbformat": 4,
 "nbformat_minor": 5
}
