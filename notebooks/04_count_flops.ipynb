{
 "cells": [
  {
   "cell_type": "code",
   "id": "initial_id",
   "metadata": {
    "collapsed": true,
    "ExecuteTime": {
     "end_time": "2024-09-04T05:04:32.939927Z",
     "start_time": "2024-09-04T05:04:32.861673Z"
    }
   },
   "source": [
    "%load_ext autoreload\n",
    "%autoreload 2"
   ],
   "outputs": [],
   "execution_count": 1
  },
  {
   "metadata": {
    "ExecuteTime": {
     "end_time": "2024-09-04T05:04:48.684868Z",
     "start_time": "2024-09-04T05:04:35.523739Z"
    }
   },
   "cell_type": "code",
   "source": [
    "import torch\n",
    "import sophius.utils as utils\n",
    "import sophius.dataload as dload\n",
    "from sophius.modelgen import ConvModelGenerator\n",
    "from sophius.train import train_express_gpu\n",
    "import torchvision.datasets as dset\n",
    "import torchvision.transforms as T\n",
    "from calflops import calculate_flops\n",
    "\n",
    "\n",
    "VAL_SIZE = 1024\n",
    "\n",
    "cifar10 = dset.CIFAR10('../data/CIFAR10', train=True, download=True,\n",
    "                           transform=T.ToTensor())\n",
    "cifar_gpu = dload.cifar_to_gpu(cifar10)"
   ],
   "id": "8cceb4a92bbc0d18",
   "outputs": [
    {
     "name": "stderr",
     "output_type": "stream",
     "text": [
      "C:\\Users\\alexander.korolyov\\miniforge3\\envs\\sophius\\lib\\site-packages\\tqdm\\auto.py:21: TqdmWarning: IProgress not found. Please update jupyter and ipywidgets. See https://ipywidgets.readthedocs.io/en/stable/user_install.html\n",
      "  from .autonotebook import tqdm as notebook_tqdm\n"
     ]
    },
    {
     "name": "stdout",
     "output_type": "stream",
     "text": [
      "Files already downloaded and verified\n"
     ]
    }
   ],
   "execution_count": 2
  },
  {
   "metadata": {
    "ExecuteTime": {
     "end_time": "2024-09-04T05:04:48.841812Z",
     "start_time": "2024-09-04T05:04:48.684868Z"
    }
   },
   "cell_type": "code",
   "source": [
    "model_gen = ConvModelGenerator((3, 32, 32), 10, conv_num=6, lin_num=3)\n",
    "model_tmpl = model_gen.generate_model_tmpl()\n",
    "print(model_tmpl)\n",
    "fixed_model_gpu = model_tmpl.instantiate_model().type(torch.cuda.FloatTensor)"
   ],
   "id": "f445484604a75099",
   "outputs": [
    {
     "name": "stdout",
     "output_type": "stream",
     "text": [
      "Conv2d       (16, 32, 32)   (7, 7)   (1, 1)  \n",
      "AvgPool2d    (16, 15, 15)   (4, 4)   (2, 2)  \n",
      "LeakyReLU    (16, 15, 15)   (0.1)   \n",
      "BatchNorm2d  (16, 15, 15)  \n",
      "Conv2d       (8, 4, 4)      (4, 4)   (3, 3)  \n",
      "BatchNorm2d  (8, 4, 4)     \n",
      "LeakyReLU    (8, 4, 4)      (0.01)  \n",
      "GlobalAvgPool2d (8, 1, 1)     \n",
      "Flatten      8             \n",
      "Linear       10            \n",
      "\n"
     ]
    }
   ],
   "execution_count": 3
  },
  {
   "metadata": {
    "ExecuteTime": {
     "end_time": "2024-09-04T05:08:27.719347Z",
     "start_time": "2024-09-04T05:08:27.595942Z"
    }
   },
   "cell_type": "code",
   "source": [
    "flops, macs, params = calculate_flops(model=fixed_model_gpu, \n",
    "                                      input_shape=(1, 3, 32, 32),\n",
    "                                      output_as_string=False,\n",
    "                                      print_results=False,\n",
    "                                      print_detailed=False,\n",
    "                                      output_precision=4)\n",
    "print(\"FLOPs:%s   MACs:%s   Params:%s \\n\" %(flops, macs, params))"
   ],
   "id": "ee9695e1a8758965",
   "outputs": [
    {
     "name": "stdout",
     "output_type": "stream",
     "text": [
      "FLOPs:9853600   MACs:4882592   Params:4562 \n",
      "\n"
     ]
    }
   ],
   "execution_count": 7
  },
  {
   "metadata": {
    "ExecuteTime": {
     "end_time": "2024-09-04T05:09:54.497950Z",
     "start_time": "2024-09-04T05:09:54.371165Z"
    }
   },
   "cell_type": "code",
   "source": "utils.calc_model_flops(fixed_model_gpu, (3, 32, 32))",
   "id": "f8b1f83aa61ecf9b",
   "outputs": [
    {
     "data": {
      "text/plain": [
       "9853600"
      ]
     },
     "execution_count": 10,
     "metadata": {},
     "output_type": "execute_result"
    }
   ],
   "execution_count": 10
  },
  {
   "metadata": {
    "ExecuteTime": {
     "end_time": "2024-09-03T14:28:37.194893Z",
     "start_time": "2024-09-03T14:28:37.144603Z"
    }
   },
   "cell_type": "code",
   "source": [
    "import pandas as pd\n",
    "import seaborn as sns\n",
    "from tqdm import tqdm\n",
    "\n",
    "loader_gpu = dload.get_loader_gpu(cifar_gpu, val_size=VAL_SIZE, batch_size=1024)\n",
    "\n",
    "df = pd.DataFrame(columns=['flops', 'macs', 'params', 'time', 'val_acc', 'train_acc'])\n",
    "\n",
    "for i in tqdm(range(100)):\n",
    "    model = model_gen.generate_model().type(torch.cuda.FloatTensor)\n",
    "    flops, macs, params = calculate_flops(model=model, \n",
    "                                      input_shape=(1, 3, 32, 32),\n",
    "                                      output_as_string=False,\n",
    "                                      print_results=False,\n",
    "                                      print_detailed=False,\n",
    "                                      output_precision=4)\n",
    "    # express train\n",
    "    t, val_acc, train_acc = train_express_gpu(model = model,\n",
    "                                              train = True,\n",
    "                                              loader = loader_gpu,\n",
    "                                              milestones = [],\n",
    "                                              num_epoch = 10,\n",
    "                                              verbose = False)\n",
    "    \n",
    "    df.loc[i] = [flops, macs, params, t, val_acc, train_acc]\n",
    "    # print(df.loc[i])"
   ],
   "id": "2875c97eba039b00",
   "outputs": [
    {
     "ename": "NameError",
     "evalue": "name 'dload' is not defined",
     "output_type": "error",
     "traceback": [
      "\u001B[1;31m---------------------------------------------------------------------------\u001B[0m",
      "\u001B[1;31mNameError\u001B[0m                                 Traceback (most recent call last)",
      "Cell \u001B[1;32mIn[2], line 4\u001B[0m\n\u001B[0;32m      1\u001B[0m \u001B[38;5;28;01mimport\u001B[39;00m \u001B[38;5;21;01mpandas\u001B[39;00m \u001B[38;5;28;01mas\u001B[39;00m \u001B[38;5;21;01mpd\u001B[39;00m\n\u001B[0;32m      2\u001B[0m \u001B[38;5;28;01mimport\u001B[39;00m \u001B[38;5;21;01mseaborn\u001B[39;00m \u001B[38;5;28;01mas\u001B[39;00m \u001B[38;5;21;01msns\u001B[39;00m\n\u001B[1;32m----> 4\u001B[0m loader_gpu \u001B[38;5;241m=\u001B[39m \u001B[43mdload\u001B[49m\u001B[38;5;241m.\u001B[39mget_loader_gpu(cifar_gpu, val_size\u001B[38;5;241m=\u001B[39mVAL_SIZE, batch_size\u001B[38;5;241m=\u001B[39m\u001B[38;5;241m1024\u001B[39m)\n\u001B[0;32m      6\u001B[0m df \u001B[38;5;241m=\u001B[39m pd\u001B[38;5;241m.\u001B[39mDataFrame(columns\u001B[38;5;241m=\u001B[39m[\u001B[38;5;124m'\u001B[39m\u001B[38;5;124mflops\u001B[39m\u001B[38;5;124m'\u001B[39m, \u001B[38;5;124m'\u001B[39m\u001B[38;5;124mtime\u001B[39m\u001B[38;5;124m'\u001B[39m, \u001B[38;5;124m'\u001B[39m\u001B[38;5;124mval_acc\u001B[39m\u001B[38;5;124m'\u001B[39m, \u001B[38;5;124m'\u001B[39m\u001B[38;5;124mtrain_acc\u001B[39m\u001B[38;5;124m'\u001B[39m])\n\u001B[0;32m      8\u001B[0m \u001B[38;5;28;01mfor\u001B[39;00m i \u001B[38;5;129;01min\u001B[39;00m \u001B[38;5;28mrange\u001B[39m(\u001B[38;5;241m10\u001B[39m):\n",
      "\u001B[1;31mNameError\u001B[0m: name 'dload' is not defined"
     ]
    }
   ],
   "execution_count": 2
  },
  {
   "metadata": {},
   "cell_type": "code",
   "outputs": [],
   "execution_count": null,
   "source": [
    "import matplotlib.pyplot as plt\n",
    "\n",
    "sns.scatterplot(df, x='time', y='flops');\n",
    "plt.yscale('log')\n",
    "plt.xscale('log')"
   ],
   "id": "5148ecc2413e911c"
  }
 ],
 "metadata": {
  "kernelspec": {
   "display_name": "Python 3",
   "language": "python",
   "name": "python3"
  },
  "language_info": {
   "codemirror_mode": {
    "name": "ipython",
    "version": 2
   },
   "file_extension": ".py",
   "mimetype": "text/x-python",
   "name": "python",
   "nbconvert_exporter": "python",
   "pygments_lexer": "ipython2",
   "version": "2.7.6"
  }
 },
 "nbformat": 4,
 "nbformat_minor": 5
}
