{
 "cells": [
  {
   "cell_type": "code",
   "id": "initial_id",
   "metadata": {
    "collapsed": true,
    "ExecuteTime": {
     "end_time": "2024-09-05T07:51:53.478061Z",
     "start_time": "2024-09-05T07:51:49.690994Z"
    }
   },
   "source": [
    "import torch\n",
    "from torch import nn\n",
    "import torch.nn.functional as F\n",
    "from torchvision.datasets import CIFAR10\n",
    "from torch.utils.data import DataLoader, random_split\n",
    "from torchvision import transforms\n",
    "import pytorch_lightning as pl\n",
    "\n",
    "# Define transforms for CIFAR-10 dataset\n",
    "transform = transforms.Compose([\n",
    "    transforms.ToTensor(),  # Convert to tensor\n",
    "    transforms.Normalize((0, 0, 0), (1, 1, 1))  # Normalize the images\n",
    "])\n",
    "\n",
    "# Load CIFAR-10 dataset\n",
    "cifar10 = CIFAR10(root='../data', download=True, transform=transform)"
   ],
   "outputs": [
    {
     "name": "stderr",
     "output_type": "stream",
     "text": [
      "C:\\Users\\korol\\miniforge3\\envs\\sophius\\lib\\site-packages\\tqdm\\auto.py:21: TqdmWarning: IProgress not found. Please update jupyter and ipywidgets. See https://ipywidgets.readthedocs.io/en/stable/user_install.html\n",
      "  from .autonotebook import tqdm as notebook_tqdm\n"
     ]
    },
    {
     "name": "stdout",
     "output_type": "stream",
     "text": [
      "Files already downloaded and verified\n"
     ]
    }
   ],
   "execution_count": 1
  },
  {
   "metadata": {
    "ExecuteTime": {
     "end_time": "2024-09-05T07:51:53.755142Z",
     "start_time": "2024-09-05T07:51:53.479176Z"
    }
   },
   "cell_type": "code",
   "source": [
    "import sqlite3\n",
    "import pandas as pd\n",
    "from sophius.encode import Encoder\n",
    "\n",
    "with sqlite3.connect('../data/models.db') as conn:\n",
    "    df = pd.read_sql('SELECT * FROM conv_10_lin_3_epoch_50', conn)\n",
    "\n",
    "model_id = 371\n",
    "\n",
    "encoder = Encoder()\n",
    "t = encoder.hash2model(df.loc[model_id, 'hex_str'], in_shape=(3, 32, 32), out_shape=10)\n",
    "model = t.instantiate_model(gpu=True)\n",
    "model"
   ],
   "id": "6d6764b7b04f4e43",
   "outputs": [
    {
     "data": {
      "text/plain": [
       "Sequential(\n",
       "  (0): Conv2d(3, 32, kernel_size=(4, 4), stride=(1, 1))\n",
       "  (1): LeakyReLU(negative_slope=0.001)\n",
       "  (2): Conv2d(32, 32, kernel_size=(3, 3), stride=(1, 1), padding=(1, 1))\n",
       "  (3): BatchNorm2d(32, eps=1e-05, momentum=0.1, affine=True, track_running_stats=True)\n",
       "  (4): MaxPool2d(kernel_size=(4, 4), stride=(2, 2), padding=(2, 2), dilation=(1, 1), ceil_mode=False)\n",
       "  (5): ReLU()\n",
       "  (6): AvgPool2d(kernel_size=(4, 4), stride=(2, 2), padding=(0, 0))\n",
       "  (7): Conv2d(32, 96, kernel_size=(2, 2), stride=(2, 2))\n",
       "  (8): PReLU(num_parameters=1)\n",
       "  (9): MaxPool2d(kernel_size=(3, 3), stride=(1, 1), padding=(1, 1), dilation=(1, 1), ceil_mode=False)\n",
       "  (10): BatchNorm2d(96, eps=1e-05, momentum=0.1, affine=True, track_running_stats=True)\n",
       "  (11): AvgPool2d(kernel_size=(3, 3), stride=(3, 3), padding=0)\n",
       "  (12): Flatten(start_dim=1, end_dim=-1)\n",
       "  (13): Linear(in_features=96, out_features=10, bias=True)\n",
       ")"
      ]
     },
     "execution_count": 2,
     "metadata": {},
     "output_type": "execute_result"
    }
   ],
   "execution_count": 2
  },
  {
   "metadata": {
    "ExecuteTime": {
     "end_time": "2024-09-05T07:53:24.916555Z",
     "start_time": "2024-09-05T07:53:24.909553Z"
    }
   },
   "cell_type": "code",
   "source": [
    "# Define the Lightning Module for Classification using nn.Sequential\n",
    "class LitClassifier(pl.LightningModule):\n",
    "    def __init__(self, model):\n",
    "        super().__init__()\n",
    "        self.model = model\n",
    "        \n",
    "    def forward(self, x):\n",
    "        return self.model(x)\n",
    "\n",
    "    def training_step(self, batch, batch_idx):\n",
    "        x, y = batch\n",
    "        y_hat = self(x)\n",
    "        loss = F.cross_entropy(y_hat, y)\n",
    "        self.log(\"train_loss\", loss)\n",
    "        return loss\n",
    "    \n",
    "    def validation_step(self, batch, batch_idx):\n",
    "        x, y = batch\n",
    "        y_hat = self(x)\n",
    "        loss = F.cross_entropy(y_hat, y)\n",
    "        acc = torch.sum(torch.argmax(y_hat, dim=1) == y) / len(y)\n",
    "        # self.log(\"val_loss\", loss, on_step=False, on_epoch=True, prog_bar=True)\n",
    "        self.log(\"val_acc\", acc, on_step=False, on_epoch=True, prog_bar=True)\n",
    "        return loss    \n",
    "\n",
    "    def configure_optimizers(self):\n",
    "        return torch.optim.Adam(self.parameters(), lr=1e-3)"
   ],
   "id": "c5574723286c8fd4",
   "outputs": [],
   "execution_count": 6
  },
  {
   "metadata": {
    "ExecuteTime": {
     "end_time": "2024-09-05T07:53:36.407991Z",
     "start_time": "2024-09-05T07:53:27.188321Z"
    }
   },
   "cell_type": "code",
   "source": [
    "import torch\n",
    "from torchvision.datasets import CIFAR10\n",
    "from torchvision import transforms\n",
    "from torch.utils.data import TensorDataset, DataLoader\n",
    "\n",
    "\n",
    "# Preprocess and transfer dataset to GPU\n",
    "def load_data_to_gpu(dataset):\n",
    "    imgs, labels = zip(*dataset)\n",
    "    imgs = torch.stack(imgs).to('cuda')  # Move images to GPU\n",
    "    labels = torch.tensor(labels).to('cuda')  # Move labels to GPU\n",
    "    return imgs, labels\n",
    "\n",
    "# Load data to GPU\n",
    "images, labels = load_data_to_gpu(cifar10)\n",
    "\n",
    "# Create TensorDataset for DataLoader\n",
    "full_dataset = TensorDataset(images, labels)\n",
    "\n",
    "# Split dataset into training and validation sets\n",
    "train_size = int(0.9 * len(full_dataset))\n",
    "val_size = len(full_dataset) - train_size\n",
    "train_dataset, val_dataset = torch.utils.data.random_split(full_dataset, [train_size, val_size])\n",
    "\n",
    "# Create DataLoader\n"
   ],
   "id": "79b624993f8847f8",
   "outputs": [],
   "execution_count": 7
  },
  {
   "metadata": {
    "ExecuteTime": {
     "end_time": "2024-09-05T07:58:28.561185Z",
     "start_time": "2024-09-05T07:58:28.556678Z"
    }
   },
   "cell_type": "code",
   "source": [
    "train_loader = DataLoader(train_dataset, batch_size=1024, shuffle=True)\n",
    "val_loader = DataLoader(val_dataset, batch_size=64, shuffle=False)"
   ],
   "id": "31b762ceae25e3be",
   "outputs": [],
   "execution_count": 11
  },
  {
   "metadata": {
    "ExecuteTime": {
     "end_time": "2024-09-05T07:59:21.288533Z",
     "start_time": "2024-09-05T07:59:01.622540Z"
    }
   },
   "cell_type": "code",
   "source": [
    "import warnings\n",
    "warnings.filterwarnings(\"ignore\")\n",
    "\n",
    "# Create model and trainer\n",
    "litmodel = LitClassifier(model)\n",
    "trainer = pl.Trainer(accelerator='gpu', max_epochs=10)\n",
    "\n",
    "# Train the model\n",
    "trainer.fit(litmodel, train_loader)"
   ],
   "id": "c86fff57930fd990",
   "outputs": [
    {
     "name": "stderr",
     "output_type": "stream",
     "text": [
      "GPU available: True (cuda), used: True\n",
      "TPU available: False, using: 0 TPU cores\n",
      "IPU available: False, using: 0 IPUs\n",
      "HPU available: False, using: 0 HPUs\n",
      "LOCAL_RANK: 0 - CUDA_VISIBLE_DEVICES: [0]\n",
      "\n",
      "  | Name  | Type       | Params\n",
      "-------------------------------------\n",
      "0 | model | Sequential | 24.4 K\n",
      "-------------------------------------\n",
      "24.4 K    Trainable params\n",
      "0         Non-trainable params\n",
      "24.4 K    Total params\n",
      "0.098     Total estimated model params size (MB)\n"
     ]
    },
    {
     "name": "stdout",
     "output_type": "stream",
     "text": [
      "Epoch 29:  57%|█████▋    | 25/44 [00:46<00:35,  1.88s/it, loss=0.533, v_num=29]\n",
      "Epoch 5:  78%|███████▊  | 38/49 [05:12<01:30,  8.22s/it, loss=0.97, v_num=28, val_acc=0.573]\n",
      "Epoch 9: 100%|██████████| 44/44 [00:01<00:00, 23.53it/s, loss=0.485, v_num=31]"
     ]
    },
    {
     "name": "stderr",
     "output_type": "stream",
     "text": [
      "`Trainer.fit` stopped: `max_epochs=10` reached.\n"
     ]
    },
    {
     "name": "stdout",
     "output_type": "stream",
     "text": [
      "Epoch 9: 100%|██████████| 44/44 [00:01<00:00, 23.41it/s, loss=0.485, v_num=31]\n"
     ]
    }
   ],
   "execution_count": 13
  },
  {
   "metadata": {},
   "cell_type": "markdown",
   "source": "# Comprare with custom train and gpu_loader",
   "id": "ff8c3ba1351fc398"
  },
  {
   "metadata": {
    "ExecuteTime": {
     "end_time": "2024-09-05T07:41:52.389649Z",
     "start_time": "2024-09-05T07:40:33.071129Z"
    }
   },
   "cell_type": "code",
   "source": [
    "from sophius.train import train_on_gpu\n",
    "\n",
    "res = train_on_gpu(model = model,  \n",
    "                  loader = loader_gpu,\n",
    "                  learning_rate=1e-3,\n",
    "                  num_epoch = 10,\n",
    "                  verbose = True)"
   ],
   "id": "2f774d56f430cb4d",
   "outputs": [
    {
     "name": "stderr",
     "output_type": "stream",
     "text": [
      "Loss 35.945: 100%|██████████| 50/50 [01:17<00:00,  1.55s/it]"
     ]
    },
    {
     "name": "stdout",
     "output_type": "stream",
     "text": [
      "val_acc: 0.692, train_acc: 0.739\n"
     ]
    },
    {
     "name": "stderr",
     "output_type": "stream",
     "text": [
      "\n"
     ]
    }
   ],
   "execution_count": 4
  },
  {
   "metadata": {
    "ExecuteTime": {
     "end_time": "2024-09-05T07:42:45.812201Z",
     "start_time": "2024-09-05T07:42:45.536959Z"
    }
   },
   "cell_type": "code",
   "source": [
    "import seaborn as sns\n",
    "\n",
    "sns.lineplot(res, x = 'epoch', y = 'val_acc', label = 'val')\n",
    "sns.lineplot(res, x = 'epoch', y = 'train_acc', label = 'train');"
   ],
   "id": "b6f9a14a07aca588",
   "outputs": [
    {
     "data": {
      "text/plain": [
       "<Figure size 640x480 with 1 Axes>"
      ],
      "image/png": "[encoded data removed]"
     },
     "metadata": {},
     "output_type": "display_data"
    }
   ],
   "execution_count": 5
  },
  {
   "metadata": {
    "ExecuteTime": {
     "end_time": "2024-09-05T07:05:15.423524Z",
     "start_time": "2024-09-05T07:04:02.622342Z"
    }
   },
   "cell_type": "code",
   "source": [
    "res = train_on_gpu(model = model,  \n",
    "                   loader = loader_gpu,\n",
    "                   learning_rate=1e-2,\n",
    "                   gamma=0.3,\n",
    "                   milestones=[20, 30, 40],                \n",
    "                   num_epoch = 50,\n",
    "                   verbose = True)\n",
    "\n",
    "sns.lineplot(res, x = 'epoch', y = 'val_acc', label = 'val')\n",
    "sns.lineplot(res, x = 'epoch', y = 'train_acc', label = 'train');"
   ],
   "id": "ed3fe65a49842ee4",
   "outputs": [
    {
     "name": "stderr",
     "output_type": "stream",
     "text": [
      "Loss 65.263:  12%|█▏        | 6/50 [01:09<08:24, 11.47s/it]"
     ]
    },
    {
     "ename": "KeyboardInterrupt",
     "evalue": "",
     "output_type": "error",
     "traceback": [
      "\u001B[1;31m---------------------------------------------------------------------------\u001B[0m",
      "\u001B[1;31mKeyboardInterrupt\u001B[0m                         Traceback (most recent call last)",
      "Cell \u001B[1;32mIn[26], line 1\u001B[0m\n\u001B[1;32m----> 1\u001B[0m res \u001B[38;5;241m=\u001B[39m \u001B[43mtrain_on_gpu\u001B[49m\u001B[43m(\u001B[49m\u001B[43mmodel\u001B[49m\u001B[43m \u001B[49m\u001B[38;5;241;43m=\u001B[39;49m\u001B[43m \u001B[49m\u001B[43mmodel\u001B[49m\u001B[43m,\u001B[49m\u001B[43m  \u001B[49m\n\u001B[0;32m      2\u001B[0m \u001B[43m                   \u001B[49m\u001B[43mloader\u001B[49m\u001B[43m \u001B[49m\u001B[38;5;241;43m=\u001B[39;49m\u001B[43m \u001B[49m\u001B[43mloader_gpu\u001B[49m\u001B[43m,\u001B[49m\n\u001B[0;32m      3\u001B[0m \u001B[43m                   \u001B[49m\u001B[43mlearning_rate\u001B[49m\u001B[38;5;241;43m=\u001B[39;49m\u001B[38;5;241;43m1e-2\u001B[39;49m\u001B[43m,\u001B[49m\n\u001B[0;32m      4\u001B[0m \u001B[43m                   \u001B[49m\u001B[43mgamma\u001B[49m\u001B[38;5;241;43m=\u001B[39;49m\u001B[38;5;241;43m0.3\u001B[39;49m\u001B[43m,\u001B[49m\n\u001B[0;32m      5\u001B[0m \u001B[43m                   \u001B[49m\u001B[43mmilestones\u001B[49m\u001B[38;5;241;43m=\u001B[39;49m\u001B[43m[\u001B[49m\u001B[38;5;241;43m20\u001B[39;49m\u001B[43m,\u001B[49m\u001B[43m \u001B[49m\u001B[38;5;241;43m30\u001B[39;49m\u001B[43m,\u001B[49m\u001B[43m \u001B[49m\u001B[38;5;241;43m40\u001B[39;49m\u001B[43m]\u001B[49m\u001B[43m,\u001B[49m\u001B[43m                \u001B[49m\n\u001B[0;32m      6\u001B[0m \u001B[43m                   \u001B[49m\u001B[43mnum_epoch\u001B[49m\u001B[43m \u001B[49m\u001B[38;5;241;43m=\u001B[39;49m\u001B[43m \u001B[49m\u001B[38;5;241;43m50\u001B[39;49m\u001B[43m,\u001B[49m\n\u001B[0;32m      7\u001B[0m \u001B[43m                   \u001B[49m\u001B[43mverbose\u001B[49m\u001B[43m \u001B[49m\u001B[38;5;241;43m=\u001B[39;49m\u001B[43m \u001B[49m\u001B[38;5;28;43;01mTrue\u001B[39;49;00m\u001B[43m)\u001B[49m\n\u001B[0;32m      9\u001B[0m sns\u001B[38;5;241m.\u001B[39mlineplot(res, x \u001B[38;5;241m=\u001B[39m \u001B[38;5;124m'\u001B[39m\u001B[38;5;124mepoch\u001B[39m\u001B[38;5;124m'\u001B[39m, y \u001B[38;5;241m=\u001B[39m \u001B[38;5;124m'\u001B[39m\u001B[38;5;124mval_acc\u001B[39m\u001B[38;5;124m'\u001B[39m, label \u001B[38;5;241m=\u001B[39m \u001B[38;5;124m'\u001B[39m\u001B[38;5;124mval\u001B[39m\u001B[38;5;124m'\u001B[39m)\n\u001B[0;32m     10\u001B[0m sns\u001B[38;5;241m.\u001B[39mlineplot(res, x \u001B[38;5;241m=\u001B[39m \u001B[38;5;124m'\u001B[39m\u001B[38;5;124mepoch\u001B[39m\u001B[38;5;124m'\u001B[39m, y \u001B[38;5;241m=\u001B[39m \u001B[38;5;124m'\u001B[39m\u001B[38;5;124mtrain_acc\u001B[39m\u001B[38;5;124m'\u001B[39m, label \u001B[38;5;241m=\u001B[39m \u001B[38;5;124m'\u001B[39m\u001B[38;5;124mtrain\u001B[39m\u001B[38;5;124m'\u001B[39m);\n",
      "File \u001B[1;32m~\\PycharmProjects\\sophius\\sophius\\train.py:110\u001B[0m, in \u001B[0;36mtrain_on_gpu\u001B[1;34m(model, loader, num_epoch, learning_rate, gamma, milestones, random_seed, verbose)\u001B[0m\n\u001B[0;32m    108\u001B[0m     loss\u001B[38;5;241m.\u001B[39mbackward()\n\u001B[0;32m    109\u001B[0m     optimizer\u001B[38;5;241m.\u001B[39mstep()\n\u001B[1;32m--> 110\u001B[0m     running_loss \u001B[38;5;241m+\u001B[39m\u001B[38;5;241m=\u001B[39m \u001B[43mloss\u001B[49m\u001B[38;5;241;43m.\u001B[39;49m\u001B[43mitem\u001B[49m\u001B[43m(\u001B[49m\u001B[43m)\u001B[49m\n\u001B[0;32m    111\u001B[0m scheduler\u001B[38;5;241m.\u001B[39mstep()\n\u001B[0;32m    113\u001B[0m elapsed_time \u001B[38;5;241m=\u001B[39m time\u001B[38;5;241m.\u001B[39mtime() \u001B[38;5;241m-\u001B[39m start_time\n",
      "\u001B[1;31mKeyboardInterrupt\u001B[0m: "
     ]
    }
   ],
   "execution_count": 26
  }
 ],
 "metadata": {
  "kernelspec": {
   "display_name": "sophius",
   "language": "python",
   "name": "sophius"
  },
  "language_info": {
   "codemirror_mode": {
    "name": "ipython",
    "version": 2
   },
   "file_extension": ".py",
   "mimetype": "text/x-python",
   "name": "python",
   "nbconvert_exporter": "python",
   "pygments_lexer": "ipython2",
   "version": "2.7.6"
  }
 },
 "nbformat": 4,
 "nbformat_minor": 5
}
