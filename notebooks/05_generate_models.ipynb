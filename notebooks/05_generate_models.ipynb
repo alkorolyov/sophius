{
 "cells": [
  {
   "cell_type": "code",
   "id": "initial_id",
   "metadata": {
    "collapsed": true,
    "ExecuteTime": {
     "end_time": "2024-09-03T16:00:42.046718Z",
     "start_time": "2024-09-03T16:00:41.954671Z"
    }
   },
   "source": [
    "import numpy as np\n",
    "%load_ext autoreload\n",
    "%autoreload 2\n",
    "\n",
    "import sys\n",
    "sys.path.append(\"..\")"
   ],
   "outputs": [],
   "execution_count": 1
  },
  {
   "metadata": {
    "ExecuteTime": {
     "end_time": "2024-09-03T16:00:53.054196Z",
     "start_time": "2024-09-03T16:00:42.046718Z"
    }
   },
   "cell_type": "code",
   "source": [
    "import torch\n",
    "from calflops import calculate_flops\n",
    "import sophius.utils as utils\n",
    "import sophius.dataload as dload\n",
    "from sophius.modelgen import ConvModelGenerator\n",
    "from sophius.train import train_express_gpu\n",
    "import torchvision.datasets as dset\n",
    "import torchvision.transforms as T\n",
    "from sophius.encode import Encoder\n",
    "\n",
    "VAL_SIZE = 1024\n",
    "\n",
    "cifar10 = dset.CIFAR10('../data/CIFAR10', train=True, download=True,\n",
    "                           transform=T.ToTensor())\n",
    "cifar_gpu = dload.cifar_to_gpu(cifar10)\n",
    "\n",
    "encoder = Encoder()"
   ],
   "id": "a42cd5ee085e8dbb",
   "outputs": [
    {
     "name": "stderr",
     "output_type": "stream",
     "text": [
      "C:\\Users\\alexander.korolyov\\miniforge3\\envs\\sophius\\lib\\site-packages\\tqdm\\auto.py:21: TqdmWarning: IProgress not found. Please update jupyter and ipywidgets. See https://ipywidgets.readthedocs.io/en/stable/user_install.html\n",
      "  from .autonotebook import tqdm as notebook_tqdm\n"
     ]
    },
    {
     "name": "stdout",
     "output_type": "stream",
     "text": [
      "Files already downloaded and verified\n"
     ]
    }
   ],
   "execution_count": 2
  },
  {
   "metadata": {
    "ExecuteTime": {
     "end_time": "2024-09-03T16:00:53.230432Z",
     "start_time": "2024-09-03T16:00:53.054196Z"
    }
   },
   "cell_type": "code",
   "source": [
    "model_gen = ConvModelGenerator((3, 32, 32), 10, conv_num=6, lin_num=3)\n",
    "model_tmpl = model_gen.generate_model_tmpl()\n",
    "print(model_tmpl)\n",
    "fixed_model_gpu = model_tmpl.instantiate_model().type(torch.cuda.FloatTensor)\n",
    "print(encoder.encode_model(model_tmpl))"
   ],
   "id": "30d05fa86364559a",
   "outputs": [
    {
     "name": "stdout",
     "output_type": "stream",
     "text": [
      "Conv2d       (64, 8, 8)     (5, 5)   (4, 4)  \n",
      "PReLU        (64, 8, 8)    \n",
      "Conv2d       (192, 3, 3)    (4, 4)   (3, 3)  \n",
      "MaxPool2d    (192, 1, 1)    (3, 3)   (3, 3)  \n",
      "LeakyReLU    (192, 1, 1)    (0.01)  \n",
      "Flatten      192           \n",
      "Linear       1024          \n",
      "Dropout      1024           (0.75)  \n",
      "ReLU         1024          \n",
      "Linear       256           \n",
      "ReLU         256           \n",
      "Dropout      256            (0.85)  \n",
      "Linear       10            \n",
      "\n",
      "[[0 0 0 0 0 0 0 0 1 0 0 0 0 0 0 1 0 0 0 0 0 0 0 1 0 0 0 0 0 1 1 0]\n",
      " [0 0 0 0 1 0 0 0 0 0 0 0 0 1 0 0 0 0 0 0 0 0 0 0 0 0 0 0 0 0 0 0]\n",
      " [0 0 0 0 0 0 0 0 1 0 0 0 0 0 0 0 0 0 1 0 0 0 1 0 0 0 0 0 1 0 1 0]\n",
      " [0 0 0 0 0 0 0 0 0 1 0 0 0 1 0 0 0 1 0 1 0 0 0 0 0 0 0 0 0 0 0 0]\n",
      " [0 0 0 1 0 0 0 0 0 0 0 0 0 1 0 0 0 0 0 0 0 0 0 0 0 0 0 0 0 0 0 0]\n",
      " [0 0 0 0 0 0 0 1 0 0 0 0 0 0 0 0 0 0 0 0 0 0 0 0 0 0 0 0 0 0 0 0]\n",
      " [1 0 0 0 0 0 0 0 0 0 0 0 0 0 0 0 0 1 0 0 0 0 0 0 0 0 0 0 0 0 0 0]\n",
      " [0 0 0 0 0 1 0 0 0 0 0 0 0 0 0 0 0 0 0 0 0 0 0 0 0 0 1 0 0 0 0 0]\n",
      " [0 0 1 0 0 0 0 0 0 0 0 0 0 0 0 0 0 0 0 0 0 0 0 0 0 0 0 0 0 0 0 0]\n",
      " [1 0 0 0 0 0 0 0 0 0 0 0 0 0 0 1 0 0 0 0 0 0 0 0 0 0 0 0 0 0 0 0]\n",
      " [0 0 1 0 0 0 0 0 0 0 0 0 0 0 0 0 0 0 0 0 0 0 0 0 0 0 0 0 0 0 0 0]\n",
      " [0 0 0 0 0 1 0 0 0 0 0 0 0 0 0 0 0 0 0 0 0 0 0 0 0 0 0 0 1 0 0 0]]\n"
     ]
    }
   ],
   "execution_count": 3
  },
  {
   "metadata": {
    "ExecuteTime": {
     "end_time": "2024-09-03T16:00:53.388318Z",
     "start_time": "2024-09-03T16:00:53.234440Z"
    }
   },
   "cell_type": "code",
   "source": [
    "model_tmpl = model_gen.generate_model_tmpl()\n",
    "vec = encoder.encode_model(model_tmpl)\n",
    "vec.dtype"
   ],
   "id": "258ccfd94d0b1b43",
   "outputs": [
    {
     "data": {
      "text/plain": [
       "dtype('uint8')"
      ]
     },
     "execution_count": 4,
     "metadata": {},
     "output_type": "execute_result"
    }
   ],
   "execution_count": 4
  },
  {
   "metadata": {
    "ExecuteTime": {
     "end_time": "2024-09-03T16:17:54.272283Z",
     "start_time": "2024-09-03T16:17:54.157421Z"
    }
   },
   "cell_type": "code",
   "source": [
    "import numpy as np\n",
    "\n",
    "model_tmpl = model_gen.generate_model_tmpl()\n",
    "arr = encoder.encode_model(model_tmpl)\n",
    "\n",
    "hex_str = encoder.encode_model_str(model_tmpl)\n",
    "\n",
    "print(arr)\n",
    "print(hex_str)"
   ],
   "id": "6a72476114b4d595",
   "outputs": [
    {
     "name": "stdout",
     "output_type": "stream",
     "text": [
      "[[0 0 0 0 0 0 0 0 1 0 0 0 0 0 0 0 0 0 1 0 0 0 0 0 1 0 0 1 0 0 1 0]\n",
      " [0 0 0 1 0 0 0 0 0 0 0 0 1 0 0 0 0 0 0 0 0 0 0 0 0 0 0 0 0 0 0 0]\n",
      " [0 0 0 0 0 0 0 0 0 0 1 0 0 0 1 0 1 1 0 1 0 0 0 0 0 0 0 0 0 0 0 0]\n",
      " [0 0 0 0 0 0 0 0 1 0 0 0 0 1 0 0 0 0 0 0 0 0 0 0 1 0 0 0 1 0 1 0]\n",
      " [0 0 0 1 0 0 0 0 0 0 0 0 0 0 1 0 0 0 0 0 0 0 0 0 0 0 0 0 0 0 0 0]\n",
      " [0 1 0 0 0 0 0 0 0 0 0 0 0 0 0 0 0 0 0 0 0 0 0 0 0 0 0 0 0 0 0 0]\n",
      " [0 0 0 0 0 0 0 0 1 0 0 0 0 0 0 1 0 0 0 0 0 0 1 0 0 0 0 0 1 0 0 1]\n",
      " [0 0 0 0 0 0 0 1 0 0 0 0 0 0 0 0 0 0 0 0 0 0 0 0 0 0 0 0 0 0 0 0]\n",
      " [1 0 0 0 0 0 0 0 0 0 0 0 0 1 0 0 0 0 0 0 0 0 0 0 0 0 0 0 0 0 0 0]\n",
      " [0 0 1 0 0 0 0 0 0 0 0 0 0 0 0 0 0 0 0 0 0 0 0 0 0 0 0 0 0 0 0 0]]\n",
      "00802092100800000022d0000084008a100200004000000000810209010000008004000020000000\n"
     ]
    }
   ],
   "execution_count": 46
  },
  {
   "metadata": {
    "ExecuteTime": {
     "end_time": "2024-09-03T16:01:18.537380Z",
     "start_time": "2024-09-03T16:00:53.545461Z"
    }
   },
   "cell_type": "code",
   "source": [
    "import sqlite3\n",
    "import pandas as pd\n",
    "import seaborn as sns\n",
    "from tqdm import tqdm\n",
    "\n",
    "loader_gpu = dload.get_loader_gpu(cifar_gpu, val_size=VAL_SIZE, batch_size=1024)\n",
    "\n",
    "df = pd.DataFrame(columns=['hex_str', 'flops', 'macs', 'params', 'time', 'val_acc', 'train_acc'])\n",
    "\n",
    "for i in tqdm(range(10)):\n",
    "    model_tmpl = model_gen.generate_model_tmpl()\n",
    "    model = model_tmpl.instantiate_model().type(torch.cuda.FloatTensor)\n",
    "    flops, macs, params = calculate_flops(model=model, \n",
    "                                      input_shape=(1, 3, 32, 32),\n",
    "                                      output_as_string=False,\n",
    "                                      print_results=False,\n",
    "                                      print_detailed=False,\n",
    "                                      output_precision=4)\n",
    "    # express train\n",
    "    t, val_acc, train_acc = train_express_gpu(model = model,\n",
    "                                              train = True,\n",
    "                                              loader = loader_gpu,\n",
    "                                              milestones = [],\n",
    "                                              num_epoch = 1,\n",
    "                                              verbose = False)\n",
    "    \n",
    "    hex_str = encoder.encode_model_str(model_tmpl)\n",
    "    \n",
    "    df.loc[i] = [hex_str, flops, macs, params, t, val_acc, train_acc]\n",
    "    \n",
    "    with sqlite3.connect('../data/models.db') as conn:\n",
    "        df.loc[i:i].to_sql('test', conn, if_exists='append')\n",
    "    \n",
    "    # print(df.loc[i])"
   ],
   "id": "5f8ff90592a7ea83",
   "outputs": [
    {
     "name": "stderr",
     "output_type": "stream",
     "text": [
      "100%|██████████| 10/10 [00:24<00:00,  2.48s/it]\n"
     ]
    }
   ],
   "execution_count": 6
  },
  {
   "metadata": {
    "ExecuteTime": {
     "end_time": "2024-09-03T16:01:18.737560Z",
     "start_time": "2024-09-03T16:01:18.537380Z"
    }
   },
   "cell_type": "code",
   "source": "df",
   "id": "3fc8eada6546b5d4",
   "outputs": [
    {
     "data": {
      "text/plain": [
       "                                             hex_str     flops     macs  \\\n",
       "0                   00880111004490001008000001000000    244384   120480   \n",
       "1  0084010a00293000200000004000000000820812400000...    768704   376624   \n",
       "2  008100610024b000004920002000000000810049080400...  16529904  8209664   \n",
       "3  0080411220000000002530004000000000804406080800...  13018368  6430720   \n",
       "4  008084090022b000200000000080300920000000010000...   3264768  1619072   \n",
       "5  00804052400000000022c8001008000000880092004250...  11701816  5779776   \n",
       "6  0084020920000000004510000084021100295000400000...    244448   118992   \n",
       "7  0088005108040000002330000010000001000000800200...    971816   482392   \n",
       "8  0088101240000000100200000081008600446000400000...   5316112  2649600   \n",
       "9  0082020a00253000200000004000000000820409200000...    560032   271680   \n",
       "\n",
       "    params      time   val_acc  train_acc  \n",
       "0     3498  1.021995  0.296875   0.291016  \n",
       "1   125355  0.899617  0.314453   0.296875  \n",
       "2   254947  2.692581  0.237305   0.204102  \n",
       "3  1775882  3.647358  0.446289   0.453125  \n",
       "4  1311818  0.925311  0.267578   0.251953  \n",
       "5    97523  3.601307  0.254883   0.273438  \n",
       "6     6450  0.298085  0.174805   0.166992  \n",
       "7   289068  0.393367  0.235352   0.227539  \n",
       "8  2186347  1.025380  0.369141   0.391602  \n",
       "9    13834  0.426872  0.342773   0.354492  "
      ],
      "text/html": [
       "<div>\n",
       "<style scoped>\n",
       "    .dataframe tbody tr th:only-of-type {\n",
       "        vertical-align: middle;\n",
       "    }\n",
       "\n",
       "    .dataframe tbody tr th {\n",
       "        vertical-align: top;\n",
       "    }\n",
       "\n",
       "    .dataframe thead th {\n",
       "        text-align: right;\n",
       "    }\n",
       "</style>\n",
       "<table border=\"1\" class=\"dataframe\">\n",
       "  <thead>\n",
       "    <tr style=\"text-align: right;\">\n",
       "      <th></th>\n",
       "      <th>hex_str</th>\n",
       "      <th>flops</th>\n",
       "      <th>macs</th>\n",
       "      <th>params</th>\n",
       "      <th>time</th>\n",
       "      <th>val_acc</th>\n",
       "      <th>train_acc</th>\n",
       "    </tr>\n",
       "  </thead>\n",
       "  <tbody>\n",
       "    <tr>\n",
       "      <th>0</th>\n",
       "      <td>00880111004490001008000001000000</td>\n",
       "      <td>244384</td>\n",
       "      <td>120480</td>\n",
       "      <td>3498</td>\n",
       "      <td>1.021995</td>\n",
       "      <td>0.296875</td>\n",
       "      <td>0.291016</td>\n",
       "    </tr>\n",
       "    <tr>\n",
       "      <th>1</th>\n",
       "      <td>0084010a00293000200000004000000000820812400000...</td>\n",
       "      <td>768704</td>\n",
       "      <td>376624</td>\n",
       "      <td>125355</td>\n",
       "      <td>0.899617</td>\n",
       "      <td>0.314453</td>\n",
       "      <td>0.296875</td>\n",
       "    </tr>\n",
       "    <tr>\n",
       "      <th>2</th>\n",
       "      <td>008100610024b000004920002000000000810049080400...</td>\n",
       "      <td>16529904</td>\n",
       "      <td>8209664</td>\n",
       "      <td>254947</td>\n",
       "      <td>2.692581</td>\n",
       "      <td>0.237305</td>\n",
       "      <td>0.204102</td>\n",
       "    </tr>\n",
       "    <tr>\n",
       "      <th>3</th>\n",
       "      <td>0080411220000000002530004000000000804406080800...</td>\n",
       "      <td>13018368</td>\n",
       "      <td>6430720</td>\n",
       "      <td>1775882</td>\n",
       "      <td>3.647358</td>\n",
       "      <td>0.446289</td>\n",
       "      <td>0.453125</td>\n",
       "    </tr>\n",
       "    <tr>\n",
       "      <th>4</th>\n",
       "      <td>008084090022b000200000000080300920000000010000...</td>\n",
       "      <td>3264768</td>\n",
       "      <td>1619072</td>\n",
       "      <td>1311818</td>\n",
       "      <td>0.925311</td>\n",
       "      <td>0.267578</td>\n",
       "      <td>0.251953</td>\n",
       "    </tr>\n",
       "    <tr>\n",
       "      <th>5</th>\n",
       "      <td>00804052400000000022c8001008000000880092004250...</td>\n",
       "      <td>11701816</td>\n",
       "      <td>5779776</td>\n",
       "      <td>97523</td>\n",
       "      <td>3.601307</td>\n",
       "      <td>0.254883</td>\n",
       "      <td>0.273438</td>\n",
       "    </tr>\n",
       "    <tr>\n",
       "      <th>6</th>\n",
       "      <td>0084020920000000004510000084021100295000400000...</td>\n",
       "      <td>244448</td>\n",
       "      <td>118992</td>\n",
       "      <td>6450</td>\n",
       "      <td>0.298085</td>\n",
       "      <td>0.174805</td>\n",
       "      <td>0.166992</td>\n",
       "    </tr>\n",
       "    <tr>\n",
       "      <th>7</th>\n",
       "      <td>0088005108040000002330000010000001000000800200...</td>\n",
       "      <td>971816</td>\n",
       "      <td>482392</td>\n",
       "      <td>289068</td>\n",
       "      <td>0.393367</td>\n",
       "      <td>0.235352</td>\n",
       "      <td>0.227539</td>\n",
       "    </tr>\n",
       "    <tr>\n",
       "      <th>8</th>\n",
       "      <td>0088101240000000100200000081008600446000400000...</td>\n",
       "      <td>5316112</td>\n",
       "      <td>2649600</td>\n",
       "      <td>2186347</td>\n",
       "      <td>1.025380</td>\n",
       "      <td>0.369141</td>\n",
       "      <td>0.391602</td>\n",
       "    </tr>\n",
       "    <tr>\n",
       "      <th>9</th>\n",
       "      <td>0082020a00253000200000004000000000820409200000...</td>\n",
       "      <td>560032</td>\n",
       "      <td>271680</td>\n",
       "      <td>13834</td>\n",
       "      <td>0.426872</td>\n",
       "      <td>0.342773</td>\n",
       "      <td>0.354492</td>\n",
       "    </tr>\n",
       "  </tbody>\n",
       "</table>\n",
       "</div>"
      ]
     },
     "execution_count": 7,
     "metadata": {},
     "output_type": "execute_result"
    }
   ],
   "execution_count": 7
  },
  {
   "metadata": {
    "ExecuteTime": {
     "end_time": "2024-09-03T16:15:01.950235Z",
     "start_time": "2024-09-03T16:15:01.799710Z"
    }
   },
   "cell_type": "code",
   "source": [
    "import numpy as np\n",
    "\n",
    "from sophius.encode import str_to_vec, vec_to_str"
   ],
   "id": "9fafe23abf12d49",
   "outputs": [],
   "execution_count": 44
  },
  {
   "metadata": {
    "ExecuteTime": {
     "end_time": "2024-09-03T16:15:10.375164Z",
     "start_time": "2024-09-03T16:15:03.659430Z"
    }
   },
   "cell_type": "code",
   "source": [
    "for i in tqdm(range(10000)):\n",
    "    model_tmpl = model_gen.generate_model_tmpl()\n",
    "    orig_arr = encoder.encode_model(model_tmpl)\n",
    "    \n",
    "    hex_str = vec_to_str(orig_arr)\n",
    "    arr = str_to_vec(hex_str)\n",
    "    \n",
    "    assert np.array_equal(arr, orig_arr)"
   ],
   "id": "bb4b7d16bb86c986",
   "outputs": [
    {
     "name": "stderr",
     "output_type": "stream",
     "text": [
      "100%|██████████| 10000/10000 [00:06<00:00, 1514.10it/s]\n"
     ]
    }
   ],
   "execution_count": 45
  }
 ],
 "metadata": {
  "kernelspec": {
   "display_name": "sophius",
   "language": "python",
   "name": "sophius"
  },
  "language_info": {
   "codemirror_mode": {
    "name": "ipython",
    "version": 2
   },
   "file_extension": ".py",
   "mimetype": "text/x-python",
   "name": "python",
   "nbconvert_exporter": "python",
   "pygments_lexer": "ipython2",
   "version": "2.7.6"
  }
 },
 "nbformat": 4,
 "nbformat_minor": 5
}
