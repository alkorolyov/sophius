{
 "cells": [
  {
   "cell_type": "code",
   "id": "initial_id",
   "metadata": {
    "collapsed": true,
    "ExecuteTime": {
     "end_time": "2024-09-03T16:26:16.581611Z",
     "start_time": "2024-09-03T16:26:16.457357Z"
    }
   },
   "source": [
    "import numpy as np\n",
    "%load_ext autoreload\n",
    "%autoreload 2\n",
    "\n",
    "import sys\n",
    "sys.path.append(\"..\")"
   ],
   "outputs": [
    {
     "name": "stdout",
     "output_type": "stream",
     "text": [
      "The autoreload extension is already loaded. To reload it, use:\n",
      "  %reload_ext autoreload\n"
     ]
    }
   ],
   "execution_count": 55
  },
  {
   "metadata": {
    "ExecuteTime": {
     "end_time": "2024-09-03T16:26:31.049105Z",
     "start_time": "2024-09-03T16:26:16.582607Z"
    }
   },
   "cell_type": "code",
   "source": [
    "import torch\n",
    "from calflops import calculate_flops\n",
    "import sophius.utils as utils\n",
    "import sophius.dataload as dload\n",
    "from sophius.modelgen import ConvModelGenerator\n",
    "from sophius.train import train_express_gpu\n",
    "import torchvision.datasets as dset\n",
    "import torchvision.transforms as T\n",
    "from sophius.encode import Encoder\n",
    "\n",
    "VAL_SIZE = 1024\n",
    "\n",
    "cifar10 = dset.CIFAR10('../data/CIFAR10', train=True, download=True,\n",
    "                           transform=T.ToTensor())\n",
    "cifar_gpu = dload.cifar_to_gpu(cifar10)\n",
    "\n",
    "encoder = Encoder()"
   ],
   "id": "a42cd5ee085e8dbb",
   "outputs": [
    {
     "name": "stdout",
     "output_type": "stream",
     "text": [
      "Files already downloaded and verified\n"
     ]
    }
   ],
   "execution_count": 56
  },
  {
   "metadata": {
    "ExecuteTime": {
     "end_time": "2024-09-03T16:26:31.176191Z",
     "start_time": "2024-09-03T16:26:31.050086Z"
    }
   },
   "cell_type": "code",
   "source": [
    "model_gen = ConvModelGenerator((3, 32, 32), 10, conv_num=6, lin_num=3)\n",
    "model_tmpl = model_gen.generate_model_tmpl()\n",
    "print(model_tmpl)\n",
    "fixed_model_gpu = model_tmpl.instantiate_model().type(torch.cuda.FloatTensor)\n",
    "print(encoder.encode_model(model_tmpl))"
   ],
   "id": "30d05fa86364559a",
   "outputs": [
    {
     "name": "stdout",
     "output_type": "stream",
     "text": [
      "Conv2d       (32, 16, 16)   (1, 1)   (2, 2)  \n",
      "PReLU        (32, 16, 16)  \n",
      "MaxPool2d    (32, 7, 7)     (4, 4)   (2, 2)  \n",
      "Flatten      1568          \n",
      "Linear       10            \n",
      "\n",
      "[[0 0 0 0 0 0 0 0 1 0 0 0 0 0 1 0 0 0 0 1 0 0 0 0 0 0 0 1 0 0 1 0]\n",
      " [0 0 0 0 1 0 0 0 0 0 0 0 1 0 0 0 0 0 0 0 0 0 0 0 0 0 0 0 0 0 0 0]\n",
      " [0 0 0 0 0 0 0 0 0 1 0 0 0 0 1 0 1 0 0 1 0 0 0 0 0 0 0 0 0 0 0 0]\n",
      " [0 0 0 0 0 0 0 1 0 0 0 0 0 0 0 0 0 0 0 0 0 0 0 0 0 0 0 0 0 0 0 0]]\n"
     ]
    }
   ],
   "execution_count": 57
  },
  {
   "metadata": {
    "ExecuteTime": {
     "end_time": "2024-09-03T16:26:31.302652Z",
     "start_time": "2024-09-03T16:26:31.179189Z"
    }
   },
   "cell_type": "code",
   "source": [
    "model_tmpl = model_gen.generate_model_tmpl()\n",
    "vec = encoder.encode_model(model_tmpl)\n",
    "vec.dtype"
   ],
   "id": "258ccfd94d0b1b43",
   "outputs": [
    {
     "data": {
      "text/plain": [
       "dtype('uint8')"
      ]
     },
     "execution_count": 58,
     "metadata": {},
     "output_type": "execute_result"
    }
   ],
   "execution_count": 58
  },
  {
   "metadata": {
    "ExecuteTime": {
     "end_time": "2024-09-03T16:26:31.425901Z",
     "start_time": "2024-09-03T16:26:31.304524Z"
    }
   },
   "cell_type": "code",
   "source": [
    "import numpy as np\n",
    "\n",
    "model_tmpl = model_gen.generate_model_tmpl()\n",
    "arr = encoder.encode_model(model_tmpl)\n",
    "\n",
    "hex_str = encoder.encode_model_str(model_tmpl)\n",
    "\n",
    "print(arr)\n",
    "print(hex_str)"
   ],
   "id": "6a72476114b4d595",
   "outputs": [
    {
     "name": "stdout",
     "output_type": "stream",
     "text": [
      "[[0 0 0 0 0 0 0 0 1 0 0 0 0 0 0 1 0 0 0 0 0 0 0 0 1 0 0 0 1 0 0 1]\n",
      " [0 0 0 0 0 0 0 0 0 0 1 0 1 0 0 0 1 1 0 1 0 0 0 0 0 0 0 0 0 0 0 0]\n",
      " [0 1 0 0 0 0 0 0 0 0 0 0 0 0 0 0 0 0 0 0 0 0 0 0 0 0 0 0 0 0 0 0]\n",
      " [0 0 0 1 0 0 0 0 0 0 0 0 0 1 0 0 0 0 0 0 0 0 0 0 0 0 0 0 0 0 0 0]\n",
      " [0 0 0 0 0 0 0 1 0 0 0 0 0 0 0 0 0 0 0 0 0 0 0 0 0 0 0 0 0 0 0 0]]\n",
      "008100890028d000400000001004000001000000\n"
     ]
    }
   ],
   "execution_count": 59
  },
  {
   "metadata": {
    "ExecuteTime": {
     "end_time": "2024-09-03T16:27:11.613352Z",
     "start_time": "2024-09-03T16:26:31.427901Z"
    }
   },
   "cell_type": "code",
   "source": [
    "import sqlite3\n",
    "import pandas as pd\n",
    "import seaborn as sns\n",
    "from tqdm import tqdm\n",
    "\n",
    "loader_gpu = dload.get_loader_gpu(cifar_gpu, val_size=VAL_SIZE, batch_size=1024)\n",
    "\n",
    "df = pd.DataFrame(columns=['hex_str', 'flops', 'macs', 'params', 'time', 'val_acc', 'train_acc'])\n",
    "\n",
    "for i in tqdm(range(10)):\n",
    "    model_tmpl = model_gen.generate_model_tmpl()\n",
    "    model = model_tmpl.instantiate_model().type(torch.cuda.FloatTensor)\n",
    "    flops, macs, params = calculate_flops(model=model, \n",
    "                                      input_shape=(1, 3, 32, 32),\n",
    "                                      output_as_string=False,\n",
    "                                      print_results=False,\n",
    "                                      print_detailed=False,\n",
    "                                      output_precision=4)\n",
    "    # express train\n",
    "    t, val_acc, train_acc = train_express_gpu(model = model,\n",
    "                                              train = True,\n",
    "                                              loader = loader_gpu,\n",
    "                                              milestones = [],\n",
    "                                              num_epoch = 1,\n",
    "                                              verbose = False)\n",
    "    \n",
    "    hex_str = encoder.encode_model_str(model_tmpl)\n",
    "    \n",
    "    df.loc[i] = [hex_str, flops, macs, params, t, val_acc, train_acc]\n",
    "    \n",
    "    with sqlite3.connect('../data/models.db') as conn:\n",
    "        df.loc[i:i].to_sql('test', conn, if_exists='append', index=False)\n",
    "    \n",
    "    # print(df.loc[i])"
   ],
   "id": "5f8ff90592a7ea83",
   "outputs": [
    {
     "name": "stderr",
     "output_type": "stream",
     "text": [
      "100%|██████████| 10/10 [00:40<00:00,  4.00s/it]\n"
     ]
    }
   ],
   "execution_count": 60
  },
  {
   "metadata": {
    "ExecuteTime": {
     "end_time": "2024-09-03T16:27:21.216526Z",
     "start_time": "2024-09-03T16:27:21.104389Z"
    }
   },
   "cell_type": "code",
   "source": "df",
   "id": "3fc8eada6546b5d4",
   "outputs": [
    {
     "data": {
      "text/plain": [
       "                                             hex_str    flops     macs  \\\n",
       "0  0088012120000000004260000028c80000805006004320...   996128   486016   \n",
       "1  0081040540000000080400000049200000253000008802...   312672   143440   \n",
       "2  0080408a40000000080400000084100a40000000100200...  3474496  1705632   \n",
       "3           0081100940000000004510002000000001000000   186304    75072   \n",
       "4                   00804206100200000010000001000000  1028992   498944   \n",
       "5           0088082140000000100200000010000001000000   223112    92336   \n",
       "6                   00840205002530001002000001000000   112448    54912   \n",
       "7   008802054000000020000000004910000010000001000000    52264    24656   \n",
       "8  008028050028b00040000000100800000081100a400000...   433408   199168   \n",
       "9  0080208a00429000100200000082102200431000001000...  5265952  2607680   \n",
       "\n",
       "   params       time   val_acc  train_acc  \n",
       "0   13674  17.115060  0.312500   0.308594  \n",
       "1   10211  11.852894  0.257812   0.262695  \n",
       "2   16475   7.240571  0.267578   0.260742  \n",
       "3   52234   0.581247  0.399414   0.417969  \n",
       "4    7562   0.542690  0.182617   0.171875  \n",
       "5     210   0.537298  0.155273   0.133789  \n",
       "6    6554   0.112405  0.291992   0.277344  \n",
       "7     498   0.146999  0.106445   0.129883  \n",
       "8   17930   0.545936  0.302734   0.308594  \n",
       "9   27434   0.957097  0.295898   0.268555  "
      ],
      "text/html": [
       "<div>\n",
       "<style scoped>\n",
       "    .dataframe tbody tr th:only-of-type {\n",
       "        vertical-align: middle;\n",
       "    }\n",
       "\n",
       "    .dataframe tbody tr th {\n",
       "        vertical-align: top;\n",
       "    }\n",
       "\n",
       "    .dataframe thead th {\n",
       "        text-align: right;\n",
       "    }\n",
       "</style>\n",
       "<table border=\"1\" class=\"dataframe\">\n",
       "  <thead>\n",
       "    <tr style=\"text-align: right;\">\n",
       "      <th></th>\n",
       "      <th>hex_str</th>\n",
       "      <th>flops</th>\n",
       "      <th>macs</th>\n",
       "      <th>params</th>\n",
       "      <th>time</th>\n",
       "      <th>val_acc</th>\n",
       "      <th>train_acc</th>\n",
       "    </tr>\n",
       "  </thead>\n",
       "  <tbody>\n",
       "    <tr>\n",
       "      <th>0</th>\n",
       "      <td>0088012120000000004260000028c80000805006004320...</td>\n",
       "      <td>996128</td>\n",
       "      <td>486016</td>\n",
       "      <td>13674</td>\n",
       "      <td>17.115060</td>\n",
       "      <td>0.312500</td>\n",
       "      <td>0.308594</td>\n",
       "    </tr>\n",
       "    <tr>\n",
       "      <th>1</th>\n",
       "      <td>0081040540000000080400000049200000253000008802...</td>\n",
       "      <td>312672</td>\n",
       "      <td>143440</td>\n",
       "      <td>10211</td>\n",
       "      <td>11.852894</td>\n",
       "      <td>0.257812</td>\n",
       "      <td>0.262695</td>\n",
       "    </tr>\n",
       "    <tr>\n",
       "      <th>2</th>\n",
       "      <td>0080408a40000000080400000084100a40000000100200...</td>\n",
       "      <td>3474496</td>\n",
       "      <td>1705632</td>\n",
       "      <td>16475</td>\n",
       "      <td>7.240571</td>\n",
       "      <td>0.267578</td>\n",
       "      <td>0.260742</td>\n",
       "    </tr>\n",
       "    <tr>\n",
       "      <th>3</th>\n",
       "      <td>0081100940000000004510002000000001000000</td>\n",
       "      <td>186304</td>\n",
       "      <td>75072</td>\n",
       "      <td>52234</td>\n",
       "      <td>0.581247</td>\n",
       "      <td>0.399414</td>\n",
       "      <td>0.417969</td>\n",
       "    </tr>\n",
       "    <tr>\n",
       "      <th>4</th>\n",
       "      <td>00804206100200000010000001000000</td>\n",
       "      <td>1028992</td>\n",
       "      <td>498944</td>\n",
       "      <td>7562</td>\n",
       "      <td>0.542690</td>\n",
       "      <td>0.182617</td>\n",
       "      <td>0.171875</td>\n",
       "    </tr>\n",
       "    <tr>\n",
       "      <th>5</th>\n",
       "      <td>0088082140000000100200000010000001000000</td>\n",
       "      <td>223112</td>\n",
       "      <td>92336</td>\n",
       "      <td>210</td>\n",
       "      <td>0.537298</td>\n",
       "      <td>0.155273</td>\n",
       "      <td>0.133789</td>\n",
       "    </tr>\n",
       "    <tr>\n",
       "      <th>6</th>\n",
       "      <td>00840205002530001002000001000000</td>\n",
       "      <td>112448</td>\n",
       "      <td>54912</td>\n",
       "      <td>6554</td>\n",
       "      <td>0.112405</td>\n",
       "      <td>0.291992</td>\n",
       "      <td>0.277344</td>\n",
       "    </tr>\n",
       "    <tr>\n",
       "      <th>7</th>\n",
       "      <td>008802054000000020000000004910000010000001000000</td>\n",
       "      <td>52264</td>\n",
       "      <td>24656</td>\n",
       "      <td>498</td>\n",
       "      <td>0.146999</td>\n",
       "      <td>0.106445</td>\n",
       "      <td>0.129883</td>\n",
       "    </tr>\n",
       "    <tr>\n",
       "      <th>8</th>\n",
       "      <td>008028050028b00040000000100800000081100a400000...</td>\n",
       "      <td>433408</td>\n",
       "      <td>199168</td>\n",
       "      <td>17930</td>\n",
       "      <td>0.545936</td>\n",
       "      <td>0.302734</td>\n",
       "      <td>0.308594</td>\n",
       "    </tr>\n",
       "    <tr>\n",
       "      <th>9</th>\n",
       "      <td>0080208a00429000100200000082102200431000001000...</td>\n",
       "      <td>5265952</td>\n",
       "      <td>2607680</td>\n",
       "      <td>27434</td>\n",
       "      <td>0.957097</td>\n",
       "      <td>0.295898</td>\n",
       "      <td>0.268555</td>\n",
       "    </tr>\n",
       "  </tbody>\n",
       "</table>\n",
       "</div>"
      ]
     },
     "execution_count": 65,
     "metadata": {},
     "output_type": "execute_result"
    }
   ],
   "execution_count": 65
  },
  {
   "metadata": {
    "ExecuteTime": {
     "end_time": "2024-09-03T16:27:24.912371Z",
     "start_time": "2024-09-03T16:27:24.782073Z"
    }
   },
   "cell_type": "code",
   "source": [
    "with sqlite3.connect('../data/models.db') as conn:\n",
    "    df = pd.read_sql('SELECT * FROM test', conn)\n",
    "df"
   ],
   "id": "2ce952313b0ba8e1",
   "outputs": [
    {
     "data": {
      "text/plain": [
       "                                             hex_str    flops     macs  \\\n",
       "0  0088012120000000004260000028c80000805006004320...   996128   486016   \n",
       "1  0081040540000000080400000049200000253000008802...   312672   143440   \n",
       "2  0080408a40000000080400000084100a40000000100200...  3474496  1705632   \n",
       "3           0081100940000000004510002000000001000000   186304    75072   \n",
       "4                   00804206100200000010000001000000  1028992   498944   \n",
       "5           0088082140000000100200000010000001000000   223112    92336   \n",
       "6                   00840205002530001002000001000000   112448    54912   \n",
       "7   008802054000000020000000004910000010000001000000    52264    24656   \n",
       "8  008028050028b00040000000100800000081100a400000...   433408   199168   \n",
       "9  0080208a00429000100200000082102200431000001000...  5265952  2607680   \n",
       "\n",
       "   params       time   val_acc  train_acc  \n",
       "0   13674  17.115060  0.312500   0.308594  \n",
       "1   10211  11.852894  0.257812   0.262695  \n",
       "2   16475   7.240571  0.267578   0.260742  \n",
       "3   52234   0.581247  0.399414   0.417969  \n",
       "4    7562   0.542690  0.182617   0.171875  \n",
       "5     210   0.537298  0.155273   0.133789  \n",
       "6    6554   0.112405  0.291992   0.277344  \n",
       "7     498   0.146999  0.106445   0.129883  \n",
       "8   17930   0.545936  0.302734   0.308594  \n",
       "9   27434   0.957097  0.295898   0.268555  "
      ],
      "text/html": [
       "<div>\n",
       "<style scoped>\n",
       "    .dataframe tbody tr th:only-of-type {\n",
       "        vertical-align: middle;\n",
       "    }\n",
       "\n",
       "    .dataframe tbody tr th {\n",
       "        vertical-align: top;\n",
       "    }\n",
       "\n",
       "    .dataframe thead th {\n",
       "        text-align: right;\n",
       "    }\n",
       "</style>\n",
       "<table border=\"1\" class=\"dataframe\">\n",
       "  <thead>\n",
       "    <tr style=\"text-align: right;\">\n",
       "      <th></th>\n",
       "      <th>hex_str</th>\n",
       "      <th>flops</th>\n",
       "      <th>macs</th>\n",
       "      <th>params</th>\n",
       "      <th>time</th>\n",
       "      <th>val_acc</th>\n",
       "      <th>train_acc</th>\n",
       "    </tr>\n",
       "  </thead>\n",
       "  <tbody>\n",
       "    <tr>\n",
       "      <th>0</th>\n",
       "      <td>0088012120000000004260000028c80000805006004320...</td>\n",
       "      <td>996128</td>\n",
       "      <td>486016</td>\n",
       "      <td>13674</td>\n",
       "      <td>17.115060</td>\n",
       "      <td>0.312500</td>\n",
       "      <td>0.308594</td>\n",
       "    </tr>\n",
       "    <tr>\n",
       "      <th>1</th>\n",
       "      <td>0081040540000000080400000049200000253000008802...</td>\n",
       "      <td>312672</td>\n",
       "      <td>143440</td>\n",
       "      <td>10211</td>\n",
       "      <td>11.852894</td>\n",
       "      <td>0.257812</td>\n",
       "      <td>0.262695</td>\n",
       "    </tr>\n",
       "    <tr>\n",
       "      <th>2</th>\n",
       "      <td>0080408a40000000080400000084100a40000000100200...</td>\n",
       "      <td>3474496</td>\n",
       "      <td>1705632</td>\n",
       "      <td>16475</td>\n",
       "      <td>7.240571</td>\n",
       "      <td>0.267578</td>\n",
       "      <td>0.260742</td>\n",
       "    </tr>\n",
       "    <tr>\n",
       "      <th>3</th>\n",
       "      <td>0081100940000000004510002000000001000000</td>\n",
       "      <td>186304</td>\n",
       "      <td>75072</td>\n",
       "      <td>52234</td>\n",
       "      <td>0.581247</td>\n",
       "      <td>0.399414</td>\n",
       "      <td>0.417969</td>\n",
       "    </tr>\n",
       "    <tr>\n",
       "      <th>4</th>\n",
       "      <td>00804206100200000010000001000000</td>\n",
       "      <td>1028992</td>\n",
       "      <td>498944</td>\n",
       "      <td>7562</td>\n",
       "      <td>0.542690</td>\n",
       "      <td>0.182617</td>\n",
       "      <td>0.171875</td>\n",
       "    </tr>\n",
       "    <tr>\n",
       "      <th>5</th>\n",
       "      <td>0088082140000000100200000010000001000000</td>\n",
       "      <td>223112</td>\n",
       "      <td>92336</td>\n",
       "      <td>210</td>\n",
       "      <td>0.537298</td>\n",
       "      <td>0.155273</td>\n",
       "      <td>0.133789</td>\n",
       "    </tr>\n",
       "    <tr>\n",
       "      <th>6</th>\n",
       "      <td>00840205002530001002000001000000</td>\n",
       "      <td>112448</td>\n",
       "      <td>54912</td>\n",
       "      <td>6554</td>\n",
       "      <td>0.112405</td>\n",
       "      <td>0.291992</td>\n",
       "      <td>0.277344</td>\n",
       "    </tr>\n",
       "    <tr>\n",
       "      <th>7</th>\n",
       "      <td>008802054000000020000000004910000010000001000000</td>\n",
       "      <td>52264</td>\n",
       "      <td>24656</td>\n",
       "      <td>498</td>\n",
       "      <td>0.146999</td>\n",
       "      <td>0.106445</td>\n",
       "      <td>0.129883</td>\n",
       "    </tr>\n",
       "    <tr>\n",
       "      <th>8</th>\n",
       "      <td>008028050028b00040000000100800000081100a400000...</td>\n",
       "      <td>433408</td>\n",
       "      <td>199168</td>\n",
       "      <td>17930</td>\n",
       "      <td>0.545936</td>\n",
       "      <td>0.302734</td>\n",
       "      <td>0.308594</td>\n",
       "    </tr>\n",
       "    <tr>\n",
       "      <th>9</th>\n",
       "      <td>0080208a00429000100200000082102200431000001000...</td>\n",
       "      <td>5265952</td>\n",
       "      <td>2607680</td>\n",
       "      <td>27434</td>\n",
       "      <td>0.957097</td>\n",
       "      <td>0.295898</td>\n",
       "      <td>0.268555</td>\n",
       "    </tr>\n",
       "  </tbody>\n",
       "</table>\n",
       "</div>"
      ]
     },
     "execution_count": 66,
     "metadata": {},
     "output_type": "execute_result"
    }
   ],
   "execution_count": 66
  }
 ],
 "metadata": {
  "kernelspec": {
   "display_name": "sophius",
   "language": "python",
   "name": "sophius"
  },
  "language_info": {
   "codemirror_mode": {
    "name": "ipython",
    "version": 2
   },
   "file_extension": ".py",
   "mimetype": "text/x-python",
   "name": "python",
   "nbconvert_exporter": "python",
   "pygments_lexer": "ipython2",
   "version": "2.7.6"
  }
 },
 "nbformat": 4,
 "nbformat_minor": 5
}
